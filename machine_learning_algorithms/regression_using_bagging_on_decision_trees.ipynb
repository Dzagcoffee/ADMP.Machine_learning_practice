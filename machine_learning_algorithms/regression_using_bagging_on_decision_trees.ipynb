{
 "cells": [
  {
   "cell_type": "markdown",
   "metadata": {
    "id": "WJ5PRVCTQsLe",
    "tags": []
   },
   "source": [
    "# **Regression using bagging on decision trees**"
   ]
  },
  {
   "cell_type": "markdown",
   "metadata": {
    "id": "z4wSeAQaPz0E"
   },
   "source": [
    "## **library import**"
   ]
  },
  {
   "cell_type": "code",
   "execution_count": 1,
   "metadata": {
    "id": "f06YoyjJPkMB"
   },
   "outputs": [],
   "source": [
    "import numpy as np\n",
    "import pandas as pd\n",
    "import random\n",
    "import matplotlib.pyplot as plt\n",
    "from sklearn.model_selection import train_test_split\n",
    "from sklearn.metrics import mean_squared_error"
   ]
  },
  {
   "cell_type": "markdown",
   "metadata": {
    "id": "JHi3oCuDP5A0"
   },
   "source": [
    "## **class Node**"
   ]
  },
  {
   "cell_type": "code",
   "execution_count": 2,
   "metadata": {
    "id": "901mUOkhP4ax"
   },
   "outputs": [],
   "source": [
    "class Node():\n",
    "    def __init__(self, split_feature_index = None, split_treshhold = None, left_subtree = None,\n",
    "                 right_subtree = None, node_variance_reduction = None, leaf_node_value = None):\n",
    "        '''This class is simply a collection of data that the top of the decision tree should store.'''\n",
    "\n",
    "        # Для внутренних вершин, содержащих предикат\n",
    "        self.split_feature_index = split_feature_index\n",
    "        self.split_treshhold = split_treshhold\n",
    "        self.left_subtree = left_subtree\n",
    "        self.right_subtree = right_subtree\n",
    "        self.node_variance_reduction = node_variance_reduction\n",
    "\n",
    "        # Для листовых вершин, содержащих лишь значение\n",
    "        self.leaf_node_value = leaf_node_value"
   ]
  },
  {
   "cell_type": "markdown",
   "metadata": {
    "id": "2qZ6tHzmP4rq"
   },
   "source": [
    "## **class Decision_tree_classifier**"
   ]
  },
  {
   "cell_type": "code",
   "execution_count": 3,
   "metadata": {
    "id": "Bi9SrOXU6YGs"
   },
   "outputs": [],
   "source": [
    "class Decision_tree_regression():\n",
    "    def __init__(self, node_min_samples_quant = 2, max_depth = 2):\n",
    "        '''This is the model class for decision tree regression'''\n",
    "\n",
    "        self._node_min_samples_quant = node_min_samples_quant\n",
    "        self._max_depth = max_depth\n",
    "\n",
    "        self._root = None\n",
    "    \n",
    "    def fit(self, X, Y):\n",
    "        '''This function we need for training the model on the training set'''\n",
    "\n",
    "        dataset = np.concatenate((X, Y), axis = 1, dtype = object)\n",
    "        self._root = self._build_tree(dataset)\n",
    "    \n",
    "    def _build_tree(self, dataset, current_depth = 0):\n",
    "        '''This function we need for building а deсision tree'''\n",
    "        X = dataset[:, :-1]\n",
    "        Y = dataset[:, -1]\n",
    "        \n",
    "        dataset_rows_quant, dataset_features_quant = X.shape\n",
    "\n",
    "        if dataset_rows_quant >= self._node_min_samples_quant and current_depth <= self._max_depth:\n",
    "            best_split_values = self._get_best_split(dataset, dataset_features_quant)\n",
    "\n",
    "            if best_split_values[\"node_variance_reduction\"] > 0:\n",
    "                left_subtree = self._build_tree(best_split_values[\"dataset_left_split\"], current_depth + 1)\n",
    "                right_subtree = self._build_tree(best_split_values[\"dataset_right_split\"], current_depth + 1)\n",
    "\n",
    "                return Node(best_split_values[\"split_feature_index\"], best_split_values[\"split_treshhold\"],\n",
    "                            left_subtree, right_subtree, best_split_values[\"node_variance_reduction\"])\n",
    "        \n",
    "        leaf_node_value = self._calculate_leaf_node_value(Y)\n",
    "\n",
    "        return Node(leaf_node_value = leaf_node_value)\n",
    "\n",
    "    def _get_best_split(self, dataset, dataset_features_quant):\n",
    "        '''This function finds and makes the best split'''\n",
    "\n",
    "        max_variance_reduction = -float(\"inf\")\n",
    "        best_split_values = {}\n",
    "\n",
    "        for current_split_feature_idx in range(dataset_features_quant):\n",
    "            possible_treshholds = np.unique(dataset[:, current_split_feature_idx])\n",
    "\n",
    "            for current_split_treshhold in possible_treshholds:\n",
    "                dataset_left_split, dataset_right_split = self._make_split(dataset, current_split_feature_idx,\n",
    "                                                                           current_split_treshhold)\n",
    "\n",
    "                if len(dataset_left_split) > 0 and len(dataset_right_split) > 0:\n",
    "                    current_variance_reduction = self._calculate_variance_reduction(dataset, dataset_left_split,\n",
    "                                                                                dataset_right_split)\n",
    "\n",
    "                    if current_variance_reduction > max_variance_reduction:\n",
    "                        best_split_values[\"split_feature_index\"] = current_split_feature_idx\n",
    "                        best_split_values[\"split_treshhold\"] = current_split_treshhold\n",
    "                        best_split_values[\"dataset_left_split\"] = dataset_left_split\n",
    "                        best_split_values[\"dataset_right_split\"] = dataset_right_split\n",
    "                        best_split_values[\"node_variance_reduction\"] = current_variance_reduction\n",
    "                        max_variance_reduction = current_variance_reduction\n",
    "        \n",
    "        return best_split_values\n",
    "\n",
    "    def _make_split(self, dataset, dataset_split_feature_index, dataset_split_treshhold):\n",
    "        '''This function produces the best sample split'''\n",
    "        dataset_left_split = np.array([row for row in dataset if row[dataset_split_feature_index] <= dataset_split_treshhold])\n",
    "        dataset_right_split = np.array([row for row in dataset if row[dataset_split_feature_index] > dataset_split_treshhold])\n",
    "\n",
    "        return dataset_left_split, dataset_right_split\n",
    "    \n",
    "    def _calculate_variance_reduction(self, dataset, dataset_left_split, dataset_right_split):\n",
    "        '''This function calculates the reduction between the variance of the parent\n",
    "        node and the sum of the variances of the child nodes'''\n",
    "\n",
    "        dataset_targets = dataset[:, -1]\n",
    "        dataset_left_split_targets = dataset_left_split[:, -1]\n",
    "        dataset_right_split_targets = dataset_right_split[:, -1]\n",
    "\n",
    "        card_dataset_left_split = len(dataset_left_split)\n",
    "        card_dataset_right_split = len(dataset_right_split)\n",
    "        card_dataset = len(dataset_targets)\n",
    "\n",
    "        dataset_left_split_targets_variance = np.var(dataset_left_split_targets)\n",
    "        dataset_right_split_targets_variance = np.var(dataset_right_split_targets)\n",
    "        dataset_targets_variance = np.var(dataset_targets)\n",
    "\n",
    "        dataset_variance = card_dataset * dataset_targets_variance\n",
    "        split_variance = card_dataset_left_split * dataset_left_split_targets_variance + \\\n",
    "                         card_dataset_right_split * dataset_right_split_targets_variance\n",
    "\n",
    "        variance_reduction = dataset_variance - split_variance\n",
    "\n",
    "        return variance_reduction\n",
    "\n",
    "    def _calculate_leaf_node_value(self, dataset_targets):\n",
    "        '''This function calculates the value that will be contained in the node if it is a leaf'''\n",
    "\n",
    "        return np.mean(dataset_targets)\n",
    "\n",
    "    def predict(self, data):\n",
    "        '''This function predicts the values for the sample that was passed as an argument'''\n",
    "\n",
    "        predictions = np.array([self._make_prediction(data_sample, self._root) for data_sample in data])\n",
    "\n",
    "        return predictions\n",
    "\n",
    "    def _make_prediction(self, sample, current_node):\n",
    "        '''This function predicts a value for a particular sample object'''\n",
    "\n",
    "        if current_node.leaf_node_value != None:\n",
    "            return current_node.leaf_node_value\n",
    "        else:\n",
    "            feature_value = sample[current_node.split_feature_index]\n",
    "\n",
    "            if feature_value <= current_node.split_treshhold:\n",
    "                return self._make_prediction(sample, current_node.left_subtree)\n",
    "            else:\n",
    "                return self._make_prediction(sample, current_node.right_subtree)"
   ]
  },
  {
   "cell_type": "markdown",
   "metadata": {
    "id": "LBnMoePw4Ct7"
   },
   "source": [
    "## **class Bagging_using_decision_trees**"
   ]
  },
  {
   "cell_type": "code",
   "execution_count": 4,
   "metadata": {
    "id": "dkDiTQus4IQp"
   },
   "outputs": [],
   "source": [
    "class Bagging_using_decision_trees():\n",
    "    def __init__(self, dt_node_min_samples_quant = 2, dt_max_depth = 2, dt_quant = 10, bootstrap_set_size = 10):\n",
    "        '''This is a regression using bagging on decision trees model class'''\n",
    "\n",
    "        self._dt_node_min_samples_quant = dt_node_min_samples_quant\n",
    "        self._dt_max_depth = dt_max_depth\n",
    "        self._dt_quant = dt_quant\n",
    "        self._bootstrap_set_size = bootstrap_set_size\n",
    "        self._dataset_bootstrap_sets = []\n",
    "        self._decision_trees_base_algorithms = []\n",
    "\n",
    "    def fit(self, X, Y):\n",
    "        '''This function we need for training the model on the training set'''\n",
    "        dataset = np.concatenate((X, Y), axis = 1, dtype = object)\n",
    "\n",
    "        self._dataset_bootstrap_sets = self._make_sets_using_bootstrap(dataset, self._dt_quant,\n",
    "                                                                self._bootstrap_set_size)\n",
    "\n",
    "        for dataset_bootstrap_set in self._dataset_bootstrap_sets:\n",
    "            bootstrap_set_X = dataset_bootstrap_set[:, :-1]\n",
    "            bootstrap_set_Y = dataset_bootstrap_set[:, -1].reshape(-1, 1)\n",
    "\n",
    "            model = Decision_tree_regression(node_min_samples_quant = self._dt_node_min_samples_quant,\n",
    "                                             max_depth = self._dt_max_depth)\n",
    "            model.fit(bootstrap_set_X, bootstrap_set_Y)\n",
    "\n",
    "            self._decision_trees_base_algorithms.append(model)\n",
    "    \n",
    "    def _make_sets_using_bootstrap(self, dataset, bootstrap_sets_quant, bootstrap_set_size):\n",
    "        '''This function makes a array of dataset sets with size bootstrap_set_size'''\n",
    "        \n",
    "        dataset_bootstrap_sets = []\n",
    "        \n",
    "        for i in range(bootstrap_sets_quant):\n",
    "            dataset_bootstrap_sets.append(self._make_set_using_bootstrap(dataset, bootstrap_set_size))\n",
    "        \n",
    "        return dataset_bootstrap_sets\n",
    "        \n",
    "    def _make_set_using_bootstrap(self, dataset, bootstrap_set_size):\n",
    "        '''This function makes dataset set with size bootstrap_set_size'''\n",
    "        \n",
    "        dataset_bootstrap_set = np.array(random.sample(list(dataset), bootstrap_set_size))\n",
    "        \n",
    "        return dataset_bootstrap_set\n",
    "\n",
    "    def predict(self, X):\n",
    "        '''This function predicts the values for the sample that was passed as an argument'''\n",
    "        \n",
    "        dt_predictions = []\n",
    "        \n",
    "        for dt in self._decision_trees_base_algorithms:\n",
    "            dt_predictions.append(dt.predict(X))\n",
    "        \n",
    "        dt_predictions = np.transpose(dt_predictions)\n",
    "            \n",
    "        main_preditions = [np.mean(some_dt_prediction) for some_dt_prediction in dt_predictions]\n",
    "        \n",
    "        return np.array(main_preditions)"
   ]
  },
  {
   "cell_type": "markdown",
   "metadata": {
    "id": "FK-N5bM64JQp"
   },
   "source": [
    "## **initialize input data**"
   ]
  },
  {
   "cell_type": "code",
   "execution_count": 5,
   "metadata": {
    "colab": {
     "base_uri": "https://localhost:8080/",
     "height": 345
    },
    "id": "209Gd39r4Of7",
    "outputId": "d813078b-7bc6-40a5-f154-0df5f5be3ed6"
   },
   "outputs": [
    {
     "data": {
      "text/html": [
       "<div>\n",
       "<style scoped>\n",
       "    .dataframe tbody tr th:only-of-type {\n",
       "        vertical-align: middle;\n",
       "    }\n",
       "\n",
       "    .dataframe tbody tr th {\n",
       "        vertical-align: top;\n",
       "    }\n",
       "\n",
       "    .dataframe thead th {\n",
       "        text-align: right;\n",
       "    }\n",
       "</style>\n",
       "<table border=\"1\" class=\"dataframe\">\n",
       "  <thead>\n",
       "    <tr style=\"text-align: right;\">\n",
       "      <th></th>\n",
       "      <th>x</th>\n",
       "      <th>x**2</th>\n",
       "      <th>x**4</th>\n",
       "      <th>x**6</th>\n",
       "      <th>y</th>\n",
       "    </tr>\n",
       "  </thead>\n",
       "  <tbody>\n",
       "    <tr>\n",
       "      <th>0</th>\n",
       "      <td>9.654847</td>\n",
       "      <td>93.216070</td>\n",
       "      <td>8689.235643</td>\n",
       "      <td>8.099764e+05</td>\n",
       "      <td>-2.201737</td>\n",
       "    </tr>\n",
       "    <tr>\n",
       "      <th>1</th>\n",
       "      <td>-4.302651</td>\n",
       "      <td>18.512806</td>\n",
       "      <td>342.723979</td>\n",
       "      <td>6.344782e+03</td>\n",
       "      <td>-3.946500</td>\n",
       "    </tr>\n",
       "    <tr>\n",
       "      <th>2</th>\n",
       "      <td>-6.088928</td>\n",
       "      <td>37.075048</td>\n",
       "      <td>1374.559199</td>\n",
       "      <td>5.096185e+04</td>\n",
       "      <td>-1.175392</td>\n",
       "    </tr>\n",
       "    <tr>\n",
       "      <th>3</th>\n",
       "      <td>7.098774</td>\n",
       "      <td>50.392586</td>\n",
       "      <td>2539.412754</td>\n",
       "      <td>1.279676e+05</td>\n",
       "      <td>5.168823</td>\n",
       "    </tr>\n",
       "    <tr>\n",
       "      <th>4</th>\n",
       "      <td>0.712728</td>\n",
       "      <td>0.507981</td>\n",
       "      <td>0.258045</td>\n",
       "      <td>1.310819e-01</td>\n",
       "      <td>0.466053</td>\n",
       "    </tr>\n",
       "    <tr>\n",
       "      <th>...</th>\n",
       "      <td>...</td>\n",
       "      <td>...</td>\n",
       "      <td>...</td>\n",
       "      <td>...</td>\n",
       "      <td>...</td>\n",
       "    </tr>\n",
       "    <tr>\n",
       "      <th>495</th>\n",
       "      <td>4.912969</td>\n",
       "      <td>24.137265</td>\n",
       "      <td>582.607542</td>\n",
       "      <td>1.406255e+04</td>\n",
       "      <td>-4.814470</td>\n",
       "    </tr>\n",
       "    <tr>\n",
       "      <th>496</th>\n",
       "      <td>-0.040203</td>\n",
       "      <td>0.001616</td>\n",
       "      <td>0.000003</td>\n",
       "      <td>4.222620e-09</td>\n",
       "      <td>0.001616</td>\n",
       "    </tr>\n",
       "    <tr>\n",
       "      <th>497</th>\n",
       "      <td>8.668111</td>\n",
       "      <td>75.136146</td>\n",
       "      <td>5645.440420</td>\n",
       "      <td>4.241766e+05</td>\n",
       "      <td>5.950674</td>\n",
       "    </tr>\n",
       "    <tr>\n",
       "      <th>498</th>\n",
       "      <td>-7.927589</td>\n",
       "      <td>62.846674</td>\n",
       "      <td>3949.704434</td>\n",
       "      <td>2.482258e+05</td>\n",
       "      <td>7.906123</td>\n",
       "    </tr>\n",
       "    <tr>\n",
       "      <th>499</th>\n",
       "      <td>1.827093</td>\n",
       "      <td>3.338270</td>\n",
       "      <td>11.144046</td>\n",
       "      <td>3.720184e+01</td>\n",
       "      <td>1.767412</td>\n",
       "    </tr>\n",
       "  </tbody>\n",
       "</table>\n",
       "<p>500 rows × 5 columns</p>\n",
       "</div>"
      ],
      "text/plain": [
       "            x       x**2         x**4          x**6         y\n",
       "0    9.654847  93.216070  8689.235643  8.099764e+05 -2.201737\n",
       "1   -4.302651  18.512806   342.723979  6.344782e+03 -3.946500\n",
       "2   -6.088928  37.075048  1374.559199  5.096185e+04 -1.175392\n",
       "3    7.098774  50.392586  2539.412754  1.279676e+05  5.168823\n",
       "4    0.712728   0.507981     0.258045  1.310819e-01  0.466053\n",
       "..        ...        ...          ...           ...       ...\n",
       "495  4.912969  24.137265   582.607542  1.406255e+04 -4.814470\n",
       "496 -0.040203   0.001616     0.000003  4.222620e-09  0.001616\n",
       "497  8.668111  75.136146  5645.440420  4.241766e+05  5.950674\n",
       "498 -7.927589  62.846674  3949.704434  2.482258e+05  7.906123\n",
       "499  1.827093   3.338270    11.144046  3.720184e+01  1.767412\n",
       "\n",
       "[500 rows x 5 columns]"
      ]
     },
     "execution_count": 5,
     "metadata": {},
     "output_type": "execute_result"
    }
   ],
   "source": [
    "input_data_path = \"D://ADMP_Anastasia/Git_reposeroties/ADMP_machine_learning_practice/datasets/dataset_for_bagging_using_decision_trees.csv\"\n",
    "df = pd.read_csv(input_data_path)\n",
    "df"
   ]
  },
  {
   "cell_type": "code",
   "execution_count": 6,
   "metadata": {
    "id": "5HmQI1Dl_Tlv"
   },
   "outputs": [],
   "source": [
    "X = df.iloc[:, :-1].values\n",
    "Y = df.iloc[:, -1].values.reshape(-1, 1)"
   ]
  },
  {
   "cell_type": "code",
   "execution_count": 7,
   "metadata": {
    "id": "Rl6R94FtBuCe"
   },
   "outputs": [],
   "source": [
    "X_train, X_test, Y_train, Y_test = train_test_split(X, Y, test_size = 0.4, random_state = 42)\n",
    "X_test_len = len(X_test)\n",
    "Y_test_len = len(Y_test)"
   ]
  },
  {
   "cell_type": "markdown",
   "metadata": {
    "id": "m_-hGW_QBHKu"
   },
   "source": [
    "## **creating and training our bagging model on dataset**"
   ]
  },
  {
   "cell_type": "code",
   "execution_count": 8,
   "metadata": {
    "id": "1nvzjHkkBG9G"
   },
   "outputs": [],
   "source": [
    "model = Bagging_using_decision_trees(dt_node_min_samples_quant = 2, dt_max_depth = 15,\n",
    "                                     dt_quant = 100, bootstrap_set_size = 50)\n",
    "model.fit(X_train, Y_train)"
   ]
  },
  {
   "cell_type": "markdown",
   "metadata": {
    "id": "o0jyTTwuFM6_"
   },
   "source": [
    "## **making predictions**"
   ]
  },
  {
   "cell_type": "code",
   "execution_count": 9,
   "metadata": {
    "id": "XPu9csXLFMou",
    "tags": []
   },
   "outputs": [],
   "source": [
    "Y_pred = model.predict(X_test)\n",
    "Y_pred = Y_pred.reshape(-1, 1)\n",
    "Y_pred_len = len(Y_pred)"
   ]
  },
  {
   "cell_type": "markdown",
   "metadata": {
    "id": "4gG6pqAlErnH"
   },
   "source": [
    "## **displaying a graph with a test sample, true targets and model predictions**"
   ]
  },
  {
   "cell_type": "code",
   "execution_count": 10,
   "metadata": {
    "id": "J1v5KOalZ2zK"
   },
   "outputs": [
    {
     "data": {
      "image/png": "[encoded data removed]",
      "text/plain": [
       "<Figure size 504x360 with 1 Axes>"
      ]
     },
     "metadata": {
      "needs_background": "light"
     },
     "output_type": "display_data"
    }
   ],
   "source": [
    "graph_X_values = X_test[:, 0]\n",
    "graph_Y_test_values = Y_test\n",
    "graph_Y_pred_values = Y_pred\n",
    "\n",
    "figure, ax = plt.subplots()\n",
    "\n",
    "figure.set_figwidth(7)\n",
    "figure.set_figheight(5)\n",
    "\n",
    "ax.set_title(\"Test sample and model predictions\")\n",
    "\n",
    "ax.scatter(graph_X_values, graph_Y_test_values, color = \"tomato\",\n",
    "           label = \"Test sample\", marker = \"x\")\n",
    "ax.scatter(graph_X_values, graph_Y_pred_values, color = \"gold\",\n",
    "           edgecolors = \"orange\", label = \"Model predictions\", alpha = 0.5)\n",
    "\n",
    "ax.legend()\n",
    "\n",
    "plt.show()"
   ]
  },
  {
   "cell_type": "markdown",
   "metadata": {
    "id": "H9AdVVR5soXB",
    "tags": []
   },
   "source": [
    "## **displaying accuracy score of our predictions**"
   ]
  },
  {
   "cell_type": "code",
   "execution_count": 11,
   "metadata": {
    "id": "orcAneXTs1dK"
   },
   "outputs": [
    {
     "data": {
      "text/plain": [
       "0.5102822202718434"
      ]
     },
     "execution_count": 11,
     "metadata": {},
     "output_type": "execute_result"
    }
   ],
   "source": [
    "mean_squared_error_value = mean_squared_error(Y_test, Y_pred)\n",
    "mean_squared_error_value"
   ]
  },
  {
   "cell_type": "markdown",
   "metadata": {
    "id": "LWFUurp7T8jS"
   },
   "source": [
    "## **displaying a table with test data and targets**"
   ]
  },
  {
   "cell_type": "code",
   "execution_count": 12,
   "metadata": {
    "id": "mxlYReEYUIXC"
   },
   "outputs": [
    {
     "data": {
      "text/html": [
       "<div>\n",
       "<style scoped>\n",
       "    .dataframe tbody tr th:only-of-type {\n",
       "        vertical-align: middle;\n",
       "    }\n",
       "\n",
       "    .dataframe tbody tr th {\n",
       "        vertical-align: top;\n",
       "    }\n",
       "\n",
       "    .dataframe thead th {\n",
       "        text-align: right;\n",
       "    }\n",
       "</style>\n",
       "<table border=\"1\" class=\"dataframe\">\n",
       "  <thead>\n",
       "    <tr style=\"text-align: right;\">\n",
       "      <th></th>\n",
       "      <th>x</th>\n",
       "      <th>x**3</th>\n",
       "      <th>x**5</th>\n",
       "      <th>x**7</th>\n",
       "      <th>y</th>\n",
       "    </tr>\n",
       "  </thead>\n",
       "  <tbody>\n",
       "    <tr>\n",
       "      <th>0</th>\n",
       "      <td>-5.780891</td>\n",
       "      <td>33.418703</td>\n",
       "      <td>1116.809713</td>\n",
       "      <td>37322.332150</td>\n",
       "      <td>-2.783138</td>\n",
       "    </tr>\n",
       "    <tr>\n",
       "      <th>1</th>\n",
       "      <td>8.698559</td>\n",
       "      <td>75.664930</td>\n",
       "      <td>5725.181628</td>\n",
       "      <td>433195.467026</td>\n",
       "      <td>5.776255</td>\n",
       "    </tr>\n",
       "    <tr>\n",
       "      <th>2</th>\n",
       "      <td>-8.992479</td>\n",
       "      <td>80.864680</td>\n",
       "      <td>6539.096433</td>\n",
       "      <td>528781.939023</td>\n",
       "      <td>3.767483</td>\n",
       "    </tr>\n",
       "    <tr>\n",
       "      <th>3</th>\n",
       "      <td>5.397147</td>\n",
       "      <td>29.129200</td>\n",
       "      <td>848.510296</td>\n",
       "      <td>24716.426149</td>\n",
       "      <td>-4.180479</td>\n",
       "    </tr>\n",
       "    <tr>\n",
       "      <th>4</th>\n",
       "      <td>-6.381836</td>\n",
       "      <td>40.727831</td>\n",
       "      <td>1658.756192</td>\n",
       "      <td>67557.541336</td>\n",
       "      <td>0.628552</td>\n",
       "    </tr>\n",
       "  </tbody>\n",
       "</table>\n",
       "</div>"
      ],
      "text/plain": [
       "          x       x**3         x**5           x**7         y\n",
       "0 -5.780891  33.418703  1116.809713   37322.332150 -2.783138\n",
       "1  8.698559  75.664930  5725.181628  433195.467026  5.776255\n",
       "2 -8.992479  80.864680  6539.096433  528781.939023  3.767483\n",
       "3  5.397147  29.129200   848.510296   24716.426149 -4.180479\n",
       "4 -6.381836  40.727831  1658.756192   67557.541336  0.628552"
      ]
     },
     "execution_count": 12,
     "metadata": {},
     "output_type": "execute_result"
    }
   ],
   "source": [
    "test_df = pd.DataFrame(np.concatenate((X_test, Y_test), axis = 1),\n",
    "                       columns = [\"x\", \"x**3\", \"x**5\", \"x**7\", \"y\"])\n",
    "test_df.head()"
   ]
  },
  {
   "cell_type": "markdown",
   "metadata": {
    "id": "Yn6WvGJyUDD-"
   },
   "source": [
    "## **displaying a table with test data and our model predictions**"
   ]
  },
  {
   "cell_type": "code",
   "execution_count": 13,
   "metadata": {
    "id": "a9T9NrvoXyQV"
   },
   "outputs": [
    {
     "data": {
      "text/html": [
       "<div>\n",
       "<style scoped>\n",
       "    .dataframe tbody tr th:only-of-type {\n",
       "        vertical-align: middle;\n",
       "    }\n",
       "\n",
       "    .dataframe tbody tr th {\n",
       "        vertical-align: top;\n",
       "    }\n",
       "\n",
       "    .dataframe thead th {\n",
       "        text-align: right;\n",
       "    }\n",
       "</style>\n",
       "<table border=\"1\" class=\"dataframe\">\n",
       "  <thead>\n",
       "    <tr style=\"text-align: right;\">\n",
       "      <th></th>\n",
       "      <th>x</th>\n",
       "      <th>x**3</th>\n",
       "      <th>x**5</th>\n",
       "      <th>x**7</th>\n",
       "      <th>y</th>\n",
       "    </tr>\n",
       "  </thead>\n",
       "  <tbody>\n",
       "    <tr>\n",
       "      <th>0</th>\n",
       "      <td>-5.780891</td>\n",
       "      <td>33.418703</td>\n",
       "      <td>1116.809713</td>\n",
       "      <td>37322.332150</td>\n",
       "      <td>-1.905409</td>\n",
       "    </tr>\n",
       "    <tr>\n",
       "      <th>1</th>\n",
       "      <td>8.698559</td>\n",
       "      <td>75.664930</td>\n",
       "      <td>5725.181628</td>\n",
       "      <td>433195.467026</td>\n",
       "      <td>4.556635</td>\n",
       "    </tr>\n",
       "    <tr>\n",
       "      <th>2</th>\n",
       "      <td>-8.992479</td>\n",
       "      <td>80.864680</td>\n",
       "      <td>6539.096433</td>\n",
       "      <td>528781.939023</td>\n",
       "      <td>3.825642</td>\n",
       "    </tr>\n",
       "    <tr>\n",
       "      <th>3</th>\n",
       "      <td>5.397147</td>\n",
       "      <td>29.129200</td>\n",
       "      <td>848.510296</td>\n",
       "      <td>24716.426149</td>\n",
       "      <td>-3.067396</td>\n",
       "    </tr>\n",
       "    <tr>\n",
       "      <th>4</th>\n",
       "      <td>-6.381836</td>\n",
       "      <td>40.727831</td>\n",
       "      <td>1658.756192</td>\n",
       "      <td>67557.541336</td>\n",
       "      <td>1.195060</td>\n",
       "    </tr>\n",
       "  </tbody>\n",
       "</table>\n",
       "</div>"
      ],
      "text/plain": [
       "          x       x**3         x**5           x**7         y\n",
       "0 -5.780891  33.418703  1116.809713   37322.332150 -1.905409\n",
       "1  8.698559  75.664930  5725.181628  433195.467026  4.556635\n",
       "2 -8.992479  80.864680  6539.096433  528781.939023  3.825642\n",
       "3  5.397147  29.129200   848.510296   24716.426149 -3.067396\n",
       "4 -6.381836  40.727831  1658.756192   67557.541336  1.195060"
      ]
     },
     "execution_count": 13,
     "metadata": {},
     "output_type": "execute_result"
    }
   ],
   "source": [
    "pred_df = pd.DataFrame(np.concatenate((X_test, Y_pred), axis = 1),\n",
    "                       columns = [\"x\", \"x**3\", \"x**5\", \"x**7\", \"y\"])\n",
    "pred_df.head()"
   ]
  }
 ],
 "metadata": {
  "colab": {
   "provenance": []
  },
  "kernelspec": {
   "display_name": "Python 3 (ipykernel)",
   "language": "python",
   "name": "python3"
  },
  "language_info": {
   "codemirror_mode": {
    "name": "ipython",
    "version": 3
   },
   "file_extension": ".py",
   "mimetype": "text/x-python",
   "name": "python",
   "nbconvert_exporter": "python",
   "pygments_lexer": "ipython3",
   "version": "3.9.12"
  }
 },
 "nbformat": 4,
 "nbformat_minor": 4
}
