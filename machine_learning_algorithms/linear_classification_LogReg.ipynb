{
 "cells": [
  {
   "cell_type": "markdown",
   "metadata": {
    "id": "WJ5PRVCTQsLe"
   },
   "source": [
    "# **<center><font color='#DC8665' font-weight = 'bold'>Linear classification using logistic regression</font></center>**"
   ]
  },
  {
   "cell_type": "markdown",
   "metadata": {
    "id": "z4wSeAQaPz0E"
   },
   "source": [
    "## **library import**"
   ]
  },
  {
   "cell_type": "code",
   "execution_count": 1,
   "metadata": {
    "id": "f06YoyjJPkMB"
   },
   "outputs": [],
   "source": [
    "import numpy as np\n",
    "import pandas as pd\n",
    "import matplotlib.pyplot as plt\n",
    "from sklearn.model_selection import train_test_split\n",
    "from sklearn.metrics import accuracy_score"
   ]
  },
  {
   "cell_type": "markdown",
   "metadata": {
    "id": "JHi3oCuDP5A0"
   },
   "source": [
    "## **class Linear_classification_LogReg**"
   ]
  },
  {
   "cell_type": "code",
   "execution_count": 2,
   "metadata": {
    "id": "901mUOkhP4ax"
   },
   "outputs": [],
   "source": [
    "class Linear_classification_LogReg():\n",
    "    def __init__(self, learning_rate = 0.001, iterations_quant = 1000, reg_coefficient = 0.001):\n",
    "        '''This is a logistic regression model class'''\n",
    "\n",
    "        self.learning_rate = learning_rate\n",
    "        self.iterations_quant = iterations_quant\n",
    "        self.reg_coefficient = reg_coefficient\n",
    "        self.w = None\n",
    "        self.bias = None\n",
    "    \n",
    "    def fit(self, X, Y):\n",
    "        '''This function we need for training the model on the training set'''\n",
    "\n",
    "        self._df_rows_quant, self._df_columns_quant = X.shape\n",
    "        self.w = np.random.rand(self._df_columns_quant)\n",
    "        self.bias = 0\n",
    "        self.X = X\n",
    "        self.Y = Y\n",
    "\n",
    "        for i in range(self.iterations_quant):\n",
    "            d_w = np.zeros(self._df_columns_quant)\n",
    "            d_bias = 0\n",
    "\n",
    "            for k in range(self._df_rows_quant):\n",
    "                d_w -= self.X[k] * (self.Y[k] - self._sigmoid(np.dot(self.X[k], self.w)))\n",
    "                d_bias -= self.Y[k] - self._sigmoid(np.dot(self.X[k], self.w))\n",
    "\n",
    "            self.w -= self.learning_rate * (2 * self.reg_coefficient * self.w + d_w)\n",
    "            self.bias -= self.learning_rate * d_bias\n",
    "    \n",
    "    def _sigmoid(self, value):\n",
    "        '''This function calculates the sigmoid value for an argument'''\n",
    "\n",
    "        return 1 / (1 + np.exp(-value))\n",
    "\n",
    "    def predict(self, X, threshold = 0.5):\n",
    "        '''This function predicts the values ​​(class labels) for the sample that was passed as an argument'''\n",
    "\n",
    "        if threshold >= 0 and threshold <= 1:\n",
    "            sigmoid_value = self._sigmoid(np.dot(X, self.w) + self.bias)\n",
    "            Y = np.where(sigmoid_value > threshold, 1, 0)\n",
    "            \n",
    "            return Y\n",
    "        else:\n",
    "            raise NameError('threshold must be on [0; 1]!')"
   ]
  },
  {
   "cell_type": "markdown",
   "metadata": {
    "id": "FK-N5bM64JQp"
   },
   "source": [
    "## **initialize input data**"
   ]
  },
  {
   "cell_type": "code",
   "execution_count": 3,
   "metadata": {
    "colab": {
     "base_uri": "https://localhost:8080/",
     "height": 424
    },
    "id": "209Gd39r4Of7",
    "outputId": "7448b9d1-adc4-4e3a-bd8d-d96de457c714"
   },
   "outputs": [
    {
     "data": {
      "text/html": [
       "<div>\n",
       "<style scoped>\n",
       "    .dataframe tbody tr th:only-of-type {\n",
       "        vertical-align: middle;\n",
       "    }\n",
       "\n",
       "    .dataframe tbody tr th {\n",
       "        vertical-align: top;\n",
       "    }\n",
       "\n",
       "    .dataframe thead th {\n",
       "        text-align: right;\n",
       "    }\n",
       "</style>\n",
       "<table border=\"1\" class=\"dataframe\">\n",
       "  <thead>\n",
       "    <tr style=\"text-align: right;\">\n",
       "      <th></th>\n",
       "      <th>x_1</th>\n",
       "      <th>x_2</th>\n",
       "      <th>y</th>\n",
       "    </tr>\n",
       "  </thead>\n",
       "  <tbody>\n",
       "    <tr>\n",
       "      <th>0</th>\n",
       "      <td>3.395186</td>\n",
       "      <td>8.844288</td>\n",
       "      <td>1</td>\n",
       "    </tr>\n",
       "    <tr>\n",
       "      <th>1</th>\n",
       "      <td>5.551967</td>\n",
       "      <td>8.800227</td>\n",
       "      <td>1</td>\n",
       "    </tr>\n",
       "    <tr>\n",
       "      <th>2</th>\n",
       "      <td>7.689134</td>\n",
       "      <td>9.785068</td>\n",
       "      <td>1</td>\n",
       "    </tr>\n",
       "    <tr>\n",
       "      <th>3</th>\n",
       "      <td>5.772461</td>\n",
       "      <td>8.785153</td>\n",
       "      <td>1</td>\n",
       "    </tr>\n",
       "    <tr>\n",
       "      <th>4</th>\n",
       "      <td>0.428143</td>\n",
       "      <td>8.547947</td>\n",
       "      <td>1</td>\n",
       "    </tr>\n",
       "    <tr>\n",
       "      <th>...</th>\n",
       "      <td>...</td>\n",
       "      <td>...</td>\n",
       "      <td>...</td>\n",
       "    </tr>\n",
       "    <tr>\n",
       "      <th>305</th>\n",
       "      <td>0.398681</td>\n",
       "      <td>7.184006</td>\n",
       "      <td>1</td>\n",
       "    </tr>\n",
       "    <tr>\n",
       "      <th>306</th>\n",
       "      <td>7.871686</td>\n",
       "      <td>0.278526</td>\n",
       "      <td>0</td>\n",
       "    </tr>\n",
       "    <tr>\n",
       "      <th>307</th>\n",
       "      <td>5.450716</td>\n",
       "      <td>1.760866</td>\n",
       "      <td>0</td>\n",
       "    </tr>\n",
       "    <tr>\n",
       "      <th>308</th>\n",
       "      <td>8.971035</td>\n",
       "      <td>2.688999</td>\n",
       "      <td>0</td>\n",
       "    </tr>\n",
       "    <tr>\n",
       "      <th>309</th>\n",
       "      <td>3.906566</td>\n",
       "      <td>6.893442</td>\n",
       "      <td>1</td>\n",
       "    </tr>\n",
       "  </tbody>\n",
       "</table>\n",
       "<p>310 rows × 3 columns</p>\n",
       "</div>"
      ],
      "text/plain": [
       "          x_1       x_2  y\n",
       "0    3.395186  8.844288  1\n",
       "1    5.551967  8.800227  1\n",
       "2    7.689134  9.785068  1\n",
       "3    5.772461  8.785153  1\n",
       "4    0.428143  8.547947  1\n",
       "..        ...       ... ..\n",
       "305  0.398681  7.184006  1\n",
       "306  7.871686  0.278526  0\n",
       "307  5.450716  1.760866  0\n",
       "308  8.971035  2.688999  0\n",
       "309  3.906566  6.893442  1\n",
       "\n",
       "[310 rows x 3 columns]"
      ]
     },
     "execution_count": 3,
     "metadata": {},
     "output_type": "execute_result"
    }
   ],
   "source": [
    "df = pd.read_csv(\"D://ADMP_Anastasia/machine_learning/datasets/dataset_for_linear_classification_2.csv\")\n",
    "df"
   ]
  },
  {
   "cell_type": "code",
   "execution_count": 4,
   "metadata": {
    "id": "5HmQI1Dl_Tlv"
   },
   "outputs": [],
   "source": [
    "X = df.iloc[:, :-1].values\n",
    "Y = df.iloc[:, -1].values.reshape(-1, 1)"
   ]
  },
  {
   "cell_type": "code",
   "execution_count": 5,
   "metadata": {
    "id": "Rl6R94FtBuCe"
   },
   "outputs": [],
   "source": [
    "X_train, X_test, Y_train, Y_test = train_test_split(X, Y, test_size = 1/3, random_state = 42)\n",
    "\n",
    "X_test_len = len(X_test)\n",
    "Y_test_len = len(Y_test)"
   ]
  },
  {
   "cell_type": "markdown",
   "metadata": {
    "id": "m_-hGW_QBHKu"
   },
   "source": [
    "## **сreating and training linear classifier model on our dataset**"
   ]
  },
  {
   "cell_type": "code",
   "execution_count": 6,
   "metadata": {
    "id": "1nvzjHkkBG9G"
   },
   "outputs": [],
   "source": [
    "model = Linear_classification_LogReg(0.0001, 10000, 0.2)\n",
    "model.fit(X_train, Y_train)"
   ]
  },
  {
   "cell_type": "markdown",
   "metadata": {
    "id": "o0jyTTwuFM6_"
   },
   "source": [
    "## **making predictions**"
   ]
  },
  {
   "cell_type": "code",
   "execution_count": 7,
   "metadata": {
    "id": "XPu9csXLFMou"
   },
   "outputs": [],
   "source": [
    "Y_pred = model.predict(X_test, 0.5)\n",
    "Y_pred = Y_pred.reshape(-1, 1)"
   ]
  },
  {
   "cell_type": "markdown",
   "metadata": {
    "id": "kMU1hYwJF7H1"
   },
   "source": [
    "## **displaying w-vector and bias value**"
   ]
  },
  {
   "cell_type": "code",
   "execution_count": 8,
   "metadata": {
    "colab": {
     "base_uri": "https://localhost:8080/"
    },
    "id": "ZwNf6_PXGCuf",
    "outputId": "a432b91b-eee2-461c-9df7-443e92d9b95c"
   },
   "outputs": [
    {
     "name": "stdout",
     "output_type": "stream",
     "text": [
      "bias after training: [-0.19732541] \n",
      "\n",
      "w_1 = -1.777582897405218\n",
      "w_2 = 1.7716223590147833\n"
     ]
    }
   ],
   "source": [
    "w_list = list(model.w)\n",
    "bias = model.bias\n",
    "\n",
    "print(\"bias after training:\", bias, \"\\n\")\n",
    "\n",
    "for i, w_i in enumerate(w_list):\n",
    "    print(\"w_{} =\".format(i + 1), w_list[i])"
   ]
  },
  {
   "cell_type": "markdown",
   "metadata": {
    "id": "4gG6pqAlErnH"
   },
   "source": [
    "## **displaying a graph with a test sample, true targets and model predictions**"
   ]
  },
  {
   "cell_type": "markdown",
   "metadata": {
    "id": "EKB8GyAdK8V1"
   },
   "source": [
    "Generally speaking, it is necessary to build a hyperplane a little differently than in previous algorithms. The separating surface separates the set of points to which we assign the class $0$ and the set of points to which we assign the class $1$. It seems logical to cut off at some value of the predicted probability. That is, if the probability of class $1$ is greater, for example, $0.5$, then we predict class $1$, otherwise, class $0$. As you can see from the code above, we decided to draw a border at the value of $0.5$. Then the separating surface is precisely given by $p_i = 0.5$, which is equivalent to $\\langle w, x \\rangle = 0$. And this is the hyperplane equation."
   ]
  },
  {
   "cell_type": "code",
   "execution_count": 9,
   "metadata": {
    "colab": {
     "base_uri": "https://localhost:8080/",
     "height": 336
    },
    "id": "J1v5KOalZ2zK",
    "outputId": "8ddd3ca2-6f75-4421-aa99-1d612f4d266a"
   },
   "outputs": [
    {
     "data": {
      "image/png": "[encoded data removed]",
      "text/plain": [
       "<Figure size 504x360 with 1 Axes>"
      ]
     },
     "metadata": {
      "needs_background": "light"
     },
     "output_type": "display_data"
    }
   ],
   "source": [
    "class_1_graph_x_1_values = []\n",
    "class_1_graph_x_2_values = []\n",
    "\n",
    "class_2_graph_x_1_values = []\n",
    "class_2_graph_x_2_values = []\n",
    "\n",
    "for i in range(Y_test_len):\n",
    "    if Y_test[i] == 1:\n",
    "        class_1_graph_x_1_values.append(X_test[i][0])\n",
    "        class_1_graph_x_2_values.append(X_test[i][1])\n",
    "    else:\n",
    "        class_2_graph_x_1_values.append(X_test[i][0])\n",
    "        class_2_graph_x_2_values.append(X_test[i][1])\n",
    "\n",
    "separating_plane_horizontal_values = np.linspace(0, 10, 42)\n",
    "separating_plane_vertical_values = -(w_list[0] * separating_plane_horizontal_values + bias) / w_list[1]\n",
    "\n",
    "figure, ax = plt.subplots()\n",
    "\n",
    "figure.set_figwidth(7)\n",
    "figure.set_figheight(5)\n",
    "\n",
    "ax.set_title('Тестовая выборка и предсказания модели')\n",
    "\n",
    "ax.scatter(class_1_graph_x_1_values, class_1_graph_x_2_values, color = \"gold\",\n",
    "           edgecolors='orange', label = \"Класс 1 тестовой выборки\")\n",
    "ax.scatter(class_2_graph_x_1_values, class_2_graph_x_2_values, color = \"silver\",\n",
    "           edgecolors='gray', label = \"Класс 0 тестовой выборки\")\n",
    "ax.plot(separating_plane_horizontal_values, separating_plane_vertical_values,\n",
    "        color = \"tomato\", label = \"Разделяющая плоскость\")\n",
    "\n",
    "ax.legend()\n",
    "\n",
    "plt.show()"
   ]
  },
  {
   "cell_type": "markdown",
   "metadata": {
    "id": "H9AdVVR5soXB"
   },
   "source": [
    "## **displaying accuracy score of our predictions**"
   ]
  },
  {
   "cell_type": "code",
   "execution_count": 10,
   "metadata": {
    "colab": {
     "base_uri": "https://localhost:8080/"
    },
    "id": "orcAneXTs1dK",
    "outputId": "76c52fe7-e1df-466e-daf2-777004aac1c6"
   },
   "outputs": [
    {
     "data": {
      "text/plain": [
       "1.0"
      ]
     },
     "execution_count": 10,
     "metadata": {},
     "output_type": "execute_result"
    }
   ],
   "source": [
    "accuracy_score_value = accuracy_score(Y_test, Y_pred)\n",
    "accuracy_score_value"
   ]
  },
  {
   "cell_type": "markdown",
   "metadata": {
    "id": "LWFUurp7T8jS"
   },
   "source": [
    "## **displaying a table with test data and targets**"
   ]
  },
  {
   "cell_type": "code",
   "execution_count": 11,
   "metadata": {
    "colab": {
     "base_uri": "https://localhost:8080/",
     "height": 424
    },
    "id": "mxlYReEYUIXC",
    "outputId": "e6e7057f-608d-435f-cd2d-d867b218aa60"
   },
   "outputs": [
    {
     "data": {
      "text/html": [
       "<div>\n",
       "<style scoped>\n",
       "    .dataframe tbody tr th:only-of-type {\n",
       "        vertical-align: middle;\n",
       "    }\n",
       "\n",
       "    .dataframe tbody tr th {\n",
       "        vertical-align: top;\n",
       "    }\n",
       "\n",
       "    .dataframe thead th {\n",
       "        text-align: right;\n",
       "    }\n",
       "</style>\n",
       "<table border=\"1\" class=\"dataframe\">\n",
       "  <thead>\n",
       "    <tr style=\"text-align: right;\">\n",
       "      <th></th>\n",
       "      <th>x_1</th>\n",
       "      <th>x_2</th>\n",
       "      <th>y</th>\n",
       "    </tr>\n",
       "  </thead>\n",
       "  <tbody>\n",
       "    <tr>\n",
       "      <th>0</th>\n",
       "      <td>2.014962</td>\n",
       "      <td>5.194453</td>\n",
       "      <td>1</td>\n",
       "    </tr>\n",
       "    <tr>\n",
       "      <th>1</th>\n",
       "      <td>7.14824</td>\n",
       "      <td>2.771948</td>\n",
       "      <td>0</td>\n",
       "    </tr>\n",
       "    <tr>\n",
       "      <th>2</th>\n",
       "      <td>9.105824</td>\n",
       "      <td>4.402933</td>\n",
       "      <td>0</td>\n",
       "    </tr>\n",
       "    <tr>\n",
       "      <th>3</th>\n",
       "      <td>9.476643</td>\n",
       "      <td>6.059579</td>\n",
       "      <td>0</td>\n",
       "    </tr>\n",
       "    <tr>\n",
       "      <th>4</th>\n",
       "      <td>8.402912</td>\n",
       "      <td>3.739827</td>\n",
       "      <td>0</td>\n",
       "    </tr>\n",
       "    <tr>\n",
       "      <th>...</th>\n",
       "      <td>...</td>\n",
       "      <td>...</td>\n",
       "      <td>...</td>\n",
       "    </tr>\n",
       "    <tr>\n",
       "      <th>99</th>\n",
       "      <td>9.601205</td>\n",
       "      <td>7.00903</td>\n",
       "      <td>0</td>\n",
       "    </tr>\n",
       "    <tr>\n",
       "      <th>100</th>\n",
       "      <td>0.408263</td>\n",
       "      <td>4.353494</td>\n",
       "      <td>1</td>\n",
       "    </tr>\n",
       "    <tr>\n",
       "      <th>101</th>\n",
       "      <td>1.159999</td>\n",
       "      <td>4.431854</td>\n",
       "      <td>1</td>\n",
       "    </tr>\n",
       "    <tr>\n",
       "      <th>102</th>\n",
       "      <td>9.708678</td>\n",
       "      <td>3.704619</td>\n",
       "      <td>0</td>\n",
       "    </tr>\n",
       "    <tr>\n",
       "      <th>103</th>\n",
       "      <td>5.006872</td>\n",
       "      <td>8.665052</td>\n",
       "      <td>1</td>\n",
       "    </tr>\n",
       "  </tbody>\n",
       "</table>\n",
       "<p>104 rows × 3 columns</p>\n",
       "</div>"
      ],
      "text/plain": [
       "          x_1       x_2  y\n",
       "0    2.014962  5.194453  1\n",
       "1     7.14824  2.771948  0\n",
       "2    9.105824  4.402933  0\n",
       "3    9.476643  6.059579  0\n",
       "4    8.402912  3.739827  0\n",
       "..        ...       ... ..\n",
       "99   9.601205   7.00903  0\n",
       "100  0.408263  4.353494  1\n",
       "101  1.159999  4.431854  1\n",
       "102  9.708678  3.704619  0\n",
       "103  5.006872  8.665052  1\n",
       "\n",
       "[104 rows x 3 columns]"
      ]
     },
     "execution_count": 11,
     "metadata": {},
     "output_type": "execute_result"
    }
   ],
   "source": [
    "test_df = pd.DataFrame(np.concatenate((X_test, Y_test), axis = 1, dtype = object),\n",
    "             columns = [\"x_1\", \"x_2\", \"y\"])\n",
    "test_df"
   ]
  },
  {
   "cell_type": "markdown",
   "metadata": {
    "id": "Yn6WvGJyUDD-"
   },
   "source": [
    "## **displaying a table with test data and our model predictions**"
   ]
  },
  {
   "cell_type": "code",
   "execution_count": 12,
   "metadata": {
    "colab": {
     "base_uri": "https://localhost:8080/",
     "height": 424
    },
    "id": "a9T9NrvoXyQV",
    "outputId": "e9fc4847-bae8-46d6-de6d-435bbced7621"
   },
   "outputs": [
    {
     "data": {
      "text/html": [
       "<div>\n",
       "<style scoped>\n",
       "    .dataframe tbody tr th:only-of-type {\n",
       "        vertical-align: middle;\n",
       "    }\n",
       "\n",
       "    .dataframe tbody tr th {\n",
       "        vertical-align: top;\n",
       "    }\n",
       "\n",
       "    .dataframe thead th {\n",
       "        text-align: right;\n",
       "    }\n",
       "</style>\n",
       "<table border=\"1\" class=\"dataframe\">\n",
       "  <thead>\n",
       "    <tr style=\"text-align: right;\">\n",
       "      <th></th>\n",
       "      <th>x_1</th>\n",
       "      <th>x_2</th>\n",
       "      <th>y</th>\n",
       "    </tr>\n",
       "  </thead>\n",
       "  <tbody>\n",
       "    <tr>\n",
       "      <th>0</th>\n",
       "      <td>2.014962</td>\n",
       "      <td>5.194453</td>\n",
       "      <td>1</td>\n",
       "    </tr>\n",
       "    <tr>\n",
       "      <th>1</th>\n",
       "      <td>7.14824</td>\n",
       "      <td>2.771948</td>\n",
       "      <td>0</td>\n",
       "    </tr>\n",
       "    <tr>\n",
       "      <th>2</th>\n",
       "      <td>9.105824</td>\n",
       "      <td>4.402933</td>\n",
       "      <td>0</td>\n",
       "    </tr>\n",
       "    <tr>\n",
       "      <th>3</th>\n",
       "      <td>9.476643</td>\n",
       "      <td>6.059579</td>\n",
       "      <td>0</td>\n",
       "    </tr>\n",
       "    <tr>\n",
       "      <th>4</th>\n",
       "      <td>8.402912</td>\n",
       "      <td>3.739827</td>\n",
       "      <td>0</td>\n",
       "    </tr>\n",
       "    <tr>\n",
       "      <th>...</th>\n",
       "      <td>...</td>\n",
       "      <td>...</td>\n",
       "      <td>...</td>\n",
       "    </tr>\n",
       "    <tr>\n",
       "      <th>99</th>\n",
       "      <td>9.601205</td>\n",
       "      <td>7.00903</td>\n",
       "      <td>0</td>\n",
       "    </tr>\n",
       "    <tr>\n",
       "      <th>100</th>\n",
       "      <td>0.408263</td>\n",
       "      <td>4.353494</td>\n",
       "      <td>1</td>\n",
       "    </tr>\n",
       "    <tr>\n",
       "      <th>101</th>\n",
       "      <td>1.159999</td>\n",
       "      <td>4.431854</td>\n",
       "      <td>1</td>\n",
       "    </tr>\n",
       "    <tr>\n",
       "      <th>102</th>\n",
       "      <td>9.708678</td>\n",
       "      <td>3.704619</td>\n",
       "      <td>0</td>\n",
       "    </tr>\n",
       "    <tr>\n",
       "      <th>103</th>\n",
       "      <td>5.006872</td>\n",
       "      <td>8.665052</td>\n",
       "      <td>1</td>\n",
       "    </tr>\n",
       "  </tbody>\n",
       "</table>\n",
       "<p>104 rows × 3 columns</p>\n",
       "</div>"
      ],
      "text/plain": [
       "          x_1       x_2  y\n",
       "0    2.014962  5.194453  1\n",
       "1     7.14824  2.771948  0\n",
       "2    9.105824  4.402933  0\n",
       "3    9.476643  6.059579  0\n",
       "4    8.402912  3.739827  0\n",
       "..        ...       ... ..\n",
       "99   9.601205   7.00903  0\n",
       "100  0.408263  4.353494  1\n",
       "101  1.159999  4.431854  1\n",
       "102  9.708678  3.704619  0\n",
       "103  5.006872  8.665052  1\n",
       "\n",
       "[104 rows x 3 columns]"
      ]
     },
     "execution_count": 12,
     "metadata": {},
     "output_type": "execute_result"
    }
   ],
   "source": [
    "test_df = pd.DataFrame(np.concatenate((X_test, Y_pred), axis = 1, dtype = object),\n",
    "             columns = [\"x_1\", \"x_2\", \"y\"])\n",
    "test_df"
   ]
  }
 ],
 "metadata": {
  "colab": {
   "collapsed_sections": [],
   "provenance": []
  },
  "kernelspec": {
   "display_name": "Python 3 (ipykernel)",
   "language": "python",
   "name": "python3"
  },
  "language_info": {
   "codemirror_mode": {
    "name": "ipython",
    "version": 3
   },
   "file_extension": ".py",
   "mimetype": "text/x-python",
   "name": "python",
   "nbconvert_exporter": "python",
   "pygments_lexer": "ipython3",
   "version": "3.9.12"
  }
 },
 "nbformat": 4,
 "nbformat_minor": 4
}
