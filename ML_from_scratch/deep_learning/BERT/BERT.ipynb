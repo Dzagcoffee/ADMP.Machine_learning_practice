{
 "cells": [
  {
   "cell_type": "markdown",
   "metadata": {
    "id": "NM1049KDQkqe"
   },
   "source": [
    "# **BERT**"
   ]
  },
  {
   "cell_type": "code",
   "execution_count": 1,
   "metadata": {
    "colab": {
     "base_uri": "https://localhost:8080/"
    },
    "id": "GFls3M5RWZZD",
    "outputId": "73b60365-3dc9-4306-c78b-9d5dfe817f57"
   },
   "outputs": [
    {
     "name": "stdout",
     "output_type": "stream",
     "text": [
      "Collecting transformers\n",
      "  Downloading transformers-4.30.2-py3-none-any.whl (7.2 MB)\n",
      "\u001b[2K     \u001b[90m━━━━━━━━━━━━━━━━━━━━━━━━━━━━━━━━━━━━━━━━\u001b[0m \u001b[32m7.2/7.2 MB\u001b[0m \u001b[31m57.6 MB/s\u001b[0m eta \u001b[36m0:00:00\u001b[0m\n",
      "\u001b[?25hRequirement already satisfied: filelock in /usr/local/lib/python3.10/dist-packages (from transformers) (3.12.2)\n",
      "Collecting huggingface-hub<1.0,>=0.14.1 (from transformers)\n",
      "  Downloading huggingface_hub-0.15.1-py3-none-any.whl (236 kB)\n",
      "\u001b[2K     \u001b[90m━━━━━━━━━━━━━━━━━━━━━━━━━━━━━━━━━━━━━━\u001b[0m \u001b[32m236.8/236.8 kB\u001b[0m \u001b[31m25.5 MB/s\u001b[0m eta \u001b[36m0:00:00\u001b[0m\n",
      "\u001b[?25hRequirement already satisfied: numpy>=1.17 in /usr/local/lib/python3.10/dist-packages (from transformers) (1.22.4)\n",
      "Requirement already satisfied: packaging>=20.0 in /usr/local/lib/python3.10/dist-packages (from transformers) (23.1)\n",
      "Requirement already satisfied: pyyaml>=5.1 in /usr/local/lib/python3.10/dist-packages (from transformers) (6.0)\n",
      "Requirement already satisfied: regex!=2019.12.17 in /usr/local/lib/python3.10/dist-packages (from transformers) (2022.10.31)\n",
      "Requirement already satisfied: requests in /usr/local/lib/python3.10/dist-packages (from transformers) (2.27.1)\n",
      "Collecting tokenizers!=0.11.3,<0.14,>=0.11.1 (from transformers)\n",
      "  Downloading tokenizers-0.13.3-cp310-cp310-manylinux_2_17_x86_64.manylinux2014_x86_64.whl (7.8 MB)\n",
      "\u001b[2K     \u001b[90m━━━━━━━━━━━━━━━━━━━━━━━━━━━━━━━━━━━━━━━━\u001b[0m \u001b[32m7.8/7.8 MB\u001b[0m \u001b[31m86.1 MB/s\u001b[0m eta \u001b[36m0:00:00\u001b[0m\n",
      "\u001b[?25hCollecting safetensors>=0.3.1 (from transformers)\n",
      "  Downloading safetensors-0.3.1-cp310-cp310-manylinux_2_17_x86_64.manylinux2014_x86_64.whl (1.3 MB)\n",
      "\u001b[2K     \u001b[90m━━━━━━━━━━━━━━━━━━━━━━━━━━━━━━━━━━━━━━━━\u001b[0m \u001b[32m1.3/1.3 MB\u001b[0m \u001b[31m67.8 MB/s\u001b[0m eta \u001b[36m0:00:00\u001b[0m\n",
      "\u001b[?25hRequirement already satisfied: tqdm>=4.27 in /usr/local/lib/python3.10/dist-packages (from transformers) (4.65.0)\n",
      "Requirement already satisfied: fsspec in /usr/local/lib/python3.10/dist-packages (from huggingface-hub<1.0,>=0.14.1->transformers) (2023.6.0)\n",
      "Requirement already satisfied: typing-extensions>=3.7.4.3 in /usr/local/lib/python3.10/dist-packages (from huggingface-hub<1.0,>=0.14.1->transformers) (4.6.3)\n",
      "Requirement already satisfied: urllib3<1.27,>=1.21.1 in /usr/local/lib/python3.10/dist-packages (from requests->transformers) (1.26.16)\n",
      "Requirement already satisfied: certifi>=2017.4.17 in /usr/local/lib/python3.10/dist-packages (from requests->transformers) (2023.5.7)\n",
      "Requirement already satisfied: charset-normalizer~=2.0.0 in /usr/local/lib/python3.10/dist-packages (from requests->transformers) (2.0.12)\n",
      "Requirement already satisfied: idna<4,>=2.5 in /usr/local/lib/python3.10/dist-packages (from requests->transformers) (3.4)\n",
      "Installing collected packages: tokenizers, safetensors, huggingface-hub, transformers\n",
      "Successfully installed huggingface-hub-0.15.1 safetensors-0.3.1 tokenizers-0.13.3 transformers-4.30.2\n"
     ]
    }
   ],
   "source": [
    "!pip install transformers"
   ]
  },
  {
   "cell_type": "markdown",
   "metadata": {
    "id": "vgBVCXYtQpxW"
   },
   "source": [
    "# **Libraries**"
   ]
  },
  {
   "cell_type": "code",
   "execution_count": 2,
   "metadata": {
    "id": "rjzYRs_MsPj2"
   },
   "outputs": [],
   "source": [
    "import sys\n",
    "import copy\n",
    "import math\n",
    "import random\n",
    "\n",
    "import numpy as np\n",
    "import pandas as pd\n",
    "import matplotlib.pyplot as plt\n",
    "\n",
    "import torch\n",
    "import torch.nn as nn\n",
    "from torch import optim\n",
    "from torch.utils.data import Dataset, DataLoader\n",
    "\n",
    "import tqdm\n",
    "\n",
    "from transformers import BertTokenizer"
   ]
  },
  {
   "cell_type": "code",
   "execution_count": 3,
   "metadata": {
    "colab": {
     "base_uri": "https://localhost:8080/"
    },
    "id": "en3Z-ezYJtug",
    "outputId": "b5ecf090-3c35-4211-ca8a-c07d03f905c5"
   },
   "outputs": [
    {
     "data": {
      "text/plain": [
       "device(type='cuda')"
      ]
     },
     "execution_count": 3,
     "metadata": {},
     "output_type": "execute_result"
    }
   ],
   "source": [
    "device = torch.device(\"cuda\" if torch.cuda.is_available() else \"cpu\")\n",
    "device"
   ]
  },
  {
   "cell_type": "markdown",
   "metadata": {
    "id": "u6b6pztL7Lu3"
   },
   "source": [
    "# **Working with data**"
   ]
  },
  {
   "cell_type": "markdown",
   "metadata": {
    "id": "rmQxduEHJMV5"
   },
   "source": [
    "## **Load data**"
   ]
  },
  {
   "cell_type": "code",
   "execution_count": 4,
   "metadata": {
    "id": "5G99PDGl60hA"
   },
   "outputs": [],
   "source": [
    "MAX_SEQ_LEN = 64"
   ]
  },
  {
   "cell_type": "code",
   "execution_count": 5,
   "metadata": {
    "id": "LsizTn2RF_C7"
   },
   "outputs": [],
   "source": [
    "train_path = \"/content/sample_data/train_data.csv\"\n",
    "test_path = \"/content/sample_data/test_data.csv\""
   ]
  },
  {
   "cell_type": "code",
   "execution_count": 6,
   "metadata": {
    "colab": {
     "base_uri": "https://localhost:8080/",
     "height": 423
    },
    "id": "RqpKrun5s9Av",
    "outputId": "92134e57-665d-403c-ed46-fa258feb6e2f"
   },
   "outputs": [
    {
     "data": {
      "text/html": [
       "\n",
       "  <div id=\"df-ac9d69bf-543e-4843-85fe-4c5dc45f80ed\">\n",
       "    <div class=\"colab-df-container\">\n",
       "      <div>\n",
       "<style scoped>\n",
       "    .dataframe tbody tr th:only-of-type {\n",
       "        vertical-align: middle;\n",
       "    }\n",
       "\n",
       "    .dataframe tbody tr th {\n",
       "        vertical-align: top;\n",
       "    }\n",
       "\n",
       "    .dataframe thead th {\n",
       "        text-align: right;\n",
       "    }\n",
       "</style>\n",
       "<table border=\"1\" class=\"dataframe\">\n",
       "  <thead>\n",
       "    <tr style=\"text-align: right;\">\n",
       "      <th></th>\n",
       "      <th>spam</th>\n",
       "      <th>original_message</th>\n",
       "    </tr>\n",
       "  </thead>\n",
       "  <tbody>\n",
       "    <tr>\n",
       "      <th>0</th>\n",
       "      <td>0</td>\n",
       "      <td>Go until jurong point, crazy.. Available only ...</td>\n",
       "    </tr>\n",
       "    <tr>\n",
       "      <th>1</th>\n",
       "      <td>0</td>\n",
       "      <td>Ok lar... Joking wif u oni...</td>\n",
       "    </tr>\n",
       "    <tr>\n",
       "      <th>2</th>\n",
       "      <td>1</td>\n",
       "      <td>Free entry in 2 a wkly comp to win FA Cup fina...</td>\n",
       "    </tr>\n",
       "    <tr>\n",
       "      <th>3</th>\n",
       "      <td>0</td>\n",
       "      <td>U dun say so early hor... U c already then say...</td>\n",
       "    </tr>\n",
       "    <tr>\n",
       "      <th>4</th>\n",
       "      <td>0</td>\n",
       "      <td>Nah I don't think he goes to usf, he lives aro...</td>\n",
       "    </tr>\n",
       "    <tr>\n",
       "      <th>...</th>\n",
       "      <td>...</td>\n",
       "      <td>...</td>\n",
       "    </tr>\n",
       "    <tr>\n",
       "      <th>5567</th>\n",
       "      <td>1</td>\n",
       "      <td>This is the 2nd time we have tried 2 contact u...</td>\n",
       "    </tr>\n",
       "    <tr>\n",
       "      <th>5568</th>\n",
       "      <td>0</td>\n",
       "      <td>Will Ì_ b going to esplanade fr home?</td>\n",
       "    </tr>\n",
       "    <tr>\n",
       "      <th>5569</th>\n",
       "      <td>0</td>\n",
       "      <td>Pity, * was in mood for that. So...any other s...</td>\n",
       "    </tr>\n",
       "    <tr>\n",
       "      <th>5570</th>\n",
       "      <td>0</td>\n",
       "      <td>The guy did some bitching but I acted like i'd...</td>\n",
       "    </tr>\n",
       "    <tr>\n",
       "      <th>5571</th>\n",
       "      <td>0</td>\n",
       "      <td>Rofl. Its true to its name</td>\n",
       "    </tr>\n",
       "  </tbody>\n",
       "</table>\n",
       "<p>5572 rows × 2 columns</p>\n",
       "</div>\n",
       "      <button class=\"colab-df-convert\" onclick=\"convertToInteractive('df-ac9d69bf-543e-4843-85fe-4c5dc45f80ed')\"\n",
       "              title=\"Convert this dataframe to an interactive table.\"\n",
       "              style=\"display:none;\">\n",
       "        \n",
       "  <svg xmlns=\"http://www.w3.org/2000/svg\" height=\"24px\"viewBox=\"0 0 24 24\"\n",
       "       width=\"24px\">\n",
       "    <path d=\"M0 0h24v24H0V0z\" fill=\"none\"/>\n",
       "    <path d=\"M18.56 5.44l.94 2.06.94-2.06 2.06-.94-2.06-.94-.94-2.06-.94 2.06-2.06.94zm-11 1L8.5 8.5l.94-2.06 2.06-.94-2.06-.94L8.5 2.5l-.94 2.06-2.06.94zm10 10l.94 2.06.94-2.06 2.06-.94-2.06-.94-.94-2.06-.94 2.06-2.06.94z\"/><path d=\"M17.41 7.96l-1.37-1.37c-.4-.4-.92-.59-1.43-.59-.52 0-1.04.2-1.43.59L10.3 9.45l-7.72 7.72c-.78.78-.78 2.05 0 2.83L4 21.41c.39.39.9.59 1.41.59.51 0 1.02-.2 1.41-.59l7.78-7.78 2.81-2.81c.8-.78.8-2.07 0-2.86zM5.41 20L4 18.59l7.72-7.72 1.47 1.35L5.41 20z\"/>\n",
       "  </svg>\n",
       "      </button>\n",
       "      \n",
       "  <style>\n",
       "    .colab-df-container {\n",
       "      display:flex;\n",
       "      flex-wrap:wrap;\n",
       "      gap: 12px;\n",
       "    }\n",
       "\n",
       "    .colab-df-convert {\n",
       "      background-color: #E8F0FE;\n",
       "      border: none;\n",
       "      border-radius: 50%;\n",
       "      cursor: pointer;\n",
       "      display: none;\n",
       "      fill: #1967D2;\n",
       "      height: 32px;\n",
       "      padding: 0 0 0 0;\n",
       "      width: 32px;\n",
       "    }\n",
       "\n",
       "    .colab-df-convert:hover {\n",
       "      background-color: #E2EBFA;\n",
       "      box-shadow: 0px 1px 2px rgba(60, 64, 67, 0.3), 0px 1px 3px 1px rgba(60, 64, 67, 0.15);\n",
       "      fill: #174EA6;\n",
       "    }\n",
       "\n",
       "    [theme=dark] .colab-df-convert {\n",
       "      background-color: #3B4455;\n",
       "      fill: #D2E3FC;\n",
       "    }\n",
       "\n",
       "    [theme=dark] .colab-df-convert:hover {\n",
       "      background-color: #434B5C;\n",
       "      box-shadow: 0px 1px 3px 1px rgba(0, 0, 0, 0.15);\n",
       "      filter: drop-shadow(0px 1px 2px rgba(0, 0, 0, 0.3));\n",
       "      fill: #FFFFFF;\n",
       "    }\n",
       "  </style>\n",
       "\n",
       "      <script>\n",
       "        const buttonEl =\n",
       "          document.querySelector('#df-ac9d69bf-543e-4843-85fe-4c5dc45f80ed button.colab-df-convert');\n",
       "        buttonEl.style.display =\n",
       "          google.colab.kernel.accessAllowed ? 'block' : 'none';\n",
       "\n",
       "        async function convertToInteractive(key) {\n",
       "          const element = document.querySelector('#df-ac9d69bf-543e-4843-85fe-4c5dc45f80ed');\n",
       "          const dataTable =\n",
       "            await google.colab.kernel.invokeFunction('convertToInteractive',\n",
       "                                                     [key], {});\n",
       "          if (!dataTable) return;\n",
       "\n",
       "          const docLinkHtml = 'Like what you see? Visit the ' +\n",
       "            '<a target=\"_blank\" href=https://colab.research.google.com/notebooks/data_table.ipynb>data table notebook</a>'\n",
       "            + ' to learn more about interactive tables.';\n",
       "          element.innerHTML = '';\n",
       "          dataTable['output_type'] = 'display_data';\n",
       "          await google.colab.output.renderOutput(dataTable, element);\n",
       "          const docLink = document.createElement('div');\n",
       "          docLink.innerHTML = docLinkHtml;\n",
       "          element.appendChild(docLink);\n",
       "        }\n",
       "      </script>\n",
       "    </div>\n",
       "  </div>\n",
       "  "
      ],
      "text/plain": [
       "      spam                                   original_message\n",
       "0        0  Go until jurong point, crazy.. Available only ...\n",
       "1        0                      Ok lar... Joking wif u oni...\n",
       "2        1  Free entry in 2 a wkly comp to win FA Cup fina...\n",
       "3        0  U dun say so early hor... U c already then say...\n",
       "4        0  Nah I don't think he goes to usf, he lives aro...\n",
       "...    ...                                                ...\n",
       "5567     1  This is the 2nd time we have tried 2 contact u...\n",
       "5568     0              Will Ì_ b going to esplanade fr home?\n",
       "5569     0  Pity, * was in mood for that. So...any other s...\n",
       "5570     0  The guy did some bitching but I acted like i'd...\n",
       "5571     0                         Rofl. Its true to its name\n",
       "\n",
       "[5572 rows x 2 columns]"
      ]
     },
     "execution_count": 6,
     "metadata": {},
     "output_type": "execute_result"
    }
   ],
   "source": [
    "train_df = pd.read_csv(train_path)\n",
    "train_df"
   ]
  },
  {
   "cell_type": "code",
   "execution_count": 7,
   "metadata": {
    "colab": {
     "base_uri": "https://localhost:8080/",
     "height": 423
    },
    "id": "VH-LuCbHZYqn",
    "outputId": "ad071985-dbdb-4031-a6aa-bbbf1fd5a8a2"
   },
   "outputs": [
    {
     "data": {
      "text/html": [
       "\n",
       "  <div id=\"df-8dea02de-01fc-431e-973b-c70c8a3d91cc\">\n",
       "    <div class=\"colab-df-container\">\n",
       "      <div>\n",
       "<style scoped>\n",
       "    .dataframe tbody tr th:only-of-type {\n",
       "        vertical-align: middle;\n",
       "    }\n",
       "\n",
       "    .dataframe tbody tr th {\n",
       "        vertical-align: top;\n",
       "    }\n",
       "\n",
       "    .dataframe thead th {\n",
       "        text-align: right;\n",
       "    }\n",
       "</style>\n",
       "<table border=\"1\" class=\"dataframe\">\n",
       "  <thead>\n",
       "    <tr style=\"text-align: right;\">\n",
       "      <th></th>\n",
       "      <th>spam</th>\n",
       "      <th>original_message</th>\n",
       "    </tr>\n",
       "  </thead>\n",
       "  <tbody>\n",
       "    <tr>\n",
       "      <th>0</th>\n",
       "      <td>0</td>\n",
       "      <td>Ok i msg u b4 i leave my house.</td>\n",
       "    </tr>\n",
       "    <tr>\n",
       "      <th>1</th>\n",
       "      <td>0</td>\n",
       "      <td>\\Gimme a few\\\" was  &amp;lt;#&amp;gt;  minutes ago\"</td>\n",
       "    </tr>\n",
       "    <tr>\n",
       "      <th>2</th>\n",
       "      <td>1</td>\n",
       "      <td>Last Chance! Claim ur å£150 worth of discount ...</td>\n",
       "    </tr>\n",
       "    <tr>\n",
       "      <th>3</th>\n",
       "      <td>0</td>\n",
       "      <td>Appt is at &amp;lt</td>\n",
       "    </tr>\n",
       "    <tr>\n",
       "      <th>4</th>\n",
       "      <td>1</td>\n",
       "      <td>FREE for 1st week! No1 Nokia tone 4 ur mobile ...</td>\n",
       "    </tr>\n",
       "    <tr>\n",
       "      <th>...</th>\n",
       "      <td>...</td>\n",
       "      <td>...</td>\n",
       "    </tr>\n",
       "    <tr>\n",
       "      <th>995</th>\n",
       "      <td>0</td>\n",
       "      <td>You bad girl. I can still remember them</td>\n",
       "    </tr>\n",
       "    <tr>\n",
       "      <th>996</th>\n",
       "      <td>0</td>\n",
       "      <td>How much i gave to you. Morning.</td>\n",
       "    </tr>\n",
       "    <tr>\n",
       "      <th>997</th>\n",
       "      <td>0</td>\n",
       "      <td>I hope your alright babe? I worry that you mig...</td>\n",
       "    </tr>\n",
       "    <tr>\n",
       "      <th>998</th>\n",
       "      <td>0</td>\n",
       "      <td>Hey, can you tell me blake's address? Carlos w...</td>\n",
       "    </tr>\n",
       "    <tr>\n",
       "      <th>999</th>\n",
       "      <td>0</td>\n",
       "      <td>Can i get your opinion on something first?</td>\n",
       "    </tr>\n",
       "  </tbody>\n",
       "</table>\n",
       "<p>1000 rows × 2 columns</p>\n",
       "</div>\n",
       "      <button class=\"colab-df-convert\" onclick=\"convertToInteractive('df-8dea02de-01fc-431e-973b-c70c8a3d91cc')\"\n",
       "              title=\"Convert this dataframe to an interactive table.\"\n",
       "              style=\"display:none;\">\n",
       "        \n",
       "  <svg xmlns=\"http://www.w3.org/2000/svg\" height=\"24px\"viewBox=\"0 0 24 24\"\n",
       "       width=\"24px\">\n",
       "    <path d=\"M0 0h24v24H0V0z\" fill=\"none\"/>\n",
       "    <path d=\"M18.56 5.44l.94 2.06.94-2.06 2.06-.94-2.06-.94-.94-2.06-.94 2.06-2.06.94zm-11 1L8.5 8.5l.94-2.06 2.06-.94-2.06-.94L8.5 2.5l-.94 2.06-2.06.94zm10 10l.94 2.06.94-2.06 2.06-.94-2.06-.94-.94-2.06-.94 2.06-2.06.94z\"/><path d=\"M17.41 7.96l-1.37-1.37c-.4-.4-.92-.59-1.43-.59-.52 0-1.04.2-1.43.59L10.3 9.45l-7.72 7.72c-.78.78-.78 2.05 0 2.83L4 21.41c.39.39.9.59 1.41.59.51 0 1.02-.2 1.41-.59l7.78-7.78 2.81-2.81c.8-.78.8-2.07 0-2.86zM5.41 20L4 18.59l7.72-7.72 1.47 1.35L5.41 20z\"/>\n",
       "  </svg>\n",
       "      </button>\n",
       "      \n",
       "  <style>\n",
       "    .colab-df-container {\n",
       "      display:flex;\n",
       "      flex-wrap:wrap;\n",
       "      gap: 12px;\n",
       "    }\n",
       "\n",
       "    .colab-df-convert {\n",
       "      background-color: #E8F0FE;\n",
       "      border: none;\n",
       "      border-radius: 50%;\n",
       "      cursor: pointer;\n",
       "      display: none;\n",
       "      fill: #1967D2;\n",
       "      height: 32px;\n",
       "      padding: 0 0 0 0;\n",
       "      width: 32px;\n",
       "    }\n",
       "\n",
       "    .colab-df-convert:hover {\n",
       "      background-color: #E2EBFA;\n",
       "      box-shadow: 0px 1px 2px rgba(60, 64, 67, 0.3), 0px 1px 3px 1px rgba(60, 64, 67, 0.15);\n",
       "      fill: #174EA6;\n",
       "    }\n",
       "\n",
       "    [theme=dark] .colab-df-convert {\n",
       "      background-color: #3B4455;\n",
       "      fill: #D2E3FC;\n",
       "    }\n",
       "\n",
       "    [theme=dark] .colab-df-convert:hover {\n",
       "      background-color: #434B5C;\n",
       "      box-shadow: 0px 1px 3px 1px rgba(0, 0, 0, 0.15);\n",
       "      filter: drop-shadow(0px 1px 2px rgba(0, 0, 0, 0.3));\n",
       "      fill: #FFFFFF;\n",
       "    }\n",
       "  </style>\n",
       "\n",
       "      <script>\n",
       "        const buttonEl =\n",
       "          document.querySelector('#df-8dea02de-01fc-431e-973b-c70c8a3d91cc button.colab-df-convert');\n",
       "        buttonEl.style.display =\n",
       "          google.colab.kernel.accessAllowed ? 'block' : 'none';\n",
       "\n",
       "        async function convertToInteractive(key) {\n",
       "          const element = document.querySelector('#df-8dea02de-01fc-431e-973b-c70c8a3d91cc');\n",
       "          const dataTable =\n",
       "            await google.colab.kernel.invokeFunction('convertToInteractive',\n",
       "                                                     [key], {});\n",
       "          if (!dataTable) return;\n",
       "\n",
       "          const docLinkHtml = 'Like what you see? Visit the ' +\n",
       "            '<a target=\"_blank\" href=https://colab.research.google.com/notebooks/data_table.ipynb>data table notebook</a>'\n",
       "            + ' to learn more about interactive tables.';\n",
       "          element.innerHTML = '';\n",
       "          dataTable['output_type'] = 'display_data';\n",
       "          await google.colab.output.renderOutput(dataTable, element);\n",
       "          const docLink = document.createElement('div');\n",
       "          docLink.innerHTML = docLinkHtml;\n",
       "          element.appendChild(docLink);\n",
       "        }\n",
       "      </script>\n",
       "    </div>\n",
       "  </div>\n",
       "  "
      ],
      "text/plain": [
       "     spam                                   original_message\n",
       "0       0                    Ok i msg u b4 i leave my house.\n",
       "1       0        \\Gimme a few\\\" was  &lt;#&gt;  minutes ago\"\n",
       "2       1  Last Chance! Claim ur å£150 worth of discount ...\n",
       "3       0                                     Appt is at &lt\n",
       "4       1  FREE for 1st week! No1 Nokia tone 4 ur mobile ...\n",
       "..    ...                                                ...\n",
       "995     0            You bad girl. I can still remember them\n",
       "996     0                   How much i gave to you. Morning.\n",
       "997     0  I hope your alright babe? I worry that you mig...\n",
       "998     0  Hey, can you tell me blake's address? Carlos w...\n",
       "999     0         Can i get your opinion on something first?\n",
       "\n",
       "[1000 rows x 2 columns]"
      ]
     },
     "execution_count": 7,
     "metadata": {},
     "output_type": "execute_result"
    }
   ],
   "source": [
    "test_df = pd.read_csv(test_path)\n",
    "test_df"
   ]
  },
  {
   "cell_type": "markdown",
   "metadata": {
    "id": "zU_O6w17JUpf"
   },
   "source": [
    "## **Creating loader**"
   ]
  },
  {
   "cell_type": "code",
   "execution_count": 8,
   "metadata": {
    "colab": {
     "base_uri": "https://localhost:8080/",
     "height": 113,
     "referenced_widgets": [
      "4dcd563770604204a2fb77557021d4cf",
      "01fa8fd31e954a0785eba4ec99d0044f",
      "0855767b2fd54fcfa2d313a5511434d6",
      "756efd79780243a380f52f2d83b408db",
      "61bf976e4dd94ae2a4750b97de435f21",
      "19bfe2d98e934811a0b2d20b77a669c5",
      "cc732c435dfd48209db2af27afc6d932",
      "9984143bf5d2455680772b57beb78f39",
      "89c6f72a09c841f9baf088cea08060f6",
      "739e0d532091453a82a958811912d309",
      "eebb3d808d60484895db27ac564064f9",
      "29c16895ea1647639b474de3f104571e",
      "0622cd14a31e44d7beb499a98211612e",
      "d025badd071a4bef9339ec1369e14428",
      "9a15f6f6b1384af2b30be913d3d96d24",
      "f02b23cd01de4f62bbda0b1a0142a49c",
      "1dbb811365a6420f8b05c8a7970e1480",
      "1f44d0b052bd423ca3dc03346d643c4b",
      "a9ab511caa3a47e4a53a98775acf2f5f",
      "ec005fdc8aaa4efb818cdcf31ee4b6d0",
      "a99fd676d2dc42ebb51cb07640e22578",
      "7515f25b15154fa3bb5bb260d88e1f6c",
      "94e4b6c13940427ab304720242a61cf3",
      "62f74454773441a09da8b7b66bff1ed5",
      "a93c3db626954ea1ae6f673db20d0711",
      "e4c5f001f88243559434f018526e8811",
      "fdd329d9eb034403a147603da3b40841",
      "a8fbe695e8c2441ab10dffc7c519f5ee",
      "d9f229da09984b4d9dc31d992360e2f9",
      "a7b66b24bd0e40288194a8f133c49d54",
      "53c6b7864e114bf09973caada1c37bb2",
      "fe951a0f395446919f9a0c3cc789d2b2",
      "d839dbf62f92435fa28e90ee6b44e320"
     ]
    },
    "id": "oc-9ZtOzjPdd",
    "outputId": "61cf6dd2-2153-4083-d225-4880576ee866"
   },
   "outputs": [
    {
     "data": {
      "application/vnd.jupyter.widget-view+json": {
       "model_id": "4dcd563770604204a2fb77557021d4cf",
       "version_major": 2,
       "version_minor": 0
      },
      "text/plain": [
       "Downloading (…)solve/main/vocab.txt:   0%|          | 0.00/213k [00:00<?, ?B/s]"
      ]
     },
     "metadata": {},
     "output_type": "display_data"
    },
    {
     "data": {
      "application/vnd.jupyter.widget-view+json": {
       "model_id": "29c16895ea1647639b474de3f104571e",
       "version_major": 2,
       "version_minor": 0
      },
      "text/plain": [
       "Downloading (…)okenizer_config.json:   0%|          | 0.00/29.0 [00:00<?, ?B/s]"
      ]
     },
     "metadata": {},
     "output_type": "display_data"
    },
    {
     "data": {
      "application/vnd.jupyter.widget-view+json": {
       "model_id": "94e4b6c13940427ab304720242a61cf3",
       "version_major": 2,
       "version_minor": 0
      },
      "text/plain": [
       "Downloading (…)lve/main/config.json:   0%|          | 0.00/570 [00:00<?, ?B/s]"
      ]
     },
     "metadata": {},
     "output_type": "display_data"
    }
   ],
   "source": [
    "tokenizer = BertTokenizer.from_pretrained('bert-base-cased')"
   ]
  },
  {
   "cell_type": "code",
   "execution_count": 9,
   "metadata": {
    "id": "jxhU4O-aOBmV"
   },
   "outputs": [],
   "source": [
    "MASK_TOKEN = tokenizer.vocab[\"[MASK]\"]"
   ]
  },
  {
   "cell_type": "code",
   "execution_count": 10,
   "metadata": {
    "id": "wF5vmXqY6zHO"
   },
   "outputs": [],
   "source": [
    "class MSGDataset(Dataset):\n",
    "    def __init__(self, msgs, labels, tokenizer):\n",
    "        self.msgs = msgs\n",
    "        self.labels = labels\n",
    "        self.tokenizer = tokenizer\n",
    "\n",
    "    def __len__(self):\n",
    "        return len(self.msgs)\n",
    "\n",
    "    def __getitem__(self, idx):\n",
    "        msg = self.msgs[idx]\n",
    "        label = torch.LongTensor([self.labels[idx]])\n",
    "\n",
    "        encoded_msg = tokenizer.encode_plus(text=msg,\n",
    "                                            max_length=MAX_SEQ_LEN,\n",
    "                                            add_special_tokens=True,\n",
    "                                            truncation=True,\n",
    "                                            padding=\"max_length\",\n",
    "                                            return_attention_mask=True,\n",
    "                                            return_tensors=\"pt\")\n",
    "\n",
    "        msg_tokens = encoded_msg[\"input_ids\"].view(-1)\n",
    "        attn_mask = encoded_msg[\"attention_mask\"]\n",
    "        msg_len = torch.LongTensor([torch.count_nonzero(msg_tokens)])\n",
    "\n",
    "        out = {\"msg\": msg,\n",
    "               \"msg_tokens\": msg_tokens,\n",
    "               \"attn_mask\": attn_mask,\n",
    "               \"msg_len\": msg_len,\n",
    "               \"label\": label}\n",
    "\n",
    "        return out"
   ]
  },
  {
   "cell_type": "code",
   "execution_count": 11,
   "metadata": {
    "id": "wqaeEJY5E-ia"
   },
   "outputs": [],
   "source": [
    "train_data = MSGDataset(train_df[\"original_message\"].values,\n",
    "                        train_df[\"spam\"].values,\n",
    "                        tokenizer)"
   ]
  },
  {
   "cell_type": "code",
   "execution_count": 12,
   "metadata": {
    "id": "AoPOGMk8adWl"
   },
   "outputs": [],
   "source": [
    "test_data = MSGDataset(test_df[\"original_message\"].values,\n",
    "                       test_df[\"spam\"].values,\n",
    "                       tokenizer)"
   ]
  },
  {
   "cell_type": "code",
   "execution_count": 13,
   "metadata": {
    "id": "oOugDsZuC94h"
   },
   "outputs": [],
   "source": [
    "batch_size = 32"
   ]
  },
  {
   "cell_type": "code",
   "execution_count": 14,
   "metadata": {
    "id": "yoWepiiPCKx2"
   },
   "outputs": [],
   "source": [
    "train_loader = DataLoader(dataset=train_data,\n",
    "                          batch_size=batch_size,\n",
    "                          shuffle=True,\n",
    "                          drop_last=True)"
   ]
  },
  {
   "cell_type": "code",
   "execution_count": 15,
   "metadata": {
    "id": "kkAmt78dahZY"
   },
   "outputs": [],
   "source": [
    "test_loader = DataLoader(dataset=test_data, batch_size=1)"
   ]
  },
  {
   "cell_type": "markdown",
   "metadata": {
    "id": "X7JmKS1jpPzK"
   },
   "source": [
    "# **Model components**"
   ]
  },
  {
   "cell_type": "code",
   "execution_count": 16,
   "metadata": {
    "id": "zYqaP3ND3AQy"
   },
   "outputs": [],
   "source": [
    "class Sublayer(nn.Module):\n",
    "    def __init__(self, d_model, dropout_p):\n",
    "        super(Sublayer, self).__init__()\n",
    "\n",
    "        self.layer_norm = nn.LayerNorm(d_model)\n",
    "        self.dropout = nn.Dropout(dropout_p)\n",
    "\n",
    "    def forward(self, x, sublayer):\n",
    "        return x + self.dropout(sublayer(self.layer_norm(x)))"
   ]
  },
  {
   "cell_type": "markdown",
   "metadata": {
    "id": "sS35rpWLlXfX"
   },
   "source": [
    "## **Embedding**"
   ]
  },
  {
   "cell_type": "code",
   "execution_count": 17,
   "metadata": {
    "id": "iQdac3Hu-ap8"
   },
   "outputs": [],
   "source": [
    "class Embedding(nn.Module):\n",
    "    def __init__(self, vocab_size, d_model):\n",
    "        super(Embedding, self).__init__()\n",
    "\n",
    "        self.embedding = nn.Embedding(vocab_size, d_model)\n",
    "        self.d_model = d_model\n",
    "\n",
    "    def forward(self, x):\n",
    "        return self.embedding(x) * np.sqrt(self.d_model)"
   ]
  },
  {
   "cell_type": "markdown",
   "metadata": {
    "id": "WGOllLTBHteU"
   },
   "source": [
    "## **Positional encoding**"
   ]
  },
  {
   "cell_type": "markdown",
   "metadata": {
    "id": "HT6f8lUSwAAg"
   },
   "source": [
    "Thanks [ARUNMOHAN_003](https://www.kaggle.com/arunmohan003)"
   ]
  },
  {
   "cell_type": "code",
   "execution_count": 18,
   "metadata": {
    "id": "RYphIqqouPxA"
   },
   "outputs": [],
   "source": [
    "class Positional_encoding(nn.Module):\n",
    "    def __init__(self, d_model):\n",
    "        super(Positional_encoding, self).__init__()\n",
    "\n",
    "        self.d_model = d_model\n",
    "\n",
    "        pos_enc = torch.zeros(MAX_SEQ_LEN, self.d_model).to(device)\n",
    "\n",
    "        for position in range(MAX_SEQ_LEN):\n",
    "            for i in range(0, self.d_model, 2):\n",
    "                pos_enc[position, i] = np.sin(\n",
    "                    position / (10000 ** ((2 * i) / self.d_model))\n",
    "                )\n",
    "                pos_enc[position, i + 1] = np.cos(\n",
    "                    position / (10000 ** ((2 * (i + 1)) / self.d_model))\n",
    "                )\n",
    "\n",
    "        pos_enc = pos_enc.unsqueeze(0)\n",
    "\n",
    "        self.register_buffer('positional_encoding', pos_enc)\n",
    "\n",
    "    def forward(self, x):\n",
    "        x = x + np.sqrt(self.d_model)\n",
    "\n",
    "        len_x = x.size(1)\n",
    "\n",
    "        x += torch.autograd.Variable(\n",
    "            self.positional_encoding[:, :len_x],\n",
    "            requires_grad=False\n",
    "        ).to(device)\n",
    "\n",
    "        return x"
   ]
  },
  {
   "cell_type": "markdown",
   "metadata": {
    "id": "rjW6xTnoqiyG"
   },
   "source": [
    "## **Positionwise FFN**"
   ]
  },
  {
   "cell_type": "code",
   "execution_count": 19,
   "metadata": {
    "id": "FP6VXjFSrUwy"
   },
   "outputs": [],
   "source": [
    "class PositionwiseFFN(nn.Module):\n",
    "    def __init__(self, d_model, d_ffn, dropout_p):\n",
    "        super(PositionwiseFFN, self).__init__()\n",
    "\n",
    "        self.FFN = nn.Sequential(\n",
    "            nn.Linear(d_model, d_ffn),\n",
    "            nn.ReLU(inplace=True),\n",
    "            nn.Linear(d_ffn, d_model)\n",
    "        )\n",
    "\n",
    "        self.dropout = nn.Dropout(dropout_p)\n",
    "\n",
    "    def forward(self, x):\n",
    "        return self.dropout(self.FFN(x))"
   ]
  },
  {
   "cell_type": "markdown",
   "metadata": {
    "id": "LT7t_Xz24Ad0"
   },
   "source": [
    "## **Multihead attention**"
   ]
  },
  {
   "cell_type": "markdown",
   "metadata": {
    "id": "mUatP0ZpiUsz"
   },
   "source": [
    "\n",
    "\n",
    "\n",
    "### **Scaled dot product attention**"
   ]
  },
  {
   "cell_type": "markdown",
   "metadata": {
    "id": "IpyKeGuk4JI5"
   },
   "source": [
    "Scaled dot product attention it is calculated according to the formula (see the article [Attention Is All You Need](https://arxiv.org/pdf/1706.03762.pdf))\n",
    "\n",
    "$$\\text{Attention}(Q, K, V) = \\text{softmax}\\left(\\frac{QK^{T}}{\\sqrt{d_k}}\\right)V,$$\n",
    "\n",
    "where $\\sqrt{d_k}$ is a square root of queries and keys dimension."
   ]
  },
  {
   "cell_type": "markdown",
   "metadata": {
    "id": "EsAS1H9Gs-ee"
   },
   "source": [
    "![Scaled Dot-Product Attention.svg](https://svgshare.com/i/u4z.svg)"
   ]
  },
  {
   "cell_type": "code",
   "execution_count": 20,
   "metadata": {
    "id": "R-U9qfa7kSbL"
   },
   "outputs": [],
   "source": [
    "def scaled_dot_product_attn(Q, K, V, mask=None):\n",
    "    d_k = Q.size(-1)\n",
    "\n",
    "    attn_weights = torch.matmul(Q, K.transpose(-2, -1)) / np.sqrt(d_k)\n",
    "\n",
    "    if mask is not None:\n",
    "        attn_weights = attn_weights.masked_fill(mask==0, -np.inf)\n",
    "\n",
    "    attn_weights = attn_weights.softmax(dim=-1)\n",
    "\n",
    "    attn_applied = torch.matmul(attn_weights, V)\n",
    "\n",
    "    return attn_applied, attn_weights"
   ]
  },
  {
   "cell_type": "markdown",
   "metadata": {
    "id": "hBshOaQRidQx"
   },
   "source": [
    "### **Multihead attention**"
   ]
  },
  {
   "cell_type": "markdown",
   "metadata": {
    "id": "j_Ri36EsqytW"
   },
   "source": [
    "Following the original article [Attention Is All You Need](https://arxiv.org/pdf/1706.03762.pdf), multihead attention is defined as:\n",
    "\n",
    "$$\\text{MultiHead}(Q, K, V) = \\text{Concat}(\\text{head}_{1}, \\text{...}, \\text{head}_{h})W^O,$$\n",
    "\n",
    "where\n",
    "\n",
    "$$\\text{head}_i = \\text{Attention}(QW_{i}^{Q}, KW_{i}^{K}, VW_{i}^{V}).$$"
   ]
  },
  {
   "cell_type": "markdown",
   "metadata": {
    "id": "wgEUHzo7vBo-"
   },
   "source": [
    "![Multi-Head Attention.svg](https://svgshare.com/i/u6C.svg)"
   ]
  },
  {
   "cell_type": "code",
   "execution_count": 21,
   "metadata": {
    "id": "24Sv9QjVoR6P"
   },
   "outputs": [],
   "source": [
    "class MultiheadAttention(nn.Module):\n",
    "    def __init__(self, d_model, n_heads, dropout_p):\n",
    "        super(MultiheadAttention, self).__init__()\n",
    "\n",
    "        assert (\n",
    "            d_model % n_heads == 0\n",
    "        ), \"d_head * n_heads must be equal to d_model!\"\n",
    "\n",
    "        self.n_heads = n_heads\n",
    "        self.d_head = d_model // n_heads\n",
    "\n",
    "        self.W_q = nn.Linear(d_model, d_model)\n",
    "        self.W_k = nn.Linear(d_model, d_model)\n",
    "        self.W_v = nn.Linear(d_model, d_model)\n",
    "        self.W_o = nn.Linear(d_model, d_model)\n",
    "\n",
    "        self.attn_weights = None\n",
    "\n",
    "    def forward(self, Q, K, V, mask=None):\n",
    "        if mask is not None:\n",
    "            mask = mask.unsqueeze(1)\n",
    "\n",
    "        batch_size = Q.size(0)\n",
    "\n",
    "        Q = self.W_q(Q)\n",
    "        K = self.W_k(K)\n",
    "        V = self.W_v(V)\n",
    "\n",
    "        Q = Q.view(batch_size, -1, self.n_heads, self.d_head).transpose(1, 2)\n",
    "        K = K.view(batch_size, -1, self.n_heads, self.d_head).transpose(1, 2)\n",
    "        V = V.view(batch_size, -1, self.n_heads, self.d_head).transpose(1, 2)\n",
    "\n",
    "        attention, self.attn_weights = scaled_dot_product_attn(Q, K, V, mask)\n",
    "\n",
    "        attention = attention.transpose(1, 2).contiguous()\n",
    "        attention = attention.view(batch_size, -1, self.n_heads * self.d_head)\n",
    "\n",
    "        attention = self.W_o(attention)\n",
    "\n",
    "        return attention"
   ]
  },
  {
   "cell_type": "markdown",
   "metadata": {
    "id": "kLRUEPUh594c"
   },
   "source": [
    "## **Encoder**"
   ]
  },
  {
   "cell_type": "markdown",
   "metadata": {
    "id": "oHG-K2_uPORF"
   },
   "source": [
    "### **Encoder block**"
   ]
  },
  {
   "cell_type": "markdown",
   "metadata": {
    "id": "Mr0uI9R4xalM"
   },
   "source": [
    "![Encoder block.svg](https://svgshare.com/i/u5x.svg)"
   ]
  },
  {
   "cell_type": "code",
   "execution_count": 22,
   "metadata": {
    "id": "IMZcJYR-Z_MZ"
   },
   "outputs": [],
   "source": [
    "class EncoderLayer(nn.Module):\n",
    "    def __init__(self, self_attn, FFN, d_model, dropout_p):\n",
    "        super(EncoderLayer, self).__init__()\n",
    "\n",
    "        self.self_attn = self_attn\n",
    "        self.FFN = FFN\n",
    "\n",
    "        self.sublayer = Sublayer(d_model, dropout_p)\n",
    "\n",
    "    def forward(self, x, src_mask):\n",
    "        x = self.sublayer(x, lambda x: self.self_attn(x, x, x, src_mask))\n",
    "        x = self.sublayer(x, self.FFN)\n",
    "        return x"
   ]
  },
  {
   "cell_type": "markdown",
   "metadata": {
    "id": "jqejdbdEy9vB"
   },
   "source": [
    "### **Full encoder**"
   ]
  },
  {
   "cell_type": "markdown",
   "metadata": {
    "id": "hc-M5YjUxXLG"
   },
   "source": [
    "![Encoder.svg](https://svgshare.com/i/u55.svg)"
   ]
  },
  {
   "cell_type": "code",
   "execution_count": 23,
   "metadata": {
    "id": "fCphjXkpZOnj"
   },
   "outputs": [],
   "source": [
    "class Encoder(nn.Module):\n",
    "    def __init__(self, encoder_layer, emb, pos_enc, n_layers):\n",
    "        super(Encoder, self).__init__()\n",
    "\n",
    "        self.emb = emb\n",
    "        self.pos_enc = pos_enc\n",
    "\n",
    "        self.encoder_layers = nn.ModuleList([\n",
    "            copy.deepcopy(encoder_layer)\n",
    "            for _ in range(n_layers)\n",
    "        ])\n",
    "\n",
    "    def forward(self, x, src_mask=None):\n",
    "        x = self.pos_enc(self.emb(x))\n",
    "\n",
    "        for encoder_layer in self.encoder_layers:\n",
    "            x = encoder_layer(x, src_mask)\n",
    "\n",
    "        return x"
   ]
  },
  {
   "cell_type": "markdown",
   "metadata": {
    "id": "9Y1d2ecU6z3r"
   },
   "source": [
    "## **BERT**"
   ]
  },
  {
   "cell_type": "markdown",
   "metadata": {},
   "source": [
    "![BERT.svg](https://svgshare.com/i/unb.svg)"
   ]
  },
  {
   "cell_type": "code",
   "execution_count": 24,
   "metadata": {
    "id": "fnXFgn1-62Fr"
   },
   "outputs": [],
   "source": [
    "class BERT(nn.Module):\n",
    "    def __init__(self, encoder, d_model, vocab_size, n_labels):\n",
    "        super(BERT, self).__init__()\n",
    "\n",
    "        self.encoder = encoder\n",
    "\n",
    "        self.generator = nn.Sequential(\n",
    "            nn.Linear(d_model, d_model),\n",
    "            nn.GELU(),\n",
    "            nn.Linear(d_model, vocab_size),\n",
    "            nn.LogSoftmax(dim=-1)\n",
    "        )\n",
    "\n",
    "        self.classifier = nn.Sequential(\n",
    "            nn.Linear(d_model, n_labels),\n",
    "            nn.LogSoftmax(dim=-1)\n",
    "        )\n",
    "\n",
    "    def forward(self, input, attn_mask):\n",
    "        encoder_out = self.encoder(input, attn_mask)\n",
    "\n",
    "        lm_out = self.generator(encoder_out)\n",
    "        classifier_out = self.classifier(encoder_out[:, 0, :])\n",
    "\n",
    "        return lm_out, classifier_out"
   ]
  },
  {
   "cell_type": "markdown",
   "metadata": {
    "id": "JC9IZF7NeLMP"
   },
   "source": [
    "# **Creating model**"
   ]
  },
  {
   "cell_type": "code",
   "execution_count": 25,
   "metadata": {
    "id": "uQXu55vxRHpI"
   },
   "outputs": [],
   "source": [
    "d_model = 512\n",
    "n_heads = 8\n",
    "n_layers = 6\n",
    "d_ffn = 4*d_model\n",
    "dropout_p = 0.1"
   ]
  },
  {
   "cell_type": "code",
   "execution_count": 26,
   "metadata": {
    "id": "d_GXTBrmiLAu"
   },
   "outputs": [],
   "source": [
    "c = copy.deepcopy\n",
    "\n",
    "src_emb = Embedding(tokenizer.vocab_size, d_model)\n",
    "pos_enc = Positional_encoding(d_model)\n",
    "\n",
    "mhsa = MultiheadAttention(d_model, n_heads, dropout_p)\n",
    "FFN = PositionwiseFFN(d_model, d_ffn, dropout_p)\n",
    "\n",
    "encoder = Encoder(\n",
    "    EncoderLayer(c(mhsa), c(FFN), d_model, dropout_p),\n",
    "    src_emb,\n",
    "    pos_enc,\n",
    "    n_layers\n",
    ")\n",
    "\n",
    "model = BERT(encoder, d_model, tokenizer.vocab_size, 2).to(device)"
   ]
  },
  {
   "cell_type": "code",
   "execution_count": 27,
   "metadata": {
    "colab": {
     "base_uri": "https://localhost:8080/"
    },
    "id": "2yUjYfziibpe",
    "outputId": "053f674b-2cd0-4415-8d8d-c887322cf003"
   },
   "outputs": [
    {
     "data": {
      "text/plain": [
       "BERT(\n",
       "  (encoder): Encoder(\n",
       "    (emb): Embedding(\n",
       "      (embedding): Embedding(28996, 512)\n",
       "    )\n",
       "    (pos_enc): Positional_encoding()\n",
       "    (encoder_layers): ModuleList(\n",
       "      (0-5): 6 x EncoderLayer(\n",
       "        (self_attn): MultiheadAttention(\n",
       "          (W_q): Linear(in_features=512, out_features=512, bias=True)\n",
       "          (W_k): Linear(in_features=512, out_features=512, bias=True)\n",
       "          (W_v): Linear(in_features=512, out_features=512, bias=True)\n",
       "          (W_o): Linear(in_features=512, out_features=512, bias=True)\n",
       "        )\n",
       "        (FFN): PositionwiseFFN(\n",
       "          (FFN): Sequential(\n",
       "            (0): Linear(in_features=512, out_features=2048, bias=True)\n",
       "            (1): ReLU(inplace=True)\n",
       "            (2): Linear(in_features=2048, out_features=512, bias=True)\n",
       "          )\n",
       "          (dropout): Dropout(p=0.1, inplace=False)\n",
       "        )\n",
       "        (sublayer): Sublayer(\n",
       "          (layer_norm): LayerNorm((512,), eps=1e-05, elementwise_affine=True)\n",
       "          (dropout): Dropout(p=0.1, inplace=False)\n",
       "        )\n",
       "      )\n",
       "    )\n",
       "  )\n",
       "  (generator): Sequential(\n",
       "    (0): Linear(in_features=512, out_features=512, bias=True)\n",
       "    (1): GELU(approximate='none')\n",
       "    (2): Linear(in_features=512, out_features=28996, bias=True)\n",
       "    (3): LogSoftmax(dim=-1)\n",
       "  )\n",
       "  (classifier): Sequential(\n",
       "    (0): Linear(in_features=512, out_features=2, bias=True)\n",
       "    (1): LogSoftmax(dim=-1)\n",
       "  )\n",
       ")"
      ]
     },
     "execution_count": 27,
     "metadata": {},
     "output_type": "execute_result"
    }
   ],
   "source": [
    "for p in model.parameters():\n",
    "    if p.dim() > 1:\n",
    "        nn.init.xavier_uniform_(p)\n",
    "\n",
    "model"
   ]
  },
  {
   "cell_type": "code",
   "execution_count": 28,
   "metadata": {
    "colab": {
     "base_uri": "https://localhost:8080/"
    },
    "id": "-_YfRWgHiyzH",
    "outputId": "a21971cb-e49f-4437-b03c-2ae97898e929"
   },
   "outputs": [
    {
     "name": "stdout",
     "output_type": "stream",
     "text": [
      "Total model parameters: 48892742\n"
     ]
    }
   ],
   "source": [
    "pytorch_total_params = sum(p.numel() for p in model.parameters() if p.requires_grad)\n",
    "print(\"Total model parameters:\", pytorch_total_params)"
   ]
  },
  {
   "cell_type": "markdown",
   "metadata": {
    "id": "KpVUus7nQ20P"
   },
   "source": [
    "# **Train**"
   ]
  },
  {
   "cell_type": "code",
   "execution_count": 29,
   "metadata": {
    "id": "NNBOkdvRcRkk"
   },
   "outputs": [],
   "source": [
    "def mask_tokens(batch):\n",
    "    n_msgs = batch[\"msg_tokens\"].size(0)\n",
    "    msg_lens = batch[\"msg_len\"]\n",
    "\n",
    "    n_mask_tokens = [math.ceil(0.15*msg_len) for msg_len in msg_lens]\n",
    "    masked_pos = [\n",
    "        random.sample(range(1, msg_lens[i]-1), n_mask_tokens[i])\n",
    "        if msg_lens[i] > 4 else []\n",
    "        for i in range(n_msgs)\n",
    "    ]\n",
    "    masked_tokens = torch.zeros_like(batch[\"msg_tokens\"])\n",
    "\n",
    "    for i in range(n_msgs):\n",
    "        batch[\"attn_mask\"][i, 0, masked_pos[i]] = 0\n",
    "        masked_tokens[i, masked_pos[i]] = batch[\"msg_tokens\"][i, masked_pos[i]]\n",
    "        batch[\"msg_tokens\"][i, masked_pos[i]] = MASK_TOKEN\n",
    "\n",
    "    return batch, masked_tokens"
   ]
  },
  {
   "cell_type": "code",
   "execution_count": 30,
   "metadata": {
    "id": "wU7A93bbQ4nB"
   },
   "outputs": [],
   "source": [
    "epochs = 5\n",
    "lr = 1e-5"
   ]
  },
  {
   "cell_type": "code",
   "execution_count": 31,
   "metadata": {
    "id": "nwRIBVwFQ49r"
   },
   "outputs": [],
   "source": [
    "optimizer = optim.Adam(model.parameters(), lr=lr)\n",
    "lm_criterion = nn.NLLLoss(ignore_index=0)\n",
    "cls_criterion = nn.NLLLoss()"
   ]
  },
  {
   "cell_type": "code",
   "execution_count": 32,
   "metadata": {
    "colab": {
     "base_uri": "https://localhost:8080/"
    },
    "id": "2WhuMSutQ6MM",
    "outputId": "cb9b0f70-a842-49d1-b91f-1a1885c1dadc"
   },
   "outputs": [
    {
     "name": "stdout",
     "output_type": "stream",
     "text": [
      "100%|██████████| 174/174 [00:25<00:00,  6.96it/s]\n",
      "Epoch: 0;\n",
      "train_lm_loss: 6.051724532554889\n",
      "train_cls_loss: 0.002158830226750622\n",
      "\n",
      "100%|██████████| 174/174 [00:25<00:00,  6.94it/s]\n",
      "Epoch: 1;\n",
      "train_lm_loss: 6.0156698939444\n",
      "train_cls_loss: 0.00015455254031083887\n",
      "\n",
      "100%|██████████| 174/174 [00:24<00:00,  7.01it/s]\n",
      "Epoch: 2;\n",
      "train_lm_loss: 6.039944599414694\n",
      "train_cls_loss: 0.020297530207085242\n",
      "\n",
      "100%|██████████| 174/174 [00:24<00:00,  7.00it/s]\n",
      "Epoch: 3;\n",
      "train_lm_loss: 5.997798610007626\n",
      "train_cls_loss: 0.0008346653473078186\n",
      "\n",
      "100%|██████████| 174/174 [00:24<00:00,  6.97it/s]\n",
      "Epoch: 4;\n",
      "train_lm_loss: 5.954488008871846\n",
      "train_cls_loss: 0.001974409608545524\n",
      "\n"
     ]
    }
   ],
   "source": [
    "train_data_size = len(train_loader.dataset)\n",
    "\n",
    "for epoch in range(epochs):\n",
    "    epoch_lm_loss = 0\n",
    "    epoch_cls_loss = 0\n",
    "\n",
    "    model.train()\n",
    "\n",
    "    for batch in tqdm.tqdm(train_loader, file=sys.stdout):\n",
    "        batch, masked_tokens = mask_tokens(c(batch))\n",
    "\n",
    "        lm_out, cls_out = model(c(batch[\"msg_tokens\"]).to(device),\n",
    "                                c(batch[\"attn_mask\"]).to(device))\n",
    "\n",
    "        lm_loss = lm_criterion(lm_out.to(device).view(-1, tokenizer.vocab_size),\n",
    "                               masked_tokens.to(device).view(-1))\n",
    "        cls_loss = cls_criterion(cls_out.to(device),\n",
    "                                 batch[\"label\"].to(device).view(-1))\n",
    "\n",
    "        epoch_lm_loss += lm_loss.item()\n",
    "        epoch_cls_loss += cls_loss.item()\n",
    "\n",
    "        loss = lm_loss + cls_loss\n",
    "\n",
    "        loss.backward()\n",
    "        optimizer.step()\n",
    "        optimizer.zero_grad(set_to_none=True)\n",
    "\n",
    "    epoch_lm_loss /= (train_data_size // batch_size)\n",
    "    epoch_cls_loss /= (train_data_size // batch_size)\n",
    "\n",
    "    print(f\"Epoch: {epoch};\")\n",
    "    print(f\"train_lm_loss: {epoch_lm_loss}\")\n",
    "    print(f\"train_cls_loss: {epoch_cls_loss}\\n\")"
   ]
  },
  {
   "cell_type": "markdown",
   "metadata": {
    "id": "cN-bdVDtK-ws"
   },
   "source": [
    "## **Lets test our model**"
   ]
  },
  {
   "cell_type": "code",
   "execution_count": 33,
   "metadata": {
    "colab": {
     "base_uri": "https://localhost:8080/"
    },
    "id": "Z71LoBJdduhM",
    "outputId": "9d109d61-795a-41ad-d17e-baccfefafb96"
   },
   "outputs": [
    {
     "name": "stdout",
     "output_type": "stream",
     "text": [
      "100%|██████████| 1000/1000 [00:08<00:00, 114.82it/s]\n",
      "test_lm_loss: 6.096308708190918\n",
      "test_cls_loss: 0.0\n",
      "\n"
     ]
    }
   ],
   "source": [
    "model.eval()\n",
    "\n",
    "with torch.no_grad():\n",
    "    test_data_size = len(test_loader.dataset)\n",
    "\n",
    "    test_lm_loss = 0\n",
    "    test_cls_loss = 0\n",
    "\n",
    "    for batch in tqdm.tqdm(test_loader, file=sys.stdout):\n",
    "        batch, masked_tokens = mask_tokens(c(batch))\n",
    "\n",
    "        lm_out, cls_out = model(c(batch[\"msg_tokens\"]).to(device),\n",
    "                                c(batch[\"attn_mask\"]).to(device))\n",
    "\n",
    "        lm_loss = lm_criterion(lm_out.to(device).view(-1, tokenizer.vocab_size),\n",
    "                                masked_tokens.to(device).view(-1))\n",
    "        cls_loss = cls_criterion(cls_out.to(device),\n",
    "                                    batch[\"label\"].to(device).view(-1))\n",
    "\n",
    "        test_lm_loss += lm_loss.item()\n",
    "        test_cls_loss += cls_loss.item()\n",
    "\n",
    "    test_lm_loss /= (test_data_size // batch_size)\n",
    "    test_cls_loss /= (test_data_size // batch_size)\n",
    "\n",
    "print(f\"test_lm_loss: {lm_loss}\")\n",
    "print(f\"test_cls_loss: {cls_loss}\\n\")"
   ]
  },
  {
   "cell_type": "markdown",
   "metadata": {
    "id": "BV75zaZXGu8j"
   },
   "source": [
    "## **Classifier test**"
   ]
  },
  {
   "cell_type": "code",
   "execution_count": 34,
   "metadata": {
    "colab": {
     "base_uri": "https://localhost:8080/"
    },
    "id": "ilxwldnyGHPx",
    "outputId": "cb52304b-8762-4487-a489-7d0dfe1ff01c"
   },
   "outputs": [
    {
     "name": "stdout",
     "output_type": "stream",
     "text": [
      "msg: Someone has contacted our dating service and entered your phone because they fancy you!\n",
      "label: 1\n",
      "predict: 1\n"
     ]
    }
   ],
   "source": [
    "model.eval()\n",
    "\n",
    "with torch.no_grad():\n",
    "    msg = \"Someone has contacted our dating service and entered your phone because they fancy you!\"\n",
    "    encoded_msg = tokenizer.encode_plus(text=msg,\n",
    "                                        max_length=MAX_SEQ_LEN,\n",
    "                                        add_special_tokens=True,\n",
    "                                        truncation=True,\n",
    "                                        padding=\"max_length\",\n",
    "                                        return_attention_mask=True,\n",
    "                                        return_tensors=\"pt\")\n",
    "    _, cls_out = model(encoded_msg[\"input_ids\"].to(device),\n",
    "                       encoded_msg[\"attention_mask\"].to(device))\n",
    "\n",
    "    cls_out = cls_out.argmax(dim=-1).item()\n",
    "\n",
    "print(f\"msg: {msg}\")\n",
    "print(f\"label: 1\")\n",
    "print(f\"predict: {cls_out}\")"
   ]
  }
 ],
 "metadata": {
  "accelerator": "GPU",
  "colab": {
   "gpuType": "T4",
   "provenance": []
  },
  "kernelspec": {
   "display_name": "Python 3 (ipykernel)",
   "language": "python",
   "name": "python3"
  },
  "language_info": {
   "codemirror_mode": {
    "name": "ipython",
    "version": 3
   },
   "file_extension": ".py",
   "mimetype": "text/x-python",
   "name": "python",
   "nbconvert_exporter": "python",
   "pygments_lexer": "ipython3",
   "version": "3.9.13"
  },
  "widgets": {
   "application/vnd.jupyter.widget-state+json": {
    "01fa8fd31e954a0785eba4ec99d0044f": {
     "model_module": "@jupyter-widgets/controls",
     "model_module_version": "1.5.0",
     "model_name": "HTMLModel",
     "state": {
      "_dom_classes": [],
      "_model_module": "@jupyter-widgets/controls",
      "_model_module_version": "1.5.0",
      "_model_name": "HTMLModel",
      "_view_count": null,
      "_view_module": "@jupyter-widgets/controls",
      "_view_module_version": "1.5.0",
      "_view_name": "HTMLView",
      "description": "",
      "description_tooltip": null,
      "layout": "IPY_MODEL_19bfe2d98e934811a0b2d20b77a669c5",
      "placeholder": "​",
      "style": "IPY_MODEL_cc732c435dfd48209db2af27afc6d932",
      "value": "Downloading (…)solve/main/vocab.txt: 100%"
     }
    },
    "0622cd14a31e44d7beb499a98211612e": {
     "model_module": "@jupyter-widgets/controls",
     "model_module_version": "1.5.0",
     "model_name": "HTMLModel",
     "state": {
      "_dom_classes": [],
      "_model_module": "@jupyter-widgets/controls",
      "_model_module_version": "1.5.0",
      "_model_name": "HTMLModel",
      "_view_count": null,
      "_view_module": "@jupyter-widgets/controls",
      "_view_module_version": "1.5.0",
      "_view_name": "HTMLView",
      "description": "",
      "description_tooltip": null,
      "layout": "IPY_MODEL_1dbb811365a6420f8b05c8a7970e1480",
      "placeholder": "​",
      "style": "IPY_MODEL_1f44d0b052bd423ca3dc03346d643c4b",
      "value": "Downloading (…)okenizer_config.json: 100%"
     }
    },
    "0855767b2fd54fcfa2d313a5511434d6": {
     "model_module": "@jupyter-widgets/controls",
     "model_module_version": "1.5.0",
     "model_name": "FloatProgressModel",
     "state": {
      "_dom_classes": [],
      "_model_module": "@jupyter-widgets/controls",
      "_model_module_version": "1.5.0",
      "_model_name": "FloatProgressModel",
      "_view_count": null,
      "_view_module": "@jupyter-widgets/controls",
      "_view_module_version": "1.5.0",
      "_view_name": "ProgressView",
      "bar_style": "success",
      "description": "",
      "description_tooltip": null,
      "layout": "IPY_MODEL_9984143bf5d2455680772b57beb78f39",
      "max": 213450,
      "min": 0,
      "orientation": "horizontal",
      "style": "IPY_MODEL_89c6f72a09c841f9baf088cea08060f6",
      "value": 213450
     }
    },
    "19bfe2d98e934811a0b2d20b77a669c5": {
     "model_module": "@jupyter-widgets/base",
     "model_module_version": "1.2.0",
     "model_name": "LayoutModel",
     "state": {
      "_model_module": "@jupyter-widgets/base",
      "_model_module_version": "1.2.0",
      "_model_name": "LayoutModel",
      "_view_count": null,
      "_view_module": "@jupyter-widgets/base",
      "_view_module_version": "1.2.0",
      "_view_name": "LayoutView",
      "align_content": null,
      "align_items": null,
      "align_self": null,
      "border": null,
      "bottom": null,
      "display": null,
      "flex": null,
      "flex_flow": null,
      "grid_area": null,
      "grid_auto_columns": null,
      "grid_auto_flow": null,
      "grid_auto_rows": null,
      "grid_column": null,
      "grid_gap": null,
      "grid_row": null,
      "grid_template_areas": null,
      "grid_template_columns": null,
      "grid_template_rows": null,
      "height": null,
      "justify_content": null,
      "justify_items": null,
      "left": null,
      "margin": null,
      "max_height": null,
      "max_width": null,
      "min_height": null,
      "min_width": null,
      "object_fit": null,
      "object_position": null,
      "order": null,
      "overflow": null,
      "overflow_x": null,
      "overflow_y": null,
      "padding": null,
      "right": null,
      "top": null,
      "visibility": null,
      "width": null
     }
    },
    "1dbb811365a6420f8b05c8a7970e1480": {
     "model_module": "@jupyter-widgets/base",
     "model_module_version": "1.2.0",
     "model_name": "LayoutModel",
     "state": {
      "_model_module": "@jupyter-widgets/base",
      "_model_module_version": "1.2.0",
      "_model_name": "LayoutModel",
      "_view_count": null,
      "_view_module": "@jupyter-widgets/base",
      "_view_module_version": "1.2.0",
      "_view_name": "LayoutView",
      "align_content": null,
      "align_items": null,
      "align_self": null,
      "border": null,
      "bottom": null,
      "display": null,
      "flex": null,
      "flex_flow": null,
      "grid_area": null,
      "grid_auto_columns": null,
      "grid_auto_flow": null,
      "grid_auto_rows": null,
      "grid_column": null,
      "grid_gap": null,
      "grid_row": null,
      "grid_template_areas": null,
      "grid_template_columns": null,
      "grid_template_rows": null,
      "height": null,
      "justify_content": null,
      "justify_items": null,
      "left": null,
      "margin": null,
      "max_height": null,
      "max_width": null,
      "min_height": null,
      "min_width": null,
      "object_fit": null,
      "object_position": null,
      "order": null,
      "overflow": null,
      "overflow_x": null,
      "overflow_y": null,
      "padding": null,
      "right": null,
      "top": null,
      "visibility": null,
      "width": null
     }
    },
    "1f44d0b052bd423ca3dc03346d643c4b": {
     "model_module": "@jupyter-widgets/controls",
     "model_module_version": "1.5.0",
     "model_name": "DescriptionStyleModel",
     "state": {
      "_model_module": "@jupyter-widgets/controls",
      "_model_module_version": "1.5.0",
      "_model_name": "DescriptionStyleModel",
      "_view_count": null,
      "_view_module": "@jupyter-widgets/base",
      "_view_module_version": "1.2.0",
      "_view_name": "StyleView",
      "description_width": ""
     }
    },
    "29c16895ea1647639b474de3f104571e": {
     "model_module": "@jupyter-widgets/controls",
     "model_module_version": "1.5.0",
     "model_name": "HBoxModel",
     "state": {
      "_dom_classes": [],
      "_model_module": "@jupyter-widgets/controls",
      "_model_module_version": "1.5.0",
      "_model_name": "HBoxModel",
      "_view_count": null,
      "_view_module": "@jupyter-widgets/controls",
      "_view_module_version": "1.5.0",
      "_view_name": "HBoxView",
      "box_style": "",
      "children": [
       "IPY_MODEL_0622cd14a31e44d7beb499a98211612e",
       "IPY_MODEL_d025badd071a4bef9339ec1369e14428",
       "IPY_MODEL_9a15f6f6b1384af2b30be913d3d96d24"
      ],
      "layout": "IPY_MODEL_f02b23cd01de4f62bbda0b1a0142a49c"
     }
    },
    "4dcd563770604204a2fb77557021d4cf": {
     "model_module": "@jupyter-widgets/controls",
     "model_module_version": "1.5.0",
     "model_name": "HBoxModel",
     "state": {
      "_dom_classes": [],
      "_model_module": "@jupyter-widgets/controls",
      "_model_module_version": "1.5.0",
      "_model_name": "HBoxModel",
      "_view_count": null,
      "_view_module": "@jupyter-widgets/controls",
      "_view_module_version": "1.5.0",
      "_view_name": "HBoxView",
      "box_style": "",
      "children": [
       "IPY_MODEL_01fa8fd31e954a0785eba4ec99d0044f",
       "IPY_MODEL_0855767b2fd54fcfa2d313a5511434d6",
       "IPY_MODEL_756efd79780243a380f52f2d83b408db"
      ],
      "layout": "IPY_MODEL_61bf976e4dd94ae2a4750b97de435f21"
     }
    },
    "53c6b7864e114bf09973caada1c37bb2": {
     "model_module": "@jupyter-widgets/controls",
     "model_module_version": "1.5.0",
     "model_name": "ProgressStyleModel",
     "state": {
      "_model_module": "@jupyter-widgets/controls",
      "_model_module_version": "1.5.0",
      "_model_name": "ProgressStyleModel",
      "_view_count": null,
      "_view_module": "@jupyter-widgets/base",
      "_view_module_version": "1.2.0",
      "_view_name": "StyleView",
      "bar_color": null,
      "description_width": ""
     }
    },
    "61bf976e4dd94ae2a4750b97de435f21": {
     "model_module": "@jupyter-widgets/base",
     "model_module_version": "1.2.0",
     "model_name": "LayoutModel",
     "state": {
      "_model_module": "@jupyter-widgets/base",
      "_model_module_version": "1.2.0",
      "_model_name": "LayoutModel",
      "_view_count": null,
      "_view_module": "@jupyter-widgets/base",
      "_view_module_version": "1.2.0",
      "_view_name": "LayoutView",
      "align_content": null,
      "align_items": null,
      "align_self": null,
      "border": null,
      "bottom": null,
      "display": null,
      "flex": null,
      "flex_flow": null,
      "grid_area": null,
      "grid_auto_columns": null,
      "grid_auto_flow": null,
      "grid_auto_rows": null,
      "grid_column": null,
      "grid_gap": null,
      "grid_row": null,
      "grid_template_areas": null,
      "grid_template_columns": null,
      "grid_template_rows": null,
      "height": null,
      "justify_content": null,
      "justify_items": null,
      "left": null,
      "margin": null,
      "max_height": null,
      "max_width": null,
      "min_height": null,
      "min_width": null,
      "object_fit": null,
      "object_position": null,
      "order": null,
      "overflow": null,
      "overflow_x": null,
      "overflow_y": null,
      "padding": null,
      "right": null,
      "top": null,
      "visibility": null,
      "width": null
     }
    },
    "62f74454773441a09da8b7b66bff1ed5": {
     "model_module": "@jupyter-widgets/controls",
     "model_module_version": "1.5.0",
     "model_name": "HTMLModel",
     "state": {
      "_dom_classes": [],
      "_model_module": "@jupyter-widgets/controls",
      "_model_module_version": "1.5.0",
      "_model_name": "HTMLModel",
      "_view_count": null,
      "_view_module": "@jupyter-widgets/controls",
      "_view_module_version": "1.5.0",
      "_view_name": "HTMLView",
      "description": "",
      "description_tooltip": null,
      "layout": "IPY_MODEL_a8fbe695e8c2441ab10dffc7c519f5ee",
      "placeholder": "​",
      "style": "IPY_MODEL_d9f229da09984b4d9dc31d992360e2f9",
      "value": "Downloading (…)lve/main/config.json: 100%"
     }
    },
    "739e0d532091453a82a958811912d309": {
     "model_module": "@jupyter-widgets/base",
     "model_module_version": "1.2.0",
     "model_name": "LayoutModel",
     "state": {
      "_model_module": "@jupyter-widgets/base",
      "_model_module_version": "1.2.0",
      "_model_name": "LayoutModel",
      "_view_count": null,
      "_view_module": "@jupyter-widgets/base",
      "_view_module_version": "1.2.0",
      "_view_name": "LayoutView",
      "align_content": null,
      "align_items": null,
      "align_self": null,
      "border": null,
      "bottom": null,
      "display": null,
      "flex": null,
      "flex_flow": null,
      "grid_area": null,
      "grid_auto_columns": null,
      "grid_auto_flow": null,
      "grid_auto_rows": null,
      "grid_column": null,
      "grid_gap": null,
      "grid_row": null,
      "grid_template_areas": null,
      "grid_template_columns": null,
      "grid_template_rows": null,
      "height": null,
      "justify_content": null,
      "justify_items": null,
      "left": null,
      "margin": null,
      "max_height": null,
      "max_width": null,
      "min_height": null,
      "min_width": null,
      "object_fit": null,
      "object_position": null,
      "order": null,
      "overflow": null,
      "overflow_x": null,
      "overflow_y": null,
      "padding": null,
      "right": null,
      "top": null,
      "visibility": null,
      "width": null
     }
    },
    "7515f25b15154fa3bb5bb260d88e1f6c": {
     "model_module": "@jupyter-widgets/controls",
     "model_module_version": "1.5.0",
     "model_name": "DescriptionStyleModel",
     "state": {
      "_model_module": "@jupyter-widgets/controls",
      "_model_module_version": "1.5.0",
      "_model_name": "DescriptionStyleModel",
      "_view_count": null,
      "_view_module": "@jupyter-widgets/base",
      "_view_module_version": "1.2.0",
      "_view_name": "StyleView",
      "description_width": ""
     }
    },
    "756efd79780243a380f52f2d83b408db": {
     "model_module": "@jupyter-widgets/controls",
     "model_module_version": "1.5.0",
     "model_name": "HTMLModel",
     "state": {
      "_dom_classes": [],
      "_model_module": "@jupyter-widgets/controls",
      "_model_module_version": "1.5.0",
      "_model_name": "HTMLModel",
      "_view_count": null,
      "_view_module": "@jupyter-widgets/controls",
      "_view_module_version": "1.5.0",
      "_view_name": "HTMLView",
      "description": "",
      "description_tooltip": null,
      "layout": "IPY_MODEL_739e0d532091453a82a958811912d309",
      "placeholder": "​",
      "style": "IPY_MODEL_eebb3d808d60484895db27ac564064f9",
      "value": " 213k/213k [00:00&lt;00:00, 4.84MB/s]"
     }
    },
    "89c6f72a09c841f9baf088cea08060f6": {
     "model_module": "@jupyter-widgets/controls",
     "model_module_version": "1.5.0",
     "model_name": "ProgressStyleModel",
     "state": {
      "_model_module": "@jupyter-widgets/controls",
      "_model_module_version": "1.5.0",
      "_model_name": "ProgressStyleModel",
      "_view_count": null,
      "_view_module": "@jupyter-widgets/base",
      "_view_module_version": "1.2.0",
      "_view_name": "StyleView",
      "bar_color": null,
      "description_width": ""
     }
    },
    "94e4b6c13940427ab304720242a61cf3": {
     "model_module": "@jupyter-widgets/controls",
     "model_module_version": "1.5.0",
     "model_name": "HBoxModel",
     "state": {
      "_dom_classes": [],
      "_model_module": "@jupyter-widgets/controls",
      "_model_module_version": "1.5.0",
      "_model_name": "HBoxModel",
      "_view_count": null,
      "_view_module": "@jupyter-widgets/controls",
      "_view_module_version": "1.5.0",
      "_view_name": "HBoxView",
      "box_style": "",
      "children": [
       "IPY_MODEL_62f74454773441a09da8b7b66bff1ed5",
       "IPY_MODEL_a93c3db626954ea1ae6f673db20d0711",
       "IPY_MODEL_e4c5f001f88243559434f018526e8811"
      ],
      "layout": "IPY_MODEL_fdd329d9eb034403a147603da3b40841"
     }
    },
    "9984143bf5d2455680772b57beb78f39": {
     "model_module": "@jupyter-widgets/base",
     "model_module_version": "1.2.0",
     "model_name": "LayoutModel",
     "state": {
      "_model_module": "@jupyter-widgets/base",
      "_model_module_version": "1.2.0",
      "_model_name": "LayoutModel",
      "_view_count": null,
      "_view_module": "@jupyter-widgets/base",
      "_view_module_version": "1.2.0",
      "_view_name": "LayoutView",
      "align_content": null,
      "align_items": null,
      "align_self": null,
      "border": null,
      "bottom": null,
      "display": null,
      "flex": null,
      "flex_flow": null,
      "grid_area": null,
      "grid_auto_columns": null,
      "grid_auto_flow": null,
      "grid_auto_rows": null,
      "grid_column": null,
      "grid_gap": null,
      "grid_row": null,
      "grid_template_areas": null,
      "grid_template_columns": null,
      "grid_template_rows": null,
      "height": null,
      "justify_content": null,
      "justify_items": null,
      "left": null,
      "margin": null,
      "max_height": null,
      "max_width": null,
      "min_height": null,
      "min_width": null,
      "object_fit": null,
      "object_position": null,
      "order": null,
      "overflow": null,
      "overflow_x": null,
      "overflow_y": null,
      "padding": null,
      "right": null,
      "top": null,
      "visibility": null,
      "width": null
     }
    },
    "9a15f6f6b1384af2b30be913d3d96d24": {
     "model_module": "@jupyter-widgets/controls",
     "model_module_version": "1.5.0",
     "model_name": "HTMLModel",
     "state": {
      "_dom_classes": [],
      "_model_module": "@jupyter-widgets/controls",
      "_model_module_version": "1.5.0",
      "_model_name": "HTMLModel",
      "_view_count": null,
      "_view_module": "@jupyter-widgets/controls",
      "_view_module_version": "1.5.0",
      "_view_name": "HTMLView",
      "description": "",
      "description_tooltip": null,
      "layout": "IPY_MODEL_a99fd676d2dc42ebb51cb07640e22578",
      "placeholder": "​",
      "style": "IPY_MODEL_7515f25b15154fa3bb5bb260d88e1f6c",
      "value": " 29.0/29.0 [00:00&lt;00:00, 2.23kB/s]"
     }
    },
    "a7b66b24bd0e40288194a8f133c49d54": {
     "model_module": "@jupyter-widgets/base",
     "model_module_version": "1.2.0",
     "model_name": "LayoutModel",
     "state": {
      "_model_module": "@jupyter-widgets/base",
      "_model_module_version": "1.2.0",
      "_model_name": "LayoutModel",
      "_view_count": null,
      "_view_module": "@jupyter-widgets/base",
      "_view_module_version": "1.2.0",
      "_view_name": "LayoutView",
      "align_content": null,
      "align_items": null,
      "align_self": null,
      "border": null,
      "bottom": null,
      "display": null,
      "flex": null,
      "flex_flow": null,
      "grid_area": null,
      "grid_auto_columns": null,
      "grid_auto_flow": null,
      "grid_auto_rows": null,
      "grid_column": null,
      "grid_gap": null,
      "grid_row": null,
      "grid_template_areas": null,
      "grid_template_columns": null,
      "grid_template_rows": null,
      "height": null,
      "justify_content": null,
      "justify_items": null,
      "left": null,
      "margin": null,
      "max_height": null,
      "max_width": null,
      "min_height": null,
      "min_width": null,
      "object_fit": null,
      "object_position": null,
      "order": null,
      "overflow": null,
      "overflow_x": null,
      "overflow_y": null,
      "padding": null,
      "right": null,
      "top": null,
      "visibility": null,
      "width": null
     }
    },
    "a8fbe695e8c2441ab10dffc7c519f5ee": {
     "model_module": "@jupyter-widgets/base",
     "model_module_version": "1.2.0",
     "model_name": "LayoutModel",
     "state": {
      "_model_module": "@jupyter-widgets/base",
      "_model_module_version": "1.2.0",
      "_model_name": "LayoutModel",
      "_view_count": null,
      "_view_module": "@jupyter-widgets/base",
      "_view_module_version": "1.2.0",
      "_view_name": "LayoutView",
      "align_content": null,
      "align_items": null,
      "align_self": null,
      "border": null,
      "bottom": null,
      "display": null,
      "flex": null,
      "flex_flow": null,
      "grid_area": null,
      "grid_auto_columns": null,
      "grid_auto_flow": null,
      "grid_auto_rows": null,
      "grid_column": null,
      "grid_gap": null,
      "grid_row": null,
      "grid_template_areas": null,
      "grid_template_columns": null,
      "grid_template_rows": null,
      "height": null,
      "justify_content": null,
      "justify_items": null,
      "left": null,
      "margin": null,
      "max_height": null,
      "max_width": null,
      "min_height": null,
      "min_width": null,
      "object_fit": null,
      "object_position": null,
      "order": null,
      "overflow": null,
      "overflow_x": null,
      "overflow_y": null,
      "padding": null,
      "right": null,
      "top": null,
      "visibility": null,
      "width": null
     }
    },
    "a93c3db626954ea1ae6f673db20d0711": {
     "model_module": "@jupyter-widgets/controls",
     "model_module_version": "1.5.0",
     "model_name": "FloatProgressModel",
     "state": {
      "_dom_classes": [],
      "_model_module": "@jupyter-widgets/controls",
      "_model_module_version": "1.5.0",
      "_model_name": "FloatProgressModel",
      "_view_count": null,
      "_view_module": "@jupyter-widgets/controls",
      "_view_module_version": "1.5.0",
      "_view_name": "ProgressView",
      "bar_style": "success",
      "description": "",
      "description_tooltip": null,
      "layout": "IPY_MODEL_a7b66b24bd0e40288194a8f133c49d54",
      "max": 570,
      "min": 0,
      "orientation": "horizontal",
      "style": "IPY_MODEL_53c6b7864e114bf09973caada1c37bb2",
      "value": 570
     }
    },
    "a99fd676d2dc42ebb51cb07640e22578": {
     "model_module": "@jupyter-widgets/base",
     "model_module_version": "1.2.0",
     "model_name": "LayoutModel",
     "state": {
      "_model_module": "@jupyter-widgets/base",
      "_model_module_version": "1.2.0",
      "_model_name": "LayoutModel",
      "_view_count": null,
      "_view_module": "@jupyter-widgets/base",
      "_view_module_version": "1.2.0",
      "_view_name": "LayoutView",
      "align_content": null,
      "align_items": null,
      "align_self": null,
      "border": null,
      "bottom": null,
      "display": null,
      "flex": null,
      "flex_flow": null,
      "grid_area": null,
      "grid_auto_columns": null,
      "grid_auto_flow": null,
      "grid_auto_rows": null,
      "grid_column": null,
      "grid_gap": null,
      "grid_row": null,
      "grid_template_areas": null,
      "grid_template_columns": null,
      "grid_template_rows": null,
      "height": null,
      "justify_content": null,
      "justify_items": null,
      "left": null,
      "margin": null,
      "max_height": null,
      "max_width": null,
      "min_height": null,
      "min_width": null,
      "object_fit": null,
      "object_position": null,
      "order": null,
      "overflow": null,
      "overflow_x": null,
      "overflow_y": null,
      "padding": null,
      "right": null,
      "top": null,
      "visibility": null,
      "width": null
     }
    },
    "a9ab511caa3a47e4a53a98775acf2f5f": {
     "model_module": "@jupyter-widgets/base",
     "model_module_version": "1.2.0",
     "model_name": "LayoutModel",
     "state": {
      "_model_module": "@jupyter-widgets/base",
      "_model_module_version": "1.2.0",
      "_model_name": "LayoutModel",
      "_view_count": null,
      "_view_module": "@jupyter-widgets/base",
      "_view_module_version": "1.2.0",
      "_view_name": "LayoutView",
      "align_content": null,
      "align_items": null,
      "align_self": null,
      "border": null,
      "bottom": null,
      "display": null,
      "flex": null,
      "flex_flow": null,
      "grid_area": null,
      "grid_auto_columns": null,
      "grid_auto_flow": null,
      "grid_auto_rows": null,
      "grid_column": null,
      "grid_gap": null,
      "grid_row": null,
      "grid_template_areas": null,
      "grid_template_columns": null,
      "grid_template_rows": null,
      "height": null,
      "justify_content": null,
      "justify_items": null,
      "left": null,
      "margin": null,
      "max_height": null,
      "max_width": null,
      "min_height": null,
      "min_width": null,
      "object_fit": null,
      "object_position": null,
      "order": null,
      "overflow": null,
      "overflow_x": null,
      "overflow_y": null,
      "padding": null,
      "right": null,
      "top": null,
      "visibility": null,
      "width": null
     }
    },
    "cc732c435dfd48209db2af27afc6d932": {
     "model_module": "@jupyter-widgets/controls",
     "model_module_version": "1.5.0",
     "model_name": "DescriptionStyleModel",
     "state": {
      "_model_module": "@jupyter-widgets/controls",
      "_model_module_version": "1.5.0",
      "_model_name": "DescriptionStyleModel",
      "_view_count": null,
      "_view_module": "@jupyter-widgets/base",
      "_view_module_version": "1.2.0",
      "_view_name": "StyleView",
      "description_width": ""
     }
    },
    "d025badd071a4bef9339ec1369e14428": {
     "model_module": "@jupyter-widgets/controls",
     "model_module_version": "1.5.0",
     "model_name": "FloatProgressModel",
     "state": {
      "_dom_classes": [],
      "_model_module": "@jupyter-widgets/controls",
      "_model_module_version": "1.5.0",
      "_model_name": "FloatProgressModel",
      "_view_count": null,
      "_view_module": "@jupyter-widgets/controls",
      "_view_module_version": "1.5.0",
      "_view_name": "ProgressView",
      "bar_style": "success",
      "description": "",
      "description_tooltip": null,
      "layout": "IPY_MODEL_a9ab511caa3a47e4a53a98775acf2f5f",
      "max": 29,
      "min": 0,
      "orientation": "horizontal",
      "style": "IPY_MODEL_ec005fdc8aaa4efb818cdcf31ee4b6d0",
      "value": 29
     }
    },
    "d839dbf62f92435fa28e90ee6b44e320": {
     "model_module": "@jupyter-widgets/controls",
     "model_module_version": "1.5.0",
     "model_name": "DescriptionStyleModel",
     "state": {
      "_model_module": "@jupyter-widgets/controls",
      "_model_module_version": "1.5.0",
      "_model_name": "DescriptionStyleModel",
      "_view_count": null,
      "_view_module": "@jupyter-widgets/base",
      "_view_module_version": "1.2.0",
      "_view_name": "StyleView",
      "description_width": ""
     }
    },
    "d9f229da09984b4d9dc31d992360e2f9": {
     "model_module": "@jupyter-widgets/controls",
     "model_module_version": "1.5.0",
     "model_name": "DescriptionStyleModel",
     "state": {
      "_model_module": "@jupyter-widgets/controls",
      "_model_module_version": "1.5.0",
      "_model_name": "DescriptionStyleModel",
      "_view_count": null,
      "_view_module": "@jupyter-widgets/base",
      "_view_module_version": "1.2.0",
      "_view_name": "StyleView",
      "description_width": ""
     }
    },
    "e4c5f001f88243559434f018526e8811": {
     "model_module": "@jupyter-widgets/controls",
     "model_module_version": "1.5.0",
     "model_name": "HTMLModel",
     "state": {
      "_dom_classes": [],
      "_model_module": "@jupyter-widgets/controls",
      "_model_module_version": "1.5.0",
      "_model_name": "HTMLModel",
      "_view_count": null,
      "_view_module": "@jupyter-widgets/controls",
      "_view_module_version": "1.5.0",
      "_view_name": "HTMLView",
      "description": "",
      "description_tooltip": null,
      "layout": "IPY_MODEL_fe951a0f395446919f9a0c3cc789d2b2",
      "placeholder": "​",
      "style": "IPY_MODEL_d839dbf62f92435fa28e90ee6b44e320",
      "value": " 570/570 [00:00&lt;00:00, 26.1kB/s]"
     }
    },
    "ec005fdc8aaa4efb818cdcf31ee4b6d0": {
     "model_module": "@jupyter-widgets/controls",
     "model_module_version": "1.5.0",
     "model_name": "ProgressStyleModel",
     "state": {
      "_model_module": "@jupyter-widgets/controls",
      "_model_module_version": "1.5.0",
      "_model_name": "ProgressStyleModel",
      "_view_count": null,
      "_view_module": "@jupyter-widgets/base",
      "_view_module_version": "1.2.0",
      "_view_name": "StyleView",
      "bar_color": null,
      "description_width": ""
     }
    },
    "eebb3d808d60484895db27ac564064f9": {
     "model_module": "@jupyter-widgets/controls",
     "model_module_version": "1.5.0",
     "model_name": "DescriptionStyleModel",
     "state": {
      "_model_module": "@jupyter-widgets/controls",
      "_model_module_version": "1.5.0",
      "_model_name": "DescriptionStyleModel",
      "_view_count": null,
      "_view_module": "@jupyter-widgets/base",
      "_view_module_version": "1.2.0",
      "_view_name": "StyleView",
      "description_width": ""
     }
    },
    "f02b23cd01de4f62bbda0b1a0142a49c": {
     "model_module": "@jupyter-widgets/base",
     "model_module_version": "1.2.0",
     "model_name": "LayoutModel",
     "state": {
      "_model_module": "@jupyter-widgets/base",
      "_model_module_version": "1.2.0",
      "_model_name": "LayoutModel",
      "_view_count": null,
      "_view_module": "@jupyter-widgets/base",
      "_view_module_version": "1.2.0",
      "_view_name": "LayoutView",
      "align_content": null,
      "align_items": null,
      "align_self": null,
      "border": null,
      "bottom": null,
      "display": null,
      "flex": null,
      "flex_flow": null,
      "grid_area": null,
      "grid_auto_columns": null,
      "grid_auto_flow": null,
      "grid_auto_rows": null,
      "grid_column": null,
      "grid_gap": null,
      "grid_row": null,
      "grid_template_areas": null,
      "grid_template_columns": null,
      "grid_template_rows": null,
      "height": null,
      "justify_content": null,
      "justify_items": null,
      "left": null,
      "margin": null,
      "max_height": null,
      "max_width": null,
      "min_height": null,
      "min_width": null,
      "object_fit": null,
      "object_position": null,
      "order": null,
      "overflow": null,
      "overflow_x": null,
      "overflow_y": null,
      "padding": null,
      "right": null,
      "top": null,
      "visibility": null,
      "width": null
     }
    },
    "fdd329d9eb034403a147603da3b40841": {
     "model_module": "@jupyter-widgets/base",
     "model_module_version": "1.2.0",
     "model_name": "LayoutModel",
     "state": {
      "_model_module": "@jupyter-widgets/base",
      "_model_module_version": "1.2.0",
      "_model_name": "LayoutModel",
      "_view_count": null,
      "_view_module": "@jupyter-widgets/base",
      "_view_module_version": "1.2.0",
      "_view_name": "LayoutView",
      "align_content": null,
      "align_items": null,
      "align_self": null,
      "border": null,
      "bottom": null,
      "display": null,
      "flex": null,
      "flex_flow": null,
      "grid_area": null,
      "grid_auto_columns": null,
      "grid_auto_flow": null,
      "grid_auto_rows": null,
      "grid_column": null,
      "grid_gap": null,
      "grid_row": null,
      "grid_template_areas": null,
      "grid_template_columns": null,
      "grid_template_rows": null,
      "height": null,
      "justify_content": null,
      "justify_items": null,
      "left": null,
      "margin": null,
      "max_height": null,
      "max_width": null,
      "min_height": null,
      "min_width": null,
      "object_fit": null,
      "object_position": null,
      "order": null,
      "overflow": null,
      "overflow_x": null,
      "overflow_y": null,
      "padding": null,
      "right": null,
      "top": null,
      "visibility": null,
      "width": null
     }
    },
    "fe951a0f395446919f9a0c3cc789d2b2": {
     "model_module": "@jupyter-widgets/base",
     "model_module_version": "1.2.0",
     "model_name": "LayoutModel",
     "state": {
      "_model_module": "@jupyter-widgets/base",
      "_model_module_version": "1.2.0",
      "_model_name": "LayoutModel",
      "_view_count": null,
      "_view_module": "@jupyter-widgets/base",
      "_view_module_version": "1.2.0",
      "_view_name": "LayoutView",
      "align_content": null,
      "align_items": null,
      "align_self": null,
      "border": null,
      "bottom": null,
      "display": null,
      "flex": null,
      "flex_flow": null,
      "grid_area": null,
      "grid_auto_columns": null,
      "grid_auto_flow": null,
      "grid_auto_rows": null,
      "grid_column": null,
      "grid_gap": null,
      "grid_row": null,
      "grid_template_areas": null,
      "grid_template_columns": null,
      "grid_template_rows": null,
      "height": null,
      "justify_content": null,
      "justify_items": null,
      "left": null,
      "margin": null,
      "max_height": null,
      "max_width": null,
      "min_height": null,
      "min_width": null,
      "object_fit": null,
      "object_position": null,
      "order": null,
      "overflow": null,
      "overflow_x": null,
      "overflow_y": null,
      "padding": null,
      "right": null,
      "top": null,
      "visibility": null,
      "width": null
     }
    }
   }
  }
 },
 "nbformat": 4,
 "nbformat_minor": 1
}
