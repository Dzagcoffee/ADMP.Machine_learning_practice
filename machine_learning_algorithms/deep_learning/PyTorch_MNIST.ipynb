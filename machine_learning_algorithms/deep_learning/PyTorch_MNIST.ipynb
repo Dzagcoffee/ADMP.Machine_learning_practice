{
 "cells": [
  {
   "cell_type": "markdown",
   "metadata": {
    "id": "yzpzIMb_Ycp2"
   },
   "source": [
    "# **Pytorch MNIST**"
   ]
  },
  {
   "cell_type": "code",
   "execution_count": null,
   "metadata": {
    "id": "KGlqrA3uPJ1G"
   },
   "outputs": [],
   "source": [
    "import pandas as pd\n",
    "import numpy as np\n",
    "import matplotlib.pyplot as plt\n",
    "\n",
    "import torch\n",
    "import torchvision.transforms as transforms\n",
    "from torch.utils.data import DataLoader\n",
    "import torch.nn as nn\n",
    "import torch.nn.functional as F\n",
    "import torch.optim as optim\n",
    "\n",
    "from sklearn.model_selection import train_test_split"
   ]
  },
  {
   "cell_type": "code",
   "execution_count": null,
   "metadata": {
    "id": "J-Kf2OIlQYv3"
   },
   "outputs": [],
   "source": [
    "data = pd.read_csv(\n",
    "    \"D://admp_northallerton/my_machine_learning/datasets/MNIST_dataset.csv\"\n",
    ")"
   ]
  },
  {
   "cell_type": "code",
   "execution_count": null,
   "metadata": {
    "id": "UC2MQoPbRMsi"
   },
   "outputs": [],
   "source": [
    "X = data.drop(columns=[\"label\"]).values\n",
    "y = data[\"label\"].values"
   ]
  },
  {
   "cell_type": "code",
   "execution_count": null,
   "metadata": {
    "id": "1hpz7wdxXMa_"
   },
   "outputs": [],
   "source": [
    "X_train, X_test, y_train, y_test = train_test_split(\n",
    "    X, y, test_size=0.3, random_state=42\n",
    ")"
   ]
  },
  {
   "cell_type": "code",
   "execution_count": null,
   "metadata": {
    "colab": {
     "base_uri": "https://localhost:8080/"
    },
    "id": "Gl6WWtWqRPjk",
    "outputId": "0569167f-1e68-41e3-c2aa-b8c966027953"
   },
   "outputs": [
    {
     "name": "stdout",
     "output_type": "stream",
     "text": [
      "X_train shape: (29400, 784)\n",
      "\n",
      "y_train shape: (29400,)\n",
      "\n",
      "X_test shape: (12600, 784)\n",
      "\n",
      "y_test shape: (12600,)\n"
     ]
    }
   ],
   "source": [
    "print(f\"X_train shape: {X_train.shape}\")\n",
    "print(f\"y_train shape: {y_train.shape}\")\n",
    "print(f\"X_test shape: {X_test.shape}\")\n",
    "print(f\"y_test shape: {y_test.shape}\")"
   ]
  },
  {
   "cell_type": "code",
   "execution_count": null,
   "metadata": {
    "id": "O85zE5iSSaD4"
   },
   "outputs": [],
   "source": [
    "class Dataset(torch.utils.data.Dataset):\n",
    "    def __init__(self, X, y, transform=None):\n",
    "        self.X = torch.tensor(X)\n",
    "        self.y = torch.tensor(y)\n",
    "\n",
    "    def __len__(self):\n",
    "        return len(self.X)\n",
    "\n",
    "    def __getitem__(self, index):\n",
    "        return self.X[index], self.y[index]"
   ]
  },
  {
   "cell_type": "code",
   "execution_count": null,
   "metadata": {
    "id": "PV6YqmwjYXx1"
   },
   "outputs": [],
   "source": [
    "epochs = 10\n",
    "batch_size = 64\n",
    "learning_rate = 0.001"
   ]
  },
  {
   "cell_type": "code",
   "execution_count": null,
   "metadata": {
    "id": "_M-pScriYOky"
   },
   "outputs": [],
   "source": [
    "train_data = Dataset(X_train, y_train)\n",
    "test_data = Dataset(X_test, y_test)"
   ]
  },
  {
   "cell_type": "code",
   "execution_count": null,
   "metadata": {
    "id": "1xexLpATYTvZ"
   },
   "outputs": [],
   "source": [
    "train_dataloader = torch.utils.data.DataLoader(train_data, batch_size=batch_size, shuffle=True, drop_last=True)\n",
    "test_dataloader = torch.utils.data.DataLoader(test_data, batch_size=batch_size, shuffle=True, drop_last=True)"
   ]
  },
  {
   "cell_type": "code",
   "execution_count": null,
   "metadata": {
    "id": "logToSLnXCKx"
   },
   "outputs": [],
   "source": [
    "class Net(nn.Module):\n",
    "    def __init__(self):\n",
    "        super().__init__()\n",
    "\n",
    "        self.layers = nn.Sequential(\n",
    "            nn.Linear(784, 128),\n",
    "            nn.ReLU(),\n",
    "            nn.Linear(128, 128),\n",
    "            nn.ReLU(),\n",
    "            nn.Linear(128, 10)\n",
    "        )\n",
    "\n",
    "    def forward(self, x):\n",
    "        x = x.type(torch.float32)\n",
    "        return self.layers(x)"
   ]
  },
  {
   "cell_type": "code",
   "execution_count": null,
   "metadata": {
    "id": "F3CQ3q9aZ_Xf"
   },
   "outputs": [],
   "source": [
    "net = Net()"
   ]
  },
  {
   "cell_type": "code",
   "execution_count": null,
   "metadata": {
    "id": "xJOvqHRraTB5"
   },
   "outputs": [],
   "source": [
    "criterion = nn.CrossEntropyLoss()\n",
    "optimizer = torch.optim.Adam(params=net.parameters(), lr=learning_rate)"
   ]
  },
  {
   "cell_type": "code",
   "execution_count": null,
   "metadata": {
    "id": "yzOt3s5fb4uz"
   },
   "outputs": [],
   "source": [
    "loaders = {\n",
    "    \"train\": train_dataloader,\n",
    "    \"test\": test_dataloader\n",
    "}"
   ]
  },
  {
   "cell_type": "code",
   "execution_count": null,
   "metadata": {
    "colab": {
     "base_uri": "https://localhost:8080/"
    },
    "id": "QQWxpQg5bGCQ",
    "outputId": "34b2a4b6-32e9-413e-d0ad-c99aa67120f9"
   },
   "outputs": [
    {
     "name": "stdout",
     "output_type": "stream",
     "text": [
      "Epoch: 1\n",
      "\n",
      "Loader: train. Accuracy: 0.8933483115468409\n",
      "\n",
      "Loader: test. Accuracy: 0.9045324427480916\n",
      "\n",
      "Epoch: 2\n",
      "\n",
      "Loader: train. Accuracy: 0.9487336601307189\n",
      "\n",
      "Loader: test. Accuracy: 0.9482108778625954\n",
      "\n",
      "Epoch: 3\n",
      "\n",
      "Loader: train. Accuracy: 0.9592184095860566\n",
      "\n",
      "Loader: test. Accuracy: 0.9573950381679389\n",
      "\n",
      "Epoch: 4\n",
      "\n",
      "Loader: train. Accuracy: 0.9675925925925926\n",
      "\n",
      "Loader: test. Accuracy: 0.9621660305343511\n",
      "\n",
      "Epoch: 5\n",
      "\n",
      "Loader: train. Accuracy: 0.9703839869281046\n",
      "\n",
      "Loader: test. Accuracy: 0.9657919847328245\n",
      "\n",
      "Epoch: 6\n",
      "\n",
      "Loader: train. Accuracy: 0.971609477124183\n",
      "\n",
      "Loader: test. Accuracy: 0.9682013358778626\n",
      "\n",
      "Epoch: 7\n",
      "\n",
      "Loader: train. Accuracy: 0.9753540305010894\n",
      "\n",
      "Loader: test. Accuracy: 0.9699427480916031\n",
      "\n",
      "Epoch: 8\n",
      "\n",
      "Loader: train. Accuracy: 0.978656045751634\n",
      "\n",
      "Loader: test. Accuracy: 0.9747375954198473\n",
      "\n",
      "Epoch: 9\n",
      "\n",
      "Loader: train. Accuracy: 0.9764773965141612\n",
      "\n",
      "Loader: test. Accuracy: 0.9732108778625954\n",
      "\n",
      "Epoch: 10\n",
      "\n",
      "Loader: train. Accuracy: 0.9784177559912854\n",
      "\n",
      "Loader: test. Accuracy: 0.9737118320610687\n"
     ]
    }
   ],
   "source": [
    "accuracy = {\"train\": [], \"test\": []}\n",
    "\n",
    "for epoch in range(epochs):\n",
    "    epoch_correct = 0\n",
    "    epoch_all = 0\n",
    "\n",
    "    for k, dataloader in loaders.items():\n",
    "        for X_batch, y_batch in dataloader:\n",
    "            if k == \"train\":\n",
    "                net.train()\n",
    "                out = net.forward(X_batch)\n",
    "                loss = criterion(out, y_batch)\n",
    "                optimizer.zero_grad()  \n",
    "                loss.backward()\n",
    "                optimizer.step()\n",
    "            else:\n",
    "                net.eval()\n",
    "\n",
    "                with torch.no_grad():  \n",
    "                    out = net.forward(X_batch)\n",
    "\n",
    "            predictions = out.argmax(-1)\n",
    "            correct = torch.tensor(y_batch[y_batch==predictions].size())\n",
    "            all = batch_size\n",
    "            epoch_correct += correct.item()\n",
    "            epoch_all += all\n",
    "\n",
    "        if k == \"train\":\n",
    "            print(f\"Epoch: {epoch+1}\")\n",
    "        print(f\"Loader: {k}. Accuracy: {epoch_correct/epoch_all}\")\n",
    "        \n",
    "        accuracy[k].append(epoch_correct/epoch_all)"
   ]
  },
  {
   "cell_type": "code",
   "execution_count": null,
   "metadata": {
    "colab": {
     "base_uri": "https://localhost:8080/",
     "height": 440
    },
    "id": "a2Sm5_BwcsBG",
    "outputId": "85b43785-7a39-40a4-9d2a-dd1d7b917c8c"
   },
   "outputs": [
    {
     "data": {
      "image/png": "[encoded data removed]",
      "text/plain": [
       "<Figure size 720x504 with 1 Axes>"
      ]
     },
     "metadata": {},
     "output_type": "display_data"
    }
   ],
   "source": [
    "plt.style.use(\"seaborn-darkgrid\")\n",
    "plt.figure(figsize=(10, 7))\n",
    "\n",
    "plt.title(\"test_data accuracy\")\n",
    "plt.plot(range(epochs), accuracy[\"test\"], linewidth=2, label=\"test_data accuracy\")\n",
    "plt.plot(range(epochs), accuracy[\"train\"], linewidth=2, label=\"train_data accuracy\")\n",
    "plt.legend(fontsize=12)\n",
    "plt.show()"
   ]
  },
  {
   "cell_type": "code",
   "execution_count": null,
   "metadata": {
    "id": "tQzQ8q-F5R_r"
   },
   "outputs": [],
   "source": [
    "test_img = X_test[1212]\n",
    "test_label = y_test[1212]\n",
    "\n",
    "test_img_tensor = torch.tensor(test_img)\n",
    "test_img_tensor = test_img_tensor.type(torch.float32)\n",
    "test_img_tensor = test_img_tensor.view(1, 784)\n",
    "\n",
    "net.eval()\n",
    "\n",
    "prediction = net.forward(test_img_tensor).argmax(-1)[0]"
   ]
  },
  {
   "cell_type": "code",
   "execution_count": null,
   "metadata": {
    "colab": {
     "base_uri": "https://localhost:8080/",
     "height": 465
    },
    "id": "hBIbeQuoABGr",
    "outputId": "3137babe-0bd6-4d3b-9804-befb31bfb749"
   },
   "outputs": [
    {
     "name": "stdout",
     "output_type": "stream",
     "text": [
      "label: 5\n",
      "\n",
      "prediction: 5\n"
     ]
    },
    {
     "data": {
      "image/png": "[encoded data removed]",
      "text/plain": [
       "<Figure size 640x480 with 1 Axes>"
      ]
     },
     "metadata": {},
     "output_type": "display_data"
    }
   ],
   "source": [
    "print(f\"label: {test_label}\")\n",
    "print(f\"prediction: {prediction}\")\n",
    "\n",
    "plt.style.use(\"default\")\n",
    "plt.gray()\n",
    "\n",
    "current_image = test_img.reshape((28, 28))\n",
    "plt.imshow(current_image)\n",
    "\n",
    "plt.show()"
   ]
  }
 ],
 "metadata": {
  "colab": {
   "provenance": []
  },
  "kernelspec": {
   "display_name": "Python 3 (ipykernel)",
   "language": "python",
   "name": "python3"
  },
  "language_info": {
   "codemirror_mode": {
    "name": "ipython",
    "version": 3
   },
   "file_extension": ".py",
   "mimetype": "text/x-python",
   "name": "python",
   "nbconvert_exporter": "python",
   "pygments_lexer": "ipython3",
   "version": "3.9.13"
  }
 },
 "nbformat": 4,
 "nbformat_minor": 1
}
