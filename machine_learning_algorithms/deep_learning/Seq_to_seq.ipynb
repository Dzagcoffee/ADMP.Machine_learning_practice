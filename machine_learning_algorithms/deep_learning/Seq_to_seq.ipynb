{
  "nbformat": 4,
  "nbformat_minor": 0,
  "metadata": {
    "colab": {
      "provenance": []
    },
    "kernelspec": {
      "name": "python3",
      "display_name": "Python 3"
    },
    "language_info": {
      "name": "python"
    },
    "accelerator": "GPU",
    "gpuClass": "standard"
  },
  "cells": [
    {
      "cell_type": "markdown",
      "source": [
        "# **Sequence to sequence**"
      ],
      "metadata": {
        "id": "yzpzIMb_Ycp2"
      }
    },
    {
      "cell_type": "code",
      "execution_count": 1,
      "metadata": {
        "id": "sC8Snp846Jf_"
      },
      "outputs": [],
      "source": [
        "import numpy as np\n",
        "import torch\n",
        "import torch.nn as nn\n",
        "from torch import optim\n",
        "import random\n",
        "import tqdm\n",
        "import sys"
      ]
    },
    {
      "cell_type": "code",
      "source": [
        "device = torch.device(\"cuda\" if torch.cuda.is_available() else \"cpu\")\n",
        "device"
      ],
      "metadata": {
        "id": "EzABZSVnTUDb",
        "colab": {
          "base_uri": "https://localhost:8080/"
        },
        "outputId": "15e51745-fc41-4acb-9101-01daffd5ad39"
      },
      "execution_count": 3,
      "outputs": [
        {
          "output_type": "execute_result",
          "data": {
            "text/plain": [
              "device(type='cuda')"
            ]
          },
          "metadata": {},
          "execution_count": 4
        }
      ]
    },
    {
      "cell_type": "code",
      "source": [
        "class Dictionary:\n",
        "    def __init__(self, dict_name):\n",
        "        self.dict_name = dict_name\n",
        "        self.word_to_idx = {\n",
        "            \"<sos>\": 0,\n",
        "            \"<eos>\": 1\n",
        "        }\n",
        "        self.idx_to_word = {\n",
        "            0: \"<sos>\",\n",
        "            1: \"<eos>\"\n",
        "        }\n",
        "        self.n_words = 2\n",
        "\n",
        "    def add_word(self, word):\n",
        "        if word not in self.word_to_idx:\n",
        "            self.word_to_idx[word] = self.n_words\n",
        "            self.idx_to_word[self.n_words] = word\n",
        "            self.n_words += 1\n",
        "\n",
        "    def add_sentence(self, sentence):\n",
        "        words = sentence.split()\n",
        "\n",
        "        for word in words:\n",
        "            self.add_word(word)\n",
        "\n",
        "    def get_len(self):\n",
        "        return self.n_words"
      ],
      "metadata": {
        "id": "YDlqNFgTdo_N"
      },
      "execution_count": 4,
      "outputs": []
    },
    {
      "cell_type": "code",
      "source": [
        "class Corpus():\n",
        "    def __init__(self, src_dict, target_dict, max_sentece_length):\n",
        "        self.src_dict = Dictionary(src_dict)\n",
        "        self.target_dict = Dictionary(target_dict)\n",
        "        self.max_sentece_length = max_sentece_length\n",
        "\n",
        "    def get_data(self, path):\n",
        "        pairs = []\n",
        "    \n",
        "        with open(path, \"r\") as file:\n",
        "            lines = file.read().strip().split(\"\\n\")\n",
        "\n",
        "            for line in lines:\n",
        "                src, target = line.split(\"; \")\n",
        "\n",
        "                src_len = len(src.split())\n",
        "                target_len = len(target.split())\n",
        "\n",
        "                if src_len <= self.max_sentece_length and target_len <= self.max_sentece_length:\n",
        "                    self.src_dict.add_sentence(src)\n",
        "                    self.target_dict.add_sentence(target)\n",
        "                    \n",
        "                    pairs.append([src, target])\n",
        "\n",
        "        return pairs, self.src_dict, self.target_dict"
      ],
      "metadata": {
        "id": "hgVVRskaDPQX"
      },
      "execution_count": 5,
      "outputs": []
    },
    {
      "cell_type": "code",
      "source": [
        "class Encoder(nn.Module):\n",
        "    def __init__(self, input_size, hidden_size, emb_size, dropout_p):\n",
        "        super(Encoder, self).__init__()\n",
        "\n",
        "        self.input_size = input_size\n",
        "        self.hidden_size = hidden_size\n",
        "        self.emb_size = emb_size\n",
        "\n",
        "        self.embedding = nn.Embedding(self.input_size, self.emb_size)\n",
        "        self.dropout = nn.Dropout(dropout_p)\n",
        "        self.GRU = nn.GRU(self.emb_size, self.hidden_size)\n",
        "\n",
        "    def forward(self, src, hidden):\n",
        "        emb_src = self.dropout(self.embedding(src))\n",
        "        out, hidden = self.GRU(emb_src, hidden)\n",
        "        \n",
        "        return out, hidden\n",
        "\n",
        "    def init_hidden(self):\n",
        "        return torch.zeros(1, self.hidden_size, device=device)"
      ],
      "metadata": {
        "id": "Dc10VfBKA8GU"
      },
      "execution_count": 6,
      "outputs": []
    },
    {
      "cell_type": "code",
      "source": [
        "class Decoder(nn.Module):\n",
        "    def __init__(self, out_size, hidden_size, emb_size, dropout_p):\n",
        "        super(Decoder, self).__init__()\n",
        "\n",
        "        self.out_size = out_size\n",
        "        self.hidden_size = hidden_size\n",
        "        self.emb_size = emb_size\n",
        "\n",
        "        self.embedding = nn.Embedding(self.out_size, self.emb_size)\n",
        "        self.GRU = nn.GRU(self.emb_size, self.hidden_size)\n",
        "        self.dropout = nn.Dropout(dropout_p)\n",
        "        self.fc_layer = nn.Linear(self.hidden_size, self.out_size)\n",
        "    \n",
        "    def forward(self, target, hidden):\n",
        "        emb_target = self.dropout(self.embedding(target))\n",
        "\n",
        "        out, hidden = self.GRU(emb_target, hidden)\n",
        "\n",
        "        prediction = self.fc_layer(out)\n",
        "\n",
        "        return prediction, hidden\n",
        "    \n",
        "    def init_hidden(self):\n",
        "        return torch.zeros(1, self.hidden_size, device=device)"
      ],
      "metadata": {
        "id": "qRAa8XwzDnF2"
      },
      "execution_count": 7,
      "outputs": []
    },
    {
      "cell_type": "code",
      "source": [
        "class Seq_to_Seq(nn.Module):\n",
        "    def __init__(self, encoder, decoder):\n",
        "        super(Seq_to_Seq, self).__init__()\n",
        "\n",
        "        self.encoder = encoder\n",
        "        self.decoder = decoder\n",
        "\n",
        "    def forward(self, src, target, teacher_forcing_ratio=0.5):\n",
        "        encoder_hidden = self.encoder.init_hidden()\n",
        "        \n",
        "        src_length = src.size(0)\n",
        "        target_length = len(target)\n",
        "\n",
        "        for ei in range(src_length):\n",
        "            _, encoder_hidden = self.encoder.forward(src[ei], encoder_hidden)\n",
        "        \n",
        "        decoder_input = target[0]\n",
        "        decoder_hidden = encoder_hidden\n",
        "        decoder_outputs = torch.zeros(target_length - 1, 1, self.decoder.out_size).to(device)\n",
        "\n",
        "        use_teacher_forcing = True if random.random() < teacher_forcing_ratio else False\n",
        "\n",
        "        for di in range(target_length - 1):\n",
        "            decoder_out, decoder_hidden = self.decoder.forward(decoder_input, decoder_hidden)\n",
        "\n",
        "            prediction = torch.tensor([decoder_out.argmax()]).to(device)\n",
        "            \n",
        "            decoder_outputs[di] = decoder_out\n",
        "\n",
        "            if use_teacher_forcing:\n",
        "                decoder_input = target[di + 1]\n",
        "            else:\n",
        "                decoder_input = prediction\n",
        "\n",
        "        return decoder_outputs.view(target_length - 1, -1)"
      ],
      "metadata": {
        "id": "AJvbGhVK9jHL"
      },
      "execution_count": 8,
      "outputs": []
    },
    {
      "cell_type": "code",
      "source": [
        "def init_weights(m):\n",
        "    for name, param in m.named_parameters():\n",
        "        nn.init.xavier_uniform_(param.data.unsqueeze_(0))"
      ],
      "metadata": {
        "id": "ltCZ7b7eT4Rr"
      },
      "execution_count": 9,
      "outputs": []
    },
    {
      "cell_type": "code",
      "source": [
        "def pair_to_tensor(pair, src_dict, target_dict):\n",
        "    src = pair[0]\n",
        "    src_indexes = [src_dict.word_to_idx[word] for word in src.split()]\n",
        "    src_tensor = torch.tensor(src_indexes, dtype=torch.long, device=device).unsqueeze(1)\n",
        "\n",
        "    target = pair[1]\n",
        "    target_indexes = [target_dict.word_to_idx[word] for word in target.split()]\n",
        "    target_tensor = torch.tensor(target_indexes, dtype=torch.long, device=device).unsqueeze(1)\n",
        "\n",
        "    return src_tensor, target_tensor"
      ],
      "metadata": {
        "id": "3W84s3vpHKlW"
      },
      "execution_count": 10,
      "outputs": []
    },
    {
      "cell_type": "code",
      "source": [
        "epochs = 15\n",
        "emb_size = 256\n",
        "hidden_size = 512\n",
        "dropout_p = 0.5\n",
        "learning_rate = 0.0007\n",
        "max_sentence_length = 10"
      ],
      "metadata": {
        "id": "37e2f8kcWZu8"
      },
      "execution_count": 11,
      "outputs": []
    },
    {
      "cell_type": "code",
      "source": [
        "corpus = Corpus(\"en\", \"de\", max_sentence_length)\n",
        "pairs, src_dict, target_dict = corpus.get_data(\"/content/sample_data/text_dataset_for_seq_2_seq.txt\")"
      ],
      "metadata": {
        "id": "Ed93I84uL1ot"
      },
      "execution_count": 12,
      "outputs": []
    },
    {
      "cell_type": "code",
      "source": [
        "pairs_count = len(pairs)\n",
        "src_dict_size = src_dict.n_words\n",
        "target_dict_size = target_dict.n_words"
      ],
      "metadata": {
        "id": "kwUDXrqGNY8u"
      },
      "execution_count": 13,
      "outputs": []
    },
    {
      "cell_type": "code",
      "source": [
        "encoder = Encoder(src_dict_size, hidden_size, emb_size, dropout_p)"
      ],
      "metadata": {
        "id": "N2HFvd1G9PrA"
      },
      "execution_count": 14,
      "outputs": []
    },
    {
      "cell_type": "code",
      "source": [
        "decoder = Decoder(target_dict_size, hidden_size, emb_size, dropout_p)"
      ],
      "metadata": {
        "id": "X6PrPF-xN6sB"
      },
      "execution_count": 15,
      "outputs": []
    },
    {
      "cell_type": "code",
      "source": [
        "seq_to_seq = Seq_to_Seq(encoder, decoder).to(device)\n",
        "seq_to_seq.apply(init_weights)"
      ],
      "metadata": {
        "id": "4kYXbrVxXvWb",
        "colab": {
          "base_uri": "https://localhost:8080/"
        },
        "outputId": "437c9ec0-4afd-4eb8-a8ec-0716f6081f2b"
      },
      "execution_count": 16,
      "outputs": [
        {
          "output_type": "execute_result",
          "data": {
            "text/plain": [
              "Seq_to_Seq(\n",
              "  (encoder): Encoder(\n",
              "    (embedding): Embedding(2971, 256)\n",
              "    (dropout): Dropout(p=0.5, inplace=False)\n",
              "    (GRU): GRU(256, 512)\n",
              "  )\n",
              "  (decoder): Decoder(\n",
              "    (embedding): Embedding(3798, 256)\n",
              "    (GRU): GRU(256, 512)\n",
              "    (dropout): Dropout(p=0.5, inplace=False)\n",
              "    (fc_layer): Linear(in_features=512, out_features=3798, bias=True)\n",
              "  )\n",
              ")"
            ]
          },
          "metadata": {},
          "execution_count": 16
        }
      ]
    },
    {
      "cell_type": "code",
      "source": [
        "optimizer = optim.Adam(seq_to_seq.parameters(), lr=learning_rate)\n",
        "criterion = nn.CrossEntropyLoss()"
      ],
      "metadata": {
        "id": "Gihkk1vhX7uU"
      },
      "execution_count": 17,
      "outputs": []
    },
    {
      "cell_type": "code",
      "source": [
        "for epoch in range(epochs):\n",
        "    epoch_loss = 0\n",
        "\n",
        "    seq_to_seq.train()\n",
        "\n",
        "    for pair in tqdm.tqdm(pairs, file=sys.stdout):\n",
        "        src, target = pair_to_tensor(pair, src_dict, target_dict)\n",
        "        optimizer.zero_grad()\n",
        "\n",
        "        out = seq_to_seq(src, target)\n",
        "        loss = criterion(out, target[1:].squeeze())\n",
        "\n",
        "        loss.backward()\n",
        "        torch.nn.utils.clip_grad_norm_(seq_to_seq.parameters(), 1)\n",
        "        optimizer.step()\n",
        "\n",
        "        epoch_loss += loss.item()\n",
        "\n",
        "    print(f\"Epoch {epoch}; loss: {epoch_loss / pairs_count}\\n\")"
      ],
      "metadata": {
        "id": "iyFys-dyWZJp",
        "colab": {
          "base_uri": "https://localhost:8080/"
        },
        "outputId": "5f66254f-35dc-4824-9e0e-a8e1f3478b2b"
      },
      "execution_count": 18,
      "outputs": [
        {
          "output_type": "stream",
          "name": "stdout",
          "text": [
            "100%|██████████| 4003/4003 [01:00<00:00, 66.02it/s]\n",
            "Epoch 0; loss: 0.5892894593358763\n",
            "\n",
            "100%|██████████| 4003/4003 [01:00<00:00, 66.11it/s]\n",
            "Epoch 1; loss: 0.5477690424992254\n",
            "\n",
            "100%|██████████| 4003/4003 [01:00<00:00, 65.87it/s]\n",
            "Epoch 2; loss: 0.5268576764707174\n",
            "\n",
            "100%|██████████| 4003/4003 [00:59<00:00, 66.85it/s]\n",
            "Epoch 3; loss: 0.5556061784171301\n",
            "\n",
            "100%|██████████| 4003/4003 [01:00<00:00, 65.98it/s]\n",
            "Epoch 4; loss: 0.545709761226676\n",
            "\n",
            "100%|██████████| 4003/4003 [01:00<00:00, 66.68it/s]\n",
            "Epoch 5; loss: 0.5100897748448198\n",
            "\n",
            "100%|██████████| 4003/4003 [01:00<00:00, 66.07it/s]\n",
            "Epoch 6; loss: 0.5042529957985228\n",
            "\n",
            "100%|██████████| 4003/4003 [01:02<00:00, 64.28it/s]\n",
            "Epoch 7; loss: 0.5077478530621783\n",
            "\n",
            "100%|██████████| 4003/4003 [01:01<00:00, 64.73it/s]\n",
            "Epoch 8; loss: 0.4985605996260746\n",
            "\n",
            "100%|██████████| 4003/4003 [01:01<00:00, 64.75it/s]\n",
            "Epoch 9; loss: 0.48033828865177725\n",
            "\n",
            "100%|██████████| 4003/4003 [01:05<00:00, 61.14it/s]\n",
            "Epoch 10; loss: 0.5056558893523613\n",
            "\n",
            "100%|██████████| 4003/4003 [01:03<00:00, 63.18it/s]\n",
            "Epoch 11; loss: 0.4638068005810301\n",
            "\n",
            "100%|██████████| 4003/4003 [01:04<00:00, 62.42it/s]\n",
            "Epoch 12; loss: 0.4602243810331537\n",
            "\n",
            "100%|██████████| 4003/4003 [01:01<00:00, 65.21it/s]\n",
            "Epoch 13; loss: 0.46024367850624953\n",
            "\n",
            "100%|██████████| 4003/4003 [01:00<00:00, 65.70it/s]\n",
            "Epoch 14; loss: 0.4785159612373389\n",
            "\n"
          ]
        }
      ]
    },
    {
      "cell_type": "code",
      "source": [
        "with torch.no_grad():\n",
        "    for i in range(5):\n",
        "        random_pair = random.choice(pairs)\n",
        "\n",
        "        src, target = pair_to_tensor(random_pair, src_dict, target_dict)\n",
        "\n",
        "        decoded_sentence = []\n",
        "\n",
        "        out = seq_to_seq.forward(src, target)\n",
        "        \n",
        "        predict = \"<sos> \" + \" \".join([target_dict.idx_to_word[idx.item()] for idx in out.argmax(dim=1)])\n",
        "\n",
        "        print(f\"source {i}:  \", random_pair[0])\n",
        "        print(f\"target {i}:  \", random_pair[1])\n",
        "        print(f\"predict {i}: \", predict)\n"
      ],
      "metadata": {
        "id": "vcyjbEtRz-kc",
        "colab": {
          "base_uri": "https://localhost:8080/"
        },
        "outputId": "191dfc9c-a0e7-4be6-9a7d-ce51bd40775d"
      },
      "execution_count": 19,
      "outputs": [
        {
          "output_type": "stream",
          "name": "stdout",
          "text": [
            "source 0:   <sos> a man making balloon and enjoy <eos>\n",
            "target 0:   <sos> ein mann blast vergnugt einen luftballon auf <eos>\n",
            "predict 0:  <sos> ein mann blast vergnugt einen luftballon auf <eos>\n",
            "\n",
            "source 1:   <sos> a woman is selling handmade hats <eos>\n",
            "target 1:   <sos> eine frau verkauft handgefertigte hute <eos>\n",
            "predict 1:  <sos> eine frau verkauft handgefertigte hute <eos>\n",
            "\n",
            "source 2:   <sos> a young girl holds a crying infant <eos>\n",
            "target 2:   <sos> ein kleines madchen halt ein weinendes baby <eos>\n",
            "predict 2:  <sos> ein junges madchen halt ein weinendes auf <eos>\n",
            "\n",
            "source 3:   <sos> a flower girl is posing in a doorway <eos>\n",
            "target 3:   <sos> ein blumenmadchen posiert in einer turoffnung <eos>\n",
            "predict 3:  <sos> ein blumenmadchen posiert in einer turoffnung <eos>\n",
            "\n",
            "source 4:   <sos> the baby is holding a santa figurine <eos>\n",
            "target 4:   <sos> das baby halt eine weihnachtsmannpuppe <eos>\n",
            "predict 4:  <sos> das junge halt eine weihnachtsmannpuppe <eos>\n",
            "\n"
          ]
        }
      ]
    }
  ]
}
