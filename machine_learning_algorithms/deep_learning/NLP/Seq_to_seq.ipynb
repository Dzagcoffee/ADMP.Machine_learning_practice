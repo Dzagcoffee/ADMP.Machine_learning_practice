{
  "nbformat": 4,
  "nbformat_minor": 0,
  "metadata": {
    "colab": {
      "provenance": []
    },
    "kernelspec": {
      "name": "python3",
      "display_name": "Python 3"
    },
    "language_info": {
      "name": "python"
    },
    "accelerator": "GPU",
    "gpuClass": "standard"
  },
  "cells": [
    {
      "cell_type": "markdown",
      "metadata": {
        "id": "yzpzIMb_Ycp2"
      },
      "source": [
        "# **Sequence to sequence**"
      ]
    },
    {
      "cell_type": "code",
      "execution_count": 1,
      "metadata": {
        "id": "sC8Snp846Jf_"
      },
      "outputs": [],
      "source": [
        "import random\n",
        "import sys\n",
        "\n",
        "import numpy as np\n",
        "import tqdm\n",
        "\n",
        "import torch\n",
        "import torch.nn as nn\n",
        "import torch.nn.functional as F\n",
        "from torch import optim\n",
        "\n",
        "import matplotlib.pyplot as plt\n",
        "import matplotlib.ticker as ticker"
      ]
    },
    {
      "cell_type": "code",
      "execution_count": 2,
      "metadata": {
        "colab": {
          "base_uri": "https://localhost:8080/"
        },
        "id": "EzABZSVnTUDb",
        "outputId": "f3629143-6c2e-49f3-f7d5-3fdff392ae21"
      },
      "outputs": [
        {
          "output_type": "execute_result",
          "data": {
            "text/plain": [
              "device(type='cuda')"
            ]
          },
          "metadata": {},
          "execution_count": 2
        }
      ],
      "source": [
        "device = torch.device(\"cuda\" if torch.cuda.is_available() else \"cpu\")\n",
        "device"
      ]
    },
    {
      "cell_type": "code",
      "execution_count": 3,
      "metadata": {
        "id": "n_-_niPa_Oys"
      },
      "outputs": [],
      "source": [
        "MAX_SENTENCE_LENGTH = 10"
      ]
    },
    {
      "cell_type": "code",
      "execution_count": 4,
      "metadata": {
        "id": "YDlqNFgTdo_N"
      },
      "outputs": [],
      "source": [
        "class Dictionary:\n",
        "    def __init__(self, dict_name):\n",
        "        self.dict_name = dict_name\n",
        "        self.word_2_idx = {\n",
        "            \"<sos>\": 0,\n",
        "            \"<eos>\": 1,\n",
        "            \"<unk>\": 2\n",
        "        }\n",
        "        self.idx_2_word = {\n",
        "            0: \"<sos>\",\n",
        "            1: \"<eos>\",\n",
        "            2: \"<unk>\"\n",
        "        }\n",
        "        self.word_2_count = {\n",
        "            \"<sos>\": 1,\n",
        "            \"<eos>\": 1,\n",
        "            \"<unk>\": 1\n",
        "        }\n",
        "        self.n_words = 3\n",
        "\n",
        "    def add_word(self, word):\n",
        "        if word not in self.word_2_idx:\n",
        "            self.word_2_idx[word] = self.n_words\n",
        "            self.idx_2_word[self.n_words] = word\n",
        "            self.n_words += 1\n",
        "            self.word_2_count[word] = 1\n",
        "        else:\n",
        "            self.word_2_count[word] += 1\n",
        "\n",
        "    def add_sentence(self, sentence):\n",
        "        words = sentence.split()\n",
        "\n",
        "        for word in words:\n",
        "            self.add_word(word)\n",
        "\n",
        "    def get_len(self):\n",
        "        return self.n_words"
      ]
    },
    {
      "cell_type": "code",
      "execution_count": 5,
      "metadata": {
        "id": "hgVVRskaDPQX"
      },
      "outputs": [],
      "source": [
        "class Corpus():\n",
        "    def __init__(self, src_dict, target_dict):\n",
        "        self.src_dict = Dictionary(src_dict)\n",
        "        self.target_dict = Dictionary(target_dict)\n",
        "\n",
        "    def get_data(self, path):\n",
        "        pairs = []\n",
        "    \n",
        "        with open(path, \"r\") as file:\n",
        "            lines = file.read().strip().split(\"\\n\")\n",
        "\n",
        "            for line in lines:\n",
        "                src, target = line.split(\"; \")\n",
        "\n",
        "                src_len = len(src.split())\n",
        "                target_len = len(target.split())\n",
        "\n",
        "                if src_len <= MAX_SENTENCE_LENGTH and target_len <= MAX_SENTENCE_LENGTH:\n",
        "                    self.src_dict.add_sentence(src)\n",
        "                    self.target_dict.add_sentence(target)\n",
        "\n",
        "                    src = \" \".join([\n",
        "                        word\n",
        "                        if self.src_dict.word_2_count[word] > 1 else \"<unk>\"\n",
        "                        for word in src.split()\n",
        "                    ])\n",
        "                    \n",
        "                    target = \" \".join([\n",
        "                        word\n",
        "                        if self.target_dict.word_2_count[word] > 1 else \"<unk>\"\n",
        "                        for word in target.split()\n",
        "                    ])\n",
        "\n",
        "                    pairs.append([src, target])\n",
        "\n",
        "        return pairs, self.src_dict, self.target_dict"
      ]
    },
    {
      "cell_type": "code",
      "execution_count": 6,
      "metadata": {
        "id": "Dc10VfBKA8GU"
      },
      "outputs": [],
      "source": [
        "class Encoder(nn.Module):\n",
        "    def __init__(self, input_size, hidden_size, emb_size, dropout_p):\n",
        "        super(Encoder, self).__init__()\n",
        "\n",
        "        self.input_size = input_size\n",
        "        self.hidden_size = hidden_size\n",
        "        self.emb_size = emb_size\n",
        "\n",
        "        self.embedding = nn.Embedding(self.input_size, self.emb_size)\n",
        "        self.dropout = nn.Dropout(dropout_p)\n",
        "        self.GRU = nn.GRU(self.emb_size, self.hidden_size)\n",
        "\n",
        "    def forward(self, input, hidden):\n",
        "        # emb_input size = [1, 1, self.emb_size]\n",
        "        emb_input = self.dropout(self.embedding(input)).view(1, 1, -1)\n",
        "\n",
        "        # out size = [1, 1, self.hidden_size], hidden size = [1, 1, self.hidden_size]\n",
        "        out, hidden = self.GRU(emb_input, hidden)\n",
        "        \n",
        "        return out, hidden\n",
        "    \n",
        "    def init_hidden(self):\n",
        "        return torch.zeros(1, 1, self.hidden_size).to(device)"
      ]
    },
    {
      "cell_type": "code",
      "execution_count": 7,
      "metadata": {
        "id": "qRAa8XwzDnF2"
      },
      "outputs": [],
      "source": [
        "class Decoder(nn.Module):\n",
        "    def __init__(self, out_size, hidden_size, emb_size, dropout_p):\n",
        "        super(Decoder, self).__init__()\n",
        "\n",
        "        self.out_size = out_size\n",
        "        self.hidden_size = hidden_size\n",
        "        self.emb_size = emb_size\n",
        "\n",
        "        self.embedding = nn.Embedding(self.out_size, self.emb_size)\n",
        "        self.dropout = nn.Dropout(dropout_p)\n",
        "        self.GRU = nn.GRU(self.emb_size, self.hidden_size)\n",
        "        self.fc_1 = nn.Linear(self.hidden_size, self.out_size)\n",
        "\n",
        "    def forward(self, input, hidden):\n",
        "        # emb_input size = [1, 1, self.emb_size]\n",
        "        emb_input = self.dropout(self.embedding(input)).view(1, 1, -1)\n",
        "\n",
        "        # out size = [1, 1, self.hidden_size], hidden size = [1, 1, self.hidden_size]\n",
        "        out, hidden = self.GRU(emb_input, hidden)\n",
        "\n",
        "        # prediction size = [1, 1, self.out_size]\n",
        "        prediction = torch.log_softmax(self.fc_1(out), dim=2)\n",
        "\n",
        "        return prediction, hidden\n",
        "        \n",
        "    def init_hidden(self):\n",
        "        return torch.zeros(1, 1, self.hidden_size).to(device)"
      ]
    },
    {
      "cell_type": "code",
      "execution_count": 8,
      "metadata": {
        "id": "AJvbGhVK9jHL"
      },
      "outputs": [],
      "source": [
        "class Seq_2_Seq(nn.Module):\n",
        "    def __init__(self, encoder, decoder):\n",
        "        super(Seq_2_Seq, self).__init__()\n",
        "\n",
        "        self.encoder = encoder\n",
        "        self.decoder = decoder\n",
        "\n",
        "    def forward(self, src, target, teacher_forcing_ratio=0.5):\n",
        "        src_length = src.size(0)\n",
        "        target_length = target.size(0)\n",
        "\n",
        "        encoder_hidden = encoder.init_hidden()\n",
        "\n",
        "        for ei in range(src_length):\n",
        "            encoder_output, encoder_hidden = encoder(src[ei], encoder_hidden)\n",
        "\n",
        "        decoder_input = target[0]\n",
        "        decoder_hidden = encoder_hidden\n",
        "\n",
        "        decoder_outputs = torch.zeros(target_length - 1, 1, self.decoder.out_size).to(device)\n",
        "\n",
        "        for di in range(target_length - 1):\n",
        "            decoder_out, decoder_hidden = self.decoder.forward(decoder_input, decoder_hidden)\n",
        "            \n",
        "            decoder_outputs[di] = decoder_out\n",
        "\n",
        "            use_teacher_forcing = random.random() < teacher_forcing_ratio\n",
        "\n",
        "            if use_teacher_forcing:\n",
        "                decoder_input = target[di + 1]\n",
        "            else:\n",
        "                prediction = torch.tensor([decoder_out.argmax()]).to(device)\n",
        "                decoder_input = prediction\n",
        "\n",
        "        return decoder_outputs.view(target_length - 1, -1)"
      ]
    },
    {
      "cell_type": "code",
      "execution_count": 9,
      "metadata": {
        "id": "ltCZ7b7eT4Rr"
      },
      "outputs": [],
      "source": [
        "def init_weights(m):\n",
        "    for name, param in m.named_parameters():\n",
        "        nn.init.xavier_uniform_(param.data.unsqueeze_(0))"
      ]
    },
    {
      "cell_type": "code",
      "execution_count": 10,
      "metadata": {
        "id": "3W84s3vpHKlW"
      },
      "outputs": [],
      "source": [
        "def pair_2_tensor(pair, src_dict, target_dict):\n",
        "    src = pair[0]\n",
        "    src_indexes = [src_dict.word_2_idx[word] for word in src.split()]\n",
        "    src_tensor = torch.tensor(src_indexes, dtype=torch.long, device=device).view(-1, 1)\n",
        "\n",
        "    target = pair[1]\n",
        "    target_indexes = [target_dict.word_2_idx[word] for word in target.split()]\n",
        "    target_tensor = torch.tensor(target_indexes, dtype=torch.long, device=device).view(-1, 1)\n",
        "\n",
        "    return src_tensor, target_tensor"
      ]
    },
    {
      "cell_type": "code",
      "execution_count": 11,
      "metadata": {
        "id": "37e2f8kcWZu8"
      },
      "outputs": [],
      "source": [
        "epochs = 7\n",
        "emb_size = 256\n",
        "hidden_size = 512\n",
        "dropout_p = 0.5\n",
        "learning_rate = 7e-5"
      ]
    },
    {
      "cell_type": "code",
      "execution_count": 12,
      "metadata": {
        "id": "Ed93I84uL1ot"
      },
      "outputs": [],
      "source": [
        "corpus = Corpus(\"en\", \"de\")\n",
        "pairs, src_dict, target_dict = corpus.get_data(\n",
        "    \"/content/sample_data/text_dataset_for_seq_2_seq.txt\"\n",
        ")"
      ]
    },
    {
      "cell_type": "code",
      "execution_count": 13,
      "metadata": {
        "id": "kwUDXrqGNY8u"
      },
      "outputs": [],
      "source": [
        "pairs_count = len(pairs)\n",
        "src_dict_size = src_dict.n_words\n",
        "target_dict_size = target_dict.n_words"
      ]
    },
    {
      "cell_type": "code",
      "execution_count": 14,
      "metadata": {
        "id": "N2HFvd1G9PrA"
      },
      "outputs": [],
      "source": [
        "encoder = Encoder(src_dict_size, hidden_size, emb_size, dropout_p).to(device)"
      ]
    },
    {
      "cell_type": "code",
      "execution_count": 15,
      "metadata": {
        "id": "X6PrPF-xN6sB"
      },
      "outputs": [],
      "source": [
        "decoder = Decoder(target_dict_size, hidden_size, emb_size, dropout_p).to(device)"
      ]
    },
    {
      "cell_type": "code",
      "execution_count": 16,
      "metadata": {
        "colab": {
          "base_uri": "https://localhost:8080/"
        },
        "id": "4kYXbrVxXvWb",
        "outputId": "0b68d548-bc92-4764-b17f-07a57d3c328e"
      },
      "outputs": [
        {
          "output_type": "execute_result",
          "data": {
            "text/plain": [
              "Seq_2_Seq(\n",
              "  (encoder): Encoder(\n",
              "    (embedding): Embedding(2972, 256)\n",
              "    (dropout): Dropout(p=0.5, inplace=False)\n",
              "    (GRU): GRU(256, 512)\n",
              "  )\n",
              "  (decoder): Decoder(\n",
              "    (embedding): Embedding(3799, 256)\n",
              "    (dropout): Dropout(p=0.5, inplace=False)\n",
              "    (GRU): GRU(256, 512)\n",
              "    (fc_1): Linear(in_features=512, out_features=3799, bias=True)\n",
              "  )\n",
              ")"
            ]
          },
          "metadata": {},
          "execution_count": 16
        }
      ],
      "source": [
        "seq_2_seq = Seq_2_Seq(encoder, decoder).to(device)\n",
        "seq_2_seq.apply(init_weights)"
      ]
    },
    {
      "cell_type": "code",
      "execution_count": 17,
      "metadata": {
        "id": "Gihkk1vhX7uU"
      },
      "outputs": [],
      "source": [
        "optimizer = optim.Adam(seq_2_seq.parameters(), lr=learning_rate)\n",
        "criterion = nn.CrossEntropyLoss()"
      ]
    },
    {
      "cell_type": "code",
      "execution_count": 18,
      "metadata": {
        "colab": {
          "base_uri": "https://localhost:8080/"
        },
        "id": "iyFys-dyWZJp",
        "outputId": "10d70d57-8f4b-4004-9fa2-517df16b1a74"
      },
      "outputs": [
        {
          "output_type": "stream",
          "name": "stdout",
          "text": [
            "100%|██████████| 4003/4003 [01:07<00:00, 59.58it/s]\n",
            "Epoch 0; loss: 0.9961017623387373\n",
            "\n",
            "100%|██████████| 4003/4003 [01:07<00:00, 59.65it/s]\n",
            "Epoch 1; loss: 0.7135505962004839\n",
            "\n",
            "100%|██████████| 4003/4003 [01:07<00:00, 59.26it/s]\n",
            "Epoch 2; loss: 0.5835310007090597\n",
            "\n",
            "100%|██████████| 4003/4003 [01:06<00:00, 60.49it/s]\n",
            "Epoch 3; loss: 0.49330301802670234\n",
            "\n",
            "100%|██████████| 4003/4003 [01:07<00:00, 59.64it/s]\n",
            "Epoch 4; loss: 0.4533368889526269\n",
            "\n",
            "100%|██████████| 4003/4003 [01:06<00:00, 60.10it/s]\n",
            "Epoch 5; loss: 0.37534164499790146\n",
            "\n",
            "100%|██████████| 4003/4003 [01:06<00:00, 60.39it/s]\n",
            "Epoch 6; loss: 0.34541120628843536\n",
            "\n"
          ]
        }
      ],
      "source": [
        "for epoch in range(epochs):\n",
        "    epoch_loss = 0\n",
        "\n",
        "    seq_2_seq.train()\n",
        "\n",
        "    for pair in tqdm.tqdm(pairs, file=sys.stdout):\n",
        "        # src_size = [src_len, 1], target_size = [target_len, 1]\n",
        "        src, target = pair_2_tensor(pair, src_dict, target_dict)\n",
        "        \n",
        "        optimizer.zero_grad()\n",
        "\n",
        "        out = seq_2_seq(src, target)\n",
        "        loss = criterion(out, target[1:].view(-1))\n",
        "\n",
        "        loss.backward()\n",
        "        torch.nn.utils.clip_grad_norm_(seq_2_seq.parameters(), 1)\n",
        "        optimizer.step()\n",
        "\n",
        "        epoch_loss += loss.item()\n",
        "\n",
        "    print(f\"Epoch {epoch}; loss: {epoch_loss / pairs_count}\\n\")"
      ]
    },
    {
      "cell_type": "code",
      "execution_count": 19,
      "metadata": {
        "colab": {
          "base_uri": "https://localhost:8080/"
        },
        "id": "vcyjbEtRz-kc",
        "outputId": "fd0cbe07-fc3e-4f18-d9d5-112637d50222"
      },
      "outputs": [
        {
          "output_type": "stream",
          "name": "stdout",
          "text": [
            "source:   <sos> a dog is running through tall grass <eos>\n",
            "target:   <sos> ein hund rennt durch hohes gras <eos>\n",
            "predict:  <sos> ein hund rennt durch das rasen <eos> \n",
            "\n"
          ]
        }
      ],
      "source": [
        "with torch.no_grad():\n",
        "    seq_2_seq.eval()\n",
        "\n",
        "    random_pair = random.choice(pairs)\n",
        "\n",
        "    src, target = pair_2_tensor(random_pair, src_dict, target_dict)\n",
        "\n",
        "    # teacher_forcing_ratio = 0 when \"eval\" is on!\n",
        "    out = seq_2_seq.forward(src, target, teacher_forcing_ratio=0)\n",
        "    \n",
        "    predict = \" \".join([\n",
        "        target_dict.idx_2_word[idx.item()]\n",
        "        for idx in out.argmax(dim=1)\n",
        "    ])\n",
        "\n",
        "    print(f\"source:  \", random_pair[0])\n",
        "    print(f\"target:  \", random_pair[1])\n",
        "    print(f\"predict: \", \"<sos> \" + predict, \"\\n\")"
      ]
    }
  ]
}