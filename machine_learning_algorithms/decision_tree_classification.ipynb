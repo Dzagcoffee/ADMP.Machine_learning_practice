{
 "cells": [
  {
   "cell_type": "markdown",
   "metadata": {
    "id": "WJ5PRVCTQsLe",
    "tags": []
   },
   "source": [
    "# **<center><font color='#DC8665' font-weight = 'bold'>Decision tree classification</font></center>**"
   ]
  },
  {
   "cell_type": "markdown",
   "metadata": {
    "id": "z4wSeAQaPz0E"
   },
   "source": [
    "## **library import**"
   ]
  },
  {
   "cell_type": "code",
   "execution_count": 1,
   "metadata": {
    "id": "f06YoyjJPkMB"
   },
   "outputs": [],
   "source": [
    "import numpy as np\n",
    "import pandas as pd\n",
    "import matplotlib.pyplot as plt\n",
    "from scipy.spatial import ConvexHull\n",
    "from sklearn.model_selection import train_test_split\n",
    "from sklearn.metrics import accuracy_score"
   ]
  },
  {
   "cell_type": "markdown",
   "metadata": {
    "id": "JHi3oCuDP5A0",
    "tags": []
   },
   "source": [
    "## **class Node**"
   ]
  },
  {
   "cell_type": "code",
   "execution_count": 2,
   "metadata": {
    "id": "901mUOkhP4ax"
   },
   "outputs": [],
   "source": [
    "class Node():\n",
    "    def __init__(self, split_feature_index = None, split_treshhold = None, left_subtree = None,\n",
    "                 right_subtree = None, node_information_gain = None, leaf_node_value = None):\n",
    "        '''This class is simply a collection of data that the top of the decision tree should store.'''\n",
    "\n",
    "        # Для внутренних вершин, содержащих предикат\n",
    "        self.split_feature_index = split_feature_index\n",
    "        self.split_treshhold = split_treshhold\n",
    "        self.left_subtree = left_subtree\n",
    "        self.right_subtree = right_subtree\n",
    "        self.node_information_gain = node_information_gain\n",
    "\n",
    "        # Для листовых вершин, содержащих лишь значение\n",
    "        self.leaf_node_value = leaf_node_value"
   ]
  },
  {
   "cell_type": "markdown",
   "metadata": {
    "id": "JHi3oCuDP5A0",
    "tags": []
   },
   "source": [
    "## **class Decision_tree_classifier**"
   ]
  },
  {
   "cell_type": "code",
   "execution_count": 3,
   "metadata": {
    "id": "Bi9SrOXU6YGs"
   },
   "outputs": [],
   "source": [
    "class Decision_tree_classifier():\n",
    "    def __init__(self, node_min_samples_quant = 2, max_depth = 2):\n",
    "        '''This is the model class for decision tree classification'''\n",
    "\n",
    "        self._node_min_samples_quant = node_min_samples_quant\n",
    "        self._max_depth = max_depth\n",
    "\n",
    "        self._root = None\n",
    "    \n",
    "    def fit(self, X, Y):\n",
    "        '''This function we need for training the model on the training set'''\n",
    "\n",
    "        dataset = np.concatenate((X, Y), axis = 1, dtype = object)\n",
    "        self._root = self._build_tree(dataset)\n",
    "    \n",
    "    def _build_tree(self, dataset, current_depth = 0):\n",
    "        '''This function we need for building а decision tree'''\n",
    "        X = dataset[:, :-1]\n",
    "        Y = dataset[:, -1]\n",
    "        \n",
    "        dataset_rows_quant, dataset_features_quant = X.shape\n",
    "\n",
    "        if dataset_rows_quant >= self._node_min_samples_quant and current_depth <= self._max_depth:\n",
    "            best_split_values = self._get_best_split(dataset, dataset_features_quant)\n",
    "\n",
    "            if best_split_values[\"node_information_gain\"] > 0:\n",
    "                left_subtree = self._build_tree(best_split_values[\"dataset_left_split\"], current_depth + 1)\n",
    "                right_subtree = self._build_tree(best_split_values[\"dataset_right_split\"], current_depth + 1)\n",
    "\n",
    "                return Node(best_split_values[\"split_feature_index\"], best_split_values[\"split_treshhold\"],\n",
    "                            left_subtree, right_subtree, best_split_values[\"node_information_gain\"])\n",
    "        \n",
    "        leaf_node_value = self._calculate_leaf_node_value(Y)\n",
    "\n",
    "        return Node(leaf_node_value = leaf_node_value)\n",
    "\n",
    "    def _get_best_split(self, dataset, dataset_features_quant):\n",
    "        '''This function finds and makes the best split'''\n",
    "\n",
    "        max_information_gain = -float(\"inf\")\n",
    "        best_split_values = {}\n",
    "\n",
    "        for current_split_feature_idx in range(dataset_features_quant):\n",
    "            possible_treshholds = np.unique(dataset[:, current_split_feature_idx])\n",
    "\n",
    "            for current_split_treshhold in possible_treshholds:\n",
    "                dataset_left_split, dataset_right_split = self._make_split(dataset, current_split_feature_idx,\n",
    "                                                                           current_split_treshhold)\n",
    "\n",
    "                if len(dataset_left_split) > 0 and len(dataset_right_split) > 0:\n",
    "                    dataset_targets = dataset[:, -1]\n",
    "                    dataset_left_split_targets = dataset_left_split[:, -1]\n",
    "                    dataset_right_split_targets = dataset_right_split[:, -1]\n",
    "\n",
    "                    current_information_gain = self._calculate_information_gain(dataset_targets,\n",
    "                                                                                dataset_left_split_targets,\n",
    "                                                                                dataset_right_split_targets)\n",
    "\n",
    "                    if current_information_gain > max_information_gain:\n",
    "                        best_split_values[\"split_feature_index\"] = current_split_feature_idx\n",
    "                        best_split_values[\"split_treshhold\"] = current_split_treshhold\n",
    "                        best_split_values[\"dataset_left_split\"] = dataset_left_split\n",
    "                        best_split_values[\"dataset_right_split\"] = dataset_right_split\n",
    "                        best_split_values[\"node_information_gain\"] = current_information_gain\n",
    "                        max_information_gain = current_information_gain\n",
    "        \n",
    "        return best_split_values\n",
    "\n",
    "    def _make_split(self, dataset, dataset_split_feature_index, dataset_split_treshhold):\n",
    "        '''This function produces the best sample split'''\n",
    "        dataset_left_split = np.array([row for row in dataset if row[dataset_split_feature_index] <= dataset_split_treshhold])\n",
    "        dataset_right_split = np.array([row for row in dataset if row[dataset_split_feature_index] > dataset_split_treshhold])\n",
    "\n",
    "        return dataset_left_split, dataset_right_split\n",
    "    \n",
    "    def _calculate_information_gain(self, dataset_targets, dataset_left_split_targets, dataset_right_split_targets):\n",
    "        '''This function calculates the difference between the impurity of the parent\n",
    "        node and the sum of the impurity of the child nodes'''\n",
    "\n",
    "        card_dataset_left_split_targets = len(dataset_left_split_targets)\n",
    "        card_dataset_right_split_targets = len(dataset_right_split_targets)\n",
    "        card_dataset_targets = len(dataset_targets)\n",
    "\n",
    "        dataset_left_split_targets_entropy = self._calculate_entropy(dataset_left_split_targets)\n",
    "        dataset_right_split_targets_entropy = self._calculate_entropy(dataset_right_split_targets)\n",
    "        dataset_targets_entropy = self._calculate_entropy(dataset_targets)\n",
    "\n",
    "        dataset_impurity = card_dataset_targets * dataset_targets_entropy\n",
    "        split_impurity = card_dataset_left_split_targets * dataset_left_split_targets_entropy + \\\n",
    "                         card_dataset_right_split_targets * dataset_right_split_targets_entropy\n",
    "\n",
    "        information_gain = dataset_impurity - split_impurity\n",
    "\n",
    "        return information_gain\n",
    "    \n",
    "    def _calculate_entropy(self, data):\n",
    "        '''This function calculates the entropy of the data to calculate the impurity'''\n",
    "\n",
    "        data_classes = np.unique(data)\n",
    "        data_entropy = 0\n",
    "\n",
    "        for current_class in data_classes:\n",
    "            current_class_objects_quant = len(data[data == current_class])\n",
    "            p_current_class = current_class_objects_quant / len(data)\n",
    "            data_entropy += -p_current_class * np.log2(p_current_class)\n",
    "\n",
    "        return data_entropy\n",
    "\n",
    "    def _calculate_leaf_node_value(self, dataset_targets):\n",
    "        '''This function calculates the value that will be contained in the node if it is a leaf'''\n",
    "\n",
    "        dataset_targets = list(dataset_targets)\n",
    "\n",
    "        return max(dataset_targets, key = dataset_targets.count)\n",
    "\n",
    "    def predict(self, data):\n",
    "        '''This function predicts the values ​​(class labels) for the sample that was passed as an argument'''\n",
    "\n",
    "        predictions = np.array([self._make_prediction(data_sample, self._root) for data_sample in data])\n",
    "\n",
    "        return predictions\n",
    "\n",
    "    def _make_prediction(self, sample, current_node):\n",
    "        '''This function predicts a value (class label) for a particular sample object'''\n",
    "\n",
    "        if current_node.leaf_node_value != None:\n",
    "            return current_node.leaf_node_value\n",
    "        else:\n",
    "            feature_value = sample[current_node.split_feature_index]\n",
    "\n",
    "            if feature_value <= current_node.split_treshhold:\n",
    "                return self._make_prediction(sample, current_node.left_subtree)\n",
    "            else:\n",
    "                return self._make_prediction(sample, current_node.right_subtree)"
   ]
  },
  {
   "cell_type": "markdown",
   "metadata": {
    "id": "FK-N5bM64JQp",
    "tags": []
   },
   "source": [
    "## **initialize input data**"
   ]
  },
  {
   "cell_type": "code",
   "execution_count": 4,
   "metadata": {
    "colab": {
     "base_uri": "https://localhost:8080/",
     "height": 424
    },
    "id": "209Gd39r4Of7",
    "outputId": "e36331c0-eb0d-4a42-85df-ba6eefe20902"
   },
   "outputs": [
    {
     "data": {
      "text/html": [
       "<div>\n",
       "<style scoped>\n",
       "    .dataframe tbody tr th:only-of-type {\n",
       "        vertical-align: middle;\n",
       "    }\n",
       "\n",
       "    .dataframe tbody tr th {\n",
       "        vertical-align: top;\n",
       "    }\n",
       "\n",
       "    .dataframe thead th {\n",
       "        text-align: right;\n",
       "    }\n",
       "</style>\n",
       "<table border=\"1\" class=\"dataframe\">\n",
       "  <thead>\n",
       "    <tr style=\"text-align: right;\">\n",
       "      <th></th>\n",
       "      <th>x_1</th>\n",
       "      <th>x_2</th>\n",
       "      <th>y</th>\n",
       "    </tr>\n",
       "  </thead>\n",
       "  <tbody>\n",
       "    <tr>\n",
       "      <th>0</th>\n",
       "      <td>2.523520</td>\n",
       "      <td>0.940873</td>\n",
       "      <td>1</td>\n",
       "    </tr>\n",
       "    <tr>\n",
       "      <th>1</th>\n",
       "      <td>9.018654</td>\n",
       "      <td>7.243306</td>\n",
       "      <td>2</td>\n",
       "    </tr>\n",
       "    <tr>\n",
       "      <th>2</th>\n",
       "      <td>8.852692</td>\n",
       "      <td>7.414476</td>\n",
       "      <td>2</td>\n",
       "    </tr>\n",
       "    <tr>\n",
       "      <th>3</th>\n",
       "      <td>2.846260</td>\n",
       "      <td>3.127090</td>\n",
       "      <td>1</td>\n",
       "    </tr>\n",
       "    <tr>\n",
       "      <th>4</th>\n",
       "      <td>7.774537</td>\n",
       "      <td>3.966554</td>\n",
       "      <td>2</td>\n",
       "    </tr>\n",
       "    <tr>\n",
       "      <th>...</th>\n",
       "      <td>...</td>\n",
       "      <td>...</td>\n",
       "      <td>...</td>\n",
       "    </tr>\n",
       "    <tr>\n",
       "      <th>437</th>\n",
       "      <td>6.576789</td>\n",
       "      <td>0.455548</td>\n",
       "      <td>1</td>\n",
       "    </tr>\n",
       "    <tr>\n",
       "      <th>438</th>\n",
       "      <td>3.613587</td>\n",
       "      <td>9.932009</td>\n",
       "      <td>0</td>\n",
       "    </tr>\n",
       "    <tr>\n",
       "      <th>439</th>\n",
       "      <td>1.818167</td>\n",
       "      <td>7.919254</td>\n",
       "      <td>0</td>\n",
       "    </tr>\n",
       "    <tr>\n",
       "      <th>440</th>\n",
       "      <td>2.830775</td>\n",
       "      <td>1.820310</td>\n",
       "      <td>1</td>\n",
       "    </tr>\n",
       "    <tr>\n",
       "      <th>441</th>\n",
       "      <td>0.408320</td>\n",
       "      <td>8.823597</td>\n",
       "      <td>0</td>\n",
       "    </tr>\n",
       "  </tbody>\n",
       "</table>\n",
       "<p>442 rows × 3 columns</p>\n",
       "</div>"
      ],
      "text/plain": [
       "          x_1       x_2  y\n",
       "0    2.523520  0.940873  1\n",
       "1    9.018654  7.243306  2\n",
       "2    8.852692  7.414476  2\n",
       "3    2.846260  3.127090  1\n",
       "4    7.774537  3.966554  2\n",
       "..        ...       ... ..\n",
       "437  6.576789  0.455548  1\n",
       "438  3.613587  9.932009  0\n",
       "439  1.818167  7.919254  0\n",
       "440  2.830775  1.820310  1\n",
       "441  0.408320  8.823597  0\n",
       "\n",
       "[442 rows x 3 columns]"
      ]
     },
     "execution_count": 4,
     "metadata": {},
     "output_type": "execute_result"
    }
   ],
   "source": [
    "df = pd.read_csv(\"D://ADMP_Anastasia/machine_learning/datasets/dataset_for_decision_tree_classification.csv\")\n",
    "df"
   ]
  },
  {
   "cell_type": "code",
   "execution_count": 5,
   "metadata": {
    "id": "5HmQI1Dl_Tlv"
   },
   "outputs": [],
   "source": [
    "X = df.iloc[:, :-1].values\n",
    "Y = df.iloc[:, -1].values.reshape(-1,1)"
   ]
  },
  {
   "cell_type": "code",
   "execution_count": 6,
   "metadata": {
    "id": "Rl6R94FtBuCe"
   },
   "outputs": [],
   "source": [
    "X_train, X_test, Y_train, Y_test = train_test_split(X, Y, test_size = 1/3, random_state = 42)\n",
    "\n",
    "X_test_len = len(X_test)\n",
    "Y_test_len = len(Y_test)"
   ]
  },
  {
   "cell_type": "markdown",
   "metadata": {
    "id": "m_-hGW_QBHKu",
    "tags": []
   },
   "source": [
    "## **сreating and training decision tree classifier model on our dataset**"
   ]
  },
  {
   "cell_type": "code",
   "execution_count": 7,
   "metadata": {
    "id": "1nvzjHkkBG9G"
   },
   "outputs": [],
   "source": [
    "model = Decision_tree_classifier(node_min_samples_quant=4, max_depth=4)\n",
    "model.fit(X_train, Y_train)"
   ]
  },
  {
   "cell_type": "markdown",
   "metadata": {
    "id": "o0jyTTwuFM6_"
   },
   "source": [
    "## **making predictions**"
   ]
  },
  {
   "cell_type": "code",
   "execution_count": 8,
   "metadata": {
    "id": "XPu9csXLFMou"
   },
   "outputs": [],
   "source": [
    "Y_pred = model.predict(X_test)\n",
    "Y_pred = Y_pred.reshape(-1, 1)\n",
    "Y_pred_len = len(Y_pred)"
   ]
  },
  {
   "cell_type": "markdown",
   "metadata": {
    "id": "4gG6pqAlErnH"
   },
   "source": [
    "## **displaying a graph with a test sample, true targets and model predictions**"
   ]
  },
  {
   "cell_type": "code",
   "execution_count": 9,
   "metadata": {
    "colab": {
     "base_uri": "https://localhost:8080/",
     "height": 825
    },
    "id": "J1v5KOalZ2zK",
    "outputId": "56eac976-3f55-4d76-fb45-69c39807e192"
   },
   "outputs": [
    {
     "data": {
      "image/png": "[encoded data removed]",
      "text/plain": [
       "<Figure size 1008x1008 with 3 Axes>"
      ]
     },
     "metadata": {
      "needs_background": "light"
     },
     "output_type": "display_data"
    }
   ],
   "source": [
    "test_class_0_graph_x_1_values = []\n",
    "test_class_0_graph_x_2_values = []\n",
    "\n",
    "test_class_1_graph_x_1_values = []\n",
    "test_class_1_graph_x_2_values = []\n",
    "\n",
    "test_class_2_graph_x_1_values = []\n",
    "test_class_2_graph_x_2_values = []\n",
    "\n",
    "for i in range(Y_test_len):\n",
    "    if Y_test[i] == 0:\n",
    "        test_class_0_graph_x_1_values.append(X_test[i][0])\n",
    "        test_class_0_graph_x_2_values.append(X_test[i][1])\n",
    "        continue\n",
    "    if Y_test[i] == 1:\n",
    "        test_class_1_graph_x_1_values.append(X_test[i][0])\n",
    "        test_class_1_graph_x_2_values.append(X_test[i][1])\n",
    "        continue\n",
    "    if Y_test[i] == 2:\n",
    "        test_class_2_graph_x_1_values.append(X_test[i][0])\n",
    "        test_class_2_graph_x_2_values.append(X_test[i][1])\n",
    "\n",
    "pred_class_0_graph_x_1_values = []\n",
    "pred_class_0_graph_x_2_values = []\n",
    "\n",
    "pred_class_1_graph_x_1_values = []\n",
    "pred_class_1_graph_x_2_values = []\n",
    "\n",
    "pred_class_2_graph_x_1_values = []\n",
    "pred_class_2_graph_x_2_values = []\n",
    "\n",
    "for i in range(Y_pred_len):\n",
    "    if Y_pred[i] == 0:\n",
    "        pred_class_0_graph_x_1_values.append(X_test[i][0])\n",
    "        pred_class_0_graph_x_2_values.append(X_test[i][1])\n",
    "        continue\n",
    "    if Y_test[i] == 1:\n",
    "        pred_class_1_graph_x_1_values.append(X_test[i][0])\n",
    "        pred_class_1_graph_x_2_values.append(X_test[i][1])\n",
    "        continue\n",
    "    if Y_test[i] == 2:\n",
    "        pred_class_2_graph_x_1_values.append(X_test[i][0])\n",
    "        pred_class_2_graph_x_2_values.append(X_test[i][1])\n",
    "\n",
    "figure = plt.figure()\n",
    "\n",
    "ax_1 = plt.subplot(221)\n",
    "ax_2 = plt.subplot(222)\n",
    "ax_3 = plt.subplot(212)\n",
    "\n",
    "figure.set_figwidth(14)\n",
    "figure.set_figheight(14)\n",
    "\n",
    "ax_1.set_title('Тестовая выборка')\n",
    "ax_1.scatter(test_class_0_graph_x_1_values, test_class_0_graph_x_2_values, color = \"tomato\",\n",
    "           edgecolors='maroon', label = \"Класс 0 тестовой выборки\")\n",
    "ax_1.scatter(test_class_1_graph_x_1_values, test_class_1_graph_x_2_values, color = \"forestgreen\",\n",
    "           edgecolors='darkgreen', label = \"Класс 1 тестовой выборки\")\n",
    "ax_1.scatter(test_class_2_graph_x_1_values, test_class_2_graph_x_2_values, color = \"royalblue\",\n",
    "           edgecolors='navy', label = \"Класс 2 тестовой выборки\")\n",
    "\n",
    "ax_1.legend(loc = 'upper right')\n",
    "\n",
    "ax_2.set_title('Предсказания модели')\n",
    "ax_2.scatter(pred_class_0_graph_x_1_values, pred_class_0_graph_x_2_values, color = \"tomato\",\n",
    "           edgecolors='maroon', label = \"Класс 0, предсказаный моделью\")\n",
    "ax_2.scatter(pred_class_1_graph_x_1_values, pred_class_1_graph_x_2_values, color = \"forestgreen\",\n",
    "           edgecolors='darkgreen', label = \"Класс 1, предсказаный моделью\")\n",
    "ax_2.scatter(pred_class_2_graph_x_1_values, pred_class_2_graph_x_2_values, color = \"royalblue\",\n",
    "           edgecolors='navy', label = \"Класс 2, предсказаный моделью\")\n",
    "\n",
    "ax_2.legend(loc = 'upper right')\n",
    "\n",
    "ax_3.set_title('Тестовая выборка и предсказания модели')\n",
    "ax_3.scatter(test_class_0_graph_x_1_values, test_class_0_graph_x_2_values, color = \"tomato\",\n",
    "           edgecolors='maroon', label = \"Класс 0 тестовой выборки\")\n",
    "ax_3.scatter(test_class_1_graph_x_1_values, test_class_1_graph_x_2_values, color = \"forestgreen\",\n",
    "           edgecolors='darkgreen', label = \"Класс 1 тестовой выборки\")\n",
    "ax_3.scatter(test_class_2_graph_x_1_values, test_class_2_graph_x_2_values, color = \"royalblue\",\n",
    "           edgecolors='navy', label = \"Класс 2 тестовой выборки\")\n",
    "\n",
    "pred_class_0_graph_x_1_x_2_values = np.c_[pred_class_0_graph_x_1_values, pred_class_0_graph_x_2_values]\n",
    "pred_class_1_graph_x_1_x_2_values = np.c_[pred_class_1_graph_x_1_values, pred_class_1_graph_x_2_values]\n",
    "pred_class_2_graph_x_1_x_2_values = np.c_[pred_class_2_graph_x_1_values, pred_class_2_graph_x_2_values]\n",
    "\n",
    "pred_class_0_hull = ConvexHull(pred_class_0_graph_x_1_x_2_values)\n",
    "pred_class_1_hull = ConvexHull(pred_class_1_graph_x_1_x_2_values)\n",
    "pred_class_2_hull = ConvexHull(pred_class_2_graph_x_1_x_2_values)\n",
    "pred_class_0_polygon = plt.Polygon(pred_class_0_graph_x_1_x_2_values[pred_class_0_hull.vertices,:],\n",
    "                                   ec = \"maroon\", fc = \"tomato\", alpha=0.2, label = \"Класс 0, предсказаный моделью\")\n",
    "pred_class_1_polygon = plt.Polygon(pred_class_1_graph_x_1_x_2_values[pred_class_1_hull.vertices,:],\n",
    "                                   ec = \"darkgreen\", fc = \"forestgreen\", alpha=0.2, label = \"Класс 1, предсказаный моделью\")\n",
    "pred_class_2_polygon = plt.Polygon(pred_class_2_graph_x_1_x_2_values[pred_class_2_hull.vertices,:],\n",
    "                                   ec = \"navy\", fc = \"royalblue\", alpha=0.2, label = \"Класс 2, предсказаный моделью\")\n",
    "\n",
    "ax_3.add_patch(pred_class_0_polygon)\n",
    "ax_3.add_patch(pred_class_1_polygon)\n",
    "ax_3.add_patch(pred_class_2_polygon)\n",
    "\n",
    "ax_3.legend(loc = 'upper right')\n",
    "\n",
    "plt.show()"
   ]
  },
  {
   "cell_type": "markdown",
   "metadata": {
    "id": "H9AdVVR5soXB"
   },
   "source": [
    "## **displaying accuracy score of our predictions**"
   ]
  },
  {
   "cell_type": "code",
   "execution_count": 10,
   "metadata": {
    "colab": {
     "base_uri": "https://localhost:8080/"
    },
    "id": "orcAneXTs1dK",
    "outputId": "588df3b2-0dc9-4200-9eda-6a473af3ac16"
   },
   "outputs": [
    {
     "data": {
      "text/plain": [
       "0.9662162162162162"
      ]
     },
     "execution_count": 10,
     "metadata": {},
     "output_type": "execute_result"
    }
   ],
   "source": [
    "accuracy_score_value = accuracy_score(Y_test, Y_pred)\n",
    "accuracy_score_value"
   ]
  },
  {
   "cell_type": "markdown",
   "metadata": {
    "id": "LWFUurp7T8jS"
   },
   "source": [
    "## **displaying a table with test data and targets**"
   ]
  },
  {
   "cell_type": "code",
   "execution_count": 11,
   "metadata": {
    "colab": {
     "base_uri": "https://localhost:8080/",
     "height": 424
    },
    "id": "mxlYReEYUIXC",
    "outputId": "ff01d19b-daaf-4886-8982-a034c24771fc"
   },
   "outputs": [
    {
     "data": {
      "text/html": [
       "<div>\n",
       "<style scoped>\n",
       "    .dataframe tbody tr th:only-of-type {\n",
       "        vertical-align: middle;\n",
       "    }\n",
       "\n",
       "    .dataframe tbody tr th {\n",
       "        vertical-align: top;\n",
       "    }\n",
       "\n",
       "    .dataframe thead th {\n",
       "        text-align: right;\n",
       "    }\n",
       "</style>\n",
       "<table border=\"1\" class=\"dataframe\">\n",
       "  <thead>\n",
       "    <tr style=\"text-align: right;\">\n",
       "      <th></th>\n",
       "      <th>x_1</th>\n",
       "      <th>x_2</th>\n",
       "      <th>y</th>\n",
       "    </tr>\n",
       "  </thead>\n",
       "  <tbody>\n",
       "    <tr>\n",
       "      <th>0</th>\n",
       "      <td>1.881904</td>\n",
       "      <td>5.564231</td>\n",
       "      <td>0</td>\n",
       "    </tr>\n",
       "    <tr>\n",
       "      <th>1</th>\n",
       "      <td>1.251147</td>\n",
       "      <td>4.434491</td>\n",
       "      <td>1</td>\n",
       "    </tr>\n",
       "    <tr>\n",
       "      <th>2</th>\n",
       "      <td>9.515421</td>\n",
       "      <td>7.91045</td>\n",
       "      <td>2</td>\n",
       "    </tr>\n",
       "    <tr>\n",
       "      <th>3</th>\n",
       "      <td>6.263766</td>\n",
       "      <td>9.677166</td>\n",
       "      <td>2</td>\n",
       "    </tr>\n",
       "    <tr>\n",
       "      <th>4</th>\n",
       "      <td>5.650935</td>\n",
       "      <td>7.290459</td>\n",
       "      <td>2</td>\n",
       "    </tr>\n",
       "    <tr>\n",
       "      <th>...</th>\n",
       "      <td>...</td>\n",
       "      <td>...</td>\n",
       "      <td>...</td>\n",
       "    </tr>\n",
       "    <tr>\n",
       "      <th>143</th>\n",
       "      <td>6.266334</td>\n",
       "      <td>7.303607</td>\n",
       "      <td>2</td>\n",
       "    </tr>\n",
       "    <tr>\n",
       "      <th>144</th>\n",
       "      <td>2.528623</td>\n",
       "      <td>3.729789</td>\n",
       "      <td>1</td>\n",
       "    </tr>\n",
       "    <tr>\n",
       "      <th>145</th>\n",
       "      <td>7.651741</td>\n",
       "      <td>3.22303</td>\n",
       "      <td>2</td>\n",
       "    </tr>\n",
       "    <tr>\n",
       "      <th>146</th>\n",
       "      <td>0.700648</td>\n",
       "      <td>9.519437</td>\n",
       "      <td>0</td>\n",
       "    </tr>\n",
       "    <tr>\n",
       "      <th>147</th>\n",
       "      <td>0.433678</td>\n",
       "      <td>3.15608</td>\n",
       "      <td>1</td>\n",
       "    </tr>\n",
       "  </tbody>\n",
       "</table>\n",
       "<p>148 rows × 3 columns</p>\n",
       "</div>"
      ],
      "text/plain": [
       "          x_1       x_2  y\n",
       "0    1.881904  5.564231  0\n",
       "1    1.251147  4.434491  1\n",
       "2    9.515421   7.91045  2\n",
       "3    6.263766  9.677166  2\n",
       "4    5.650935  7.290459  2\n",
       "..        ...       ... ..\n",
       "143  6.266334  7.303607  2\n",
       "144  2.528623  3.729789  1\n",
       "145  7.651741   3.22303  2\n",
       "146  0.700648  9.519437  0\n",
       "147  0.433678   3.15608  1\n",
       "\n",
       "[148 rows x 3 columns]"
      ]
     },
     "execution_count": 11,
     "metadata": {},
     "output_type": "execute_result"
    }
   ],
   "source": [
    "test_df = pd.DataFrame(np.concatenate((X_test, Y_test), axis = 1, dtype = object),\n",
    "             columns = [\"x_1\", \"x_2\", \"y\"])\n",
    "test_df"
   ]
  },
  {
   "cell_type": "markdown",
   "metadata": {
    "id": "Yn6WvGJyUDD-",
    "tags": []
   },
   "source": [
    "## **displaying a table with test data and our model predictions**"
   ]
  },
  {
   "cell_type": "code",
   "execution_count": 12,
   "metadata": {
    "colab": {
     "base_uri": "https://localhost:8080/",
     "height": 424
    },
    "id": "a9T9NrvoXyQV",
    "outputId": "55599f9e-4d54-41f8-98f0-cc3cf33a04d2"
   },
   "outputs": [
    {
     "data": {
      "text/html": [
       "<div>\n",
       "<style scoped>\n",
       "    .dataframe tbody tr th:only-of-type {\n",
       "        vertical-align: middle;\n",
       "    }\n",
       "\n",
       "    .dataframe tbody tr th {\n",
       "        vertical-align: top;\n",
       "    }\n",
       "\n",
       "    .dataframe thead th {\n",
       "        text-align: right;\n",
       "    }\n",
       "</style>\n",
       "<table border=\"1\" class=\"dataframe\">\n",
       "  <thead>\n",
       "    <tr style=\"text-align: right;\">\n",
       "      <th></th>\n",
       "      <th>x_1</th>\n",
       "      <th>x_2</th>\n",
       "      <th>y</th>\n",
       "    </tr>\n",
       "  </thead>\n",
       "  <tbody>\n",
       "    <tr>\n",
       "      <th>0</th>\n",
       "      <td>1.881904</td>\n",
       "      <td>5.564231</td>\n",
       "      <td>0</td>\n",
       "    </tr>\n",
       "    <tr>\n",
       "      <th>1</th>\n",
       "      <td>1.251147</td>\n",
       "      <td>4.434491</td>\n",
       "      <td>0</td>\n",
       "    </tr>\n",
       "    <tr>\n",
       "      <th>2</th>\n",
       "      <td>9.515421</td>\n",
       "      <td>7.91045</td>\n",
       "      <td>2</td>\n",
       "    </tr>\n",
       "    <tr>\n",
       "      <th>3</th>\n",
       "      <td>6.263766</td>\n",
       "      <td>9.677166</td>\n",
       "      <td>2</td>\n",
       "    </tr>\n",
       "    <tr>\n",
       "      <th>4</th>\n",
       "      <td>5.650935</td>\n",
       "      <td>7.290459</td>\n",
       "      <td>2</td>\n",
       "    </tr>\n",
       "    <tr>\n",
       "      <th>...</th>\n",
       "      <td>...</td>\n",
       "      <td>...</td>\n",
       "      <td>...</td>\n",
       "    </tr>\n",
       "    <tr>\n",
       "      <th>143</th>\n",
       "      <td>6.266334</td>\n",
       "      <td>7.303607</td>\n",
       "      <td>2</td>\n",
       "    </tr>\n",
       "    <tr>\n",
       "      <th>144</th>\n",
       "      <td>2.528623</td>\n",
       "      <td>3.729789</td>\n",
       "      <td>1</td>\n",
       "    </tr>\n",
       "    <tr>\n",
       "      <th>145</th>\n",
       "      <td>7.651741</td>\n",
       "      <td>3.22303</td>\n",
       "      <td>2</td>\n",
       "    </tr>\n",
       "    <tr>\n",
       "      <th>146</th>\n",
       "      <td>0.700648</td>\n",
       "      <td>9.519437</td>\n",
       "      <td>0</td>\n",
       "    </tr>\n",
       "    <tr>\n",
       "      <th>147</th>\n",
       "      <td>0.433678</td>\n",
       "      <td>3.15608</td>\n",
       "      <td>1</td>\n",
       "    </tr>\n",
       "  </tbody>\n",
       "</table>\n",
       "<p>148 rows × 3 columns</p>\n",
       "</div>"
      ],
      "text/plain": [
       "          x_1       x_2  y\n",
       "0    1.881904  5.564231  0\n",
       "1    1.251147  4.434491  0\n",
       "2    9.515421   7.91045  2\n",
       "3    6.263766  9.677166  2\n",
       "4    5.650935  7.290459  2\n",
       "..        ...       ... ..\n",
       "143  6.266334  7.303607  2\n",
       "144  2.528623  3.729789  1\n",
       "145  7.651741   3.22303  2\n",
       "146  0.700648  9.519437  0\n",
       "147  0.433678   3.15608  1\n",
       "\n",
       "[148 rows x 3 columns]"
      ]
     },
     "execution_count": 12,
     "metadata": {},
     "output_type": "execute_result"
    }
   ],
   "source": [
    "test_df = pd.DataFrame(np.concatenate((X_test, Y_pred), axis = 1, dtype = object),\n",
    "             columns = [\"x_1\", \"x_2\", \"y\"])\n",
    "test_df"
   ]
  }
 ],
 "metadata": {
  "colab": {
   "collapsed_sections": [],
   "provenance": []
  },
  "kernelspec": {
   "display_name": "Python 3 (ipykernel)",
   "language": "python",
   "name": "python3"
  },
  "language_info": {
   "codemirror_mode": {
    "name": "ipython",
    "version": 3
   },
   "file_extension": ".py",
   "mimetype": "text/x-python",
   "name": "python",
   "nbconvert_exporter": "python",
   "pygments_lexer": "ipython3",
   "version": "3.9.12"
  }
 },
 "nbformat": 4,
 "nbformat_minor": 4
}
