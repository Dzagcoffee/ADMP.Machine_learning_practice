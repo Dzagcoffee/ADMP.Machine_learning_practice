{
  "nbformat": 4,
  "nbformat_minor": 0,
  "metadata": {
    "colab": {
      "provenance": []
    },
    "kernelspec": {
      "name": "python3",
      "display_name": "Python 3"
    },
    "language_info": {
      "name": "python"
    }
  },
  "cells": [
    {
      "cell_type": "markdown",
      "source": [
        "# Немного о том, что тут происходит"
      ],
      "metadata": {
        "id": "1m5hgOjWPpjs"
      }
    },
    {
      "cell_type": "markdown",
      "source": [
        "Это мой ноутбук, посвященный реализации **алгоритма линейной классификации**, использующего в качестве основы **метод опорных векторов**. Линейная классификация реализована в виде класса. Для того, чтобы тренировать модель исходя из входных данных, необходимо сначала создать объект класса **Linear_classification_SVM**, передав необходимые для обучения модели параметры, после чего тренировать модель, используя метод **fit()** класса Linear_classification_SVM. Далее, уже с помощью функции **predict()**, можно предсказать значение таргета при даных значениях выборки."
      ],
      "metadata": {
        "id": "VgO39Tt9Ptgb"
      }
    },
    {
      "cell_type": "markdown",
      "source": [
        "# Импорт библиотек"
      ],
      "metadata": {
        "id": "z4wSeAQaPz0E"
      }
    },
    {
      "cell_type": "code",
      "execution_count": 1,
      "metadata": {
        "id": "f06YoyjJPkMB"
      },
      "outputs": [],
      "source": [
        "import numpy as np\n",
        "import pandas as pd\n",
        "import matplotlib.pyplot as plt\n",
        "from sklearn.model_selection import train_test_split"
      ]
    },
    {
      "cell_type": "markdown",
      "source": [
        "# Класс \"Линейный классификатор SVM\""
      ],
      "metadata": {
        "id": "JHi3oCuDP5A0"
      }
    },
    {
      "cell_type": "code",
      "source": [
        "class Linear_classification_SVM():\n",
        "    def __init__(self, learning_rate = 0.001, iterations_quant = 1000, reg_coefficient = 0.001):\n",
        "        self.learning_rate = learning_rate\n",
        "        self.iterations_quant = iterations_quant\n",
        "        self.reg_coefficient = reg_coefficient\n",
        "        self.w = None\n",
        "        self.bias = None\n",
        "    \n",
        "    def fit(self, X, Y):\n",
        "        self.df_rows_quant, self.df_columns_quant = X.shape\n",
        "\n",
        "        self.w = np.random.rand(self.df_columns_quant)\n",
        "        self.bias = 0\n",
        "\n",
        "        self.X = X\n",
        "        self.Y = Y\n",
        "\n",
        "        for i in range(self.iterations_quant):\n",
        "            d_w = np.zeros(self.df_columns_quant)\n",
        "            d_bias = 0\n",
        "\n",
        "            for k in range(self.df_rows_quant):\n",
        "                if (1 - self.Y[k] * np.dot(self.X[k], self.w) > 0):\n",
        "                    d_w -= self.Y[k] * self.X[k]\n",
        "                    d_bias -= Y[k]\n",
        "\n",
        "            self.w -= self.learning_rate * (2 * self.reg_coefficient * self.w + d_w)\n",
        "            self.bias -= self.learning_rate * d_bias\n",
        "    \n",
        "    def predict(self, X):\n",
        "        return np.sign(np.dot(X, self.w)).astype(\"int64\")"
      ],
      "metadata": {
        "id": "901mUOkhP4ax"
      },
      "execution_count": 2,
      "outputs": []
    },
    {
      "cell_type": "markdown",
      "source": [
        "# Инициализируем входные данные"
      ],
      "metadata": {
        "id": "FK-N5bM64JQp"
      }
    },
    {
      "cell_type": "markdown",
      "source": [
        "## Для начала импортируем датасет"
      ],
      "metadata": {
        "id": "IIXZealv-OjN"
      }
    },
    {
      "cell_type": "code",
      "source": [
        "df = pd.read_csv(\"/content/sample_data/dataset_for_classification_1.csv\")\n",
        "df"
      ],
      "metadata": {
        "colab": {
          "base_uri": "https://localhost:8080/",
          "height": 424
        },
        "id": "209Gd39r4Of7",
        "outputId": "c25c535c-10ac-4cdd-d9cd-2814839aaf89"
      },
      "execution_count": 3,
      "outputs": [
        {
          "output_type": "execute_result",
          "data": {
            "text/plain": [
              "          x_1       x_2  y\n",
              "0    3.395186  8.844288  1\n",
              "1    5.551967  8.800227  1\n",
              "2    7.689134  9.785068  1\n",
              "3    5.772461  8.785153  1\n",
              "4    0.428143  8.547947  1\n",
              "..        ...       ... ..\n",
              "305  0.398681  7.184006  1\n",
              "306  7.871686  0.278526 -1\n",
              "307  5.450716  1.760866 -1\n",
              "308  8.971035  2.688999 -1\n",
              "309  3.906566  6.893442  1\n",
              "\n",
              "[310 rows x 3 columns]"
            ],
            "text/html": [
              "\n",
              "  <div id=\"df-42b9e950-7d14-4cdc-9242-fbea4b581993\">\n",
              "    <div class=\"colab-df-container\">\n",
              "      <div>\n",
              "<style scoped>\n",
              "    .dataframe tbody tr th:only-of-type {\n",
              "        vertical-align: middle;\n",
              "    }\n",
              "\n",
              "    .dataframe tbody tr th {\n",
              "        vertical-align: top;\n",
              "    }\n",
              "\n",
              "    .dataframe thead th {\n",
              "        text-align: right;\n",
              "    }\n",
              "</style>\n",
              "<table border=\"1\" class=\"dataframe\">\n",
              "  <thead>\n",
              "    <tr style=\"text-align: right;\">\n",
              "      <th></th>\n",
              "      <th>x_1</th>\n",
              "      <th>x_2</th>\n",
              "      <th>y</th>\n",
              "    </tr>\n",
              "  </thead>\n",
              "  <tbody>\n",
              "    <tr>\n",
              "      <th>0</th>\n",
              "      <td>3.395186</td>\n",
              "      <td>8.844288</td>\n",
              "      <td>1</td>\n",
              "    </tr>\n",
              "    <tr>\n",
              "      <th>1</th>\n",
              "      <td>5.551967</td>\n",
              "      <td>8.800227</td>\n",
              "      <td>1</td>\n",
              "    </tr>\n",
              "    <tr>\n",
              "      <th>2</th>\n",
              "      <td>7.689134</td>\n",
              "      <td>9.785068</td>\n",
              "      <td>1</td>\n",
              "    </tr>\n",
              "    <tr>\n",
              "      <th>3</th>\n",
              "      <td>5.772461</td>\n",
              "      <td>8.785153</td>\n",
              "      <td>1</td>\n",
              "    </tr>\n",
              "    <tr>\n",
              "      <th>4</th>\n",
              "      <td>0.428143</td>\n",
              "      <td>8.547947</td>\n",
              "      <td>1</td>\n",
              "    </tr>\n",
              "    <tr>\n",
              "      <th>...</th>\n",
              "      <td>...</td>\n",
              "      <td>...</td>\n",
              "      <td>...</td>\n",
              "    </tr>\n",
              "    <tr>\n",
              "      <th>305</th>\n",
              "      <td>0.398681</td>\n",
              "      <td>7.184006</td>\n",
              "      <td>1</td>\n",
              "    </tr>\n",
              "    <tr>\n",
              "      <th>306</th>\n",
              "      <td>7.871686</td>\n",
              "      <td>0.278526</td>\n",
              "      <td>-1</td>\n",
              "    </tr>\n",
              "    <tr>\n",
              "      <th>307</th>\n",
              "      <td>5.450716</td>\n",
              "      <td>1.760866</td>\n",
              "      <td>-1</td>\n",
              "    </tr>\n",
              "    <tr>\n",
              "      <th>308</th>\n",
              "      <td>8.971035</td>\n",
              "      <td>2.688999</td>\n",
              "      <td>-1</td>\n",
              "    </tr>\n",
              "    <tr>\n",
              "      <th>309</th>\n",
              "      <td>3.906566</td>\n",
              "      <td>6.893442</td>\n",
              "      <td>1</td>\n",
              "    </tr>\n",
              "  </tbody>\n",
              "</table>\n",
              "<p>310 rows × 3 columns</p>\n",
              "</div>\n",
              "      <button class=\"colab-df-convert\" onclick=\"convertToInteractive('df-42b9e950-7d14-4cdc-9242-fbea4b581993')\"\n",
              "              title=\"Convert this dataframe to an interactive table.\"\n",
              "              style=\"display:none;\">\n",
              "        \n",
              "  <svg xmlns=\"http://www.w3.org/2000/svg\" height=\"24px\"viewBox=\"0 0 24 24\"\n",
              "       width=\"24px\">\n",
              "    <path d=\"M0 0h24v24H0V0z\" fill=\"none\"/>\n",
              "    <path d=\"M18.56 5.44l.94 2.06.94-2.06 2.06-.94-2.06-.94-.94-2.06-.94 2.06-2.06.94zm-11 1L8.5 8.5l.94-2.06 2.06-.94-2.06-.94L8.5 2.5l-.94 2.06-2.06.94zm10 10l.94 2.06.94-2.06 2.06-.94-2.06-.94-.94-2.06-.94 2.06-2.06.94z\"/><path d=\"M17.41 7.96l-1.37-1.37c-.4-.4-.92-.59-1.43-.59-.52 0-1.04.2-1.43.59L10.3 9.45l-7.72 7.72c-.78.78-.78 2.05 0 2.83L4 21.41c.39.39.9.59 1.41.59.51 0 1.02-.2 1.41-.59l7.78-7.78 2.81-2.81c.8-.78.8-2.07 0-2.86zM5.41 20L4 18.59l7.72-7.72 1.47 1.35L5.41 20z\"/>\n",
              "  </svg>\n",
              "      </button>\n",
              "      \n",
              "  <style>\n",
              "    .colab-df-container {\n",
              "      display:flex;\n",
              "      flex-wrap:wrap;\n",
              "      gap: 12px;\n",
              "    }\n",
              "\n",
              "    .colab-df-convert {\n",
              "      background-color: #E8F0FE;\n",
              "      border: none;\n",
              "      border-radius: 50%;\n",
              "      cursor: pointer;\n",
              "      display: none;\n",
              "      fill: #1967D2;\n",
              "      height: 32px;\n",
              "      padding: 0 0 0 0;\n",
              "      width: 32px;\n",
              "    }\n",
              "\n",
              "    .colab-df-convert:hover {\n",
              "      background-color: #E2EBFA;\n",
              "      box-shadow: 0px 1px 2px rgba(60, 64, 67, 0.3), 0px 1px 3px 1px rgba(60, 64, 67, 0.15);\n",
              "      fill: #174EA6;\n",
              "    }\n",
              "\n",
              "    [theme=dark] .colab-df-convert {\n",
              "      background-color: #3B4455;\n",
              "      fill: #D2E3FC;\n",
              "    }\n",
              "\n",
              "    [theme=dark] .colab-df-convert:hover {\n",
              "      background-color: #434B5C;\n",
              "      box-shadow: 0px 1px 3px 1px rgba(0, 0, 0, 0.15);\n",
              "      filter: drop-shadow(0px 1px 2px rgba(0, 0, 0, 0.3));\n",
              "      fill: #FFFFFF;\n",
              "    }\n",
              "  </style>\n",
              "\n",
              "      <script>\n",
              "        const buttonEl =\n",
              "          document.querySelector('#df-42b9e950-7d14-4cdc-9242-fbea4b581993 button.colab-df-convert');\n",
              "        buttonEl.style.display =\n",
              "          google.colab.kernel.accessAllowed ? 'block' : 'none';\n",
              "\n",
              "        async function convertToInteractive(key) {\n",
              "          const element = document.querySelector('#df-42b9e950-7d14-4cdc-9242-fbea4b581993');\n",
              "          const dataTable =\n",
              "            await google.colab.kernel.invokeFunction('convertToInteractive',\n",
              "                                                     [key], {});\n",
              "          if (!dataTable) return;\n",
              "\n",
              "          const docLinkHtml = 'Like what you see? Visit the ' +\n",
              "            '<a target=\"_blank\" href=https://colab.research.google.com/notebooks/data_table.ipynb>data table notebook</a>'\n",
              "            + ' to learn more about interactive tables.';\n",
              "          element.innerHTML = '';\n",
              "          dataTable['output_type'] = 'display_data';\n",
              "          await google.colab.output.renderOutput(dataTable, element);\n",
              "          const docLink = document.createElement('div');\n",
              "          docLink.innerHTML = docLinkHtml;\n",
              "          element.appendChild(docLink);\n",
              "        }\n",
              "      </script>\n",
              "    </div>\n",
              "  </div>\n",
              "  "
            ]
          },
          "metadata": {},
          "execution_count": 3
        }
      ]
    },
    {
      "cell_type": "markdown",
      "source": [
        "## Теперь разделим его на список объектов и список соответствующих им таргетов"
      ],
      "metadata": {
        "id": "zCdcXNQ6_VYu"
      }
    },
    {
      "cell_type": "code",
      "source": [
        "X = df.iloc[:, :-1].values\n",
        "Y = df.iloc[:, -1].values"
      ],
      "metadata": {
        "id": "5HmQI1Dl_Tlv"
      },
      "execution_count": 4,
      "outputs": []
    },
    {
      "cell_type": "markdown",
      "source": [
        "## Сделаем разделение списка объектов и таргетов на тренировочные и тестовые"
      ],
      "metadata": {
        "id": "Erp9bmRtBbAT"
      }
    },
    {
      "cell_type": "code",
      "source": [
        "X_train, X_test, Y_train, Y_test = train_test_split(X, Y, test_size = 1/3, random_state = 42)\n",
        "\n",
        "X_test_len = len(X_test)\n",
        "Y_test_len = X_test_len"
      ],
      "metadata": {
        "id": "Rl6R94FtBuCe"
      },
      "execution_count": 5,
      "outputs": []
    },
    {
      "cell_type": "markdown",
      "source": [
        "# Создаем модель линейного классификатора и тренируем ее на нашем датасете"
      ],
      "metadata": {
        "id": "m_-hGW_QBHKu"
      }
    },
    {
      "cell_type": "code",
      "source": [
        "model = Linear_classification_SVM(0.0001, 10000, 0.2)\n",
        "model.fit(X_train, Y_train)"
      ],
      "metadata": {
        "id": "1nvzjHkkBG9G"
      },
      "execution_count": 6,
      "outputs": []
    },
    {
      "cell_type": "markdown",
      "source": [
        "# Используя тестовую выборку, сделаем нужные предсказания"
      ],
      "metadata": {
        "id": "o0jyTTwuFM6_"
      }
    },
    {
      "cell_type": "code",
      "source": [
        "Y_pred = model.predict(X_test)"
      ],
      "metadata": {
        "id": "XPu9csXLFMou"
      },
      "execution_count": 7,
      "outputs": []
    },
    {
      "cell_type": "markdown",
      "source": [
        "# Выведем данные, которые нам удалось найти (вектор w и сдвиг bias)"
      ],
      "metadata": {
        "id": "kMU1hYwJF7H1"
      }
    },
    {
      "cell_type": "code",
      "source": [
        "w_list = list(model.w)\n",
        "bias = model.bias\n",
        "\n",
        "print(\"bias after training:\", bias, \"\\n\")\n",
        "\n",
        "for i, w_i in enumerate(w_list):\n",
        "    print(\"w_{} =\".format(i + 1), w_list[i])"
      ],
      "metadata": {
        "colab": {
          "base_uri": "https://localhost:8080/"
        },
        "id": "ZwNf6_PXGCuf",
        "outputId": "5f57f97f-a590-49f8-9a4d-8d1fc6f8d902"
      },
      "execution_count": 8,
      "outputs": [
        {
          "output_type": "stream",
          "name": "stdout",
          "text": [
            "bias after training: -0.014799999999997527 \n",
            "\n",
            "w_1 = -0.4939266658499161\n",
            "w_2 = 0.49477108579092316\n"
          ]
        }
      ]
    },
    {
      "cell_type": "markdown",
      "source": [
        "# Теперь выведем график, на котором будут отражены объекты тестовой выборки их истиные таргеты и предсказания модели"
      ],
      "metadata": {
        "id": "4gG6pqAlErnH"
      }
    },
    {
      "cell_type": "code",
      "source": [
        "class_1_graph_x_1_values = []\n",
        "class_1_graph_x_2_values = []\n",
        "\n",
        "class_2_graph_x_1_values = []\n",
        "class_2_graph_x_2_values = []\n",
        "\n",
        "for i in range(Y_test_len):\n",
        "    if Y_test[i] == 1:\n",
        "        class_1_graph_x_1_values.append(X_test[i][0])\n",
        "        class_1_graph_x_2_values.append(X_test[i][1])\n",
        "    else:\n",
        "        class_2_graph_x_1_values.append(X_test[i][0])\n",
        "        class_2_graph_x_2_values.append(X_test[i][1])\n",
        "\n",
        "separating_plane_horizontal_values = np.linspace(0, 10, 42)\n",
        "separating_plane_vertical_values = -(w_list[0] * separating_plane_horizontal_values + bias) / w_list[1]\n",
        "\n",
        "figure, ax = plt.subplots()\n",
        "\n",
        "figure.set_figwidth(7)\n",
        "figure.set_figheight(5)\n",
        "\n",
        "ax.set_title('Тестовая выборка и предсказания модели')\n",
        "\n",
        "ax.scatter(class_1_graph_x_1_values, class_1_graph_x_2_values, color = \"gold\",\n",
        "           edgecolors='orange', label = \"Класс 1 тестовой выборки\")\n",
        "ax.scatter(class_2_graph_x_1_values, class_2_graph_x_2_values, color = \"silver\",\n",
        "           edgecolors='gray', label = \"Класс -1 тестовой выборки\")\n",
        "ax.plot(separating_plane_horizontal_values, separating_plane_vertical_values,\n",
        "        color = \"tomato\", label = \"Разделяющая плоскость\")\n",
        "\n",
        "ax.legend()\n",
        "\n",
        "plt.show()"
      ],
      "metadata": {
        "colab": {
          "base_uri": "https://localhost:8080/",
          "height": 336
        },
        "id": "J1v5KOalZ2zK",
        "outputId": "948fcea2-a842-4e6a-9d3e-cb46ba7c357b"
      },
      "execution_count": 9,
      "outputs": [
        {
          "output_type": "display_data",
          "data": {
            "text/plain": [
              "<Figure size 504x360 with 1 Axes>"
            ],
            "image/png": "[encoded data removed]"
          },
          "metadata": {
            "needs_background": "light"
          }
        }
      ]
    },
    {
      "cell_type": "markdown",
      "source": [
        "# В дополнение к графику можно вывести две таблицы"
      ],
      "metadata": {
        "id": "IL39T7ZGT0jB"
      }
    },
    {
      "cell_type": "markdown",
      "source": [
        "## Таблица с истиными значениями таргетов для соответствующих объектов"
      ],
      "metadata": {
        "id": "LWFUurp7T8jS"
      }
    },
    {
      "cell_type": "code",
      "source": [
        "test_df = pd.DataFrame(np.concatenate((X_test, Y_test[:, np.newaxis]), axis = 1, dtype = object),\n",
        "             columns = [\"x_1\", \"x_2\", \"y\"])\n",
        "test_df"
      ],
      "metadata": {
        "colab": {
          "base_uri": "https://localhost:8080/",
          "height": 424
        },
        "id": "mxlYReEYUIXC",
        "outputId": "bb7ac435-7e8b-4c89-c572-33a95ff8b279"
      },
      "execution_count": 10,
      "outputs": [
        {
          "output_type": "execute_result",
          "data": {
            "text/plain": [
              "          x_1       x_2   y\n",
              "0    2.014962  5.194453   1\n",
              "1     7.14824  2.771948  -1\n",
              "2    9.105824  4.402933  -1\n",
              "3    9.476643  6.059579  -1\n",
              "4    8.402912  3.739827  -1\n",
              "..        ...       ...  ..\n",
              "99   9.601205   7.00903  -1\n",
              "100  0.408263  4.353494   1\n",
              "101  1.159999  4.431854   1\n",
              "102  9.708678  3.704619  -1\n",
              "103  5.006872  8.665052   1\n",
              "\n",
              "[104 rows x 3 columns]"
            ],
            "text/html": [
              "\n",
              "  <div id=\"df-bd8fe17d-1588-464d-b043-20ecb56d0672\">\n",
              "    <div class=\"colab-df-container\">\n",
              "      <div>\n",
              "<style scoped>\n",
              "    .dataframe tbody tr th:only-of-type {\n",
              "        vertical-align: middle;\n",
              "    }\n",
              "\n",
              "    .dataframe tbody tr th {\n",
              "        vertical-align: top;\n",
              "    }\n",
              "\n",
              "    .dataframe thead th {\n",
              "        text-align: right;\n",
              "    }\n",
              "</style>\n",
              "<table border=\"1\" class=\"dataframe\">\n",
              "  <thead>\n",
              "    <tr style=\"text-align: right;\">\n",
              "      <th></th>\n",
              "      <th>x_1</th>\n",
              "      <th>x_2</th>\n",
              "      <th>y</th>\n",
              "    </tr>\n",
              "  </thead>\n",
              "  <tbody>\n",
              "    <tr>\n",
              "      <th>0</th>\n",
              "      <td>2.014962</td>\n",
              "      <td>5.194453</td>\n",
              "      <td>1</td>\n",
              "    </tr>\n",
              "    <tr>\n",
              "      <th>1</th>\n",
              "      <td>7.14824</td>\n",
              "      <td>2.771948</td>\n",
              "      <td>-1</td>\n",
              "    </tr>\n",
              "    <tr>\n",
              "      <th>2</th>\n",
              "      <td>9.105824</td>\n",
              "      <td>4.402933</td>\n",
              "      <td>-1</td>\n",
              "    </tr>\n",
              "    <tr>\n",
              "      <th>3</th>\n",
              "      <td>9.476643</td>\n",
              "      <td>6.059579</td>\n",
              "      <td>-1</td>\n",
              "    </tr>\n",
              "    <tr>\n",
              "      <th>4</th>\n",
              "      <td>8.402912</td>\n",
              "      <td>3.739827</td>\n",
              "      <td>-1</td>\n",
              "    </tr>\n",
              "    <tr>\n",
              "      <th>...</th>\n",
              "      <td>...</td>\n",
              "      <td>...</td>\n",
              "      <td>...</td>\n",
              "    </tr>\n",
              "    <tr>\n",
              "      <th>99</th>\n",
              "      <td>9.601205</td>\n",
              "      <td>7.00903</td>\n",
              "      <td>-1</td>\n",
              "    </tr>\n",
              "    <tr>\n",
              "      <th>100</th>\n",
              "      <td>0.408263</td>\n",
              "      <td>4.353494</td>\n",
              "      <td>1</td>\n",
              "    </tr>\n",
              "    <tr>\n",
              "      <th>101</th>\n",
              "      <td>1.159999</td>\n",
              "      <td>4.431854</td>\n",
              "      <td>1</td>\n",
              "    </tr>\n",
              "    <tr>\n",
              "      <th>102</th>\n",
              "      <td>9.708678</td>\n",
              "      <td>3.704619</td>\n",
              "      <td>-1</td>\n",
              "    </tr>\n",
              "    <tr>\n",
              "      <th>103</th>\n",
              "      <td>5.006872</td>\n",
              "      <td>8.665052</td>\n",
              "      <td>1</td>\n",
              "    </tr>\n",
              "  </tbody>\n",
              "</table>\n",
              "<p>104 rows × 3 columns</p>\n",
              "</div>\n",
              "      <button class=\"colab-df-convert\" onclick=\"convertToInteractive('df-bd8fe17d-1588-464d-b043-20ecb56d0672')\"\n",
              "              title=\"Convert this dataframe to an interactive table.\"\n",
              "              style=\"display:none;\">\n",
              "        \n",
              "  <svg xmlns=\"http://www.w3.org/2000/svg\" height=\"24px\"viewBox=\"0 0 24 24\"\n",
              "       width=\"24px\">\n",
              "    <path d=\"M0 0h24v24H0V0z\" fill=\"none\"/>\n",
              "    <path d=\"M18.56 5.44l.94 2.06.94-2.06 2.06-.94-2.06-.94-.94-2.06-.94 2.06-2.06.94zm-11 1L8.5 8.5l.94-2.06 2.06-.94-2.06-.94L8.5 2.5l-.94 2.06-2.06.94zm10 10l.94 2.06.94-2.06 2.06-.94-2.06-.94-.94-2.06-.94 2.06-2.06.94z\"/><path d=\"M17.41 7.96l-1.37-1.37c-.4-.4-.92-.59-1.43-.59-.52 0-1.04.2-1.43.59L10.3 9.45l-7.72 7.72c-.78.78-.78 2.05 0 2.83L4 21.41c.39.39.9.59 1.41.59.51 0 1.02-.2 1.41-.59l7.78-7.78 2.81-2.81c.8-.78.8-2.07 0-2.86zM5.41 20L4 18.59l7.72-7.72 1.47 1.35L5.41 20z\"/>\n",
              "  </svg>\n",
              "      </button>\n",
              "      \n",
              "  <style>\n",
              "    .colab-df-container {\n",
              "      display:flex;\n",
              "      flex-wrap:wrap;\n",
              "      gap: 12px;\n",
              "    }\n",
              "\n",
              "    .colab-df-convert {\n",
              "      background-color: #E8F0FE;\n",
              "      border: none;\n",
              "      border-radius: 50%;\n",
              "      cursor: pointer;\n",
              "      display: none;\n",
              "      fill: #1967D2;\n",
              "      height: 32px;\n",
              "      padding: 0 0 0 0;\n",
              "      width: 32px;\n",
              "    }\n",
              "\n",
              "    .colab-df-convert:hover {\n",
              "      background-color: #E2EBFA;\n",
              "      box-shadow: 0px 1px 2px rgba(60, 64, 67, 0.3), 0px 1px 3px 1px rgba(60, 64, 67, 0.15);\n",
              "      fill: #174EA6;\n",
              "    }\n",
              "\n",
              "    [theme=dark] .colab-df-convert {\n",
              "      background-color: #3B4455;\n",
              "      fill: #D2E3FC;\n",
              "    }\n",
              "\n",
              "    [theme=dark] .colab-df-convert:hover {\n",
              "      background-color: #434B5C;\n",
              "      box-shadow: 0px 1px 3px 1px rgba(0, 0, 0, 0.15);\n",
              "      filter: drop-shadow(0px 1px 2px rgba(0, 0, 0, 0.3));\n",
              "      fill: #FFFFFF;\n",
              "    }\n",
              "  </style>\n",
              "\n",
              "      <script>\n",
              "        const buttonEl =\n",
              "          document.querySelector('#df-bd8fe17d-1588-464d-b043-20ecb56d0672 button.colab-df-convert');\n",
              "        buttonEl.style.display =\n",
              "          google.colab.kernel.accessAllowed ? 'block' : 'none';\n",
              "\n",
              "        async function convertToInteractive(key) {\n",
              "          const element = document.querySelector('#df-bd8fe17d-1588-464d-b043-20ecb56d0672');\n",
              "          const dataTable =\n",
              "            await google.colab.kernel.invokeFunction('convertToInteractive',\n",
              "                                                     [key], {});\n",
              "          if (!dataTable) return;\n",
              "\n",
              "          const docLinkHtml = 'Like what you see? Visit the ' +\n",
              "            '<a target=\"_blank\" href=https://colab.research.google.com/notebooks/data_table.ipynb>data table notebook</a>'\n",
              "            + ' to learn more about interactive tables.';\n",
              "          element.innerHTML = '';\n",
              "          dataTable['output_type'] = 'display_data';\n",
              "          await google.colab.output.renderOutput(dataTable, element);\n",
              "          const docLink = document.createElement('div');\n",
              "          docLink.innerHTML = docLinkHtml;\n",
              "          element.appendChild(docLink);\n",
              "        }\n",
              "      </script>\n",
              "    </div>\n",
              "  </div>\n",
              "  "
            ]
          },
          "metadata": {},
          "execution_count": 10
        }
      ]
    },
    {
      "cell_type": "markdown",
      "source": [
        "## Таблица с предсказанными значениями таргетов для соответствующих объектов"
      ],
      "metadata": {
        "id": "Yn6WvGJyUDD-"
      }
    },
    {
      "cell_type": "code",
      "source": [
        "test_df = pd.DataFrame(np.concatenate((X_test, Y_pred[:, np.newaxis]), axis = 1, dtype = object),\n",
        "             columns = [\"x_1\", \"x_2\", \"y\"])\n",
        "test_df"
      ],
      "metadata": {
        "colab": {
          "base_uri": "https://localhost:8080/",
          "height": 424
        },
        "id": "a9T9NrvoXyQV",
        "outputId": "245a37d1-a65f-4fd8-96e2-ec073da45c8a"
      },
      "execution_count": 11,
      "outputs": [
        {
          "output_type": "execute_result",
          "data": {
            "text/plain": [
              "          x_1       x_2   y\n",
              "0    2.014962  5.194453   1\n",
              "1     7.14824  2.771948  -1\n",
              "2    9.105824  4.402933  -1\n",
              "3    9.476643  6.059579  -1\n",
              "4    8.402912  3.739827  -1\n",
              "..        ...       ...  ..\n",
              "99   9.601205   7.00903  -1\n",
              "100  0.408263  4.353494   1\n",
              "101  1.159999  4.431854   1\n",
              "102  9.708678  3.704619  -1\n",
              "103  5.006872  8.665052   1\n",
              "\n",
              "[104 rows x 3 columns]"
            ],
            "text/html": [
              "\n",
              "  <div id=\"df-b634b974-c9ee-4ffb-a7e3-47ebf3874e4b\">\n",
              "    <div class=\"colab-df-container\">\n",
              "      <div>\n",
              "<style scoped>\n",
              "    .dataframe tbody tr th:only-of-type {\n",
              "        vertical-align: middle;\n",
              "    }\n",
              "\n",
              "    .dataframe tbody tr th {\n",
              "        vertical-align: top;\n",
              "    }\n",
              "\n",
              "    .dataframe thead th {\n",
              "        text-align: right;\n",
              "    }\n",
              "</style>\n",
              "<table border=\"1\" class=\"dataframe\">\n",
              "  <thead>\n",
              "    <tr style=\"text-align: right;\">\n",
              "      <th></th>\n",
              "      <th>x_1</th>\n",
              "      <th>x_2</th>\n",
              "      <th>y</th>\n",
              "    </tr>\n",
              "  </thead>\n",
              "  <tbody>\n",
              "    <tr>\n",
              "      <th>0</th>\n",
              "      <td>2.014962</td>\n",
              "      <td>5.194453</td>\n",
              "      <td>1</td>\n",
              "    </tr>\n",
              "    <tr>\n",
              "      <th>1</th>\n",
              "      <td>7.14824</td>\n",
              "      <td>2.771948</td>\n",
              "      <td>-1</td>\n",
              "    </tr>\n",
              "    <tr>\n",
              "      <th>2</th>\n",
              "      <td>9.105824</td>\n",
              "      <td>4.402933</td>\n",
              "      <td>-1</td>\n",
              "    </tr>\n",
              "    <tr>\n",
              "      <th>3</th>\n",
              "      <td>9.476643</td>\n",
              "      <td>6.059579</td>\n",
              "      <td>-1</td>\n",
              "    </tr>\n",
              "    <tr>\n",
              "      <th>4</th>\n",
              "      <td>8.402912</td>\n",
              "      <td>3.739827</td>\n",
              "      <td>-1</td>\n",
              "    </tr>\n",
              "    <tr>\n",
              "      <th>...</th>\n",
              "      <td>...</td>\n",
              "      <td>...</td>\n",
              "      <td>...</td>\n",
              "    </tr>\n",
              "    <tr>\n",
              "      <th>99</th>\n",
              "      <td>9.601205</td>\n",
              "      <td>7.00903</td>\n",
              "      <td>-1</td>\n",
              "    </tr>\n",
              "    <tr>\n",
              "      <th>100</th>\n",
              "      <td>0.408263</td>\n",
              "      <td>4.353494</td>\n",
              "      <td>1</td>\n",
              "    </tr>\n",
              "    <tr>\n",
              "      <th>101</th>\n",
              "      <td>1.159999</td>\n",
              "      <td>4.431854</td>\n",
              "      <td>1</td>\n",
              "    </tr>\n",
              "    <tr>\n",
              "      <th>102</th>\n",
              "      <td>9.708678</td>\n",
              "      <td>3.704619</td>\n",
              "      <td>-1</td>\n",
              "    </tr>\n",
              "    <tr>\n",
              "      <th>103</th>\n",
              "      <td>5.006872</td>\n",
              "      <td>8.665052</td>\n",
              "      <td>1</td>\n",
              "    </tr>\n",
              "  </tbody>\n",
              "</table>\n",
              "<p>104 rows × 3 columns</p>\n",
              "</div>\n",
              "      <button class=\"colab-df-convert\" onclick=\"convertToInteractive('df-b634b974-c9ee-4ffb-a7e3-47ebf3874e4b')\"\n",
              "              title=\"Convert this dataframe to an interactive table.\"\n",
              "              style=\"display:none;\">\n",
              "        \n",
              "  <svg xmlns=\"http://www.w3.org/2000/svg\" height=\"24px\"viewBox=\"0 0 24 24\"\n",
              "       width=\"24px\">\n",
              "    <path d=\"M0 0h24v24H0V0z\" fill=\"none\"/>\n",
              "    <path d=\"M18.56 5.44l.94 2.06.94-2.06 2.06-.94-2.06-.94-.94-2.06-.94 2.06-2.06.94zm-11 1L8.5 8.5l.94-2.06 2.06-.94-2.06-.94L8.5 2.5l-.94 2.06-2.06.94zm10 10l.94 2.06.94-2.06 2.06-.94-2.06-.94-.94-2.06-.94 2.06-2.06.94z\"/><path d=\"M17.41 7.96l-1.37-1.37c-.4-.4-.92-.59-1.43-.59-.52 0-1.04.2-1.43.59L10.3 9.45l-7.72 7.72c-.78.78-.78 2.05 0 2.83L4 21.41c.39.39.9.59 1.41.59.51 0 1.02-.2 1.41-.59l7.78-7.78 2.81-2.81c.8-.78.8-2.07 0-2.86zM5.41 20L4 18.59l7.72-7.72 1.47 1.35L5.41 20z\"/>\n",
              "  </svg>\n",
              "      </button>\n",
              "      \n",
              "  <style>\n",
              "    .colab-df-container {\n",
              "      display:flex;\n",
              "      flex-wrap:wrap;\n",
              "      gap: 12px;\n",
              "    }\n",
              "\n",
              "    .colab-df-convert {\n",
              "      background-color: #E8F0FE;\n",
              "      border: none;\n",
              "      border-radius: 50%;\n",
              "      cursor: pointer;\n",
              "      display: none;\n",
              "      fill: #1967D2;\n",
              "      height: 32px;\n",
              "      padding: 0 0 0 0;\n",
              "      width: 32px;\n",
              "    }\n",
              "\n",
              "    .colab-df-convert:hover {\n",
              "      background-color: #E2EBFA;\n",
              "      box-shadow: 0px 1px 2px rgba(60, 64, 67, 0.3), 0px 1px 3px 1px rgba(60, 64, 67, 0.15);\n",
              "      fill: #174EA6;\n",
              "    }\n",
              "\n",
              "    [theme=dark] .colab-df-convert {\n",
              "      background-color: #3B4455;\n",
              "      fill: #D2E3FC;\n",
              "    }\n",
              "\n",
              "    [theme=dark] .colab-df-convert:hover {\n",
              "      background-color: #434B5C;\n",
              "      box-shadow: 0px 1px 3px 1px rgba(0, 0, 0, 0.15);\n",
              "      filter: drop-shadow(0px 1px 2px rgba(0, 0, 0, 0.3));\n",
              "      fill: #FFFFFF;\n",
              "    }\n",
              "  </style>\n",
              "\n",
              "      <script>\n",
              "        const buttonEl =\n",
              "          document.querySelector('#df-b634b974-c9ee-4ffb-a7e3-47ebf3874e4b button.colab-df-convert');\n",
              "        buttonEl.style.display =\n",
              "          google.colab.kernel.accessAllowed ? 'block' : 'none';\n",
              "\n",
              "        async function convertToInteractive(key) {\n",
              "          const element = document.querySelector('#df-b634b974-c9ee-4ffb-a7e3-47ebf3874e4b');\n",
              "          const dataTable =\n",
              "            await google.colab.kernel.invokeFunction('convertToInteractive',\n",
              "                                                     [key], {});\n",
              "          if (!dataTable) return;\n",
              "\n",
              "          const docLinkHtml = 'Like what you see? Visit the ' +\n",
              "            '<a target=\"_blank\" href=https://colab.research.google.com/notebooks/data_table.ipynb>data table notebook</a>'\n",
              "            + ' to learn more about interactive tables.';\n",
              "          element.innerHTML = '';\n",
              "          dataTable['output_type'] = 'display_data';\n",
              "          await google.colab.output.renderOutput(dataTable, element);\n",
              "          const docLink = document.createElement('div');\n",
              "          docLink.innerHTML = docLinkHtml;\n",
              "          element.appendChild(docLink);\n",
              "        }\n",
              "      </script>\n",
              "    </div>\n",
              "  </div>\n",
              "  "
            ]
          },
          "metadata": {},
          "execution_count": 11
        }
      ]
    },
    {
      "cell_type": "markdown",
      "source": [
        "Как мы видим, классификатор справился на ура!"
      ],
      "metadata": {
        "id": "MxsgjqPIaD-a"
      }
    }
  ]
}