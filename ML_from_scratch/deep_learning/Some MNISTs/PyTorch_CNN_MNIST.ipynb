{
 "cells": [
  {
   "cell_type": "markdown",
   "metadata": {
    "id": "yzpzIMb_Ycp2"
   },
   "source": [
    "# **Pytorch CNN MNIST**"
   ]
  },
  {
   "cell_type": "markdown",
   "metadata": {
    "id": "OsDr6f4dMNGg"
   },
   "source": [
    "## **Libraries**"
   ]
  },
  {
   "cell_type": "code",
   "execution_count": 1,
   "metadata": {
    "id": "KGlqrA3uPJ1G"
   },
   "outputs": [],
   "source": [
    "import pandas as pd\n",
    "import numpy as np\n",
    "import matplotlib.pyplot as plt\n",
    "\n",
    "import torch\n",
    "import torchvision\n",
    "import torchvision.transforms as transforms\n",
    "from torch.utils.data import DataLoader\n",
    "import torch.nn as nn\n",
    "import torch.nn.functional as F\n",
    "import torch.optim as optim\n",
    "\n",
    "from sklearn.model_selection import train_test_split"
   ]
  },
  {
   "cell_type": "markdown",
   "metadata": {
    "id": "eLan3KnZMTdj"
   },
   "source": [
    "## **Working with data**"
   ]
  },
  {
   "cell_type": "markdown",
   "metadata": {
    "id": "1HxmZsZYMWxS"
   },
   "source": [
    "### **Load data**"
   ]
  },
  {
   "cell_type": "code",
   "execution_count": 2,
   "metadata": {
    "id": "J-Kf2OIlQYv3"
   },
   "outputs": [],
   "source": [
    "path = \"D://admp_northallerton/my_machine_learning/datasets/MNIST_dataset.csv\"\n",
    "\n",
    "data = pd.read_csv(path)"
   ]
  },
  {
   "cell_type": "markdown",
   "metadata": {
    "id": "kHwsIFzSMaR-"
   },
   "source": [
    "### **Preprocessing**"
   ]
  },
  {
   "cell_type": "code",
   "execution_count": 3,
   "metadata": {
    "id": "UC2MQoPbRMsi"
   },
   "outputs": [],
   "source": [
    "X = data.drop(columns=[\"label\"]).values\n",
    "y = data[\"label\"].values"
   ]
  },
  {
   "cell_type": "code",
   "execution_count": 4,
   "metadata": {
    "id": "1hpz7wdxXMa_"
   },
   "outputs": [],
   "source": [
    "X_train, X_test, y_train, y_test = train_test_split(\n",
    "    X, y, test_size=0.3, random_state=42\n",
    ")"
   ]
  },
  {
   "cell_type": "code",
   "execution_count": 5,
   "metadata": {
    "colab": {
     "base_uri": "https://localhost:8080/"
    },
    "id": "Gl6WWtWqRPjk",
    "outputId": "4c1055e7-28c0-49c2-c2c7-a5c1d8edb3bd"
   },
   "outputs": [
    {
     "name": "stdout",
     "output_type": "stream",
     "text": [
      "X_train shape: (29400, 784)\n",
      "y_train shape: (29400,)\n",
      "X_test shape: (12600, 784)\n",
      "y_test shape: (12600,)\n"
     ]
    }
   ],
   "source": [
    "print(f\"X_train shape: {X_train.shape}\")\n",
    "print(f\"y_train shape: {y_train.shape}\")\n",
    "print(f\"X_test shape: {X_test.shape}\")\n",
    "print(f\"y_test shape: {y_test.shape}\")"
   ]
  },
  {
   "cell_type": "markdown",
   "metadata": {
    "id": "MblhhEvzPUrm"
   },
   "source": [
    "### **Making dataset class**"
   ]
  },
  {
   "cell_type": "code",
   "execution_count": 6,
   "metadata": {
    "id": "O85zE5iSSaD4"
   },
   "outputs": [],
   "source": [
    "class Dataset(torch.utils.data.Dataset):\n",
    "    def __init__(self, X, y, transform=None):\n",
    "        self.X = torch.tensor(X)\n",
    "        self.y = torch.tensor(y)\n",
    "\n",
    "    def __len__(self):\n",
    "        return len(self.X)\n",
    "\n",
    "    def __getitem__(self, index):\n",
    "        return self.X[index], self.y[index]"
   ]
  },
  {
   "cell_type": "code",
   "execution_count": 7,
   "metadata": {
    "id": "PV6YqmwjYXx1"
   },
   "outputs": [],
   "source": [
    "batch_size = 64"
   ]
  },
  {
   "cell_type": "markdown",
   "metadata": {
    "id": "yfd6fBqPPguj"
   },
   "source": [
    "### **Making dataloaders**"
   ]
  },
  {
   "cell_type": "code",
   "execution_count": 8,
   "metadata": {
    "id": "_M-pScriYOky"
   },
   "outputs": [],
   "source": [
    "train_data = Dataset(X_train, y_train)\n",
    "test_data = Dataset(X_test, y_test)"
   ]
  },
  {
   "cell_type": "code",
   "execution_count": 9,
   "metadata": {
    "id": "1xexLpATYTvZ"
   },
   "outputs": [],
   "source": [
    "train_dataloader = torch.utils.data.DataLoader(train_data, batch_size=batch_size, shuffle=True, drop_last=True)\n",
    "test_dataloader = torch.utils.data.DataLoader(test_data, batch_size=batch_size, shuffle=True, drop_last=True)"
   ]
  },
  {
   "cell_type": "markdown",
   "metadata": {
    "id": "D1MQEMSJPk5C"
   },
   "source": [
    "## **Our NN class**"
   ]
  },
  {
   "cell_type": "code",
   "execution_count": 10,
   "metadata": {
    "id": "logToSLnXCKx"
   },
   "outputs": [],
   "source": [
    "class Net(nn.Module):\n",
    "    def __init__(self):\n",
    "        super(Net, self).__init__()\n",
    "\n",
    "        self.conv_layers = nn.Sequential(\n",
    "            nn.Conv2d(in_channels=1, out_channels=6, kernel_size=3),\n",
    "            nn.MaxPool2d(kernel_size=2, stride=2),\n",
    "            nn.Conv2d(in_channels=6, out_channels=16, kernel_size=3),\n",
    "            nn.MaxPool2d(kernel_size=2, stride=2)\n",
    "        )\n",
    "\n",
    "        self.layers = nn.Sequential(\n",
    "            nn.Linear(400, 120),\n",
    "            nn.ReLU(),\n",
    "            nn.Linear(120, 84),\n",
    "            nn.ReLU(),\n",
    "            nn.Linear(84, 10)\n",
    "        )\n",
    "\n",
    "    def forward(self, x):\n",
    "        x = x.type(torch.float32)\n",
    "        x = self.conv_layers(x)\n",
    "        x = x.view(x.size(0), -1)\n",
    "        x = self.layers(x)\n",
    "\n",
    "        return x"
   ]
  },
  {
   "cell_type": "markdown",
   "metadata": {
    "id": "Kz0Rg4kNPoFi"
   },
   "source": [
    "## **Model**"
   ]
  },
  {
   "cell_type": "code",
   "execution_count": 11,
   "metadata": {
    "id": "F3CQ3q9aZ_Xf"
   },
   "outputs": [],
   "source": [
    "net = Net()"
   ]
  },
  {
   "cell_type": "markdown",
   "metadata": {
    "id": "mPqQF9XOPqhQ"
   },
   "source": [
    "## **Train**"
   ]
  },
  {
   "cell_type": "code",
   "execution_count": 12,
   "metadata": {
    "id": "RC3BIIhEQRil"
   },
   "outputs": [],
   "source": [
    "epochs = 10\n",
    "learning_rate = 0.001"
   ]
  },
  {
   "cell_type": "code",
   "execution_count": 13,
   "metadata": {
    "id": "xJOvqHRraTB5"
   },
   "outputs": [],
   "source": [
    "criterion = nn.CrossEntropyLoss()\n",
    "optimizer = torch.optim.Adam(params=net.parameters(), lr=learning_rate)"
   ]
  },
  {
   "cell_type": "code",
   "execution_count": 14,
   "metadata": {
    "id": "yzOt3s5fb4uz"
   },
   "outputs": [],
   "source": [
    "loaders = {\n",
    "    \"train\": train_dataloader,\n",
    "    \"test\": test_dataloader\n",
    "}"
   ]
  },
  {
   "cell_type": "code",
   "execution_count": 15,
   "metadata": {
    "colab": {
     "base_uri": "https://localhost:8080/"
    },
    "id": "QQWxpQg5bGCQ",
    "outputId": "2ad3c5ba-4453-41af-d649-c429612661ce"
   },
   "outputs": [
    {
     "name": "stdout",
     "output_type": "stream",
     "text": [
      "Epoch: 1\n",
      "Loader: train. Accuracy: 0.9065563725490197\n",
      "Loader: test. Accuracy: 0.9216364503816794\n",
      "Epoch: 2\n",
      "Loader: train. Accuracy: 0.9707244008714597\n",
      "Loader: test. Accuracy: 0.9705152671755726\n",
      "Epoch: 3\n",
      "Loader: train. Accuracy: 0.978792211328976\n",
      "Loader: test. Accuracy: 0.976574427480916\n",
      "Epoch: 4\n",
      "Loader: train. Accuracy: 0.9850898692810458\n",
      "Loader: test. Accuracy: 0.981679389312977\n",
      "Epoch: 5\n",
      "Loader: train. Accuracy: 0.9863834422657952\n",
      "Loader: test. Accuracy: 0.9838263358778626\n",
      "Epoch: 6\n",
      "Loader: train. Accuracy: 0.987166394335512\n",
      "Loader: test. Accuracy: 0.9839456106870229\n",
      "Epoch: 7\n",
      "Loader: train. Accuracy: 0.9894131263616558\n",
      "Loader: test. Accuracy: 0.9869990458015268\n",
      "Epoch: 8\n",
      "Loader: train. Accuracy: 0.990025871459695\n",
      "Loader: test. Accuracy: 0.9849475190839695\n",
      "Epoch: 9\n",
      "Loader: train. Accuracy: 0.9916598583877996\n",
      "Loader: test. Accuracy: 0.9873091603053435\n",
      "Epoch: 10\n",
      "Loader: train. Accuracy: 0.9925108932461874\n",
      "Loader: test. Accuracy: 0.9889312977099237\n"
     ]
    }
   ],
   "source": [
    "accuracy = {\"train\": [], \"test\": []}\n",
    "\n",
    "for epoch in range(epochs):\n",
    "    epoch_correct = 0\n",
    "    epoch_all = 0\n",
    "\n",
    "    for k, dataloader in loaders.items():\n",
    "        for X_batch, y_batch in dataloader:\n",
    "            X_batch = X_batch.view(batch_size, 1, 28, 28)\n",
    "            \n",
    "            if k == \"train\":\n",
    "                net.train()\n",
    "                out = net.forward(X_batch)\n",
    "                loss = criterion(out, y_batch)\n",
    "                optimizer.zero_grad()  \n",
    "                loss.backward()\n",
    "                optimizer.step()\n",
    "            else:\n",
    "                net.eval()\n",
    "\n",
    "                with torch.no_grad():  \n",
    "                    out = net.forward(X_batch)\n",
    "\n",
    "            predictions = out.argmax(-1)\n",
    "            correct = torch.tensor(y_batch[y_batch==predictions].size())\n",
    "            all = batch_size\n",
    "            epoch_correct += correct.item()\n",
    "            epoch_all += all\n",
    "\n",
    "        if k == \"train\":\n",
    "            print(f\"Epoch: {epoch+1}\")\n",
    "        print(f\"Loader: {k}. Accuracy: {epoch_correct/epoch_all}\")\n",
    "        \n",
    "        accuracy[k].append(epoch_correct/epoch_all)"
   ]
  },
  {
   "cell_type": "code",
   "execution_count": 16,
   "metadata": {
    "colab": {
     "base_uri": "https://localhost:8080/",
     "height": 440
    },
    "id": "a2Sm5_BwcsBG",
    "outputId": "475eaac6-8b36-4d19-91a4-f8e04875eefd"
   },
   "outputs": [
    {
     "data": {
      "image/png": "[encoded data removed]",
      "text/plain": [
       "<Figure size 720x504 with 1 Axes>"
      ]
     },
     "metadata": {},
     "output_type": "display_data"
    }
   ],
   "source": [
    "plt.style.use(\"seaborn-darkgrid\")\n",
    "plt.figure(figsize=(10, 7))\n",
    "\n",
    "plt.title(\"test_data accuracy\")\n",
    "plt.plot(range(epochs), accuracy[\"test\"], linewidth=2, label=\"test_data accuracy\")\n",
    "plt.plot(range(epochs), accuracy[\"train\"], linewidth=2, label=\"train_data accuracy\")\n",
    "plt.legend(fontsize=12)\n",
    "plt.show()"
   ]
  },
  {
   "cell_type": "markdown",
   "metadata": {
    "id": "fEKceeFuPuSV"
   },
   "source": [
    "## **Test**"
   ]
  },
  {
   "cell_type": "code",
   "execution_count": 17,
   "metadata": {
    "id": "tQzQ8q-F5R_r"
   },
   "outputs": [],
   "source": [
    "test_img = X_test[113]\n",
    "test_label = y_test[113]\n",
    "\n",
    "test_img_tensor = torch.tensor(test_img)\n",
    "test_img_tensor = test_img_tensor.type(torch.float32)\n",
    "test_img_tensor = test_img_tensor.view(1, 1, 28, 28)\n",
    "\n",
    "net.eval()\n",
    "\n",
    "prediction = net.forward(test_img_tensor).argmax(-1)[0]"
   ]
  },
  {
   "cell_type": "code",
   "execution_count": 18,
   "metadata": {
    "colab": {
     "base_uri": "https://localhost:8080/",
     "height": 465
    },
    "id": "hBIbeQuoABGr",
    "outputId": "5d6b14fd-d6c1-47d1-a52b-3e743247c372"
   },
   "outputs": [
    {
     "name": "stdout",
     "output_type": "stream",
     "text": [
      "label: 7\n",
      "prediction: 7\n"
     ]
    },
    {
     "data": {
      "image/png": "[encoded data removed]",
      "text/plain": [
       "<Figure size 640x480 with 1 Axes>"
      ]
     },
     "metadata": {},
     "output_type": "display_data"
    }
   ],
   "source": [
    "print(f\"label: {test_label}\")\n",
    "print(f\"prediction: {prediction}\")\n",
    "\n",
    "plt.style.use(\"default\")\n",
    "plt.gray()\n",
    "\n",
    "current_image = test_img.reshape((28, 28))\n",
    "plt.imshow(current_image)\n",
    "\n",
    "plt.show()"
   ]
  }
 ],
 "metadata": {
  "colab": {
   "provenance": []
  },
  "kernelspec": {
   "display_name": "Python 3 (ipykernel)",
   "language": "python",
   "name": "python3"
  },
  "language_info": {
   "codemirror_mode": {
    "name": "ipython",
    "version": 3
   },
   "file_extension": ".py",
   "mimetype": "text/x-python",
   "name": "python",
   "nbconvert_exporter": "python",
   "pygments_lexer": "ipython3",
   "version": "3.9.13"
  }
 },
 "nbformat": 4,
 "nbformat_minor": 1
}
