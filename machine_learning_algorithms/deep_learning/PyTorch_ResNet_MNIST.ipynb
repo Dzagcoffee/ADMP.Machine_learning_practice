{
  "nbformat": 4,
  "nbformat_minor": 0,
  "metadata": {
    "colab": {
      "provenance": []
    },
    "kernelspec": {
      "name": "python3",
      "display_name": "Python 3"
    },
    "language_info": {
      "name": "python"
    },
    "accelerator": "GPU",
    "gpuClass": "standard"
  },
  "cells": [
    {
      "cell_type": "markdown",
      "source": [
        "# **PyTorch ResNet MNIST**"
      ],
      "metadata": {
        "id": "yzpzIMb_Ycp2"
      }
    },
    {
      "cell_type": "code",
      "execution_count": null,
      "metadata": {
        "id": "KGlqrA3uPJ1G"
      },
      "outputs": [],
      "source": [
        "import pandas as pd\n",
        "import numpy as np\n",
        "import matplotlib.pyplot as plt\n",
        "from sklearn.model_selection import train_test_split"
        ]
    },
    {
      "cell_type": "code",
      "source": [
        "import torch\n",
        "import torchvision\n",
        "import torchvision.transforms as transforms\n",
        "from torch.utils.data import DataLoader\n",
        "import torch.nn as nn\n",
        "import torch.nn.functional as F\n",
        "import torch.optim as optim"
      ],
      "metadata": {
        "id": "atV5gPclQM0Z"
      },
      "execution_count": null,
      "outputs": []
    },
    {
      "cell_type": "code",
      "source": [
        "from google.colab import drive\n",
        "drive.mount(\"/content/gdrive/\", force_remount=True)"
      ],
      "metadata": {
        "colab": {
          "base_uri": "https://localhost:8080/"
        },
        "id": "CKF3QeVwQU0F",
        "outputId": "99df3d86-0286-4e47-e22c-7fae57533bd7"
      },
      "execution_count": null,
      "outputs": [
        {
          "output_type": "stream",
          "name": "stdout",
          "text": [
            "Mounted at /content/gdrive/\n"
          ]
        }
      ]
    },
    {
      "cell_type": "code",
      "source": [
        "data = pd.read_csv(\n",
        "    \"/content/gdrive/MyDrive/machine_learning_practice/MNIST/data.csv\"\n",
        ")"
      ],
      "metadata": {
        "id": "J-Kf2OIlQYv3"
      },
      "execution_count": null,
      "outputs": []
    },
    {
      "cell_type": "code",
      "source": [
        "X = data.drop(columns=[\"label\"]).values\n",
        "y = data[\"label\"].values"
      ],
      "metadata": {
        "id": "UC2MQoPbRMsi"
      },
      "execution_count": null,
      "outputs": []
    },
    {
      "cell_type": "code",
      "source": [
        "X_train, X_test, y_train, y_test = train_test_split(\n",
        "    X, y, test_size=0.3, random_state=42\n",
        ")"
      ],
      "metadata": {
        "id": "1hpz7wdxXMa_"
      },
      "execution_count": null,
      "outputs": []
    },
    {
      "cell_type": "code",
      "source": [
        "print(f\"X_train shape: {X_train.shape}\")\n",
        "print(f\"y_train shape: {y_train.shape}\")\n",
        "print(f\"X_test shape: {X_test.shape}\")\n",
        "print(f\"y_test shape: {y_test.shape}\")"
      ],
      "metadata": {
        "colab": {
          "base_uri": "https://localhost:8080/"
        },
        "id": "Gl6WWtWqRPjk",
        "outputId": "eeb5788e-99c8-4739-cd42-0f3215f7436c"
      },
      "execution_count": null,
      "outputs": [
        {
          "output_type": "stream",
          "name": "stdout",
          "text": [
            "X_train shape: (29400, 784)\n",
            "y_train shape: (29400,)\n",
            "X_test shape: (12600, 784)\n",
            "y_test shape: (12600,)\n"
          ]
        }
      ]
    },
    {
      "cell_type": "code",
      "source": [
        "class Dataset(torch.utils.data.Dataset):\n",
        "    def __init__(self, X, y, transform=None):\n",
        "        self.X = torch.tensor(X)\n",
        "        self.y = torch.tensor(y)\n",
        "\n",
        "    def __len__(self):\n",
        "        return len(self.X)\n",
        "\n",
        "    def __getitem__(self, index):\n",
        "        return self.X[index], self.y[index]"
      ],
      "metadata": {
        "id": "O85zE5iSSaD4"
      },
      "execution_count": null,
      "outputs": []
    },
    {
      "cell_type": "code",
      "source": [
        "epochs = 10\n",
        "batch_size = 64\n",
        "learning_rate = 0.001"
      ],
      "metadata": {
        "id": "PV6YqmwjYXx1"
      },
      "execution_count": null,
      "outputs": []
    },
    {
      "cell_type": "code",
      "source": [
        "train_data = Dataset(X_train, y_train)\n",
        "test_data = Dataset(X_test, y_test)"
      ],
      "metadata": {
        "id": "_M-pScriYOky"
      },
      "execution_count": null,
      "outputs": []
    },
    {
      "cell_type": "code",
      "source": [
        "train_dataloader = torch.utils.data.DataLoader(train_data, batch_size=batch_size, shuffle=True, drop_last=True)\n",
        "test_dataloader = torch.utils.data.DataLoader(test_data, batch_size=batch_size, shuffle=True, drop_last=True)"
      ],
      "metadata": {
        "id": "1xexLpATYTvZ"
      },
      "execution_count": null,
      "outputs": []
    },
    {
      "cell_type": "code",
      "source": [
        "ResNet = torchvision.models.resnet18(weights=None)"
      ],
      "metadata": {
        "id": "F3CQ3q9aZ_Xf"
      },
      "execution_count": null,
      "outputs": []
    },
    {
      "cell_type": "code",
      "source": [
        "ResNet.fc = nn.Sequential(\n",
        "    nn.Linear(512, 256),\n",
        "    nn.ReLU(),\n",
        "    nn.Linear(256, 10)\n",
        ")"
      ],
      "metadata": {
        "id": "1tpKz__rvFmv"
      },
      "execution_count": null,
      "outputs": []
    },
    {
      "cell_type": "code",
      "source": [
        "for parameter in ResNet.parameters():\n",
        "    parameter.requires_grad = True"
      ],
      "metadata": {
        "id": "IJo-Q3Rc7aGG"
      },
      "execution_count": null,
      "outputs": []
    },
    {
      "cell_type": "code",
      "source": [
        "ResNet"
      ],
      "metadata": {
        "colab": {
          "base_uri": "https://localhost:8080/"
        },
        "id": "lMo3E5qTp80t",
        "outputId": "22de9ce9-a94b-47af-b43b-d84bde6c7e3c"
      },
      "execution_count": null,
      "outputs": [
        {
          "output_type": "execute_result",
          "data": {
            "text/plain": [
              "ResNet(\n",
              "  (conv1): Conv2d(3, 64, kernel_size=(7, 7), stride=(2, 2), padding=(3, 3), bias=False)\n",
              "  (bn1): BatchNorm2d(64, eps=1e-05, momentum=0.1, affine=True, track_running_stats=True)\n",
              "  (relu): ReLU(inplace=True)\n",
              "  (maxpool): MaxPool2d(kernel_size=3, stride=2, padding=1, dilation=1, ceil_mode=False)\n",
              "  (layer1): Sequential(\n",
              "    (0): BasicBlock(\n",
              "      (conv1): Conv2d(64, 64, kernel_size=(3, 3), stride=(1, 1), padding=(1, 1), bias=False)\n",
              "      (bn1): BatchNorm2d(64, eps=1e-05, momentum=0.1, affine=True, track_running_stats=True)\n",
              "      (relu): ReLU(inplace=True)\n",
              "      (conv2): Conv2d(64, 64, kernel_size=(3, 3), stride=(1, 1), padding=(1, 1), bias=False)\n",
              "      (bn2): BatchNorm2d(64, eps=1e-05, momentum=0.1, affine=True, track_running_stats=True)\n",
              "    )\n",
              "    (1): BasicBlock(\n",
              "      (conv1): Conv2d(64, 64, kernel_size=(3, 3), stride=(1, 1), padding=(1, 1), bias=False)\n",
              "      (bn1): BatchNorm2d(64, eps=1e-05, momentum=0.1, affine=True, track_running_stats=True)\n",
              "      (relu): ReLU(inplace=True)\n",
              "      (conv2): Conv2d(64, 64, kernel_size=(3, 3), stride=(1, 1), padding=(1, 1), bias=False)\n",
              "      (bn2): BatchNorm2d(64, eps=1e-05, momentum=0.1, affine=True, track_running_stats=True)\n",
              "    )\n",
              "  )\n",
              "  (layer2): Sequential(\n",
              "    (0): BasicBlock(\n",
              "      (conv1): Conv2d(64, 128, kernel_size=(3, 3), stride=(2, 2), padding=(1, 1), bias=False)\n",
              "      (bn1): BatchNorm2d(128, eps=1e-05, momentum=0.1, affine=True, track_running_stats=True)\n",
              "      (relu): ReLU(inplace=True)\n",
              "      (conv2): Conv2d(128, 128, kernel_size=(3, 3), stride=(1, 1), padding=(1, 1), bias=False)\n",
              "      (bn2): BatchNorm2d(128, eps=1e-05, momentum=0.1, affine=True, track_running_stats=True)\n",
              "      (downsample): Sequential(\n",
              "        (0): Conv2d(64, 128, kernel_size=(1, 1), stride=(2, 2), bias=False)\n",
              "        (1): BatchNorm2d(128, eps=1e-05, momentum=0.1, affine=True, track_running_stats=True)\n",
              "      )\n",
              "    )\n",
              "    (1): BasicBlock(\n",
              "      (conv1): Conv2d(128, 128, kernel_size=(3, 3), stride=(1, 1), padding=(1, 1), bias=False)\n",
              "      (bn1): BatchNorm2d(128, eps=1e-05, momentum=0.1, affine=True, track_running_stats=True)\n",
              "      (relu): ReLU(inplace=True)\n",
              "      (conv2): Conv2d(128, 128, kernel_size=(3, 3), stride=(1, 1), padding=(1, 1), bias=False)\n",
              "      (bn2): BatchNorm2d(128, eps=1e-05, momentum=0.1, affine=True, track_running_stats=True)\n",
              "    )\n",
              "  )\n",
              "  (layer3): Sequential(\n",
              "    (0): BasicBlock(\n",
              "      (conv1): Conv2d(128, 256, kernel_size=(3, 3), stride=(2, 2), padding=(1, 1), bias=False)\n",
              "      (bn1): BatchNorm2d(256, eps=1e-05, momentum=0.1, affine=True, track_running_stats=True)\n",
              "      (relu): ReLU(inplace=True)\n",
              "      (conv2): Conv2d(256, 256, kernel_size=(3, 3), stride=(1, 1), padding=(1, 1), bias=False)\n",
              "      (bn2): BatchNorm2d(256, eps=1e-05, momentum=0.1, affine=True, track_running_stats=True)\n",
              "      (downsample): Sequential(\n",
              "        (0): Conv2d(128, 256, kernel_size=(1, 1), stride=(2, 2), bias=False)\n",
              "        (1): BatchNorm2d(256, eps=1e-05, momentum=0.1, affine=True, track_running_stats=True)\n",
              "      )\n",
              "    )\n",
              "    (1): BasicBlock(\n",
              "      (conv1): Conv2d(256, 256, kernel_size=(3, 3), stride=(1, 1), padding=(1, 1), bias=False)\n",
              "      (bn1): BatchNorm2d(256, eps=1e-05, momentum=0.1, affine=True, track_running_stats=True)\n",
              "      (relu): ReLU(inplace=True)\n",
              "      (conv2): Conv2d(256, 256, kernel_size=(3, 3), stride=(1, 1), padding=(1, 1), bias=False)\n",
              "      (bn2): BatchNorm2d(256, eps=1e-05, momentum=0.1, affine=True, track_running_stats=True)\n",
              "    )\n",
              "  )\n",
              "  (layer4): Sequential(\n",
              "    (0): BasicBlock(\n",
              "      (conv1): Conv2d(256, 512, kernel_size=(3, 3), stride=(2, 2), padding=(1, 1), bias=False)\n",
              "      (bn1): BatchNorm2d(512, eps=1e-05, momentum=0.1, affine=True, track_running_stats=True)\n",
              "      (relu): ReLU(inplace=True)\n",
              "      (conv2): Conv2d(512, 512, kernel_size=(3, 3), stride=(1, 1), padding=(1, 1), bias=False)\n",
              "      (bn2): BatchNorm2d(512, eps=1e-05, momentum=0.1, affine=True, track_running_stats=True)\n",
              "      (downsample): Sequential(\n",
              "        (0): Conv2d(256, 512, kernel_size=(1, 1), stride=(2, 2), bias=False)\n",
              "        (1): BatchNorm2d(512, eps=1e-05, momentum=0.1, affine=True, track_running_stats=True)\n",
              "      )\n",
              "    )\n",
              "    (1): BasicBlock(\n",
              "      (conv1): Conv2d(512, 512, kernel_size=(3, 3), stride=(1, 1), padding=(1, 1), bias=False)\n",
              "      (bn1): BatchNorm2d(512, eps=1e-05, momentum=0.1, affine=True, track_running_stats=True)\n",
              "      (relu): ReLU(inplace=True)\n",
              "      (conv2): Conv2d(512, 512, kernel_size=(3, 3), stride=(1, 1), padding=(1, 1), bias=False)\n",
              "      (bn2): BatchNorm2d(512, eps=1e-05, momentum=0.1, affine=True, track_running_stats=True)\n",
              "    )\n",
              "  )\n",
              "  (avgpool): AdaptiveAvgPool2d(output_size=(1, 1))\n",
              "  (fc): Sequential(\n",
              "    (0): Linear(in_features=512, out_features=256, bias=True)\n",
              "    (1): ReLU()\n",
              "    (2): Linear(in_features=256, out_features=10, bias=True)\n",
              "  )\n",
              ")"
            ]
          },
          "metadata": {},
          "execution_count": 15
        }
      ]
    },
    {
      "cell_type": "code",
      "source": [
        "criterion = nn.CrossEntropyLoss()\n",
        "optimizer = torch.optim.Adam(params=ResNet.parameters(), lr=learning_rate)"
      ],
      "metadata": {
        "id": "xJOvqHRraTB5"
      },
      "execution_count": null,
      "outputs": []
    },
    {
      "cell_type": "code",
      "source": [
        "loaders = {\n",
        "    \"train\": train_dataloader,\n",
        "    \"test\": test_dataloader\n",
        "}"
      ],
      "metadata": {
        "id": "yzOt3s5fb4uz"
      },
      "execution_count": null,
      "outputs": []
    },
    {
      "cell_type": "code",
      "source": [
        "device = torch.device(\"cuda\" if torch.cuda.is_available() else \"cpu\")\n",
        "device"
      ],
      "metadata": {
        "colab": {
          "base_uri": "https://localhost:8080/"
        },
        "id": "ybRF1fF3keBM",
        "outputId": "80668112-836d-4e20-a4a4-abac50bf3ede"
      },
      "execution_count": null,
      "outputs": [
        {
          "output_type": "execute_result",
          "data": {
            "text/plain": [
              "device(type='cuda')"
            ]
          },
          "metadata": {},
          "execution_count": 18
        }
      ]
    },
    {
      "cell_type": "code",
      "source": [
        "ResNet = ResNet.to(device)"
      ],
      "metadata": {
        "id": "q6i7F4pNjqS2"
      },
      "execution_count": null,
      "outputs": []
    },
    {
      "cell_type": "code",
      "source": [
        "accuracy = {\"train\": [], \"test\": []}\n",
        "\n",
        "for epoch in range(epochs):\n",
        "    epoch_correct = 0\n",
        "    epoch_all = 0\n",
        "\n",
        "    for k, dataloader in loaders.items():\n",
        "        for X_batch, y_batch in dataloader:\n",
        "            X_batch = X_batch.to(\"cuda\")\n",
        "            y_batch = y_batch.to(\"cuda\")\n",
        "            X_batch = X_batch.type(torch.float32)\n",
        "            X_batch = X_batch.view(batch_size, 1, 28, 28)\n",
        "            X_batch = X_batch.repeat(1, 3, 1, 1)\n",
        "\n",
        "            if k == \"train\":\n",
        "                ResNet.train()\n",
        "                out = ResNet(X_batch)\n",
        "                loss = criterion(out, y_batch)\n",
        "                optimizer.zero_grad()  \n",
        "                loss.backward()\n",
        "                optimizer.step()\n",
        "            else:\n",
        "                ResNet.eval()\n",
        "\n",
        "                with torch.no_grad():  \n",
        "                    out = ResNet(X_batch)\n",
        "\n",
        "            predictions = out.argmax(-1)\n",
        "            correct = torch.tensor(y_batch[y_batch==predictions].size())\n",
        "            all = batch_size\n",
        "            epoch_correct += correct.item()\n",
        "            epoch_all += all\n",
        "\n",
        "        if k == \"train\":\n",
        "            print(f\"Epoch: {epoch+1}\")\n",
        "        print(f\"Loader: {k}. Accuracy: {epoch_correct/epoch_all}\")\n",
        "        \n",
        "        accuracy[k].append(epoch_correct/epoch_all)"
      ],
      "metadata": {
        "colab": {
          "base_uri": "https://localhost:8080/"
        },
        "id": "QQWxpQg5bGCQ",
        "outputId": "26c77617-d7e8-4b33-e883-5d2b2e87bb32"
      },
      "execution_count": null,
      "outputs": [
        {
          "output_type": "stream",
          "name": "stdout",
          "text": [
            "Epoch: 1\n",
            "Loader: train. Accuracy: 0.9436955337690632\n",
            "Loader: test. Accuracy: 0.9529580152671756\n",
            "Epoch: 2\n",
            "Loader: train. Accuracy: 0.975864651416122\n",
            "Loader: test. Accuracy: 0.9652671755725191\n",
            "Epoch: 3\n",
            "Loader: train. Accuracy: 0.9814814814814815\n",
            "Loader: test. Accuracy: 0.9826335877862595\n",
            "Epoch: 4\n",
            "Loader: train. Accuracy: 0.984443082788671\n",
            "Loader: test. Accuracy: 0.9846135496183206\n",
            "Epoch: 5\n",
            "Loader: train. Accuracy: 0.9880174291938998\n",
            "Loader: test. Accuracy: 0.9863788167938932\n",
            "Epoch: 6\n",
            "Loader: train. Accuracy: 0.9874046840958606\n",
            "Loader: test. Accuracy: 0.9883110687022901\n",
            "Epoch: 7\n",
            "Loader: train. Accuracy: 0.988562091503268\n",
            "Loader: test. Accuracy: 0.9882156488549618\n",
            "Epoch: 8\n",
            "Loader: train. Accuracy: 0.9896173747276689\n",
            "Loader: test. Accuracy: 0.9885019083969465\n",
            "Epoch: 9\n",
            "Loader: train. Accuracy: 0.9912513616557734\n",
            "Loader: test. Accuracy: 0.9902671755725191\n",
            "Epoch: 10\n",
            "Loader: train. Accuracy: 0.9918981481481481\n",
            "Loader: test. Accuracy: 0.9882156488549618\n"
          ]
        }
      ]
    },
    {
      "cell_type": "code",
      "source": [
        "plt.style.use(\"seaborn-darkgrid\")\n",
        "plt.figure(figsize=(10, 7))\n",
        "\n",
        "plt.title(\"test_data accuracy\")\n",
        "plt.plot(range(epochs), accuracy[\"test\"], linewidth=2, label=\"test_data accuracy\")\n",
        "plt.plot(range(epochs), accuracy[\"train\"], linewidth=2, label=\"train_data accuracy\")\n",
        "plt.legend(fontsize=12)\n",
        "plt.show()"
      ],
      "metadata": {
        "id": "a2Sm5_BwcsBG",
        "colab": {
          "base_uri": "https://localhost:8080/",
          "height": 440
        },
        "outputId": "db015955-8179-4ba5-c068-dc7a95aaa01e"
      },
      "execution_count": null,
      "outputs": [
        {
          "output_type": "display_data",
          "data": {
            "text/plain": [
              "<Figure size 720x504 with 1 Axes>"
            ],
            "image/png": "[encoded data removed]"
          },
          "metadata": {}
        }
      ]
    },
    {
      "cell_type": "code",
      "source": [
        "test_img = X_test[13]\n",
        "test_label = y_test[13]\n",
        "\n",
        "ResNet.eval()\n",
        "\n",
        "test_img_tensor = torch.tensor(test_img)\n",
        "test_img_tensor = test_img_tensor.to(\"cuda\")\n",
        "test_img_tensor = test_img_tensor.type(torch.float32)\n",
        "test_img_tensor = test_img_tensor.view(1, 28, 28)\n",
        "test_img_tensor = test_img_tensor.repeat(1, 3, 1, 1)\n",
        "\n",
        "prediction = ResNet(test_img_tensor).argmax(-1)[0]"
      ],
      "metadata": {
        "id": "tQzQ8q-F5R_r"
      },
      "execution_count": null,
      "outputs": []
    },
    {
      "cell_type": "code",
      "source": [
        "print(f\"label: {test_label}\")\n",
        "print(f\"prediction: {prediction}\")\n",
        "\n",
        "plt.style.use(\"default\")\n",
        "plt.gray()\n",
        "\n",
        "current_image = test_img.reshape((28, 28))\n",
        "plt.imshow(current_image)\n",
        "\n",
        "plt.show()"
      ],
      "metadata": {
        "colab": {
          "base_uri": "https://localhost:8080/",
          "height": 465
        },
        "id": "hBIbeQuoABGr",
        "outputId": "a49f5792-5e52-4665-efec-6e2ded2686ad"
      },
      "execution_count": null,
      "outputs": [
        {
          "output_type": "stream",
          "name": "stdout",
          "text": [
            "label: 2\n",
            "prediction: 2\n"
          ]
        },
        {
          "output_type": "display_data",
          "data": {
            "text/plain": [
              "<Figure size 640x480 with 1 Axes>"
            ],
            "image/png": "[encoded data removed]"
          },
          "metadata": {}
        }
      ]
    }
  ]
}
