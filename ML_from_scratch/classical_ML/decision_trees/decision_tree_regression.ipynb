{
 "cells": [
  {
   "cell_type": "markdown",
   "metadata": {
    "id": "WJ5PRVCTQsLe",
    "tags": []
   },
   "source": [
    "# **Decision tree regression**"
   ]
  },
  {
   "cell_type": "markdown",
   "metadata": {
    "id": "4IHt2RHvmONo"
   },
   "source": [
    "## **Libraries**"
   ]
  },
  {
   "cell_type": "code",
   "execution_count": 1,
   "metadata": {
    "id": "f06YoyjJPkMB"
   },
   "outputs": [],
   "source": [
    "import numpy as np\n",
    "import pandas as pd\n",
    "import matplotlib.pyplot as plt\n",
    "\n",
    "from collections import Counter \n",
    "\n",
    "from sklearn.metrics import mean_squared_error\n",
    "from sklearn.model_selection import train_test_split"
   ]
  },
  {
   "cell_type": "markdown",
   "metadata": {
    "id": "vuCs3bt4mU4c"
   },
   "source": [
    "## **Decision tree regressor components**"
   ]
  },
  {
   "cell_type": "markdown",
   "metadata": {
    "id": "8V9loPz0mi_0"
   },
   "source": [
    "### **Node class**"
   ]
  },
  {
   "cell_type": "code",
   "execution_count": 2,
   "metadata": {
    "id": "901mUOkhP4ax"
   },
   "outputs": [],
   "source": [
    "class Node:\n",
    "    def __init__(self,\n",
    "                 split_idx=None,\n",
    "                 treshhold=None,\n",
    "                 l_subtree=None,\n",
    "                 r_subtree=None,\n",
    "                 var_reduction=None,\n",
    "                 leaf_node_value=None):\n",
    "        self.split_idx = split_idx\n",
    "        self.treshhold = treshhold\n",
    "        self.l_subtree = l_subtree\n",
    "        self.r_subtree = r_subtree\n",
    "        self.var_reduction = var_reduction\n",
    "\n",
    "        self.leaf_node_value = leaf_node_value"
   ]
  },
  {
   "cell_type": "markdown",
   "metadata": {
    "id": "JCuCJbKQms7c"
   },
   "source": [
    "### **DT regressor**"
   ]
  },
  {
   "cell_type": "code",
   "execution_count": 3,
   "metadata": {
    "id": "Bi9SrOXU6YGs"
   },
   "outputs": [],
   "source": [
    "class Decision_tree_regression:\n",
    "    def __init__(self, n_min_samples=2, max_depth=2):\n",
    "        self.n_min_samples = n_min_samples\n",
    "        self.max_depth = max_depth\n",
    "\n",
    "        self.root = None\n",
    "\n",
    "    def fit(self, X, y):\n",
    "        data = np.concatenate((X, y), axis=1)\n",
    "        self.root = self.build_tree(data)\n",
    "\n",
    "    def build_tree(self, data, current_depth=0):\n",
    "        X = data[:, :-1]\n",
    "        y = data[:, -1]\n",
    "\n",
    "        n_rows, n_columns = X.shape\n",
    "\n",
    "        if n_rows >= self.n_min_samples and current_depth <= self.max_depth:\n",
    "            best_split_values = self.get_best_split(data, n_columns)\n",
    "            \n",
    "            if best_split_values != {}:\n",
    "                if best_split_values[\"var_reduction\"] > 0:\n",
    "                    l_subtree = self.build_tree(\n",
    "                        best_split_values[\"l_split\"], current_depth + 1\n",
    "                    )\n",
    "                    r_subtree = self.build_tree(\n",
    "                        best_split_values[\"r_split\"], current_depth + 1\n",
    "                    )\n",
    "\n",
    "                    return Node(\n",
    "                        best_split_values[\"split_idx\"],\n",
    "                        best_split_values[\"treshhold\"],\n",
    "                        l_subtree,\n",
    "                        r_subtree,\n",
    "                        best_split_values[\"var_reduction\"]\n",
    "                    )\n",
    "\n",
    "        leaf_node_value = self.calculate_leaf_node(y)\n",
    "\n",
    "        return Node(leaf_node_value=leaf_node_value)\n",
    "\n",
    "    def get_best_split(self, data, n_columns):\n",
    "        max_var_reduction = -1\n",
    "        best_split_values = {}\n",
    "\n",
    "        for split_feature_idx in range(n_columns):\n",
    "            treshholds = np.unique(data[:, split_feature_idx])\n",
    "\n",
    "            for treshhold in treshholds:\n",
    "                l_split, r_split = self.make_split(\n",
    "                    data, split_feature_idx, treshhold\n",
    "                )\n",
    "\n",
    "                if len(l_split) > 0 and len(r_split) > 0:\n",
    "                    var_reduction = self.calculate_var_reduction(\n",
    "                        data, l_split, r_split\n",
    "                    )\n",
    "\n",
    "                    if var_reduction > max_var_reduction:\n",
    "                        best_split_values[\"split_idx\"] = split_feature_idx\n",
    "                        best_split_values[\"treshhold\"] = treshhold\n",
    "                        best_split_values[\"l_split\"] = l_split\n",
    "                        best_split_values[\"r_split\"] = r_split\n",
    "                        best_split_values[\"var_reduction\"] = var_reduction\n",
    "                        max_var_reduction = var_reduction\n",
    "\n",
    "        return best_split_values\n",
    "\n",
    "    def make_split(self, data, split_idx, treshhold):\n",
    "        l_split = np.array([\n",
    "            row\n",
    "            for row in data\n",
    "            if row[split_idx] <= treshhold\n",
    "        ])\n",
    "        r_split = np.array([\n",
    "            row\n",
    "            for row in data\n",
    "            if row[split_idx] > treshhold\n",
    "        ])\n",
    "\n",
    "        return l_split, r_split\n",
    "\n",
    "    def calculate_var_reduction(self, data, l_split, r_split):\n",
    "        targets = data[:, -1]\n",
    "        l_split_targets = l_split[:, -1]\n",
    "        r_split_targets = r_split[:, -1]\n",
    "\n",
    "        l_split_size = len(l_split)\n",
    "        r_split_size = len(r_split)\n",
    "        data_size = len(targets)\n",
    "\n",
    "        l_split_targets_var = np.var(l_split_targets)\n",
    "        r_split_targets_var = np.var(r_split_targets)\n",
    "        targets_var = np.var(targets)\n",
    "\n",
    "        data_var = data_size * targets_var\n",
    "        l_split_var = l_split_size * l_split_targets_var\n",
    "        r_split_var = r_split_size * r_split_targets_var\n",
    "        split_var = l_split_var + r_split_var\n",
    "\n",
    "        var_reduction = data_var - split_var\n",
    "\n",
    "        return var_reduction\n",
    "\n",
    "    def calculate_leaf_node(self, targets):\n",
    "        return np.mean(targets)\n",
    "\n",
    "    def predict(self, data):\n",
    "        predictions = np.array([\n",
    "            self.make_prediction(x, self.root) for x in data\n",
    "        ])\n",
    "\n",
    "        return predictions.reshape(-1, 1)\n",
    "\n",
    "    def make_prediction(self, x, node):\n",
    "        if node.leaf_node_value != None:\n",
    "            return node.leaf_node_value\n",
    "        else:\n",
    "            feature_value = x[node.split_idx]\n",
    "\n",
    "            if feature_value <= node.treshhold:\n",
    "                return self.make_prediction(x, node.l_subtree)\n",
    "            else:\n",
    "                return self.make_prediction(x, node.r_subtree)"
   ]
  },
  {
   "cell_type": "markdown",
   "metadata": {
    "id": "Y-X2LOPepo5R"
   },
   "source": [
    "## **Working with data**"
   ]
  },
  {
   "cell_type": "markdown",
   "metadata": {
    "id": "luFvxmsQpygy"
   },
   "source": [
    "### **Load data**"
   ]
  },
  {
   "cell_type": "code",
   "execution_count": 4,
   "metadata": {
    "colab": {
     "base_uri": "https://localhost:8080/",
     "height": 424
    },
    "id": "209Gd39r4Of7",
    "outputId": "ab2d73cd-c872-4809-bfb6-09b37ceebcdb"
   },
   "outputs": [
    {
     "data": {
      "text/html": [
       "<div>\n",
       "<style scoped>\n",
       "    .dataframe tbody tr th:only-of-type {\n",
       "        vertical-align: middle;\n",
       "    }\n",
       "\n",
       "    .dataframe tbody tr th {\n",
       "        vertical-align: top;\n",
       "    }\n",
       "\n",
       "    .dataframe thead th {\n",
       "        text-align: right;\n",
       "    }\n",
       "</style>\n",
       "<table border=\"1\" class=\"dataframe\">\n",
       "  <thead>\n",
       "    <tr style=\"text-align: right;\">\n",
       "      <th></th>\n",
       "      <th>x</th>\n",
       "      <th>x**3</th>\n",
       "      <th>x**5</th>\n",
       "      <th>x**7</th>\n",
       "      <th>y</th>\n",
       "    </tr>\n",
       "  </thead>\n",
       "  <tbody>\n",
       "    <tr>\n",
       "      <th>0</th>\n",
       "      <td>-2.074295</td>\n",
       "      <td>-8.925074</td>\n",
       "      <td>-3.840193e+01</td>\n",
       "      <td>-1.652321e+02</td>\n",
       "      <td>-3.768735</td>\n",
       "    </tr>\n",
       "    <tr>\n",
       "      <th>1</th>\n",
       "      <td>2.359096</td>\n",
       "      <td>13.129152</td>\n",
       "      <td>7.306810e+01</td>\n",
       "      <td>4.066483e+02</td>\n",
       "      <td>3.923851</td>\n",
       "    </tr>\n",
       "    <tr>\n",
       "      <th>2</th>\n",
       "      <td>2.820229</td>\n",
       "      <td>22.431223</td>\n",
       "      <td>1.784110e+02</td>\n",
       "      <td>1.419026e+03</td>\n",
       "      <td>2.512261</td>\n",
       "    </tr>\n",
       "    <tr>\n",
       "      <th>3</th>\n",
       "      <td>-0.035897</td>\n",
       "      <td>-0.000046</td>\n",
       "      <td>-5.960887e-08</td>\n",
       "      <td>-7.681310e-11</td>\n",
       "      <td>-0.000046</td>\n",
       "    </tr>\n",
       "    <tr>\n",
       "      <th>4</th>\n",
       "      <td>-0.791447</td>\n",
       "      <td>-0.495754</td>\n",
       "      <td>-3.105348e-01</td>\n",
       "      <td>-1.945155e-01</td>\n",
       "      <td>-0.445595</td>\n",
       "    </tr>\n",
       "    <tr>\n",
       "      <th>...</th>\n",
       "      <td>...</td>\n",
       "      <td>...</td>\n",
       "      <td>...</td>\n",
       "      <td>...</td>\n",
       "      <td>...</td>\n",
       "    </tr>\n",
       "    <tr>\n",
       "      <th>295</th>\n",
       "      <td>-2.650994</td>\n",
       "      <td>-18.630574</td>\n",
       "      <td>-1.309314e+02</td>\n",
       "      <td>-9.201555e+02</td>\n",
       "      <td>-3.311162</td>\n",
       "    </tr>\n",
       "    <tr>\n",
       "      <th>296</th>\n",
       "      <td>-2.554505</td>\n",
       "      <td>-16.669404</td>\n",
       "      <td>-1.087761e+02</td>\n",
       "      <td>-7.098178e+02</td>\n",
       "      <td>-3.614725</td>\n",
       "    </tr>\n",
       "    <tr>\n",
       "      <th>297</th>\n",
       "      <td>-2.871734</td>\n",
       "      <td>-23.682768</td>\n",
       "      <td>-1.953083e+02</td>\n",
       "      <td>-1.610679e+03</td>\n",
       "      <td>-2.198575</td>\n",
       "    </tr>\n",
       "    <tr>\n",
       "      <th>298</th>\n",
       "      <td>-2.158768</td>\n",
       "      <td>-10.060459</td>\n",
       "      <td>-4.688454e+01</td>\n",
       "      <td>-2.184950e+02</td>\n",
       "      <td>-3.877667</td>\n",
       "    </tr>\n",
       "    <tr>\n",
       "      <th>299</th>\n",
       "      <td>-0.411488</td>\n",
       "      <td>-0.069674</td>\n",
       "      <td>-1.179742e-02</td>\n",
       "      <td>-1.997570e-03</td>\n",
       "      <td>-0.067725</td>\n",
       "    </tr>\n",
       "  </tbody>\n",
       "</table>\n",
       "<p>300 rows × 5 columns</p>\n",
       "</div>"
      ],
      "text/plain": [
       "            x       x**3          x**5          x**7         y\n",
       "0   -2.074295  -8.925074 -3.840193e+01 -1.652321e+02 -3.768735\n",
       "1    2.359096  13.129152  7.306810e+01  4.066483e+02  3.923851\n",
       "2    2.820229  22.431223  1.784110e+02  1.419026e+03  2.512261\n",
       "3   -0.035897  -0.000046 -5.960887e-08 -7.681310e-11 -0.000046\n",
       "4   -0.791447  -0.495754 -3.105348e-01 -1.945155e-01 -0.445595\n",
       "..        ...        ...           ...           ...       ...\n",
       "295 -2.650994 -18.630574 -1.309314e+02 -9.201555e+02 -3.311162\n",
       "296 -2.554505 -16.669404 -1.087761e+02 -7.098178e+02 -3.614725\n",
       "297 -2.871734 -23.682768 -1.953083e+02 -1.610679e+03 -2.198575\n",
       "298 -2.158768 -10.060459 -4.688454e+01 -2.184950e+02 -3.877667\n",
       "299 -0.411488  -0.069674 -1.179742e-02 -1.997570e-03 -0.067725\n",
       "\n",
       "[300 rows x 5 columns]"
      ]
     },
     "execution_count": 4,
     "metadata": {},
     "output_type": "execute_result"
    }
   ],
   "source": [
    "data = pd.read_csv(\n",
    "    \"D://admp_northallerton/my_machine_learning/datas/regression_data.csv\"\n",
    ")\n",
    "data"
   ]
  },
  {
   "cell_type": "markdown",
   "metadata": {
    "id": "SR1ENCazp1Iq"
   },
   "source": [
    "### **Preprocessing data**"
   ]
  },
  {
   "cell_type": "code",
   "execution_count": 5,
   "metadata": {
    "id": "5HmQI1Dl_Tlv"
   },
   "outputs": [],
   "source": [
    "X = data.iloc[:, :-1].values\n",
    "y = data.iloc[:, -1].values.reshape(-1, 1)"
   ]
  },
  {
   "cell_type": "code",
   "execution_count": 6,
   "metadata": {
    "id": "Rl6R94FtBuCe"
   },
   "outputs": [],
   "source": [
    "X_train, X_test, y_train, y_test = train_test_split(\n",
    "    X, y, test_size=0.3, random_state=42\n",
    ")"
   ]
  },
  {
   "cell_type": "markdown",
   "metadata": {
    "id": "AInpnT7jqCzU"
   },
   "source": [
    "## **Model**"
   ]
  },
  {
   "cell_type": "code",
   "execution_count": 7,
   "metadata": {
    "id": "1nvzjHkkBG9G"
   },
   "outputs": [],
   "source": [
    "model = Decision_tree_regression(n_min_samples=3, max_depth=6)\n",
    "model.fit(X_train, y_train)"
   ]
  },
  {
   "cell_type": "markdown",
   "metadata": {
    "id": "BGxzKsi0qFq4"
   },
   "source": [
    "## **Test**"
   ]
  },
  {
   "cell_type": "code",
   "execution_count": 8,
   "metadata": {
    "id": "FpdDEFW931qw"
   },
   "outputs": [],
   "source": [
    "y_pred = model.predict(X_test)"
   ]
  },
  {
   "cell_type": "code",
   "execution_count": 9,
   "metadata": {
    "colab": {
     "base_uri": "https://localhost:8080/"
    },
    "id": "orcAneXTs1dK",
    "outputId": "7451b9f9-f7db-4c35-e31c-65a5358230a6"
   },
   "outputs": [
    {
     "data": {
      "text/plain": [
       "0.013693893093191491"
      ]
     },
     "execution_count": 9,
     "metadata": {},
     "output_type": "execute_result"
    }
   ],
   "source": [
    "mse = mean_squared_error(y_test, y_pred)\n",
    "mse"
   ]
  },
  {
   "cell_type": "code",
   "execution_count": 10,
   "metadata": {
    "colab": {
     "base_uri": "https://localhost:8080/",
     "height": 206
    },
    "id": "mxlYReEYUIXC",
    "outputId": "83e0abe6-a1f6-4bfb-f8a8-96c4710f88e7"
   },
   "outputs": [
    {
     "data": {
      "text/html": [
       "<div>\n",
       "<style scoped>\n",
       "    .dataframe tbody tr th:only-of-type {\n",
       "        vertical-align: middle;\n",
       "    }\n",
       "\n",
       "    .dataframe tbody tr th {\n",
       "        vertical-align: top;\n",
       "    }\n",
       "\n",
       "    .dataframe thead th {\n",
       "        text-align: right;\n",
       "    }\n",
       "</style>\n",
       "<table border=\"1\" class=\"dataframe\">\n",
       "  <thead>\n",
       "    <tr style=\"text-align: right;\">\n",
       "      <th></th>\n",
       "      <th>x</th>\n",
       "      <th>x**3</th>\n",
       "      <th>x**5</th>\n",
       "      <th>x**7</th>\n",
       "      <th>y</th>\n",
       "    </tr>\n",
       "  </thead>\n",
       "  <tbody>\n",
       "    <tr>\n",
       "      <th>0</th>\n",
       "      <td>-2.918149</td>\n",
       "      <td>-24.849758</td>\n",
       "      <td>-211.610369</td>\n",
       "      <td>-1801.987284</td>\n",
       "      <td>-1.886965</td>\n",
       "    </tr>\n",
       "    <tr>\n",
       "      <th>1</th>\n",
       "      <td>-3.112051</td>\n",
       "      <td>-30.139792</td>\n",
       "      <td>-291.899774</td>\n",
       "      <td>-2827.009467</td>\n",
       "      <td>-0.286062</td>\n",
       "    </tr>\n",
       "    <tr>\n",
       "      <th>2</th>\n",
       "      <td>2.194387</td>\n",
       "      <td>10.566701</td>\n",
       "      <td>50.882178</td>\n",
       "      <td>245.014604</td>\n",
       "      <td>3.909025</td>\n",
       "    </tr>\n",
       "    <tr>\n",
       "      <th>3</th>\n",
       "      <td>-2.355538</td>\n",
       "      <td>-13.069849</td>\n",
       "      <td>-72.518855</td>\n",
       "      <td>-402.375298</td>\n",
       "      <td>-3.925998</td>\n",
       "    </tr>\n",
       "    <tr>\n",
       "      <th>4</th>\n",
       "      <td>-2.265922</td>\n",
       "      <td>-11.634161</td>\n",
       "      <td>-59.734480</td>\n",
       "      <td>-306.700953</td>\n",
       "      <td>-3.943084</td>\n",
       "    </tr>\n",
       "  </tbody>\n",
       "</table>\n",
       "</div>"
      ],
      "text/plain": [
       "          x       x**3        x**5         x**7         y\n",
       "0 -2.918149 -24.849758 -211.610369 -1801.987284 -1.886965\n",
       "1 -3.112051 -30.139792 -291.899774 -2827.009467 -0.286062\n",
       "2  2.194387  10.566701   50.882178   245.014604  3.909025\n",
       "3 -2.355538 -13.069849  -72.518855  -402.375298 -3.925998\n",
       "4 -2.265922 -11.634161  -59.734480  -306.700953 -3.943084"
      ]
     },
     "execution_count": 10,
     "metadata": {},
     "output_type": "execute_result"
    }
   ],
   "source": [
    "test_data = pd.DataFrame(\n",
    "    np.concatenate((X_test, y_test), axis=1), columns=[\"x\", \"x**3\", \"x**5\", \"x**7\", \"y\"]\n",
    ")\n",
    "test_data.head()"
   ]
  },
  {
   "cell_type": "code",
   "execution_count": 11,
   "metadata": {
    "colab": {
     "base_uri": "https://localhost:8080/",
     "height": 206
    },
    "id": "a9T9NrvoXyQV",
    "outputId": "ca57e3ec-2530-40c1-90e7-7c90892f7ba9"
   },
   "outputs": [
    {
     "data": {
      "text/html": [
       "<div>\n",
       "<style scoped>\n",
       "    .dataframe tbody tr th:only-of-type {\n",
       "        vertical-align: middle;\n",
       "    }\n",
       "\n",
       "    .dataframe tbody tr th {\n",
       "        vertical-align: top;\n",
       "    }\n",
       "\n",
       "    .dataframe thead th {\n",
       "        text-align: right;\n",
       "    }\n",
       "</style>\n",
       "<table border=\"1\" class=\"dataframe\">\n",
       "  <thead>\n",
       "    <tr style=\"text-align: right;\">\n",
       "      <th></th>\n",
       "      <th>x</th>\n",
       "      <th>x**3</th>\n",
       "      <th>x**5</th>\n",
       "      <th>x**7</th>\n",
       "      <th>y</th>\n",
       "    </tr>\n",
       "  </thead>\n",
       "  <tbody>\n",
       "    <tr>\n",
       "      <th>0</th>\n",
       "      <td>-2.918149</td>\n",
       "      <td>-24.849758</td>\n",
       "      <td>-211.610369</td>\n",
       "      <td>-1801.987284</td>\n",
       "      <td>-1.896429</td>\n",
       "    </tr>\n",
       "    <tr>\n",
       "      <th>1</th>\n",
       "      <td>-3.112051</td>\n",
       "      <td>-30.139792</td>\n",
       "      <td>-291.899774</td>\n",
       "      <td>-2827.009467</td>\n",
       "      <td>-0.571750</td>\n",
       "    </tr>\n",
       "    <tr>\n",
       "      <th>2</th>\n",
       "      <td>2.194387</td>\n",
       "      <td>10.566701</td>\n",
       "      <td>50.882178</td>\n",
       "      <td>245.014604</td>\n",
       "      <td>3.887526</td>\n",
       "    </tr>\n",
       "    <tr>\n",
       "      <th>3</th>\n",
       "      <td>-2.355538</td>\n",
       "      <td>-13.069849</td>\n",
       "      <td>-72.518855</td>\n",
       "      <td>-402.375298</td>\n",
       "      <td>-3.819603</td>\n",
       "    </tr>\n",
       "    <tr>\n",
       "      <th>4</th>\n",
       "      <td>-2.265922</td>\n",
       "      <td>-11.634161</td>\n",
       "      <td>-59.734480</td>\n",
       "      <td>-306.700953</td>\n",
       "      <td>-3.819603</td>\n",
       "    </tr>\n",
       "  </tbody>\n",
       "</table>\n",
       "</div>"
      ],
      "text/plain": [
       "          x       x**3        x**5         x**7         y\n",
       "0 -2.918149 -24.849758 -211.610369 -1801.987284 -1.896429\n",
       "1 -3.112051 -30.139792 -291.899774 -2827.009467 -0.571750\n",
       "2  2.194387  10.566701   50.882178   245.014604  3.887526\n",
       "3 -2.355538 -13.069849  -72.518855  -402.375298 -3.819603\n",
       "4 -2.265922 -11.634161  -59.734480  -306.700953 -3.819603"
      ]
     },
     "execution_count": 11,
     "metadata": {},
     "output_type": "execute_result"
    }
   ],
   "source": [
    "pred_data = pd.DataFrame(\n",
    "    np.concatenate((X_test, y_pred), axis=1), columns=[\"x\", \"x**3\", \"x**5\", \"x**7\", \"y\"]\n",
    ")\n",
    "pred_data.head()"
   ]
  }
 ],
 "metadata": {
  "colab": {
   "provenance": []
  },
  "kernelspec": {
   "display_name": "Python 3 (ipykernel)",
   "language": "python",
   "name": "python3"
  },
  "language_info": {
   "codemirror_mode": {
    "name": "ipython",
    "version": 3
   },
   "file_extension": ".py",
   "mimetype": "text/x-python",
   "name": "python",
   "nbconvert_exporter": "python",
   "pygments_lexer": "ipython3",
   "version": "3.9.13"
  }
 },
 "nbformat": 4,
 "nbformat_minor": 1
}
