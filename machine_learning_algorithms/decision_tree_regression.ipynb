{
 "cells": [
  {
   "cell_type": "markdown",
   "metadata": {
    "id": "WJ5PRVCTQsLe",
    "tags": []
   },
   "source": [
    "# **<font color='#DC8665' font-weight = 'bold'>Decision tree regression</font>**"
   ]
  },
  {
   "cell_type": "markdown",
   "metadata": {
    "id": "z4wSeAQaPz0E"
   },
   "source": [
    "## **library import**"
   ]
  },
  {
   "cell_type": "code",
   "execution_count": 1,
   "metadata": {
    "id": "f06YoyjJPkMB"
   },
   "outputs": [],
   "source": [
    "import numpy as np\n",
    "import pandas as pd\n",
    "import matplotlib.pyplot as plt\n",
    "from sklearn.model_selection import train_test_split\n",
    "from sklearn.metrics import mean_squared_error"
   ]
  },
  {
   "cell_type": "markdown",
   "metadata": {
    "id": "JHi3oCuDP5A0",
    "tags": []
   },
   "source": [
    "## **class Node**"
   ]
  },
  {
   "cell_type": "code",
   "execution_count": 2,
   "metadata": {
    "id": "901mUOkhP4ax"
   },
   "outputs": [],
   "source": [
    "class Node():\n",
    "    def __init__(self, split_feature_index = None, split_treshhold = None, left_subtree = None,\n",
    "                 right_subtree = None, node_variance_reduction = None, leaf_node_value = None):\n",
    "        '''This class is simply a collection of data that the top of the decision tree should store.'''\n",
    "\n",
    "        # Для внутренних вершин, содержащих предикат\n",
    "        self.split_feature_index = split_feature_index\n",
    "        self.split_treshhold = split_treshhold\n",
    "        self.left_subtree = left_subtree\n",
    "        self.right_subtree = right_subtree\n",
    "        self.node_variance_reduction = node_variance_reduction\n",
    "\n",
    "        # Для листовых вершин, содержащих лишь значение\n",
    "        self.leaf_node_value = leaf_node_value"
   ]
  },
  {
   "cell_type": "markdown",
   "metadata": {
    "id": "JHi3oCuDP5A0",
    "tags": []
   },
   "source": [
    "## **class Decision_tree_regression**"
   ]
  },
  {
   "cell_type": "code",
   "execution_count": 3,
   "metadata": {
    "id": "Bi9SrOXU6YGs"
   },
   "outputs": [],
   "source": [
    "class Decision_tree_regression():\n",
    "    def __init__(self, node_min_samples_quant = 2, max_depth = 2):\n",
    "        '''This is the model class for decision tree regression'''\n",
    "\n",
    "        self._node_min_samples_quant = node_min_samples_quant\n",
    "        self._max_depth = max_depth\n",
    "\n",
    "        self._root = None\n",
    "    \n",
    "    def fit(self, X, Y):\n",
    "        '''This function we need for training the model on the training set'''\n",
    "\n",
    "        dataset = np.concatenate((X, Y), axis = 1, dtype = object)\n",
    "        self._root = self._build_tree(dataset)\n",
    "    \n",
    "    def _build_tree(self, dataset, current_depth = 0):\n",
    "        '''This function we need for building а deсision tree'''\n",
    "        X = dataset[:, :-1]\n",
    "        Y = dataset[:, -1]\n",
    "        \n",
    "        dataset_rows_quant, dataset_features_quant = X.shape\n",
    "\n",
    "        if dataset_rows_quant >= self._node_min_samples_quant and current_depth <= self._max_depth:\n",
    "            best_split_values = self._get_best_split(dataset, dataset_features_quant)\n",
    "\n",
    "            if best_split_values[\"node_variance_reduction\"] > 0:\n",
    "                left_subtree = self._build_tree(best_split_values[\"dataset_left_split\"], current_depth + 1)\n",
    "                right_subtree = self._build_tree(best_split_values[\"dataset_right_split\"], current_depth + 1)\n",
    "\n",
    "                return Node(best_split_values[\"split_feature_index\"], best_split_values[\"split_treshhold\"],\n",
    "                            left_subtree, right_subtree, best_split_values[\"node_variance_reduction\"])\n",
    "        \n",
    "        leaf_node_value = self._calculate_leaf_node_value(Y)\n",
    "\n",
    "        return Node(leaf_node_value = leaf_node_value)\n",
    "\n",
    "    def _get_best_split(self, dataset, dataset_features_quant):\n",
    "        '''This function finds and makes the best split'''\n",
    "\n",
    "        max_variance_reduction = -float(\"inf\")\n",
    "        best_split_values = {}\n",
    "\n",
    "        for current_split_feature_idx in range(dataset_features_quant):\n",
    "            possible_treshholds = np.unique(dataset[:, current_split_feature_idx])\n",
    "\n",
    "            for current_split_treshhold in possible_treshholds:\n",
    "                dataset_left_split, dataset_right_split = self._make_split(dataset, current_split_feature_idx,\n",
    "                                                                           current_split_treshhold)\n",
    "\n",
    "                if len(dataset_left_split) > 0 and len(dataset_right_split) > 0:\n",
    "                    current_variance_reduction = self._calculate_variance_reduction(dataset, dataset_left_split,\n",
    "                                                                                dataset_right_split)\n",
    "\n",
    "                    if current_variance_reduction > max_variance_reduction:\n",
    "                        best_split_values[\"split_feature_index\"] = current_split_feature_idx\n",
    "                        best_split_values[\"split_treshhold\"] = current_split_treshhold\n",
    "                        best_split_values[\"dataset_left_split\"] = dataset_left_split\n",
    "                        best_split_values[\"dataset_right_split\"] = dataset_right_split\n",
    "                        best_split_values[\"node_variance_reduction\"] = current_variance_reduction\n",
    "                        max_variance_reduction = current_variance_reduction\n",
    "        \n",
    "        return best_split_values\n",
    "\n",
    "    def _make_split(self, dataset, dataset_split_feature_index, dataset_split_treshhold):\n",
    "        '''This function produces the best sample split'''\n",
    "        dataset_left_split = np.array([row for row in dataset if row[dataset_split_feature_index] <= dataset_split_treshhold])\n",
    "        dataset_right_split = np.array([row for row in dataset if row[dataset_split_feature_index] > dataset_split_treshhold])\n",
    "\n",
    "        return dataset_left_split, dataset_right_split\n",
    "    \n",
    "    def _calculate_variance_reduction(self, dataset, dataset_left_split, dataset_right_split):\n",
    "        '''This function calculates the reduction between the variance of the parent\n",
    "        node and the sum of the variances of the child nodes'''\n",
    "\n",
    "        dataset_targets = dataset[:, -1]\n",
    "        dataset_left_split_targets = dataset_left_split[:, -1]\n",
    "        dataset_right_split_targets = dataset_right_split[:, -1]\n",
    "\n",
    "        card_dataset_left_split = len(dataset_left_split)\n",
    "        card_dataset_right_split = len(dataset_right_split)\n",
    "        card_dataset = len(dataset_targets)\n",
    "\n",
    "        dataset_left_split_targets_variance = np.var(dataset_left_split_targets)\n",
    "        dataset_right_split_targets_variance = np.var(dataset_right_split_targets)\n",
    "        dataset_targets_variance = np.var(dataset_targets)\n",
    "\n",
    "        dataset_variance = card_dataset * dataset_targets_variance\n",
    "        split_variance = card_dataset_left_split * dataset_left_split_targets_variance + \\\n",
    "                         card_dataset_right_split * dataset_right_split_targets_variance\n",
    "\n",
    "        variance_reduction = dataset_variance - split_variance\n",
    "\n",
    "        return variance_reduction\n",
    "\n",
    "    def _calculate_leaf_node_value(self, dataset_targets):\n",
    "        '''This function calculates the value that will be contained in the node if it is a leaf'''\n",
    "\n",
    "        return np.mean(dataset_targets)\n",
    "\n",
    "    def predict(self, data):\n",
    "        '''This function predicts the values ​​(class labels) for the sample that was passed as an argument'''\n",
    "\n",
    "        predictions = np.array([self._make_prediction(data_sample, self._root) for data_sample in data])\n",
    "\n",
    "        return predictions\n",
    "\n",
    "    def _make_prediction(self, sample, current_node):\n",
    "        '''This function predicts a value (class label) for a particular sample object'''\n",
    "\n",
    "        if current_node.leaf_node_value != None:\n",
    "            return current_node.leaf_node_value\n",
    "        else:\n",
    "            feature_value = sample[current_node.split_feature_index]\n",
    "\n",
    "            if feature_value <= current_node.split_treshhold:\n",
    "                return self._make_prediction(sample, current_node.left_subtree)\n",
    "            else:\n",
    "                return self._make_prediction(sample, current_node.right_subtree)"
   ]
  },
  {
   "cell_type": "markdown",
   "metadata": {
    "id": "FK-N5bM64JQp"
   },
   "source": [
    "## **initialize input data**"
   ]
  },
  {
   "cell_type": "code",
   "execution_count": 4,
   "metadata": {
    "colab": {
     "base_uri": "https://localhost:8080/",
     "height": 424
    },
    "id": "209Gd39r4Of7",
    "outputId": "ab2d73cd-c872-4809-bfb6-09b37ceebcdb"
   },
   "outputs": [
    {
     "data": {
      "text/html": [
       "<div>\n",
       "<style scoped>\n",
       "    .dataframe tbody tr th:only-of-type {\n",
       "        vertical-align: middle;\n",
       "    }\n",
       "\n",
       "    .dataframe tbody tr th {\n",
       "        vertical-align: top;\n",
       "    }\n",
       "\n",
       "    .dataframe thead th {\n",
       "        text-align: right;\n",
       "    }\n",
       "</style>\n",
       "<table border=\"1\" class=\"dataframe\">\n",
       "  <thead>\n",
       "    <tr style=\"text-align: right;\">\n",
       "      <th></th>\n",
       "      <th>x</th>\n",
       "      <th>x**3</th>\n",
       "      <th>x**5</th>\n",
       "      <th>x**7</th>\n",
       "      <th>y</th>\n",
       "    </tr>\n",
       "  </thead>\n",
       "  <tbody>\n",
       "    <tr>\n",
       "      <th>0</th>\n",
       "      <td>-2.074295</td>\n",
       "      <td>-8.925074</td>\n",
       "      <td>-3.840193e+01</td>\n",
       "      <td>-1.652321e+02</td>\n",
       "      <td>-3.768735</td>\n",
       "    </tr>\n",
       "    <tr>\n",
       "      <th>1</th>\n",
       "      <td>2.359096</td>\n",
       "      <td>13.129152</td>\n",
       "      <td>7.306810e+01</td>\n",
       "      <td>4.066483e+02</td>\n",
       "      <td>3.923851</td>\n",
       "    </tr>\n",
       "    <tr>\n",
       "      <th>2</th>\n",
       "      <td>2.820229</td>\n",
       "      <td>22.431223</td>\n",
       "      <td>1.784110e+02</td>\n",
       "      <td>1.419026e+03</td>\n",
       "      <td>2.512261</td>\n",
       "    </tr>\n",
       "    <tr>\n",
       "      <th>3</th>\n",
       "      <td>-0.035897</td>\n",
       "      <td>-0.000046</td>\n",
       "      <td>-5.960887e-08</td>\n",
       "      <td>-7.681310e-11</td>\n",
       "      <td>-0.000046</td>\n",
       "    </tr>\n",
       "    <tr>\n",
       "      <th>4</th>\n",
       "      <td>-0.791447</td>\n",
       "      <td>-0.495754</td>\n",
       "      <td>-3.105348e-01</td>\n",
       "      <td>-1.945155e-01</td>\n",
       "      <td>-0.445595</td>\n",
       "    </tr>\n",
       "    <tr>\n",
       "      <th>...</th>\n",
       "      <td>...</td>\n",
       "      <td>...</td>\n",
       "      <td>...</td>\n",
       "      <td>...</td>\n",
       "      <td>...</td>\n",
       "    </tr>\n",
       "    <tr>\n",
       "      <th>295</th>\n",
       "      <td>-2.650994</td>\n",
       "      <td>-18.630574</td>\n",
       "      <td>-1.309314e+02</td>\n",
       "      <td>-9.201555e+02</td>\n",
       "      <td>-3.311162</td>\n",
       "    </tr>\n",
       "    <tr>\n",
       "      <th>296</th>\n",
       "      <td>-2.554505</td>\n",
       "      <td>-16.669404</td>\n",
       "      <td>-1.087761e+02</td>\n",
       "      <td>-7.098178e+02</td>\n",
       "      <td>-3.614725</td>\n",
       "    </tr>\n",
       "    <tr>\n",
       "      <th>297</th>\n",
       "      <td>-2.871734</td>\n",
       "      <td>-23.682768</td>\n",
       "      <td>-1.953083e+02</td>\n",
       "      <td>-1.610679e+03</td>\n",
       "      <td>-2.198575</td>\n",
       "    </tr>\n",
       "    <tr>\n",
       "      <th>298</th>\n",
       "      <td>-2.158768</td>\n",
       "      <td>-10.060459</td>\n",
       "      <td>-4.688454e+01</td>\n",
       "      <td>-2.184950e+02</td>\n",
       "      <td>-3.877667</td>\n",
       "    </tr>\n",
       "    <tr>\n",
       "      <th>299</th>\n",
       "      <td>-0.411488</td>\n",
       "      <td>-0.069674</td>\n",
       "      <td>-1.179742e-02</td>\n",
       "      <td>-1.997570e-03</td>\n",
       "      <td>-0.067725</td>\n",
       "    </tr>\n",
       "  </tbody>\n",
       "</table>\n",
       "<p>300 rows × 5 columns</p>\n",
       "</div>"
      ],
      "text/plain": [
       "            x       x**3          x**5          x**7         y\n",
       "0   -2.074295  -8.925074 -3.840193e+01 -1.652321e+02 -3.768735\n",
       "1    2.359096  13.129152  7.306810e+01  4.066483e+02  3.923851\n",
       "2    2.820229  22.431223  1.784110e+02  1.419026e+03  2.512261\n",
       "3   -0.035897  -0.000046 -5.960887e-08 -7.681310e-11 -0.000046\n",
       "4   -0.791447  -0.495754 -3.105348e-01 -1.945155e-01 -0.445595\n",
       "..        ...        ...           ...           ...       ...\n",
       "295 -2.650994 -18.630574 -1.309314e+02 -9.201555e+02 -3.311162\n",
       "296 -2.554505 -16.669404 -1.087761e+02 -7.098178e+02 -3.614725\n",
       "297 -2.871734 -23.682768 -1.953083e+02 -1.610679e+03 -2.198575\n",
       "298 -2.158768 -10.060459 -4.688454e+01 -2.184950e+02 -3.877667\n",
       "299 -0.411488  -0.069674 -1.179742e-02 -1.997570e-03 -0.067725\n",
       "\n",
       "[300 rows x 5 columns]"
      ]
     },
     "execution_count": 4,
     "metadata": {},
     "output_type": "execute_result"
    }
   ],
   "source": [
    "df = pd.read_csv(\"D://ADMP_Anastasia/machine_learning/datasets/dataset_for_decision_tree_regression.csv\")\n",
    "df"
   ]
  },
  {
   "cell_type": "code",
   "execution_count": 5,
   "metadata": {
    "id": "5HmQI1Dl_Tlv"
   },
   "outputs": [],
   "source": [
    "X = df.iloc[:, :-1].values\n",
    "Y = df.iloc[:, -1].values.reshape(-1,1)"
   ]
  },
  {
   "cell_type": "code",
   "execution_count": 6,
   "metadata": {
    "id": "Rl6R94FtBuCe"
   },
   "outputs": [],
   "source": [
    "X_train, X_test, Y_train, Y_test = train_test_split(X, Y, test_size = 1/3, random_state = 42)\n",
    "\n",
    "X_test_len = len(X_test)\n",
    "Y_test_len = len(Y_test)"
   ]
  },
  {
   "cell_type": "markdown",
   "metadata": {
    "id": "m_-hGW_QBHKu"
   },
   "source": [
    "## **сreating and training decision tree regression model on our dataset**"
   ]
  },
  {
   "cell_type": "code",
   "execution_count": 7,
   "metadata": {
    "id": "1nvzjHkkBG9G"
   },
   "outputs": [],
   "source": [
    "model = Decision_tree_regression(node_min_samples_quant=2, max_depth=5)\n",
    "model.fit(X_train, Y_train)"
   ]
  },
  {
   "cell_type": "markdown",
   "metadata": {
    "id": "o0jyTTwuFM6_",
    "tags": []
   },
   "source": [
    "## **making predictions**"
   ]
  },
  {
   "cell_type": "code",
   "execution_count": 8,
   "metadata": {
    "id": "XPu9csXLFMou"
   },
   "outputs": [],
   "source": [
    "Y_pred = model.predict(X_test)\n",
    "Y_pred = Y_pred.reshape(-1, 1)\n",
    "Y_pred_len = len(Y_pred)"
   ]
  },
  {
   "cell_type": "markdown",
   "metadata": {
    "id": "4gG6pqAlErnH"
   },
   "source": [
    "## **displaying a graph with a test sample, true targets and model predictions**"
   ]
  },
  {
   "cell_type": "code",
   "execution_count": 9,
   "metadata": {
    "colab": {
     "base_uri": "https://localhost:8080/",
     "height": 336
    },
    "id": "J1v5KOalZ2zK",
    "outputId": "658c6498-390e-490a-bac3-658bf1bf893b"
   },
   "outputs": [
    {
     "data": {
      "image/png": "[encoded data removed]",
      "text/plain": [
       "<Figure size 504x360 with 1 Axes>"
      ]
     },
     "metadata": {
      "needs_background": "light"
     },
     "output_type": "display_data"
    }
   ],
   "source": [
    "graph_X_values = X_test[:, 0]\n",
    "graph_Y_test_values = Y_test\n",
    "grapg_Y_pred_values = Y_pred\n",
    "\n",
    "figure, ax = plt.subplots()\n",
    "\n",
    "figure.set_figwidth(7)\n",
    "figure.set_figheight(5)\n",
    "\n",
    "ax.set_title('Тестовая выборка и предсказания модели')\n",
    "\n",
    "ax.scatter(graph_X_values, graph_Y_test_values, color = \"tomato\",\n",
    "           label = \"Тестовая выборка\", marker = \"x\")\n",
    "ax.scatter(graph_X_values, grapg_Y_pred_values, color = \"gold\",\n",
    "           edgecolors='orange', label = \"Предсказания модели\", alpha = 0.5)\n",
    "\n",
    "ax.legend()\n",
    "\n",
    "plt.show()"
   ]
  },
  {
   "cell_type": "markdown",
   "metadata": {
    "id": "H9AdVVR5soXB"
   },
   "source": [
    "## **displaying accuracy score of our predictions**"
   ]
  },
  {
   "cell_type": "code",
   "execution_count": 10,
   "metadata": {
    "colab": {
     "base_uri": "https://localhost:8080/"
    },
    "id": "orcAneXTs1dK",
    "outputId": "7451b9f9-f7db-4c35-e31c-65a5358230a6"
   },
   "outputs": [
    {
     "data": {
      "text/plain": [
       "0.015587210904020356"
      ]
     },
     "execution_count": 10,
     "metadata": {},
     "output_type": "execute_result"
    }
   ],
   "source": [
    "mean_squared_error_value = mean_squared_error(Y_test, Y_pred)\n",
    "mean_squared_error_value"
   ]
  },
  {
   "cell_type": "markdown",
   "metadata": {
    "id": "LWFUurp7T8jS"
   },
   "source": [
    "## **displaying a table with test data and targets**"
   ]
  },
  {
   "cell_type": "code",
   "execution_count": 11,
   "metadata": {
    "colab": {
     "base_uri": "https://localhost:8080/",
     "height": 206
    },
    "id": "mxlYReEYUIXC",
    "outputId": "83e0abe6-a1f6-4bfb-f8a8-96c4710f88e7"
   },
   "outputs": [
    {
     "data": {
      "text/html": [
       "<div>\n",
       "<style scoped>\n",
       "    .dataframe tbody tr th:only-of-type {\n",
       "        vertical-align: middle;\n",
       "    }\n",
       "\n",
       "    .dataframe tbody tr th {\n",
       "        vertical-align: top;\n",
       "    }\n",
       "\n",
       "    .dataframe thead th {\n",
       "        text-align: right;\n",
       "    }\n",
       "</style>\n",
       "<table border=\"1\" class=\"dataframe\">\n",
       "  <thead>\n",
       "    <tr style=\"text-align: right;\">\n",
       "      <th></th>\n",
       "      <th>x</th>\n",
       "      <th>x**3</th>\n",
       "      <th>x**5</th>\n",
       "      <th>x**7</th>\n",
       "      <th>y</th>\n",
       "    </tr>\n",
       "  </thead>\n",
       "  <tbody>\n",
       "    <tr>\n",
       "      <th>0</th>\n",
       "      <td>-2.918149</td>\n",
       "      <td>-24.849758</td>\n",
       "      <td>-211.610369</td>\n",
       "      <td>-1801.987284</td>\n",
       "      <td>-1.886965</td>\n",
       "    </tr>\n",
       "    <tr>\n",
       "      <th>1</th>\n",
       "      <td>-3.112051</td>\n",
       "      <td>-30.139792</td>\n",
       "      <td>-291.899774</td>\n",
       "      <td>-2827.009467</td>\n",
       "      <td>-0.286062</td>\n",
       "    </tr>\n",
       "    <tr>\n",
       "      <th>2</th>\n",
       "      <td>2.194387</td>\n",
       "      <td>10.566701</td>\n",
       "      <td>50.882178</td>\n",
       "      <td>245.014604</td>\n",
       "      <td>3.909025</td>\n",
       "    </tr>\n",
       "    <tr>\n",
       "      <th>3</th>\n",
       "      <td>-2.355538</td>\n",
       "      <td>-13.069849</td>\n",
       "      <td>-72.518855</td>\n",
       "      <td>-402.375298</td>\n",
       "      <td>-3.925998</td>\n",
       "    </tr>\n",
       "    <tr>\n",
       "      <th>4</th>\n",
       "      <td>-2.265922</td>\n",
       "      <td>-11.634161</td>\n",
       "      <td>-59.734480</td>\n",
       "      <td>-306.700953</td>\n",
       "      <td>-3.943084</td>\n",
       "    </tr>\n",
       "  </tbody>\n",
       "</table>\n",
       "</div>"
      ],
      "text/plain": [
       "          x       x**3        x**5         x**7         y\n",
       "0 -2.918149 -24.849758 -211.610369 -1801.987284 -1.886965\n",
       "1 -3.112051 -30.139792 -291.899774 -2827.009467 -0.286062\n",
       "2  2.194387  10.566701   50.882178   245.014604  3.909025\n",
       "3 -2.355538 -13.069849  -72.518855  -402.375298 -3.925998\n",
       "4 -2.265922 -11.634161  -59.734480  -306.700953 -3.943084"
      ]
     },
     "execution_count": 11,
     "metadata": {},
     "output_type": "execute_result"
    }
   ],
   "source": [
    "test_df = pd.DataFrame(np.concatenate((X_test, Y_test), axis = 1),\n",
    "                       columns = [\"x\", \"x**3\", \"x**5\", \"x**7\", \"y\"])\n",
    "test_df.head()"
   ]
  },
  {
   "cell_type": "markdown",
   "metadata": {
    "id": "Yn6WvGJyUDD-"
   },
   "source": [
    "## **displaying a table with test data and our model predictions**"
   ]
  },
  {
   "cell_type": "code",
   "execution_count": 12,
   "metadata": {
    "colab": {
     "base_uri": "https://localhost:8080/",
     "height": 206
    },
    "id": "a9T9NrvoXyQV",
    "outputId": "ca57e3ec-2530-40c1-90e7-7c90892f7ba9"
   },
   "outputs": [
    {
     "data": {
      "text/html": [
       "<div>\n",
       "<style scoped>\n",
       "    .dataframe tbody tr th:only-of-type {\n",
       "        vertical-align: middle;\n",
       "    }\n",
       "\n",
       "    .dataframe tbody tr th {\n",
       "        vertical-align: top;\n",
       "    }\n",
       "\n",
       "    .dataframe thead th {\n",
       "        text-align: right;\n",
       "    }\n",
       "</style>\n",
       "<table border=\"1\" class=\"dataframe\">\n",
       "  <thead>\n",
       "    <tr style=\"text-align: right;\">\n",
       "      <th></th>\n",
       "      <th>x</th>\n",
       "      <th>x**3</th>\n",
       "      <th>x**5</th>\n",
       "      <th>x**7</th>\n",
       "      <th>y</th>\n",
       "    </tr>\n",
       "  </thead>\n",
       "  <tbody>\n",
       "    <tr>\n",
       "      <th>0</th>\n",
       "      <td>-2.918149</td>\n",
       "      <td>-24.849758</td>\n",
       "      <td>-211.610369</td>\n",
       "      <td>-1801.987284</td>\n",
       "      <td>-1.896429</td>\n",
       "    </tr>\n",
       "    <tr>\n",
       "      <th>1</th>\n",
       "      <td>-3.112051</td>\n",
       "      <td>-30.139792</td>\n",
       "      <td>-291.899774</td>\n",
       "      <td>-2827.009467</td>\n",
       "      <td>-0.571750</td>\n",
       "    </tr>\n",
       "    <tr>\n",
       "      <th>2</th>\n",
       "      <td>2.194387</td>\n",
       "      <td>10.566701</td>\n",
       "      <td>50.882178</td>\n",
       "      <td>245.014604</td>\n",
       "      <td>3.807472</td>\n",
       "    </tr>\n",
       "    <tr>\n",
       "      <th>3</th>\n",
       "      <td>-2.355538</td>\n",
       "      <td>-13.069849</td>\n",
       "      <td>-72.518855</td>\n",
       "      <td>-402.375298</td>\n",
       "      <td>-3.775563</td>\n",
       "    </tr>\n",
       "    <tr>\n",
       "      <th>4</th>\n",
       "      <td>-2.265922</td>\n",
       "      <td>-11.634161</td>\n",
       "      <td>-59.734480</td>\n",
       "      <td>-306.700953</td>\n",
       "      <td>-3.775563</td>\n",
       "    </tr>\n",
       "  </tbody>\n",
       "</table>\n",
       "</div>"
      ],
      "text/plain": [
       "          x       x**3        x**5         x**7         y\n",
       "0 -2.918149 -24.849758 -211.610369 -1801.987284 -1.896429\n",
       "1 -3.112051 -30.139792 -291.899774 -2827.009467 -0.571750\n",
       "2  2.194387  10.566701   50.882178   245.014604  3.807472\n",
       "3 -2.355538 -13.069849  -72.518855  -402.375298 -3.775563\n",
       "4 -2.265922 -11.634161  -59.734480  -306.700953 -3.775563"
      ]
     },
     "execution_count": 12,
     "metadata": {},
     "output_type": "execute_result"
    }
   ],
   "source": [
    "pred_df = pd.DataFrame(np.concatenate((X_test, Y_pred), axis = 1),\n",
    "                       columns = [\"x\", \"x**3\", \"x**5\", \"x**7\", \"y\"])\n",
    "pred_df.head()"
   ]
  }
 ],
 "metadata": {
  "colab": {
   "provenance": []
  },
  "kernelspec": {
   "display_name": "Python 3 (ipykernel)",
   "language": "python",
   "name": "python3"
  },
  "language_info": {
   "codemirror_mode": {
    "name": "ipython",
    "version": 3
   },
   "file_extension": ".py",
   "mimetype": "text/x-python",
   "name": "python",
   "nbconvert_exporter": "python",
   "pygments_lexer": "ipython3",
   "version": "3.9.12"
  }
 },
 "nbformat": 4,
 "nbformat_minor": 4
}
