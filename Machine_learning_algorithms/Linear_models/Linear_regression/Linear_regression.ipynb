{
  "nbformat": 4,
  "nbformat_minor": 0,
  "metadata": {
    "colab": {
      "provenance": [],
      "collapsed_sections": []
    },
    "kernelspec": {
      "name": "python3",
      "display_name": "Python 3"
    },
    "language_info": {
      "name": "python"
    }
  },
  "cells": [
    {
      "cell_type": "markdown",
      "source": [
        "# Немного о том, что тут происходит"
      ],
      "metadata": {
        "id": "dCnMV7wqvC8n"
      }
    },
    {
      "cell_type": "markdown",
      "source": [
        "Это мой ноутбук, посвященный реализации **алгоритма линейной регрессии**, использующего в качестве основы (для поиска минимума функции потерь) метод **градиентного спуска**. Линейная регрессия реализована в виде класса. Для того, чтобы тренировать модель исходя из входных данных, необходимо сначала создать объект класса **Linear_regression**, передав необходимые для обучения модели параметры, после чего тренировать модель, используя метод **fit()** класса Linear_regression. Далее, уже с помощью функции **predict()**, можно предсказать значение таргета при даных значениях выборки."
      ],
      "metadata": {
        "id": "EGYbL4QxvCSi"
      }
    },
    {
      "cell_type": "markdown",
      "source": [
        "# Импорт библиотек"
      ],
      "metadata": {
        "id": "4g00BrBWpzgY"
      }
    },
    {
      "cell_type": "code",
      "execution_count": 1,
      "metadata": {
        "id": "iv-BnCqcl3iR"
      },
      "outputs": [],
      "source": [
        "import numpy as np\n",
        "import pandas as pd\n",
        "import matplotlib.pyplot as plt\n",
        "from sklearn.model_selection import train_test_split"
      ]
    },
    {
      "cell_type": "markdown",
      "source": [
        "# Класс \"Линейная регрессия\""
      ],
      "metadata": {
        "id": "b6N3epXBuVn0"
      }
    },
    {
      "cell_type": "code",
      "source": [
        "class Linear_regression():\n",
        "    def __init__(self, learning_rate = 0.001, iterations_quant = 1000, reg_coefficient = 0.001):\n",
        "        self.learning_rate = learning_rate\n",
        "        self.iterations_quant = iterations_quant\n",
        "        self.reg_coefficient = reg_coefficient\n",
        "        self.w = None\n",
        "        self.bias = None\n",
        "    \n",
        "    def fit(self, X, Y):\n",
        "        self.df_rows_quant, self.df_columns_quant = X.shape\n",
        "\n",
        "        self.w = np.random.rand(self.df_columns_quant)\n",
        "        self.bias = 0\n",
        "\n",
        "        self.X = X\n",
        "        self.Y = Y\n",
        "\n",
        "        for i in range(self.iterations_quant):\n",
        "            some_predict = self.predict(self.X)\n",
        "            \n",
        "            transposed_X = np.transpose(self.X)\n",
        "            err = some_predict - self.Y\n",
        "\n",
        "            d_w = 2 * np.dot(transposed_X, err) / self.df_rows_quant\n",
        "            d_bias = 2 * np.sum(some_predict - self.Y) / self.df_rows_quant\n",
        "\n",
        "            self.w -= self.learning_rate * (d_w + 2 * self.reg_coefficient * self.w)\n",
        "            self.bias -= self.learning_rate * d_bias\n",
        "\n",
        "    def predict(self, X):\n",
        "        return np.dot(X, self.w) + self.bias"
      ],
      "metadata": {
        "id": "wVRoxJhxuUiu"
      },
      "execution_count": 2,
      "outputs": []
    },
    {
      "cell_type": "markdown",
      "source": [
        "# Инициализируем входные данные"
      ],
      "metadata": {
        "id": "FK-N5bM64JQp"
      }
    },
    {
      "cell_type": "markdown",
      "source": [
        "## Для начала импортируем датасет"
      ],
      "metadata": {
        "id": "IIXZealv-OjN"
      }
    },
    {
      "cell_type": "code",
      "source": [
        "df = pd.read_csv(\"/content/sample_data/some_function_values.csv\")\n",
        "df"
      ],
      "metadata": {
        "colab": {
          "base_uri": "https://localhost:8080/",
          "height": 424
        },
        "id": "209Gd39r4Of7",
        "outputId": "338df153-414e-4bc9-8fa9-1d59b02860c9"
      },
      "execution_count": 3,
      "outputs": [
        {
          "output_type": "execute_result",
          "data": {
            "text/plain": [
              "            x      x**2      x**3       x**4       x**5       x**6  \\\n",
              "0   -2.000000  4.000000 -8.000000  16.000000 -32.000000  64.000000   \n",
              "1   -1.988848  3.955515 -7.866916  15.646097 -31.117701  61.888365   \n",
              "2   -1.977695  3.911278 -7.735316  15.298097 -30.254972  59.835113   \n",
              "3   -1.966543  3.867290 -7.605192  14.955935 -29.411485  57.838944   \n",
              "4   -1.955390  3.823551 -7.476535  14.619545 -28.586917  55.898581   \n",
              "..        ...       ...       ...        ...        ...        ...   \n",
              "265  0.955390  0.912771  0.872052   0.833150   0.795984   0.760475   \n",
              "266  0.966543  0.934205  0.902949   0.872739   0.843539   0.815317   \n",
              "267  0.977695  0.955888  0.934567   0.913722   0.893341   0.873415   \n",
              "268  0.988848  0.977820  0.966914   0.956131   0.945468   0.934924   \n",
              "269  1.000000  1.000000  1.000000   1.000000   1.000000   1.000000   \n",
              "\n",
              "           x**7         y  \n",
              "0   -128.000000 -0.270671  \n",
              "1   -123.086526 -0.272180  \n",
              "2   -118.335613 -0.273689  \n",
              "3   -113.742755 -0.275198  \n",
              "4   -109.303545 -0.276706  \n",
              "..          ...       ...  \n",
              "265    0.726551  2.483714  \n",
              "266    0.788039  2.540886  \n",
              "267    0.853934  2.599029  \n",
              "268    0.924497  2.658156  \n",
              "269    1.000000  2.718282  \n",
              "\n",
              "[270 rows x 8 columns]"
            ],
            "text/html": [
              "\n",
              "  <div id=\"df-b97ec28f-5216-463e-a6f3-1a647fc9d306\">\n",
              "    <div class=\"colab-df-container\">\n",
              "      <div>\n",
              "<style scoped>\n",
              "    .dataframe tbody tr th:only-of-type {\n",
              "        vertical-align: middle;\n",
              "    }\n",
              "\n",
              "    .dataframe tbody tr th {\n",
              "        vertical-align: top;\n",
              "    }\n",
              "\n",
              "    .dataframe thead th {\n",
              "        text-align: right;\n",
              "    }\n",
              "</style>\n",
              "<table border=\"1\" class=\"dataframe\">\n",
              "  <thead>\n",
              "    <tr style=\"text-align: right;\">\n",
              "      <th></th>\n",
              "      <th>x</th>\n",
              "      <th>x**2</th>\n",
              "      <th>x**3</th>\n",
              "      <th>x**4</th>\n",
              "      <th>x**5</th>\n",
              "      <th>x**6</th>\n",
              "      <th>x**7</th>\n",
              "      <th>y</th>\n",
              "    </tr>\n",
              "  </thead>\n",
              "  <tbody>\n",
              "    <tr>\n",
              "      <th>0</th>\n",
              "      <td>-2.000000</td>\n",
              "      <td>4.000000</td>\n",
              "      <td>-8.000000</td>\n",
              "      <td>16.000000</td>\n",
              "      <td>-32.000000</td>\n",
              "      <td>64.000000</td>\n",
              "      <td>-128.000000</td>\n",
              "      <td>-0.270671</td>\n",
              "    </tr>\n",
              "    <tr>\n",
              "      <th>1</th>\n",
              "      <td>-1.988848</td>\n",
              "      <td>3.955515</td>\n",
              "      <td>-7.866916</td>\n",
              "      <td>15.646097</td>\n",
              "      <td>-31.117701</td>\n",
              "      <td>61.888365</td>\n",
              "      <td>-123.086526</td>\n",
              "      <td>-0.272180</td>\n",
              "    </tr>\n",
              "    <tr>\n",
              "      <th>2</th>\n",
              "      <td>-1.977695</td>\n",
              "      <td>3.911278</td>\n",
              "      <td>-7.735316</td>\n",
              "      <td>15.298097</td>\n",
              "      <td>-30.254972</td>\n",
              "      <td>59.835113</td>\n",
              "      <td>-118.335613</td>\n",
              "      <td>-0.273689</td>\n",
              "    </tr>\n",
              "    <tr>\n",
              "      <th>3</th>\n",
              "      <td>-1.966543</td>\n",
              "      <td>3.867290</td>\n",
              "      <td>-7.605192</td>\n",
              "      <td>14.955935</td>\n",
              "      <td>-29.411485</td>\n",
              "      <td>57.838944</td>\n",
              "      <td>-113.742755</td>\n",
              "      <td>-0.275198</td>\n",
              "    </tr>\n",
              "    <tr>\n",
              "      <th>4</th>\n",
              "      <td>-1.955390</td>\n",
              "      <td>3.823551</td>\n",
              "      <td>-7.476535</td>\n",
              "      <td>14.619545</td>\n",
              "      <td>-28.586917</td>\n",
              "      <td>55.898581</td>\n",
              "      <td>-109.303545</td>\n",
              "      <td>-0.276706</td>\n",
              "    </tr>\n",
              "    <tr>\n",
              "      <th>...</th>\n",
              "      <td>...</td>\n",
              "      <td>...</td>\n",
              "      <td>...</td>\n",
              "      <td>...</td>\n",
              "      <td>...</td>\n",
              "      <td>...</td>\n",
              "      <td>...</td>\n",
              "      <td>...</td>\n",
              "    </tr>\n",
              "    <tr>\n",
              "      <th>265</th>\n",
              "      <td>0.955390</td>\n",
              "      <td>0.912771</td>\n",
              "      <td>0.872052</td>\n",
              "      <td>0.833150</td>\n",
              "      <td>0.795984</td>\n",
              "      <td>0.760475</td>\n",
              "      <td>0.726551</td>\n",
              "      <td>2.483714</td>\n",
              "    </tr>\n",
              "    <tr>\n",
              "      <th>266</th>\n",
              "      <td>0.966543</td>\n",
              "      <td>0.934205</td>\n",
              "      <td>0.902949</td>\n",
              "      <td>0.872739</td>\n",
              "      <td>0.843539</td>\n",
              "      <td>0.815317</td>\n",
              "      <td>0.788039</td>\n",
              "      <td>2.540886</td>\n",
              "    </tr>\n",
              "    <tr>\n",
              "      <th>267</th>\n",
              "      <td>0.977695</td>\n",
              "      <td>0.955888</td>\n",
              "      <td>0.934567</td>\n",
              "      <td>0.913722</td>\n",
              "      <td>0.893341</td>\n",
              "      <td>0.873415</td>\n",
              "      <td>0.853934</td>\n",
              "      <td>2.599029</td>\n",
              "    </tr>\n",
              "    <tr>\n",
              "      <th>268</th>\n",
              "      <td>0.988848</td>\n",
              "      <td>0.977820</td>\n",
              "      <td>0.966914</td>\n",
              "      <td>0.956131</td>\n",
              "      <td>0.945468</td>\n",
              "      <td>0.934924</td>\n",
              "      <td>0.924497</td>\n",
              "      <td>2.658156</td>\n",
              "    </tr>\n",
              "    <tr>\n",
              "      <th>269</th>\n",
              "      <td>1.000000</td>\n",
              "      <td>1.000000</td>\n",
              "      <td>1.000000</td>\n",
              "      <td>1.000000</td>\n",
              "      <td>1.000000</td>\n",
              "      <td>1.000000</td>\n",
              "      <td>1.000000</td>\n",
              "      <td>2.718282</td>\n",
              "    </tr>\n",
              "  </tbody>\n",
              "</table>\n",
              "<p>270 rows × 8 columns</p>\n",
              "</div>\n",
              "      <button class=\"colab-df-convert\" onclick=\"convertToInteractive('df-b97ec28f-5216-463e-a6f3-1a647fc9d306')\"\n",
              "              title=\"Convert this dataframe to an interactive table.\"\n",
              "              style=\"display:none;\">\n",
              "        \n",
              "  <svg xmlns=\"http://www.w3.org/2000/svg\" height=\"24px\"viewBox=\"0 0 24 24\"\n",
              "       width=\"24px\">\n",
              "    <path d=\"M0 0h24v24H0V0z\" fill=\"none\"/>\n",
              "    <path d=\"M18.56 5.44l.94 2.06.94-2.06 2.06-.94-2.06-.94-.94-2.06-.94 2.06-2.06.94zm-11 1L8.5 8.5l.94-2.06 2.06-.94-2.06-.94L8.5 2.5l-.94 2.06-2.06.94zm10 10l.94 2.06.94-2.06 2.06-.94-2.06-.94-.94-2.06-.94 2.06-2.06.94z\"/><path d=\"M17.41 7.96l-1.37-1.37c-.4-.4-.92-.59-1.43-.59-.52 0-1.04.2-1.43.59L10.3 9.45l-7.72 7.72c-.78.78-.78 2.05 0 2.83L4 21.41c.39.39.9.59 1.41.59.51 0 1.02-.2 1.41-.59l7.78-7.78 2.81-2.81c.8-.78.8-2.07 0-2.86zM5.41 20L4 18.59l7.72-7.72 1.47 1.35L5.41 20z\"/>\n",
              "  </svg>\n",
              "      </button>\n",
              "      \n",
              "  <style>\n",
              "    .colab-df-container {\n",
              "      display:flex;\n",
              "      flex-wrap:wrap;\n",
              "      gap: 12px;\n",
              "    }\n",
              "\n",
              "    .colab-df-convert {\n",
              "      background-color: #E8F0FE;\n",
              "      border: none;\n",
              "      border-radius: 50%;\n",
              "      cursor: pointer;\n",
              "      display: none;\n",
              "      fill: #1967D2;\n",
              "      height: 32px;\n",
              "      padding: 0 0 0 0;\n",
              "      width: 32px;\n",
              "    }\n",
              "\n",
              "    .colab-df-convert:hover {\n",
              "      background-color: #E2EBFA;\n",
              "      box-shadow: 0px 1px 2px rgba(60, 64, 67, 0.3), 0px 1px 3px 1px rgba(60, 64, 67, 0.15);\n",
              "      fill: #174EA6;\n",
              "    }\n",
              "\n",
              "    [theme=dark] .colab-df-convert {\n",
              "      background-color: #3B4455;\n",
              "      fill: #D2E3FC;\n",
              "    }\n",
              "\n",
              "    [theme=dark] .colab-df-convert:hover {\n",
              "      background-color: #434B5C;\n",
              "      box-shadow: 0px 1px 3px 1px rgba(0, 0, 0, 0.15);\n",
              "      filter: drop-shadow(0px 1px 2px rgba(0, 0, 0, 0.3));\n",
              "      fill: #FFFFFF;\n",
              "    }\n",
              "  </style>\n",
              "\n",
              "      <script>\n",
              "        const buttonEl =\n",
              "          document.querySelector('#df-b97ec28f-5216-463e-a6f3-1a647fc9d306 button.colab-df-convert');\n",
              "        buttonEl.style.display =\n",
              "          google.colab.kernel.accessAllowed ? 'block' : 'none';\n",
              "\n",
              "        async function convertToInteractive(key) {\n",
              "          const element = document.querySelector('#df-b97ec28f-5216-463e-a6f3-1a647fc9d306');\n",
              "          const dataTable =\n",
              "            await google.colab.kernel.invokeFunction('convertToInteractive',\n",
              "                                                     [key], {});\n",
              "          if (!dataTable) return;\n",
              "\n",
              "          const docLinkHtml = 'Like what you see? Visit the ' +\n",
              "            '<a target=\"_blank\" href=https://colab.research.google.com/notebooks/data_table.ipynb>data table notebook</a>'\n",
              "            + ' to learn more about interactive tables.';\n",
              "          element.innerHTML = '';\n",
              "          dataTable['output_type'] = 'display_data';\n",
              "          await google.colab.output.renderOutput(dataTable, element);\n",
              "          const docLink = document.createElement('div');\n",
              "          docLink.innerHTML = docLinkHtml;\n",
              "          element.appendChild(docLink);\n",
              "        }\n",
              "      </script>\n",
              "    </div>\n",
              "  </div>\n",
              "  "
            ]
          },
          "metadata": {},
          "execution_count": 3
        }
      ]
    },
    {
      "cell_type": "markdown",
      "source": [
        "## Теперь разделим его на список объектов и список соответствующих им таргетов"
      ],
      "metadata": {
        "id": "zCdcXNQ6_VYu"
      }
    },
    {
      "cell_type": "code",
      "source": [
        "X = df.iloc[:, :-1].values\n",
        "Y = df.iloc[:, -1].values"
      ],
      "metadata": {
        "id": "5HmQI1Dl_Tlv"
      },
      "execution_count": 4,
      "outputs": []
    },
    {
      "cell_type": "markdown",
      "source": [
        "## Сделаем разделение списка объектов и таргетов на тренировочные и тестовые"
      ],
      "metadata": {
        "id": "Erp9bmRtBbAT"
      }
    },
    {
      "cell_type": "code",
      "source": [
        "X_train, X_test, Y_train, Y_test = train_test_split(X, Y, test_size = 1/5, random_state = 42)"
      ],
      "metadata": {
        "id": "Rl6R94FtBuCe"
      },
      "execution_count": 5,
      "outputs": []
    },
    {
      "cell_type": "markdown",
      "source": [
        "# Создадим модель линейной регрессии и тренируем ее на нашем датасете"
      ],
      "metadata": {
        "id": "m_-hGW_QBHKu"
      }
    },
    {
      "cell_type": "code",
      "source": [
        "model = Linear_regression(0.0001, 200000)\n",
        "model.fit(X_train, Y_train)"
      ],
      "metadata": {
        "id": "1nvzjHkkBG9G"
      },
      "execution_count": 6,
      "outputs": []
    },
    {
      "cell_type": "markdown",
      "source": [
        "# Используя тестовую выборку, сделаем нужные предсказания"
      ],
      "metadata": {
        "id": "o0jyTTwuFM6_"
      }
    },
    {
      "cell_type": "code",
      "source": [
        "Y_test_pred = model.predict(X_test)"
      ],
      "metadata": {
        "id": "XPu9csXLFMou"
      },
      "execution_count": 7,
      "outputs": []
    },
    {
      "cell_type": "markdown",
      "source": [
        "# Выведем данные, которые нам удалось найти (вектор w и сдвиг bias)"
      ],
      "metadata": {
        "id": "kMU1hYwJF7H1"
      }
    },
    {
      "cell_type": "code",
      "source": [
        "w_list = list(model.w)\n",
        "bias = model.bias\n",
        "\n",
        "print(\"bias after training:\", bias, \"\\n\")\n",
        "\n",
        "for i, w_i in enumerate(w_list):\n",
        "    print(\"w_{} =\".format(i + 1), w_list[i])"
      ],
      "metadata": {
        "colab": {
          "base_uri": "https://localhost:8080/"
        },
        "id": "ZwNf6_PXGCuf",
        "outputId": "4afe6e3e-fcf3-4db0-b621-79c5c6f2c364"
      },
      "execution_count": 8,
      "outputs": [
        {
          "output_type": "stream",
          "name": "stdout",
          "text": [
            "bias after training: 0.07439120930760718 \n",
            "\n",
            "w_1 = 0.8871546068343382\n",
            "w_2 = 0.44927374854897345\n",
            "w_3 = 0.09601321202101938\n",
            "w_4 = 0.4241587074018971\n",
            "w_5 = 0.6919910776393443\n",
            "w_6 = 0.4341150355437329\n",
            "w_7 = 0.09440076856334961\n"
          ]
        }
      ]
    },
    {
      "cell_type": "markdown",
      "source": [
        "# Теперь выведем график, на котором будут отражены объекты тестовой выборки их истиные таргеты и предсказания модели"
      ],
      "metadata": {
        "id": "4gG6pqAlErnH"
      }
    },
    {
      "cell_type": "code",
      "source": [
        "graph_X_values = X_test[:, 0]\n",
        "graph_Y_test_values = Y_test\n",
        "grapg_Y_pred_values = Y_test_pred\n",
        "\n",
        "figure, ax = plt.subplots()\n",
        "\n",
        "figure.set_figwidth(7)\n",
        "figure.set_figheight(5)\n",
        "\n",
        "ax.set_title('Тестовая выборка и предсказания модели')\n",
        "\n",
        "ax.scatter(graph_X_values, grapg_Y_pred_values, color = \"gold\",\n",
        "           edgecolors='orange', label = \"Предсказания модели\")\n",
        "ax.scatter(graph_X_values, graph_Y_test_values, color = \"tomato\",\n",
        "           label = \"Тестовая выборка\", marker = \"x\")\n",
        "\n",
        "ax.legend()\n",
        "\n",
        "plt.show()"
      ],
      "metadata": {
        "colab": {
          "base_uri": "https://localhost:8080/",
          "height": 336
        },
        "id": "W1Sp9EeCIKlc",
        "outputId": "a0ee33f1-df92-4fe9-c29d-5d0f96e5d742"
      },
      "execution_count": 9,
      "outputs": [
        {
          "output_type": "display_data",
          "data": {
            "text/plain": [
              "<Figure size 504x360 with 1 Axes>"
            ],
            "image/png": "[encoded data removed]"
          },
          "metadata": {
            "needs_background": "light"
          }
        }
      ]
    },
    {
      "cell_type": "markdown",
      "source": [
        "# В дополнение к графику можно вывести две таблицы"
      ],
      "metadata": {
        "id": "IL39T7ZGT0jB"
      }
    },
    {
      "cell_type": "markdown",
      "source": [
        "## Таблица с истиными значениями таргетов для соответствующих объектов"
      ],
      "metadata": {
        "id": "LWFUurp7T8jS"
      }
    },
    {
      "cell_type": "code",
      "source": [
        "test_df = pd.DataFrame(np.concatenate((X_test, Y_test[:, np.newaxis]), axis = 1),\n",
        "             columns = [\"x\", \"x**2\", \"x**3\", \"x**4\", \"x**5\", \"x**6\", \"x**7\", \"y\"])\n",
        "test_df.head()"
      ],
      "metadata": {
        "colab": {
          "base_uri": "https://localhost:8080/",
          "height": 206
        },
        "id": "mxlYReEYUIXC",
        "outputId": "4dd93ce1-e381-423d-fc7d-1f1b8972b65e"
      },
      "execution_count": 10,
      "outputs": [
        {
          "output_type": "execute_result",
          "data": {
            "text/plain": [
              "          x      x**2      x**3      x**4       x**5       x**6       x**7  \\\n",
              "0 -1.665428  2.773649 -4.619311  7.693128 -12.812346  21.338034 -35.536949   \n",
              "1 -0.706320  0.498888 -0.352374  0.248889  -0.175795   0.124167  -0.087702   \n",
              "2 -1.118959  1.252069 -1.401015  1.567678  -1.754168   1.962842  -2.196340   \n",
              "3 -0.583643  0.340639 -0.198812  0.116035  -0.067723   0.039526  -0.023069   \n",
              "4  0.185874  0.034549  0.006422  0.001194   0.000222   0.000041   0.000008   \n",
              "\n",
              "          y  \n",
              "0 -0.314949  \n",
              "1 -0.348538  \n",
              "2 -0.365474  \n",
              "3 -0.325592  \n",
              "4  0.223842  "
            ],
            "text/html": [
              "\n",
              "  <div id=\"df-0ce2f565-68a1-46b4-b091-47d7fdab476b\">\n",
              "    <div class=\"colab-df-container\">\n",
              "      <div>\n",
              "<style scoped>\n",
              "    .dataframe tbody tr th:only-of-type {\n",
              "        vertical-align: middle;\n",
              "    }\n",
              "\n",
              "    .dataframe tbody tr th {\n",
              "        vertical-align: top;\n",
              "    }\n",
              "\n",
              "    .dataframe thead th {\n",
              "        text-align: right;\n",
              "    }\n",
              "</style>\n",
              "<table border=\"1\" class=\"dataframe\">\n",
              "  <thead>\n",
              "    <tr style=\"text-align: right;\">\n",
              "      <th></th>\n",
              "      <th>x</th>\n",
              "      <th>x**2</th>\n",
              "      <th>x**3</th>\n",
              "      <th>x**4</th>\n",
              "      <th>x**5</th>\n",
              "      <th>x**6</th>\n",
              "      <th>x**7</th>\n",
              "      <th>y</th>\n",
              "    </tr>\n",
              "  </thead>\n",
              "  <tbody>\n",
              "    <tr>\n",
              "      <th>0</th>\n",
              "      <td>-1.665428</td>\n",
              "      <td>2.773649</td>\n",
              "      <td>-4.619311</td>\n",
              "      <td>7.693128</td>\n",
              "      <td>-12.812346</td>\n",
              "      <td>21.338034</td>\n",
              "      <td>-35.536949</td>\n",
              "      <td>-0.314949</td>\n",
              "    </tr>\n",
              "    <tr>\n",
              "      <th>1</th>\n",
              "      <td>-0.706320</td>\n",
              "      <td>0.498888</td>\n",
              "      <td>-0.352374</td>\n",
              "      <td>0.248889</td>\n",
              "      <td>-0.175795</td>\n",
              "      <td>0.124167</td>\n",
              "      <td>-0.087702</td>\n",
              "      <td>-0.348538</td>\n",
              "    </tr>\n",
              "    <tr>\n",
              "      <th>2</th>\n",
              "      <td>-1.118959</td>\n",
              "      <td>1.252069</td>\n",
              "      <td>-1.401015</td>\n",
              "      <td>1.567678</td>\n",
              "      <td>-1.754168</td>\n",
              "      <td>1.962842</td>\n",
              "      <td>-2.196340</td>\n",
              "      <td>-0.365474</td>\n",
              "    </tr>\n",
              "    <tr>\n",
              "      <th>3</th>\n",
              "      <td>-0.583643</td>\n",
              "      <td>0.340639</td>\n",
              "      <td>-0.198812</td>\n",
              "      <td>0.116035</td>\n",
              "      <td>-0.067723</td>\n",
              "      <td>0.039526</td>\n",
              "      <td>-0.023069</td>\n",
              "      <td>-0.325592</td>\n",
              "    </tr>\n",
              "    <tr>\n",
              "      <th>4</th>\n",
              "      <td>0.185874</td>\n",
              "      <td>0.034549</td>\n",
              "      <td>0.006422</td>\n",
              "      <td>0.001194</td>\n",
              "      <td>0.000222</td>\n",
              "      <td>0.000041</td>\n",
              "      <td>0.000008</td>\n",
              "      <td>0.223842</td>\n",
              "    </tr>\n",
              "  </tbody>\n",
              "</table>\n",
              "</div>\n",
              "      <button class=\"colab-df-convert\" onclick=\"convertToInteractive('df-0ce2f565-68a1-46b4-b091-47d7fdab476b')\"\n",
              "              title=\"Convert this dataframe to an interactive table.\"\n",
              "              style=\"display:none;\">\n",
              "        \n",
              "  <svg xmlns=\"http://www.w3.org/2000/svg\" height=\"24px\"viewBox=\"0 0 24 24\"\n",
              "       width=\"24px\">\n",
              "    <path d=\"M0 0h24v24H0V0z\" fill=\"none\"/>\n",
              "    <path d=\"M18.56 5.44l.94 2.06.94-2.06 2.06-.94-2.06-.94-.94-2.06-.94 2.06-2.06.94zm-11 1L8.5 8.5l.94-2.06 2.06-.94-2.06-.94L8.5 2.5l-.94 2.06-2.06.94zm10 10l.94 2.06.94-2.06 2.06-.94-2.06-.94-.94-2.06-.94 2.06-2.06.94z\"/><path d=\"M17.41 7.96l-1.37-1.37c-.4-.4-.92-.59-1.43-.59-.52 0-1.04.2-1.43.59L10.3 9.45l-7.72 7.72c-.78.78-.78 2.05 0 2.83L4 21.41c.39.39.9.59 1.41.59.51 0 1.02-.2 1.41-.59l7.78-7.78 2.81-2.81c.8-.78.8-2.07 0-2.86zM5.41 20L4 18.59l7.72-7.72 1.47 1.35L5.41 20z\"/>\n",
              "  </svg>\n",
              "      </button>\n",
              "      \n",
              "  <style>\n",
              "    .colab-df-container {\n",
              "      display:flex;\n",
              "      flex-wrap:wrap;\n",
              "      gap: 12px;\n",
              "    }\n",
              "\n",
              "    .colab-df-convert {\n",
              "      background-color: #E8F0FE;\n",
              "      border: none;\n",
              "      border-radius: 50%;\n",
              "      cursor: pointer;\n",
              "      display: none;\n",
              "      fill: #1967D2;\n",
              "      height: 32px;\n",
              "      padding: 0 0 0 0;\n",
              "      width: 32px;\n",
              "    }\n",
              "\n",
              "    .colab-df-convert:hover {\n",
              "      background-color: #E2EBFA;\n",
              "      box-shadow: 0px 1px 2px rgba(60, 64, 67, 0.3), 0px 1px 3px 1px rgba(60, 64, 67, 0.15);\n",
              "      fill: #174EA6;\n",
              "    }\n",
              "\n",
              "    [theme=dark] .colab-df-convert {\n",
              "      background-color: #3B4455;\n",
              "      fill: #D2E3FC;\n",
              "    }\n",
              "\n",
              "    [theme=dark] .colab-df-convert:hover {\n",
              "      background-color: #434B5C;\n",
              "      box-shadow: 0px 1px 3px 1px rgba(0, 0, 0, 0.15);\n",
              "      filter: drop-shadow(0px 1px 2px rgba(0, 0, 0, 0.3));\n",
              "      fill: #FFFFFF;\n",
              "    }\n",
              "  </style>\n",
              "\n",
              "      <script>\n",
              "        const buttonEl =\n",
              "          document.querySelector('#df-0ce2f565-68a1-46b4-b091-47d7fdab476b button.colab-df-convert');\n",
              "        buttonEl.style.display =\n",
              "          google.colab.kernel.accessAllowed ? 'block' : 'none';\n",
              "\n",
              "        async function convertToInteractive(key) {\n",
              "          const element = document.querySelector('#df-0ce2f565-68a1-46b4-b091-47d7fdab476b');\n",
              "          const dataTable =\n",
              "            await google.colab.kernel.invokeFunction('convertToInteractive',\n",
              "                                                     [key], {});\n",
              "          if (!dataTable) return;\n",
              "\n",
              "          const docLinkHtml = 'Like what you see? Visit the ' +\n",
              "            '<a target=\"_blank\" href=https://colab.research.google.com/notebooks/data_table.ipynb>data table notebook</a>'\n",
              "            + ' to learn more about interactive tables.';\n",
              "          element.innerHTML = '';\n",
              "          dataTable['output_type'] = 'display_data';\n",
              "          await google.colab.output.renderOutput(dataTable, element);\n",
              "          const docLink = document.createElement('div');\n",
              "          docLink.innerHTML = docLinkHtml;\n",
              "          element.appendChild(docLink);\n",
              "        }\n",
              "      </script>\n",
              "    </div>\n",
              "  </div>\n",
              "  "
            ]
          },
          "metadata": {},
          "execution_count": 10
        }
      ]
    },
    {
      "cell_type": "markdown",
      "source": [
        "## Таблица с предсказанными значениями таргетов для соответствующих объектов"
      ],
      "metadata": {
        "id": "Yn6WvGJyUDD-"
      }
    },
    {
      "cell_type": "code",
      "source": [
        "pred_df = pd.DataFrame(np.concatenate((X_test, Y_test_pred[:, np.newaxis]), axis = 1),\n",
        "             columns = [\"x\", \"x**2\", \"x**3\", \"x**4\", \"x**5\", \"x**6\", \"x**7\", \"y\"])\n",
        "pred_df.head()"
      ],
      "metadata": {
        "colab": {
          "base_uri": "https://localhost:8080/",
          "height": 206
        },
        "id": "a9T9NrvoXyQV",
        "outputId": "3cd62135-bc41-4f86-f60e-b503b925225c"
      },
      "execution_count": 11,
      "outputs": [
        {
          "output_type": "execute_result",
          "data": {
            "text/plain": [
              "          x      x**2      x**3      x**4       x**5       x**6       x**7  \\\n",
              "0 -1.665428  2.773649 -4.619311  7.693128 -12.812346  21.338034 -35.536949   \n",
              "1 -0.706320  0.498888 -0.352374  0.248889  -0.175795   0.124167  -0.087702   \n",
              "2 -1.118959  1.252069 -1.401015  1.567678  -1.754168   1.962842  -2.196340   \n",
              "3 -0.583643  0.340639 -0.198812  0.116035  -0.067723   0.039526  -0.023069   \n",
              "4  0.185874  0.034549  0.006422  0.001194   0.000222   0.000041   0.000008   \n",
              "\n",
              "          y  \n",
              "0 -0.294964  \n",
              "1 -0.332375  \n",
              "2 -0.394454  \n",
              "3 -0.292104  \n",
              "4  0.256107  "
            ],
            "text/html": [
              "\n",
              "  <div id=\"df-b17c6993-0d05-4634-a104-3d005317bdf3\">\n",
              "    <div class=\"colab-df-container\">\n",
              "      <div>\n",
              "<style scoped>\n",
              "    .dataframe tbody tr th:only-of-type {\n",
              "        vertical-align: middle;\n",
              "    }\n",
              "\n",
              "    .dataframe tbody tr th {\n",
              "        vertical-align: top;\n",
              "    }\n",
              "\n",
              "    .dataframe thead th {\n",
              "        text-align: right;\n",
              "    }\n",
              "</style>\n",
              "<table border=\"1\" class=\"dataframe\">\n",
              "  <thead>\n",
              "    <tr style=\"text-align: right;\">\n",
              "      <th></th>\n",
              "      <th>x</th>\n",
              "      <th>x**2</th>\n",
              "      <th>x**3</th>\n",
              "      <th>x**4</th>\n",
              "      <th>x**5</th>\n",
              "      <th>x**6</th>\n",
              "      <th>x**7</th>\n",
              "      <th>y</th>\n",
              "    </tr>\n",
              "  </thead>\n",
              "  <tbody>\n",
              "    <tr>\n",
              "      <th>0</th>\n",
              "      <td>-1.665428</td>\n",
              "      <td>2.773649</td>\n",
              "      <td>-4.619311</td>\n",
              "      <td>7.693128</td>\n",
              "      <td>-12.812346</td>\n",
              "      <td>21.338034</td>\n",
              "      <td>-35.536949</td>\n",
              "      <td>-0.294964</td>\n",
              "    </tr>\n",
              "    <tr>\n",
              "      <th>1</th>\n",
              "      <td>-0.706320</td>\n",
              "      <td>0.498888</td>\n",
              "      <td>-0.352374</td>\n",
              "      <td>0.248889</td>\n",
              "      <td>-0.175795</td>\n",
              "      <td>0.124167</td>\n",
              "      <td>-0.087702</td>\n",
              "      <td>-0.332375</td>\n",
              "    </tr>\n",
              "    <tr>\n",
              "      <th>2</th>\n",
              "      <td>-1.118959</td>\n",
              "      <td>1.252069</td>\n",
              "      <td>-1.401015</td>\n",
              "      <td>1.567678</td>\n",
              "      <td>-1.754168</td>\n",
              "      <td>1.962842</td>\n",
              "      <td>-2.196340</td>\n",
              "      <td>-0.394454</td>\n",
              "    </tr>\n",
              "    <tr>\n",
              "      <th>3</th>\n",
              "      <td>-0.583643</td>\n",
              "      <td>0.340639</td>\n",
              "      <td>-0.198812</td>\n",
              "      <td>0.116035</td>\n",
              "      <td>-0.067723</td>\n",
              "      <td>0.039526</td>\n",
              "      <td>-0.023069</td>\n",
              "      <td>-0.292104</td>\n",
              "    </tr>\n",
              "    <tr>\n",
              "      <th>4</th>\n",
              "      <td>0.185874</td>\n",
              "      <td>0.034549</td>\n",
              "      <td>0.006422</td>\n",
              "      <td>0.001194</td>\n",
              "      <td>0.000222</td>\n",
              "      <td>0.000041</td>\n",
              "      <td>0.000008</td>\n",
              "      <td>0.256107</td>\n",
              "    </tr>\n",
              "  </tbody>\n",
              "</table>\n",
              "</div>\n",
              "      <button class=\"colab-df-convert\" onclick=\"convertToInteractive('df-b17c6993-0d05-4634-a104-3d005317bdf3')\"\n",
              "              title=\"Convert this dataframe to an interactive table.\"\n",
              "              style=\"display:none;\">\n",
              "        \n",
              "  <svg xmlns=\"http://www.w3.org/2000/svg\" height=\"24px\"viewBox=\"0 0 24 24\"\n",
              "       width=\"24px\">\n",
              "    <path d=\"M0 0h24v24H0V0z\" fill=\"none\"/>\n",
              "    <path d=\"M18.56 5.44l.94 2.06.94-2.06 2.06-.94-2.06-.94-.94-2.06-.94 2.06-2.06.94zm-11 1L8.5 8.5l.94-2.06 2.06-.94-2.06-.94L8.5 2.5l-.94 2.06-2.06.94zm10 10l.94 2.06.94-2.06 2.06-.94-2.06-.94-.94-2.06-.94 2.06-2.06.94z\"/><path d=\"M17.41 7.96l-1.37-1.37c-.4-.4-.92-.59-1.43-.59-.52 0-1.04.2-1.43.59L10.3 9.45l-7.72 7.72c-.78.78-.78 2.05 0 2.83L4 21.41c.39.39.9.59 1.41.59.51 0 1.02-.2 1.41-.59l7.78-7.78 2.81-2.81c.8-.78.8-2.07 0-2.86zM5.41 20L4 18.59l7.72-7.72 1.47 1.35L5.41 20z\"/>\n",
              "  </svg>\n",
              "      </button>\n",
              "      \n",
              "  <style>\n",
              "    .colab-df-container {\n",
              "      display:flex;\n",
              "      flex-wrap:wrap;\n",
              "      gap: 12px;\n",
              "    }\n",
              "\n",
              "    .colab-df-convert {\n",
              "      background-color: #E8F0FE;\n",
              "      border: none;\n",
              "      border-radius: 50%;\n",
              "      cursor: pointer;\n",
              "      display: none;\n",
              "      fill: #1967D2;\n",
              "      height: 32px;\n",
              "      padding: 0 0 0 0;\n",
              "      width: 32px;\n",
              "    }\n",
              "\n",
              "    .colab-df-convert:hover {\n",
              "      background-color: #E2EBFA;\n",
              "      box-shadow: 0px 1px 2px rgba(60, 64, 67, 0.3), 0px 1px 3px 1px rgba(60, 64, 67, 0.15);\n",
              "      fill: #174EA6;\n",
              "    }\n",
              "\n",
              "    [theme=dark] .colab-df-convert {\n",
              "      background-color: #3B4455;\n",
              "      fill: #D2E3FC;\n",
              "    }\n",
              "\n",
              "    [theme=dark] .colab-df-convert:hover {\n",
              "      background-color: #434B5C;\n",
              "      box-shadow: 0px 1px 3px 1px rgba(0, 0, 0, 0.15);\n",
              "      filter: drop-shadow(0px 1px 2px rgba(0, 0, 0, 0.3));\n",
              "      fill: #FFFFFF;\n",
              "    }\n",
              "  </style>\n",
              "\n",
              "      <script>\n",
              "        const buttonEl =\n",
              "          document.querySelector('#df-b17c6993-0d05-4634-a104-3d005317bdf3 button.colab-df-convert');\n",
              "        buttonEl.style.display =\n",
              "          google.colab.kernel.accessAllowed ? 'block' : 'none';\n",
              "\n",
              "        async function convertToInteractive(key) {\n",
              "          const element = document.querySelector('#df-b17c6993-0d05-4634-a104-3d005317bdf3');\n",
              "          const dataTable =\n",
              "            await google.colab.kernel.invokeFunction('convertToInteractive',\n",
              "                                                     [key], {});\n",
              "          if (!dataTable) return;\n",
              "\n",
              "          const docLinkHtml = 'Like what you see? Visit the ' +\n",
              "            '<a target=\"_blank\" href=https://colab.research.google.com/notebooks/data_table.ipynb>data table notebook</a>'\n",
              "            + ' to learn more about interactive tables.';\n",
              "          element.innerHTML = '';\n",
              "          dataTable['output_type'] = 'display_data';\n",
              "          await google.colab.output.renderOutput(dataTable, element);\n",
              "          const docLink = document.createElement('div');\n",
              "          docLink.innerHTML = docLinkHtml;\n",
              "          element.appendChild(docLink);\n",
              "        }\n",
              "      </script>\n",
              "    </div>\n",
              "  </div>\n",
              "  "
            ]
          },
          "metadata": {},
          "execution_count": 11
        }
      ]
    },
    {
      "cell_type": "markdown",
      "source": [
        "Я вывел лишь начало таблиц, так как вывод полностью всей таблицы занял мы много места, несмотря на это, очевидно, что со своей задачей алгоритм справился на ура!"
      ],
      "metadata": {
        "id": "hWMQ3qfzy1rM"
      }
    }
  ]
}