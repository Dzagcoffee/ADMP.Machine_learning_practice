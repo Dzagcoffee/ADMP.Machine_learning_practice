{
  "nbformat": 4,
  "nbformat_minor": 0,
  "metadata": {
    "colab": {
      "provenance": [],
      "collapsed_sections": []
    },
    "kernelspec": {
      "name": "python3",
      "display_name": "Python 3"
    },
    "language_info": {
      "name": "python"
    }
  },
  "cells": [
    {
      "cell_type": "markdown",
      "source": [
        "# Немного о том, что тут происходит"
      ],
      "metadata": {
        "id": "1m5hgOjWPpjs"
      }
    },
    {
      "cell_type": "markdown",
      "source": [
        "Это мой ноутбук, посвященный реализации **алгоритма линейной классификации**, использующего в качестве основы **логистическую регрессию**. Линейная классификация реализована в виде класса. Для того, чтобы тренировать модель исходя из входных данных, необходимо сначала создать объект класса **Linear_classification_LogReg**, передав необходимые для обучения модели параметры, после чего тренировать модель, используя метод **fit()** класса Linear_classification_LogReg. Далее, уже с помощью функции **predict()**, можно предсказать значение таргета при даных значениях выборки."
      ],
      "metadata": {
        "id": "VgO39Tt9Ptgb"
      }
    },
    {
      "cell_type": "markdown",
      "source": [
        "# Импорт библиотек"
      ],
      "metadata": {
        "id": "z4wSeAQaPz0E"
      }
    },
    {
      "cell_type": "code",
      "execution_count": 1,
      "metadata": {
        "id": "f06YoyjJPkMB"
      },
      "outputs": [],
      "source": [
        "import numpy as np\n",
        "import pandas as pd\n",
        "import matplotlib.pyplot as plt\n",
        "from sklearn.model_selection import train_test_split"
      ]
    },
    {
      "cell_type": "markdown",
      "source": [
        "# Класс \"Линейный классификатор LogReg\""
      ],
      "metadata": {
        "id": "JHi3oCuDP5A0"
      }
    },
    {
      "cell_type": "code",
      "source": [
        "class Linear_classification_LogReg():\n",
        "    def __init__(self, learning_rate = 0.001, iterations_quant = 1000, reg_coefficient = 0.001):\n",
        "        self.learning_rate = learning_rate\n",
        "        self.iterations_quant = iterations_quant\n",
        "        self.reg_coefficient = reg_coefficient\n",
        "        self.w = None\n",
        "        self.bias = None\n",
        "    \n",
        "    def fit(self, X, Y):\n",
        "        self._df_rows_quant, self._df_columns_quant = X.shape\n",
        "\n",
        "        self.w = np.random.rand(self._df_columns_quant)\n",
        "        self.bias = 0\n",
        "\n",
        "        self.X = X\n",
        "        self.Y = Y\n",
        "\n",
        "        for i in range(self.iterations_quant):\n",
        "            d_w = np.zeros(self._df_columns_quant)\n",
        "            d_bias = 0\n",
        "\n",
        "            for k in range(self._df_rows_quant):\n",
        "                d_w -= self.X[k] * (self.Y[k] - self._sigmoid(np.dot(self.X[k], self.w)))\n",
        "                d_bias -= self.Y[k] - self._sigmoid(np.dot(self.X[k], self.w))\n",
        "\n",
        "            self.w -= self.learning_rate * (2 * self.reg_coefficient * self.w + d_w)\n",
        "            self.bias -= self.learning_rate * d_bias\n",
        "    \n",
        "    def _sigmoid(self, value):\n",
        "        return 1 / (1 + np.exp(-value))\n",
        "\n",
        "    def predict(self, X, threshold = 0.5):    \n",
        "        if threshold >= 0 and threshold <= 1:\n",
        "            sigmoid_value = self._sigmoid(np.dot(X, self.w) + self.bias)\n",
        "            Y = np.where(sigmoid_value > threshold, 1, 0)\n",
        "            return Y\n",
        "        else:\n",
        "            raise NameError('threshold must be on [0; 1]!')"
      ],
      "metadata": {
        "id": "901mUOkhP4ax"
      },
      "execution_count": 2,
      "outputs": []
    },
    {
      "cell_type": "markdown",
      "source": [
        "# Инициализируем входные данные"
      ],
      "metadata": {
        "id": "FK-N5bM64JQp"
      }
    },
    {
      "cell_type": "markdown",
      "source": [
        "## Для начала импортируем датасет"
      ],
      "metadata": {
        "id": "IIXZealv-OjN"
      }
    },
    {
      "cell_type": "code",
      "source": [
        "df = pd.read_csv(\"/content/sample_data/dataset_for_linear_classification_2.csv\")\n",
        "df"
      ],
      "metadata": {
        "colab": {
          "base_uri": "https://localhost:8080/",
          "height": 424
        },
        "id": "209Gd39r4Of7",
        "outputId": "6d4b5e70-736d-4a05-e793-82da48fe68aa"
      },
      "execution_count": 3,
      "outputs": [
        {
          "output_type": "execute_result",
          "data": {
            "text/plain": [
              "          x_1       x_2  y\n",
              "0    3.395186  8.844288  1\n",
              "1    5.551967  8.800227  1\n",
              "2    7.689134  9.785068  1\n",
              "3    5.772461  8.785153  1\n",
              "4    0.428143  8.547947  1\n",
              "..        ...       ... ..\n",
              "305  0.398681  7.184006  1\n",
              "306  7.871686  0.278526  0\n",
              "307  5.450716  1.760866  0\n",
              "308  8.971035  2.688999  0\n",
              "309  3.906566  6.893442  1\n",
              "\n",
              "[310 rows x 3 columns]"
            ],
            "text/html": [
              "\n",
              "  <div id=\"df-783f4f01-00eb-4189-87bc-ffd871357648\">\n",
              "    <div class=\"colab-df-container\">\n",
              "      <div>\n",
              "<style scoped>\n",
              "    .dataframe tbody tr th:only-of-type {\n",
              "        vertical-align: middle;\n",
              "    }\n",
              "\n",
              "    .dataframe tbody tr th {\n",
              "        vertical-align: top;\n",
              "    }\n",
              "\n",
              "    .dataframe thead th {\n",
              "        text-align: right;\n",
              "    }\n",
              "</style>\n",
              "<table border=\"1\" class=\"dataframe\">\n",
              "  <thead>\n",
              "    <tr style=\"text-align: right;\">\n",
              "      <th></th>\n",
              "      <th>x_1</th>\n",
              "      <th>x_2</th>\n",
              "      <th>y</th>\n",
              "    </tr>\n",
              "  </thead>\n",
              "  <tbody>\n",
              "    <tr>\n",
              "      <th>0</th>\n",
              "      <td>3.395186</td>\n",
              "      <td>8.844288</td>\n",
              "      <td>1</td>\n",
              "    </tr>\n",
              "    <tr>\n",
              "      <th>1</th>\n",
              "      <td>5.551967</td>\n",
              "      <td>8.800227</td>\n",
              "      <td>1</td>\n",
              "    </tr>\n",
              "    <tr>\n",
              "      <th>2</th>\n",
              "      <td>7.689134</td>\n",
              "      <td>9.785068</td>\n",
              "      <td>1</td>\n",
              "    </tr>\n",
              "    <tr>\n",
              "      <th>3</th>\n",
              "      <td>5.772461</td>\n",
              "      <td>8.785153</td>\n",
              "      <td>1</td>\n",
              "    </tr>\n",
              "    <tr>\n",
              "      <th>4</th>\n",
              "      <td>0.428143</td>\n",
              "      <td>8.547947</td>\n",
              "      <td>1</td>\n",
              "    </tr>\n",
              "    <tr>\n",
              "      <th>...</th>\n",
              "      <td>...</td>\n",
              "      <td>...</td>\n",
              "      <td>...</td>\n",
              "    </tr>\n",
              "    <tr>\n",
              "      <th>305</th>\n",
              "      <td>0.398681</td>\n",
              "      <td>7.184006</td>\n",
              "      <td>1</td>\n",
              "    </tr>\n",
              "    <tr>\n",
              "      <th>306</th>\n",
              "      <td>7.871686</td>\n",
              "      <td>0.278526</td>\n",
              "      <td>0</td>\n",
              "    </tr>\n",
              "    <tr>\n",
              "      <th>307</th>\n",
              "      <td>5.450716</td>\n",
              "      <td>1.760866</td>\n",
              "      <td>0</td>\n",
              "    </tr>\n",
              "    <tr>\n",
              "      <th>308</th>\n",
              "      <td>8.971035</td>\n",
              "      <td>2.688999</td>\n",
              "      <td>0</td>\n",
              "    </tr>\n",
              "    <tr>\n",
              "      <th>309</th>\n",
              "      <td>3.906566</td>\n",
              "      <td>6.893442</td>\n",
              "      <td>1</td>\n",
              "    </tr>\n",
              "  </tbody>\n",
              "</table>\n",
              "<p>310 rows × 3 columns</p>\n",
              "</div>\n",
              "      <button class=\"colab-df-convert\" onclick=\"convertToInteractive('df-783f4f01-00eb-4189-87bc-ffd871357648')\"\n",
              "              title=\"Convert this dataframe to an interactive table.\"\n",
              "              style=\"display:none;\">\n",
              "        \n",
              "  <svg xmlns=\"http://www.w3.org/2000/svg\" height=\"24px\"viewBox=\"0 0 24 24\"\n",
              "       width=\"24px\">\n",
              "    <path d=\"M0 0h24v24H0V0z\" fill=\"none\"/>\n",
              "    <path d=\"M18.56 5.44l.94 2.06.94-2.06 2.06-.94-2.06-.94-.94-2.06-.94 2.06-2.06.94zm-11 1L8.5 8.5l.94-2.06 2.06-.94-2.06-.94L8.5 2.5l-.94 2.06-2.06.94zm10 10l.94 2.06.94-2.06 2.06-.94-2.06-.94-.94-2.06-.94 2.06-2.06.94z\"/><path d=\"M17.41 7.96l-1.37-1.37c-.4-.4-.92-.59-1.43-.59-.52 0-1.04.2-1.43.59L10.3 9.45l-7.72 7.72c-.78.78-.78 2.05 0 2.83L4 21.41c.39.39.9.59 1.41.59.51 0 1.02-.2 1.41-.59l7.78-7.78 2.81-2.81c.8-.78.8-2.07 0-2.86zM5.41 20L4 18.59l7.72-7.72 1.47 1.35L5.41 20z\"/>\n",
              "  </svg>\n",
              "      </button>\n",
              "      \n",
              "  <style>\n",
              "    .colab-df-container {\n",
              "      display:flex;\n",
              "      flex-wrap:wrap;\n",
              "      gap: 12px;\n",
              "    }\n",
              "\n",
              "    .colab-df-convert {\n",
              "      background-color: #E8F0FE;\n",
              "      border: none;\n",
              "      border-radius: 50%;\n",
              "      cursor: pointer;\n",
              "      display: none;\n",
              "      fill: #1967D2;\n",
              "      height: 32px;\n",
              "      padding: 0 0 0 0;\n",
              "      width: 32px;\n",
              "    }\n",
              "\n",
              "    .colab-df-convert:hover {\n",
              "      background-color: #E2EBFA;\n",
              "      box-shadow: 0px 1px 2px rgba(60, 64, 67, 0.3), 0px 1px 3px 1px rgba(60, 64, 67, 0.15);\n",
              "      fill: #174EA6;\n",
              "    }\n",
              "\n",
              "    [theme=dark] .colab-df-convert {\n",
              "      background-color: #3B4455;\n",
              "      fill: #D2E3FC;\n",
              "    }\n",
              "\n",
              "    [theme=dark] .colab-df-convert:hover {\n",
              "      background-color: #434B5C;\n",
              "      box-shadow: 0px 1px 3px 1px rgba(0, 0, 0, 0.15);\n",
              "      filter: drop-shadow(0px 1px 2px rgba(0, 0, 0, 0.3));\n",
              "      fill: #FFFFFF;\n",
              "    }\n",
              "  </style>\n",
              "\n",
              "      <script>\n",
              "        const buttonEl =\n",
              "          document.querySelector('#df-783f4f01-00eb-4189-87bc-ffd871357648 button.colab-df-convert');\n",
              "        buttonEl.style.display =\n",
              "          google.colab.kernel.accessAllowed ? 'block' : 'none';\n",
              "\n",
              "        async function convertToInteractive(key) {\n",
              "          const element = document.querySelector('#df-783f4f01-00eb-4189-87bc-ffd871357648');\n",
              "          const dataTable =\n",
              "            await google.colab.kernel.invokeFunction('convertToInteractive',\n",
              "                                                     [key], {});\n",
              "          if (!dataTable) return;\n",
              "\n",
              "          const docLinkHtml = 'Like what you see? Visit the ' +\n",
              "            '<a target=\"_blank\" href=https://colab.research.google.com/notebooks/data_table.ipynb>data table notebook</a>'\n",
              "            + ' to learn more about interactive tables.';\n",
              "          element.innerHTML = '';\n",
              "          dataTable['output_type'] = 'display_data';\n",
              "          await google.colab.output.renderOutput(dataTable, element);\n",
              "          const docLink = document.createElement('div');\n",
              "          docLink.innerHTML = docLinkHtml;\n",
              "          element.appendChild(docLink);\n",
              "        }\n",
              "      </script>\n",
              "    </div>\n",
              "  </div>\n",
              "  "
            ]
          },
          "metadata": {},
          "execution_count": 3
        }
      ]
    },
    {
      "cell_type": "markdown",
      "source": [
        "## Теперь разделим его на список объектов и список соответствующих им таргетов"
      ],
      "metadata": {
        "id": "zCdcXNQ6_VYu"
      }
    },
    {
      "cell_type": "code",
      "source": [
        "X = df.iloc[:, :-1].values\n",
        "Y = df.iloc[:, -1].values"
      ],
      "metadata": {
        "id": "5HmQI1Dl_Tlv"
      },
      "execution_count": 4,
      "outputs": []
    },
    {
      "cell_type": "markdown",
      "source": [
        "## Сделаем разделение списка объектов и таргетов на тренировочные и тестовые"
      ],
      "metadata": {
        "id": "Erp9bmRtBbAT"
      }
    },
    {
      "cell_type": "code",
      "source": [
        "X_train, X_test, Y_train, Y_test = train_test_split(X, Y, test_size = 1/3, random_state = 42)\n",
        "\n",
        "X_test_len = len(X_test)\n",
        "Y_test_len = X_test_len"
      ],
      "metadata": {
        "id": "Rl6R94FtBuCe"
      },
      "execution_count": 5,
      "outputs": []
    },
    {
      "cell_type": "markdown",
      "source": [
        "# Создаем модель линейного классификатора и тренируем ее на нашем датасете"
      ],
      "metadata": {
        "id": "m_-hGW_QBHKu"
      }
    },
    {
      "cell_type": "code",
      "source": [
        "model = Linear_classification_LogReg(0.0001, 10000, 0.2)\n",
        "model.fit(X_train, Y_train)"
      ],
      "metadata": {
        "id": "1nvzjHkkBG9G"
      },
      "execution_count": 6,
      "outputs": []
    },
    {
      "cell_type": "markdown",
      "source": [
        "# Используя тестовую выборку, сделаем нужные предсказания"
      ],
      "metadata": {
        "id": "o0jyTTwuFM6_"
      }
    },
    {
      "cell_type": "code",
      "source": [
        "Y_pred = model.predict(X_test, 0.5)"
      ],
      "metadata": {
        "id": "XPu9csXLFMou"
      },
      "execution_count": 7,
      "outputs": []
    },
    {
      "cell_type": "markdown",
      "source": [
        "# Выведем данные, которые нам удалось найти (вектор w и сдвиг bias)"
      ],
      "metadata": {
        "id": "kMU1hYwJF7H1"
      }
    },
    {
      "cell_type": "code",
      "source": [
        "w_list = list(model.w)\n",
        "bias = model.bias\n",
        "\n",
        "print(\"bias after training:\", bias, \"\\n\")\n",
        "\n",
        "for i, w_i in enumerate(w_list):\n",
        "    print(\"w_{} =\".format(i + 1), w_list[i])"
      ],
      "metadata": {
        "id": "ZwNf6_PXGCuf",
        "colab": {
          "base_uri": "https://localhost:8080/"
        },
        "outputId": "712a81ce-ec7a-4639-9c65-02e15a1b18dd"
      },
      "execution_count": 8,
      "outputs": [
        {
          "output_type": "stream",
          "name": "stdout",
          "text": [
            "bias after training: -0.051718334975569234 \n",
            "\n",
            "w_1 = -1.7775368870394068\n",
            "w_2 = 1.7715770842322098\n"
          ]
        }
      ]
    },
    {
      "cell_type": "markdown",
      "source": [
        "# Теперь выведем график, на котором будут отражены объекты тестовой выборки их истиные таргеты и предсказания модели"
      ],
      "metadata": {
        "id": "4gG6pqAlErnH"
      }
    },
    {
      "cell_type": "markdown",
      "source": [
        "Вообще говоря, строить гиперплоскость необходимо немного по-другому, нежели в предыдущих алгоритмах. Разделяющая поверхность отделяет множество точек, которым мы присваиваем класс $0$, и множество точек, которым мы присваиваем класс $1$. Представляется логичным провести отсечку по какому-либо значению предсказанной вероятности. То есть, если вероятность класса $1$ больше, например, $0.5$, то мы предсказываем именно класс $1$, иначе, класс $0$. Как понятно из кода выше, мы решили провести границу по значению $0.5$. Тогда разделяющая поверхность как раз задаётся равенством $p_i = 0.5$, что равносильно $\\langle w, x \\rangle = 0$. А это и есть уравнение гиперплоскости."
      ],
      "metadata": {
        "id": "EKB8GyAdK8V1"
      }
    },
    {
      "cell_type": "code",
      "source": [
        "class_1_graph_x_1_values = []\n",
        "class_1_graph_x_2_values = []\n",
        "\n",
        "class_2_graph_x_1_values = []\n",
        "class_2_graph_x_2_values = []\n",
        "\n",
        "for i in range(Y_test_len):\n",
        "    if Y_test[i] == 1:\n",
        "        class_1_graph_x_1_values.append(X_test[i][0])\n",
        "        class_1_graph_x_2_values.append(X_test[i][1])\n",
        "    else:\n",
        "        class_2_graph_x_1_values.append(X_test[i][0])\n",
        "        class_2_graph_x_2_values.append(X_test[i][1])\n",
        "\n",
        "separating_plane_horizontal_values = np.linspace(0, 10, 42)\n",
        "separating_plane_vertical_values = -(w_list[0] * separating_plane_horizontal_values + bias) / w_list[1]\n",
        "\n",
        "figure, ax = plt.subplots()\n",
        "\n",
        "figure.set_figwidth(7)\n",
        "figure.set_figheight(5)\n",
        "\n",
        "ax.set_title('Тестовая выборка и предсказания модели')\n",
        "\n",
        "ax.scatter(class_1_graph_x_1_values, class_1_graph_x_2_values, color = \"gold\",\n",
        "           edgecolors='orange', label = \"Класс 1 тестовой выборки\")\n",
        "ax.scatter(class_2_graph_x_1_values, class_2_graph_x_2_values, color = \"silver\",\n",
        "           edgecolors='gray', label = \"Класс 0 тестовой выборки\")\n",
        "ax.plot(separating_plane_horizontal_values, separating_plane_vertical_values,\n",
        "        color = \"tomato\", label = \"Разделяющая плоскость\")\n",
        "\n",
        "ax.legend()\n",
        "\n",
        "plt.show()"
      ],
      "metadata": {
        "id": "J1v5KOalZ2zK",
        "colab": {
          "base_uri": "https://localhost:8080/",
          "height": 336
        },
        "outputId": "a8fa499c-eee2-4652-bcfa-7c9dd7de209c"
      },
      "execution_count": 9,
      "outputs": [
        {
          "output_type": "display_data",
          "data": {
            "text/plain": [
              "<Figure size 504x360 with 1 Axes>"
            ],
            "image/png": "[encoded data removed]"
          },
          "metadata": {
            "needs_background": "light"
          }
        }
      ]
    },
    {
      "cell_type": "markdown",
      "source": [
        "# В дополнение к графику можно вывести две таблицы"
      ],
      "metadata": {
        "id": "IL39T7ZGT0jB"
      }
    },
    {
      "cell_type": "markdown",
      "source": [
        "## Таблица с истиными значениями таргетов для соответствующих объектов"
      ],
      "metadata": {
        "id": "LWFUurp7T8jS"
      }
    },
    {
      "cell_type": "code",
      "source": [
        "test_df = pd.DataFrame(np.concatenate((X_test, Y_test[:, np.newaxis]), axis = 1, dtype = object),\n",
        "             columns = [\"x_1\", \"x_2\", \"y\"])\n",
        "test_df"
      ],
      "metadata": {
        "id": "mxlYReEYUIXC",
        "colab": {
          "base_uri": "https://localhost:8080/",
          "height": 424
        },
        "outputId": "5ec86790-9d26-4e6e-9c0d-be317531f7f0"
      },
      "execution_count": 10,
      "outputs": [
        {
          "output_type": "execute_result",
          "data": {
            "text/plain": [
              "          x_1       x_2  y\n",
              "0    2.014962  5.194453  1\n",
              "1     7.14824  2.771948  0\n",
              "2    9.105824  4.402933  0\n",
              "3    9.476643  6.059579  0\n",
              "4    8.402912  3.739827  0\n",
              "..        ...       ... ..\n",
              "99   9.601205   7.00903  0\n",
              "100  0.408263  4.353494  1\n",
              "101  1.159999  4.431854  1\n",
              "102  9.708678  3.704619  0\n",
              "103  5.006872  8.665052  1\n",
              "\n",
              "[104 rows x 3 columns]"
            ],
            "text/html": [
              "\n",
              "  <div id=\"df-a487ed0c-9b11-4a23-a6b7-ef84404b8e0c\">\n",
              "    <div class=\"colab-df-container\">\n",
              "      <div>\n",
              "<style scoped>\n",
              "    .dataframe tbody tr th:only-of-type {\n",
              "        vertical-align: middle;\n",
              "    }\n",
              "\n",
              "    .dataframe tbody tr th {\n",
              "        vertical-align: top;\n",
              "    }\n",
              "\n",
              "    .dataframe thead th {\n",
              "        text-align: right;\n",
              "    }\n",
              "</style>\n",
              "<table border=\"1\" class=\"dataframe\">\n",
              "  <thead>\n",
              "    <tr style=\"text-align: right;\">\n",
              "      <th></th>\n",
              "      <th>x_1</th>\n",
              "      <th>x_2</th>\n",
              "      <th>y</th>\n",
              "    </tr>\n",
              "  </thead>\n",
              "  <tbody>\n",
              "    <tr>\n",
              "      <th>0</th>\n",
              "      <td>2.014962</td>\n",
              "      <td>5.194453</td>\n",
              "      <td>1</td>\n",
              "    </tr>\n",
              "    <tr>\n",
              "      <th>1</th>\n",
              "      <td>7.14824</td>\n",
              "      <td>2.771948</td>\n",
              "      <td>0</td>\n",
              "    </tr>\n",
              "    <tr>\n",
              "      <th>2</th>\n",
              "      <td>9.105824</td>\n",
              "      <td>4.402933</td>\n",
              "      <td>0</td>\n",
              "    </tr>\n",
              "    <tr>\n",
              "      <th>3</th>\n",
              "      <td>9.476643</td>\n",
              "      <td>6.059579</td>\n",
              "      <td>0</td>\n",
              "    </tr>\n",
              "    <tr>\n",
              "      <th>4</th>\n",
              "      <td>8.402912</td>\n",
              "      <td>3.739827</td>\n",
              "      <td>0</td>\n",
              "    </tr>\n",
              "    <tr>\n",
              "      <th>...</th>\n",
              "      <td>...</td>\n",
              "      <td>...</td>\n",
              "      <td>...</td>\n",
              "    </tr>\n",
              "    <tr>\n",
              "      <th>99</th>\n",
              "      <td>9.601205</td>\n",
              "      <td>7.00903</td>\n",
              "      <td>0</td>\n",
              "    </tr>\n",
              "    <tr>\n",
              "      <th>100</th>\n",
              "      <td>0.408263</td>\n",
              "      <td>4.353494</td>\n",
              "      <td>1</td>\n",
              "    </tr>\n",
              "    <tr>\n",
              "      <th>101</th>\n",
              "      <td>1.159999</td>\n",
              "      <td>4.431854</td>\n",
              "      <td>1</td>\n",
              "    </tr>\n",
              "    <tr>\n",
              "      <th>102</th>\n",
              "      <td>9.708678</td>\n",
              "      <td>3.704619</td>\n",
              "      <td>0</td>\n",
              "    </tr>\n",
              "    <tr>\n",
              "      <th>103</th>\n",
              "      <td>5.006872</td>\n",
              "      <td>8.665052</td>\n",
              "      <td>1</td>\n",
              "    </tr>\n",
              "  </tbody>\n",
              "</table>\n",
              "<p>104 rows × 3 columns</p>\n",
              "</div>\n",
              "      <button class=\"colab-df-convert\" onclick=\"convertToInteractive('df-a487ed0c-9b11-4a23-a6b7-ef84404b8e0c')\"\n",
              "              title=\"Convert this dataframe to an interactive table.\"\n",
              "              style=\"display:none;\">\n",
              "        \n",
              "  <svg xmlns=\"http://www.w3.org/2000/svg\" height=\"24px\"viewBox=\"0 0 24 24\"\n",
              "       width=\"24px\">\n",
              "    <path d=\"M0 0h24v24H0V0z\" fill=\"none\"/>\n",
              "    <path d=\"M18.56 5.44l.94 2.06.94-2.06 2.06-.94-2.06-.94-.94-2.06-.94 2.06-2.06.94zm-11 1L8.5 8.5l.94-2.06 2.06-.94-2.06-.94L8.5 2.5l-.94 2.06-2.06.94zm10 10l.94 2.06.94-2.06 2.06-.94-2.06-.94-.94-2.06-.94 2.06-2.06.94z\"/><path d=\"M17.41 7.96l-1.37-1.37c-.4-.4-.92-.59-1.43-.59-.52 0-1.04.2-1.43.59L10.3 9.45l-7.72 7.72c-.78.78-.78 2.05 0 2.83L4 21.41c.39.39.9.59 1.41.59.51 0 1.02-.2 1.41-.59l7.78-7.78 2.81-2.81c.8-.78.8-2.07 0-2.86zM5.41 20L4 18.59l7.72-7.72 1.47 1.35L5.41 20z\"/>\n",
              "  </svg>\n",
              "      </button>\n",
              "      \n",
              "  <style>\n",
              "    .colab-df-container {\n",
              "      display:flex;\n",
              "      flex-wrap:wrap;\n",
              "      gap: 12px;\n",
              "    }\n",
              "\n",
              "    .colab-df-convert {\n",
              "      background-color: #E8F0FE;\n",
              "      border: none;\n",
              "      border-radius: 50%;\n",
              "      cursor: pointer;\n",
              "      display: none;\n",
              "      fill: #1967D2;\n",
              "      height: 32px;\n",
              "      padding: 0 0 0 0;\n",
              "      width: 32px;\n",
              "    }\n",
              "\n",
              "    .colab-df-convert:hover {\n",
              "      background-color: #E2EBFA;\n",
              "      box-shadow: 0px 1px 2px rgba(60, 64, 67, 0.3), 0px 1px 3px 1px rgba(60, 64, 67, 0.15);\n",
              "      fill: #174EA6;\n",
              "    }\n",
              "\n",
              "    [theme=dark] .colab-df-convert {\n",
              "      background-color: #3B4455;\n",
              "      fill: #D2E3FC;\n",
              "    }\n",
              "\n",
              "    [theme=dark] .colab-df-convert:hover {\n",
              "      background-color: #434B5C;\n",
              "      box-shadow: 0px 1px 3px 1px rgba(0, 0, 0, 0.15);\n",
              "      filter: drop-shadow(0px 1px 2px rgba(0, 0, 0, 0.3));\n",
              "      fill: #FFFFFF;\n",
              "    }\n",
              "  </style>\n",
              "\n",
              "      <script>\n",
              "        const buttonEl =\n",
              "          document.querySelector('#df-a487ed0c-9b11-4a23-a6b7-ef84404b8e0c button.colab-df-convert');\n",
              "        buttonEl.style.display =\n",
              "          google.colab.kernel.accessAllowed ? 'block' : 'none';\n",
              "\n",
              "        async function convertToInteractive(key) {\n",
              "          const element = document.querySelector('#df-a487ed0c-9b11-4a23-a6b7-ef84404b8e0c');\n",
              "          const dataTable =\n",
              "            await google.colab.kernel.invokeFunction('convertToInteractive',\n",
              "                                                     [key], {});\n",
              "          if (!dataTable) return;\n",
              "\n",
              "          const docLinkHtml = 'Like what you see? Visit the ' +\n",
              "            '<a target=\"_blank\" href=https://colab.research.google.com/notebooks/data_table.ipynb>data table notebook</a>'\n",
              "            + ' to learn more about interactive tables.';\n",
              "          element.innerHTML = '';\n",
              "          dataTable['output_type'] = 'display_data';\n",
              "          await google.colab.output.renderOutput(dataTable, element);\n",
              "          const docLink = document.createElement('div');\n",
              "          docLink.innerHTML = docLinkHtml;\n",
              "          element.appendChild(docLink);\n",
              "        }\n",
              "      </script>\n",
              "    </div>\n",
              "  </div>\n",
              "  "
            ]
          },
          "metadata": {},
          "execution_count": 10
        }
      ]
    },
    {
      "cell_type": "markdown",
      "source": [
        "## Таблица с предсказанными значениями таргетов для соответствующих объектов"
      ],
      "metadata": {
        "id": "Yn6WvGJyUDD-"
      }
    },
    {
      "cell_type": "code",
      "source": [
        "test_df = pd.DataFrame(np.concatenate((X_test, Y_pred[:, np.newaxis]), axis = 1, dtype = object),\n",
        "             columns = [\"x_1\", \"x_2\", \"y\"])\n",
        "test_df"
      ],
      "metadata": {
        "id": "a9T9NrvoXyQV",
        "colab": {
          "base_uri": "https://localhost:8080/",
          "height": 424
        },
        "outputId": "18b5804b-ca1b-4bc2-81b7-dbed785354fe"
      },
      "execution_count": 11,
      "outputs": [
        {
          "output_type": "execute_result",
          "data": {
            "text/plain": [
              "          x_1       x_2  y\n",
              "0    2.014962  5.194453  1\n",
              "1     7.14824  2.771948  0\n",
              "2    9.105824  4.402933  0\n",
              "3    9.476643  6.059579  0\n",
              "4    8.402912  3.739827  0\n",
              "..        ...       ... ..\n",
              "99   9.601205   7.00903  0\n",
              "100  0.408263  4.353494  1\n",
              "101  1.159999  4.431854  1\n",
              "102  9.708678  3.704619  0\n",
              "103  5.006872  8.665052  1\n",
              "\n",
              "[104 rows x 3 columns]"
            ],
            "text/html": [
              "\n",
              "  <div id=\"df-3cc0415c-534a-49e7-aef4-e08143d0e35a\">\n",
              "    <div class=\"colab-df-container\">\n",
              "      <div>\n",
              "<style scoped>\n",
              "    .dataframe tbody tr th:only-of-type {\n",
              "        vertical-align: middle;\n",
              "    }\n",
              "\n",
              "    .dataframe tbody tr th {\n",
              "        vertical-align: top;\n",
              "    }\n",
              "\n",
              "    .dataframe thead th {\n",
              "        text-align: right;\n",
              "    }\n",
              "</style>\n",
              "<table border=\"1\" class=\"dataframe\">\n",
              "  <thead>\n",
              "    <tr style=\"text-align: right;\">\n",
              "      <th></th>\n",
              "      <th>x_1</th>\n",
              "      <th>x_2</th>\n",
              "      <th>y</th>\n",
              "    </tr>\n",
              "  </thead>\n",
              "  <tbody>\n",
              "    <tr>\n",
              "      <th>0</th>\n",
              "      <td>2.014962</td>\n",
              "      <td>5.194453</td>\n",
              "      <td>1</td>\n",
              "    </tr>\n",
              "    <tr>\n",
              "      <th>1</th>\n",
              "      <td>7.14824</td>\n",
              "      <td>2.771948</td>\n",
              "      <td>0</td>\n",
              "    </tr>\n",
              "    <tr>\n",
              "      <th>2</th>\n",
              "      <td>9.105824</td>\n",
              "      <td>4.402933</td>\n",
              "      <td>0</td>\n",
              "    </tr>\n",
              "    <tr>\n",
              "      <th>3</th>\n",
              "      <td>9.476643</td>\n",
              "      <td>6.059579</td>\n",
              "      <td>0</td>\n",
              "    </tr>\n",
              "    <tr>\n",
              "      <th>4</th>\n",
              "      <td>8.402912</td>\n",
              "      <td>3.739827</td>\n",
              "      <td>0</td>\n",
              "    </tr>\n",
              "    <tr>\n",
              "      <th>...</th>\n",
              "      <td>...</td>\n",
              "      <td>...</td>\n",
              "      <td>...</td>\n",
              "    </tr>\n",
              "    <tr>\n",
              "      <th>99</th>\n",
              "      <td>9.601205</td>\n",
              "      <td>7.00903</td>\n",
              "      <td>0</td>\n",
              "    </tr>\n",
              "    <tr>\n",
              "      <th>100</th>\n",
              "      <td>0.408263</td>\n",
              "      <td>4.353494</td>\n",
              "      <td>1</td>\n",
              "    </tr>\n",
              "    <tr>\n",
              "      <th>101</th>\n",
              "      <td>1.159999</td>\n",
              "      <td>4.431854</td>\n",
              "      <td>1</td>\n",
              "    </tr>\n",
              "    <tr>\n",
              "      <th>102</th>\n",
              "      <td>9.708678</td>\n",
              "      <td>3.704619</td>\n",
              "      <td>0</td>\n",
              "    </tr>\n",
              "    <tr>\n",
              "      <th>103</th>\n",
              "      <td>5.006872</td>\n",
              "      <td>8.665052</td>\n",
              "      <td>1</td>\n",
              "    </tr>\n",
              "  </tbody>\n",
              "</table>\n",
              "<p>104 rows × 3 columns</p>\n",
              "</div>\n",
              "      <button class=\"colab-df-convert\" onclick=\"convertToInteractive('df-3cc0415c-534a-49e7-aef4-e08143d0e35a')\"\n",
              "              title=\"Convert this dataframe to an interactive table.\"\n",
              "              style=\"display:none;\">\n",
              "        \n",
              "  <svg xmlns=\"http://www.w3.org/2000/svg\" height=\"24px\"viewBox=\"0 0 24 24\"\n",
              "       width=\"24px\">\n",
              "    <path d=\"M0 0h24v24H0V0z\" fill=\"none\"/>\n",
              "    <path d=\"M18.56 5.44l.94 2.06.94-2.06 2.06-.94-2.06-.94-.94-2.06-.94 2.06-2.06.94zm-11 1L8.5 8.5l.94-2.06 2.06-.94-2.06-.94L8.5 2.5l-.94 2.06-2.06.94zm10 10l.94 2.06.94-2.06 2.06-.94-2.06-.94-.94-2.06-.94 2.06-2.06.94z\"/><path d=\"M17.41 7.96l-1.37-1.37c-.4-.4-.92-.59-1.43-.59-.52 0-1.04.2-1.43.59L10.3 9.45l-7.72 7.72c-.78.78-.78 2.05 0 2.83L4 21.41c.39.39.9.59 1.41.59.51 0 1.02-.2 1.41-.59l7.78-7.78 2.81-2.81c.8-.78.8-2.07 0-2.86zM5.41 20L4 18.59l7.72-7.72 1.47 1.35L5.41 20z\"/>\n",
              "  </svg>\n",
              "      </button>\n",
              "      \n",
              "  <style>\n",
              "    .colab-df-container {\n",
              "      display:flex;\n",
              "      flex-wrap:wrap;\n",
              "      gap: 12px;\n",
              "    }\n",
              "\n",
              "    .colab-df-convert {\n",
              "      background-color: #E8F0FE;\n",
              "      border: none;\n",
              "      border-radius: 50%;\n",
              "      cursor: pointer;\n",
              "      display: none;\n",
              "      fill: #1967D2;\n",
              "      height: 32px;\n",
              "      padding: 0 0 0 0;\n",
              "      width: 32px;\n",
              "    }\n",
              "\n",
              "    .colab-df-convert:hover {\n",
              "      background-color: #E2EBFA;\n",
              "      box-shadow: 0px 1px 2px rgba(60, 64, 67, 0.3), 0px 1px 3px 1px rgba(60, 64, 67, 0.15);\n",
              "      fill: #174EA6;\n",
              "    }\n",
              "\n",
              "    [theme=dark] .colab-df-convert {\n",
              "      background-color: #3B4455;\n",
              "      fill: #D2E3FC;\n",
              "    }\n",
              "\n",
              "    [theme=dark] .colab-df-convert:hover {\n",
              "      background-color: #434B5C;\n",
              "      box-shadow: 0px 1px 3px 1px rgba(0, 0, 0, 0.15);\n",
              "      filter: drop-shadow(0px 1px 2px rgba(0, 0, 0, 0.3));\n",
              "      fill: #FFFFFF;\n",
              "    }\n",
              "  </style>\n",
              "\n",
              "      <script>\n",
              "        const buttonEl =\n",
              "          document.querySelector('#df-3cc0415c-534a-49e7-aef4-e08143d0e35a button.colab-df-convert');\n",
              "        buttonEl.style.display =\n",
              "          google.colab.kernel.accessAllowed ? 'block' : 'none';\n",
              "\n",
              "        async function convertToInteractive(key) {\n",
              "          const element = document.querySelector('#df-3cc0415c-534a-49e7-aef4-e08143d0e35a');\n",
              "          const dataTable =\n",
              "            await google.colab.kernel.invokeFunction('convertToInteractive',\n",
              "                                                     [key], {});\n",
              "          if (!dataTable) return;\n",
              "\n",
              "          const docLinkHtml = 'Like what you see? Visit the ' +\n",
              "            '<a target=\"_blank\" href=https://colab.research.google.com/notebooks/data_table.ipynb>data table notebook</a>'\n",
              "            + ' to learn more about interactive tables.';\n",
              "          element.innerHTML = '';\n",
              "          dataTable['output_type'] = 'display_data';\n",
              "          await google.colab.output.renderOutput(dataTable, element);\n",
              "          const docLink = document.createElement('div');\n",
              "          docLink.innerHTML = docLinkHtml;\n",
              "          element.appendChild(docLink);\n",
              "        }\n",
              "      </script>\n",
              "    </div>\n",
              "  </div>\n",
              "  "
            ]
          },
          "metadata": {},
          "execution_count": 11
        }
      ]
    },
    {
      "cell_type": "markdown",
      "source": [
        "Как мы видим, классификатор справился очень даже хорошо!"
      ],
      "metadata": {
        "id": "MxsgjqPIaD-a"
      }
    }
  ]
}