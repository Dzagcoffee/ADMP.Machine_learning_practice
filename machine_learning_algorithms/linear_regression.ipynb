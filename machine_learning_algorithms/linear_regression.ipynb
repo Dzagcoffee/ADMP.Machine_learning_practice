{
 "cells": [
  {
   "cell_type": "markdown",
   "metadata": {
    "id": "WJ5PRVCTQsLe"
   },
   "source": [
    "# **Linear regression**"
   ]
  },
  {
   "cell_type": "code",
   "execution_count": 1,
   "metadata": {
    "id": "iv-BnCqcl3iR"
   },
   "outputs": [],
   "source": [
    "import numpy as np\n",
    "import pandas as pd\n",
    "import matplotlib.pyplot as plt\n",
    "from sklearn.model_selection import train_test_split\n",
    "from sklearn.metrics import mean_squared_error"
   ]
  },
  {
   "cell_type": "code",
   "execution_count": 2,
   "metadata": {
    "id": "wVRoxJhxuUiu"
   },
   "outputs": [],
   "source": [
    "class Linear_regression():\n",
    "    def __init__(self, learning_rate = 0.001, iterations_quant = 1000, reg_coefficient = 0.001):\n",
    "        '''This is a linear regression model class'''\n",
    "\n",
    "        self._learning_rate = learning_rate\n",
    "        self._iterations_quant = iterations_quant\n",
    "        self._reg_coefficient = reg_coefficient\n",
    "        self.w = None\n",
    "        self.bias = None\n",
    "    \n",
    "    def fit(self, X, Y):\n",
    "        '''This function we need for training the model on the training set'''\n",
    "        \n",
    "        self._X = X\n",
    "        self._Y = Y\n",
    "        self._df_rows_quant, self._df_columns_quant = self._X.shape\n",
    "        self.w = np.random.rand(self._df_columns_quant)\n",
    "        self.bias = 0\n",
    "\n",
    "        for i in range(self._iterations_quant):\n",
    "            some_predict = self.predict(self._X)\n",
    "            transposed_X = np.transpose(self._X)\n",
    "            err = some_predict - self._Y\n",
    "\n",
    "            d_w = 2 * np.dot(transposed_X, err) / self._df_rows_quant\n",
    "            d_bias = 2 * np.sum(some_predict - self._Y) / self._df_rows_quant\n",
    "\n",
    "            self.w -= self._learning_rate * (d_w + 2 * self._reg_coefficient * self.w)\n",
    "            self.bias -= self._learning_rate * d_bias\n",
    "\n",
    "    def predict(self, X):\n",
    "        '''This function predicts the values for the sample that was passed as an argument'''\n",
    "\n",
    "        return np.dot(X, self.w) + self.bias"
   ]
  },
  {
   "cell_type": "code",
   "execution_count": 3,
   "metadata": {
    "colab": {
     "base_uri": "https://localhost:8080/",
     "height": 424
    },
    "id": "209Gd39r4Of7",
    "outputId": "73fb4344-6882-444c-c7b4-805e6dcb9982"
   },
   "outputs": [
    {
     "data": {
      "text/html": [
       "<div>\n",
       "<style scoped>\n",
       "    .dataframe tbody tr th:only-of-type {\n",
       "        vertical-align: middle;\n",
       "    }\n",
       "\n",
       "    .dataframe tbody tr th {\n",
       "        vertical-align: top;\n",
       "    }\n",
       "\n",
       "    .dataframe thead th {\n",
       "        text-align: right;\n",
       "    }\n",
       "</style>\n",
       "<table border=\"1\" class=\"dataframe\">\n",
       "  <thead>\n",
       "    <tr style=\"text-align: right;\">\n",
       "      <th></th>\n",
       "      <th>x</th>\n",
       "      <th>x**2</th>\n",
       "      <th>x**3</th>\n",
       "      <th>x**4</th>\n",
       "      <th>x**5</th>\n",
       "      <th>x**6</th>\n",
       "      <th>x**7</th>\n",
       "      <th>y</th>\n",
       "    </tr>\n",
       "  </thead>\n",
       "  <tbody>\n",
       "    <tr>\n",
       "      <th>0</th>\n",
       "      <td>-2.000000</td>\n",
       "      <td>4.000000</td>\n",
       "      <td>-8.000000</td>\n",
       "      <td>16.000000</td>\n",
       "      <td>-32.000000</td>\n",
       "      <td>64.000000</td>\n",
       "      <td>-128.000000</td>\n",
       "      <td>-0.270671</td>\n",
       "    </tr>\n",
       "    <tr>\n",
       "      <th>1</th>\n",
       "      <td>-1.988848</td>\n",
       "      <td>3.955515</td>\n",
       "      <td>-7.866916</td>\n",
       "      <td>15.646097</td>\n",
       "      <td>-31.117701</td>\n",
       "      <td>61.888365</td>\n",
       "      <td>-123.086526</td>\n",
       "      <td>-0.272180</td>\n",
       "    </tr>\n",
       "    <tr>\n",
       "      <th>2</th>\n",
       "      <td>-1.977695</td>\n",
       "      <td>3.911278</td>\n",
       "      <td>-7.735316</td>\n",
       "      <td>15.298097</td>\n",
       "      <td>-30.254972</td>\n",
       "      <td>59.835113</td>\n",
       "      <td>-118.335613</td>\n",
       "      <td>-0.273689</td>\n",
       "    </tr>\n",
       "    <tr>\n",
       "      <th>3</th>\n",
       "      <td>-1.966543</td>\n",
       "      <td>3.867290</td>\n",
       "      <td>-7.605192</td>\n",
       "      <td>14.955935</td>\n",
       "      <td>-29.411485</td>\n",
       "      <td>57.838944</td>\n",
       "      <td>-113.742755</td>\n",
       "      <td>-0.275198</td>\n",
       "    </tr>\n",
       "    <tr>\n",
       "      <th>4</th>\n",
       "      <td>-1.955390</td>\n",
       "      <td>3.823551</td>\n",
       "      <td>-7.476535</td>\n",
       "      <td>14.619545</td>\n",
       "      <td>-28.586917</td>\n",
       "      <td>55.898581</td>\n",
       "      <td>-109.303545</td>\n",
       "      <td>-0.276706</td>\n",
       "    </tr>\n",
       "    <tr>\n",
       "      <th>...</th>\n",
       "      <td>...</td>\n",
       "      <td>...</td>\n",
       "      <td>...</td>\n",
       "      <td>...</td>\n",
       "      <td>...</td>\n",
       "      <td>...</td>\n",
       "      <td>...</td>\n",
       "      <td>...</td>\n",
       "    </tr>\n",
       "    <tr>\n",
       "      <th>265</th>\n",
       "      <td>0.955390</td>\n",
       "      <td>0.912771</td>\n",
       "      <td>0.872052</td>\n",
       "      <td>0.833150</td>\n",
       "      <td>0.795984</td>\n",
       "      <td>0.760475</td>\n",
       "      <td>0.726551</td>\n",
       "      <td>2.483714</td>\n",
       "    </tr>\n",
       "    <tr>\n",
       "      <th>266</th>\n",
       "      <td>0.966543</td>\n",
       "      <td>0.934205</td>\n",
       "      <td>0.902949</td>\n",
       "      <td>0.872739</td>\n",
       "      <td>0.843539</td>\n",
       "      <td>0.815317</td>\n",
       "      <td>0.788039</td>\n",
       "      <td>2.540886</td>\n",
       "    </tr>\n",
       "    <tr>\n",
       "      <th>267</th>\n",
       "      <td>0.977695</td>\n",
       "      <td>0.955888</td>\n",
       "      <td>0.934567</td>\n",
       "      <td>0.913722</td>\n",
       "      <td>0.893341</td>\n",
       "      <td>0.873415</td>\n",
       "      <td>0.853934</td>\n",
       "      <td>2.599029</td>\n",
       "    </tr>\n",
       "    <tr>\n",
       "      <th>268</th>\n",
       "      <td>0.988848</td>\n",
       "      <td>0.977820</td>\n",
       "      <td>0.966914</td>\n",
       "      <td>0.956131</td>\n",
       "      <td>0.945468</td>\n",
       "      <td>0.934924</td>\n",
       "      <td>0.924497</td>\n",
       "      <td>2.658156</td>\n",
       "    </tr>\n",
       "    <tr>\n",
       "      <th>269</th>\n",
       "      <td>1.000000</td>\n",
       "      <td>1.000000</td>\n",
       "      <td>1.000000</td>\n",
       "      <td>1.000000</td>\n",
       "      <td>1.000000</td>\n",
       "      <td>1.000000</td>\n",
       "      <td>1.000000</td>\n",
       "      <td>2.718282</td>\n",
       "    </tr>\n",
       "  </tbody>\n",
       "</table>\n",
       "<p>270 rows × 8 columns</p>\n",
       "</div>"
      ],
      "text/plain": [
       "            x      x**2      x**3       x**4       x**5       x**6  \\\n",
       "0   -2.000000  4.000000 -8.000000  16.000000 -32.000000  64.000000   \n",
       "1   -1.988848  3.955515 -7.866916  15.646097 -31.117701  61.888365   \n",
       "2   -1.977695  3.911278 -7.735316  15.298097 -30.254972  59.835113   \n",
       "3   -1.966543  3.867290 -7.605192  14.955935 -29.411485  57.838944   \n",
       "4   -1.955390  3.823551 -7.476535  14.619545 -28.586917  55.898581   \n",
       "..        ...       ...       ...        ...        ...        ...   \n",
       "265  0.955390  0.912771  0.872052   0.833150   0.795984   0.760475   \n",
       "266  0.966543  0.934205  0.902949   0.872739   0.843539   0.815317   \n",
       "267  0.977695  0.955888  0.934567   0.913722   0.893341   0.873415   \n",
       "268  0.988848  0.977820  0.966914   0.956131   0.945468   0.934924   \n",
       "269  1.000000  1.000000  1.000000   1.000000   1.000000   1.000000   \n",
       "\n",
       "           x**7         y  \n",
       "0   -128.000000 -0.270671  \n",
       "1   -123.086526 -0.272180  \n",
       "2   -118.335613 -0.273689  \n",
       "3   -113.742755 -0.275198  \n",
       "4   -109.303545 -0.276706  \n",
       "..          ...       ...  \n",
       "265    0.726551  2.483714  \n",
       "266    0.788039  2.540886  \n",
       "267    0.853934  2.599029  \n",
       "268    0.924497  2.658156  \n",
       "269    1.000000  2.718282  \n",
       "\n",
       "[270 rows x 8 columns]"
      ]
     },
     "execution_count": 3,
     "metadata": {},
     "output_type": "execute_result"
    }
   ],
   "source": [
    "df = pd.read_csv(\"D://ADMP_Anastasia/machine_learning/datasets/dataset_for_linear_regression.csv\")\n",
    "df"
   ]
  },
  {
   "cell_type": "code",
   "execution_count": 4,
   "metadata": {
    "id": "5HmQI1Dl_Tlv"
   },
   "outputs": [],
   "source": [
    "X = df.iloc[:, :-1].values\n",
    "Y = df.iloc[:, -1].values"
   ]
  },
  {
   "cell_type": "code",
   "execution_count": 5,
   "metadata": {
    "id": "Rl6R94FtBuCe"
   },
   "outputs": [],
   "source": [
    "X_train, X_test, Y_train, Y_test = train_test_split(X, Y, test_size = 1/5, random_state = 42)\n",
    "\n",
    "X_test_len = len(X_test)\n",
    "Y_test_len = len(Y_test)\n",
    "Y_test = Y_test.reshape(-1, 1)"
   ]
  },
  {
   "cell_type": "code",
   "execution_count": 6,
   "metadata": {
    "id": "1nvzjHkkBG9G"
   },
   "outputs": [],
   "source": [
    "model = Linear_regression(0.0001, 200000)\n",
    "model.fit(X_train, Y_train)"
   ]
  },
  {
   "cell_type": "code",
   "execution_count": 7,
   "metadata": {
    "id": "XPu9csXLFMou"
   },
   "outputs": [],
   "source": [
    "Y_pred = model.predict(X_test)\n",
    "Y_pred = Y_pred.reshape(-1, 1)"
   ]
  },
  {
   "cell_type": "code",
   "execution_count": 8,
   "metadata": {
    "colab": {
     "base_uri": "https://localhost:8080/"
    },
    "id": "ZwNf6_PXGCuf",
    "outputId": "8525227a-53bb-42f8-aa7d-03124040cf0c"
   },
   "outputs": [
    {
     "name": "stdout",
     "output_type": "stream",
     "text": [
      "bias after training: 0.031967970593388184 \n",
      "\n",
      "w_1 = 0.8508184064307028\n",
      "w_2 = 0.8509832454188373\n",
      "w_3 = 0.4229635790294786\n",
      "w_4 = 0.010450172115250967\n",
      "w_5 = 0.28662628568123877\n",
      "w_6 = 0.4044724608566899\n",
      "w_7 = 0.12203473170764464\n"
     ]
    }
   ],
   "source": [
    "w_list = list(model.w)\n",
    "bias = model.bias\n",
    "\n",
    "print(\"bias after training:\", bias, \"\\n\")\n",
    "\n",
    "for i, w_i in enumerate(w_list):\n",
    "    print(\"w_{} =\".format(i + 1), w_list[i])"
   ]
  },
  {
   "cell_type": "code",
   "execution_count": 9,
   "metadata": {
    "colab": {
     "base_uri": "https://localhost:8080/",
     "height": 336
    },
    "id": "W1Sp9EeCIKlc",
    "outputId": "b189b293-2b95-4021-8e57-c6ce799be65a"
   },
   "outputs": [
    {
     "data": {
      "image/png": "[encoded data removed]",
      "text/plain": [
       "<Figure size 504x360 with 1 Axes>"
      ]
     },
     "metadata": {
      "needs_background": "light"
     },
     "output_type": "display_data"
    }
   ],
   "source": [
    "graph_X_values = X_test[:, 0]\n",
    "graph_Y_test_values = Y_test\n",
    "grapg_Y_pred_values = Y_pred\n",
    "\n",
    "figure, ax = plt.subplots()\n",
    "\n",
    "figure.set_figwidth(7)\n",
    "figure.set_figheight(5)\n",
    "\n",
    "ax.set_title(\"Test sample and model predictions\")\n",
    "\n",
    "ax.scatter(graph_X_values, grapg_Y_pred_values, color = \"gold\",\n",
    "           edgecolors=\"orange\", label = \"Model predictions\")\n",
    "ax.scatter(graph_X_values, graph_Y_test_values, color = \"tomato\",\n",
    "           label = \"Test sample\", marker = \"x\")\n",
    "\n",
    "ax.legend()\n",
    "\n",
    "plt.show()"
   ]
  },
  {
   "cell_type": "code",
   "execution_count": 10,
   "metadata": {
    "colab": {
     "base_uri": "https://localhost:8080/"
    },
    "id": "orcAneXTs1dK",
    "outputId": "1511d9f4-a484-46c6-f8bc-7453a09e0f8e"
   },
   "outputs": [
    {
     "data": {
      "text/plain": [
       "0.004553764992005344"
      ]
     },
     "execution_count": 10,
     "metadata": {},
     "output_type": "execute_result"
    }
   ],
   "source": [
    "mean_squared_error_value = mean_squared_error(Y_test, Y_pred)\n",
    "mean_squared_error_value"
   ]
  },
  {
   "cell_type": "code",
   "execution_count": 11,
   "metadata": {
    "colab": {
     "base_uri": "https://localhost:8080/",
     "height": 206
    },
    "id": "mxlYReEYUIXC",
    "outputId": "0f73820d-83c7-4a6e-ec51-4571f4d3a007"
   },
   "outputs": [
    {
     "data": {
      "text/html": [
       "<div>\n",
       "<style scoped>\n",
       "    .dataframe tbody tr th:only-of-type {\n",
       "        vertical-align: middle;\n",
       "    }\n",
       "\n",
       "    .dataframe tbody tr th {\n",
       "        vertical-align: top;\n",
       "    }\n",
       "\n",
       "    .dataframe thead th {\n",
       "        text-align: right;\n",
       "    }\n",
       "</style>\n",
       "<table border=\"1\" class=\"dataframe\">\n",
       "  <thead>\n",
       "    <tr style=\"text-align: right;\">\n",
       "      <th></th>\n",
       "      <th>x</th>\n",
       "      <th>x**2</th>\n",
       "      <th>x**3</th>\n",
       "      <th>x**4</th>\n",
       "      <th>x**5</th>\n",
       "      <th>x**6</th>\n",
       "      <th>x**7</th>\n",
       "      <th>y</th>\n",
       "    </tr>\n",
       "  </thead>\n",
       "  <tbody>\n",
       "    <tr>\n",
       "      <th>0</th>\n",
       "      <td>-1.665428</td>\n",
       "      <td>2.773649</td>\n",
       "      <td>-4.619311</td>\n",
       "      <td>7.693128</td>\n",
       "      <td>-12.812346</td>\n",
       "      <td>21.338034</td>\n",
       "      <td>-35.536949</td>\n",
       "      <td>-0.314949</td>\n",
       "    </tr>\n",
       "    <tr>\n",
       "      <th>1</th>\n",
       "      <td>-0.706320</td>\n",
       "      <td>0.498888</td>\n",
       "      <td>-0.352374</td>\n",
       "      <td>0.248889</td>\n",
       "      <td>-0.175795</td>\n",
       "      <td>0.124167</td>\n",
       "      <td>-0.087702</td>\n",
       "      <td>-0.348538</td>\n",
       "    </tr>\n",
       "    <tr>\n",
       "      <th>2</th>\n",
       "      <td>-1.118959</td>\n",
       "      <td>1.252069</td>\n",
       "      <td>-1.401015</td>\n",
       "      <td>1.567678</td>\n",
       "      <td>-1.754168</td>\n",
       "      <td>1.962842</td>\n",
       "      <td>-2.196340</td>\n",
       "      <td>-0.365474</td>\n",
       "    </tr>\n",
       "    <tr>\n",
       "      <th>3</th>\n",
       "      <td>-0.583643</td>\n",
       "      <td>0.340639</td>\n",
       "      <td>-0.198812</td>\n",
       "      <td>0.116035</td>\n",
       "      <td>-0.067723</td>\n",
       "      <td>0.039526</td>\n",
       "      <td>-0.023069</td>\n",
       "      <td>-0.325592</td>\n",
       "    </tr>\n",
       "    <tr>\n",
       "      <th>4</th>\n",
       "      <td>0.185874</td>\n",
       "      <td>0.034549</td>\n",
       "      <td>0.006422</td>\n",
       "      <td>0.001194</td>\n",
       "      <td>0.000222</td>\n",
       "      <td>0.000041</td>\n",
       "      <td>0.000008</td>\n",
       "      <td>0.223842</td>\n",
       "    </tr>\n",
       "  </tbody>\n",
       "</table>\n",
       "</div>"
      ],
      "text/plain": [
       "          x      x**2      x**3      x**4       x**5       x**6       x**7  \\\n",
       "0 -1.665428  2.773649 -4.619311  7.693128 -12.812346  21.338034 -35.536949   \n",
       "1 -0.706320  0.498888 -0.352374  0.248889  -0.175795   0.124167  -0.087702   \n",
       "2 -1.118959  1.252069 -1.401015  1.567678  -1.754168   1.962842  -2.196340   \n",
       "3 -0.583643  0.340639 -0.198812  0.116035  -0.067723   0.039526  -0.023069   \n",
       "4  0.185874  0.034549  0.006422  0.001194   0.000222   0.000041   0.000008   \n",
       "\n",
       "          y  \n",
       "0 -0.314949  \n",
       "1 -0.348538  \n",
       "2 -0.365474  \n",
       "3 -0.325592  \n",
       "4  0.223842  "
      ]
     },
     "execution_count": 11,
     "metadata": {},
     "output_type": "execute_result"
    }
   ],
   "source": [
    "test_df = pd.DataFrame(np.concatenate((X_test, Y_test), axis = 1),\n",
    "             columns = [\"x\", \"x**2\", \"x**3\", \"x**4\", \"x**5\", \"x**6\", \"x**7\", \"y\"])\n",
    "test_df.head()"
   ]
  },
  {
   "cell_type": "code",
   "execution_count": 12,
   "metadata": {
    "colab": {
     "base_uri": "https://localhost:8080/",
     "height": 206
    },
    "id": "a9T9NrvoXyQV",
    "outputId": "54755201-ac20-4452-800a-25d2fc3ae025"
   },
   "outputs": [
    {
     "data": {
      "text/html": [
       "<div>\n",
       "<style scoped>\n",
       "    .dataframe tbody tr th:only-of-type {\n",
       "        vertical-align: middle;\n",
       "    }\n",
       "\n",
       "    .dataframe tbody tr th {\n",
       "        vertical-align: top;\n",
       "    }\n",
       "\n",
       "    .dataframe thead th {\n",
       "        text-align: right;\n",
       "    }\n",
       "</style>\n",
       "<table border=\"1\" class=\"dataframe\">\n",
       "  <thead>\n",
       "    <tr style=\"text-align: right;\">\n",
       "      <th></th>\n",
       "      <th>x</th>\n",
       "      <th>x**2</th>\n",
       "      <th>x**3</th>\n",
       "      <th>x**4</th>\n",
       "      <th>x**5</th>\n",
       "      <th>x**6</th>\n",
       "      <th>x**7</th>\n",
       "      <th>y</th>\n",
       "    </tr>\n",
       "  </thead>\n",
       "  <tbody>\n",
       "    <tr>\n",
       "      <th>0</th>\n",
       "      <td>-1.665428</td>\n",
       "      <td>2.773649</td>\n",
       "      <td>-4.619311</td>\n",
       "      <td>7.693128</td>\n",
       "      <td>-12.812346</td>\n",
       "      <td>21.338034</td>\n",
       "      <td>-35.536949</td>\n",
       "      <td>-0.276536</td>\n",
       "    </tr>\n",
       "    <tr>\n",
       "      <th>1</th>\n",
       "      <td>-0.706320</td>\n",
       "      <td>0.498888</td>\n",
       "      <td>-0.352374</td>\n",
       "      <td>0.248889</td>\n",
       "      <td>-0.175795</td>\n",
       "      <td>0.124167</td>\n",
       "      <td>-0.087702</td>\n",
       "      <td>-0.301745</td>\n",
       "    </tr>\n",
       "    <tr>\n",
       "      <th>2</th>\n",
       "      <td>-1.118959</td>\n",
       "      <td>1.252069</td>\n",
       "      <td>-1.401015</td>\n",
       "      <td>1.567678</td>\n",
       "      <td>-1.754168</td>\n",
       "      <td>1.962842</td>\n",
       "      <td>-2.196340</td>\n",
       "      <td>-0.407673</td>\n",
       "    </tr>\n",
       "    <tr>\n",
       "      <th>3</th>\n",
       "      <td>-0.583643</td>\n",
       "      <td>0.340639</td>\n",
       "      <td>-0.198812</td>\n",
       "      <td>0.116035</td>\n",
       "      <td>-0.067723</td>\n",
       "      <td>0.039526</td>\n",
       "      <td>-0.023069</td>\n",
       "      <td>-0.263845</td>\n",
       "    </tr>\n",
       "    <tr>\n",
       "      <th>4</th>\n",
       "      <td>0.185874</td>\n",
       "      <td>0.034549</td>\n",
       "      <td>0.006422</td>\n",
       "      <td>0.001194</td>\n",
       "      <td>0.000222</td>\n",
       "      <td>0.000041</td>\n",
       "      <td>0.000008</td>\n",
       "      <td>0.222323</td>\n",
       "    </tr>\n",
       "  </tbody>\n",
       "</table>\n",
       "</div>"
      ],
      "text/plain": [
       "          x      x**2      x**3      x**4       x**5       x**6       x**7  \\\n",
       "0 -1.665428  2.773649 -4.619311  7.693128 -12.812346  21.338034 -35.536949   \n",
       "1 -0.706320  0.498888 -0.352374  0.248889  -0.175795   0.124167  -0.087702   \n",
       "2 -1.118959  1.252069 -1.401015  1.567678  -1.754168   1.962842  -2.196340   \n",
       "3 -0.583643  0.340639 -0.198812  0.116035  -0.067723   0.039526  -0.023069   \n",
       "4  0.185874  0.034549  0.006422  0.001194   0.000222   0.000041   0.000008   \n",
       "\n",
       "          y  \n",
       "0 -0.276536  \n",
       "1 -0.301745  \n",
       "2 -0.407673  \n",
       "3 -0.263845  \n",
       "4  0.222323  "
      ]
     },
     "execution_count": 12,
     "metadata": {},
     "output_type": "execute_result"
    }
   ],
   "source": [
    "pred_df = pd.DataFrame(np.concatenate((X_test, Y_pred), axis = 1),\n",
    "             columns = [\"x\", \"x**2\", \"x**3\", \"x**4\", \"x**5\", \"x**6\", \"x**7\", \"y\"])\n",
    "pred_df.head()"
   ]
  }
 ],
 "metadata": {
  "colab": {
   "collapsed_sections": [],
   "provenance": []
  },
  "kernelspec": {
   "display_name": "Python 3 (ipykernel)",
   "language": "python",
   "name": "python3"
  },
  "language_info": {
   "codemirror_mode": {
    "name": "ipython",
    "version": 3
   },
   "file_extension": ".py",
   "mimetype": "text/x-python",
   "name": "python",
   "nbconvert_exporter": "python",
   "pygments_lexer": "ipython3",
   "version": "3.9.12"
  }
 },
 "nbformat": 4,
 "nbformat_minor": 4
}
