{
  "nbformat": 4,
  "nbformat_minor": 0,
  "metadata": {
    "colab": {
      "provenance": []
    },
    "kernelspec": {
      "name": "python3",
      "display_name": "Python 3"
    },
    "language_info": {
      "name": "python"
    },
    "accelerator": "GPU",
    "gpuClass": "standard"
  },
  "cells": [
    {
      "cell_type": "markdown",
      "metadata": {
        "id": "yzpzIMb_Ycp2"
      },
      "source": [
        "# **Sequence to sequence**"
      ]
    },
    {
      "cell_type": "code",
      "execution_count": 1,
      "metadata": {
        "id": "sC8Snp846Jf_"
      },
      "outputs": [],
      "source": [
        "import random\n",
        "import sys\n",
        "\n",
        "import numpy as np\n",
        "import tqdm\n",
        "\n",
        "import torch\n",
        "import torch.nn as nn\n",
        "import torch.nn.functional as F\n",
        "from torch import optim\n",
        "\n",
        "import matplotlib.pyplot as plt\n",
        "import matplotlib.ticker as ticker"
      ]
    },
    {
      "cell_type": "code",
      "execution_count": 2,
      "metadata": {
        "colab": {
          "base_uri": "https://localhost:8080/"
        },
        "id": "EzABZSVnTUDb",
        "outputId": "06971c23-a6c8-4c4b-8637-20c195b12cbf"
      },
      "outputs": [
        {
          "output_type": "execute_result",
          "data": {
            "text/plain": [
              "device(type='cuda')"
            ]
          },
          "metadata": {},
          "execution_count": 2
        }
      ],
      "source": [
        "device = torch.device(\"cuda\" if torch.cuda.is_available() else \"cpu\")\n",
        "device"
      ]
    },
    {
      "cell_type": "code",
      "execution_count": 3,
      "metadata": {
        "id": "n_-_niPa_Oys"
      },
      "outputs": [],
      "source": [
        "MAX_SENTENCE_LENGTH = 10"
      ]
    },
    {
      "cell_type": "code",
      "execution_count": 4,
      "metadata": {
        "id": "YDlqNFgTdo_N"
      },
      "outputs": [],
      "source": [
        "class Dictionary:\n",
        "    def __init__(self, dict_name):\n",
        "        self.dict_name = dict_name\n",
        "        self.word_2_idx = {\n",
        "            \"\<sos\>\": 0,\n",
        "            \"\<eos\>\": 1,\n",
        "            \"\<unk\>\": 2\n",
        "        }\n",
        "        self.idx_2_word = {\n",
        "            0: \"<sos>\",\n",
        "            1: \"<eos>\",\n",
        "            2: \"<unk>\"\n",
        "        }\n",
        "        self.word_2_count = {\n",
        "            \"<sos>\": 1,\n",
        "            \"<eos>\": 1,\n",
        "            \"<unk>\": 1\n",
        "        }\n",
        "        self.n_words = 3\n",
        "\n",
        "    def add_word(self, word):\n",
        "        if word not in self.word_2_idx:\n",
        "            self.word_2_idx[word] = self.n_words\n",
        "            self.idx_2_word[self.n_words] = word\n",
        "            self.n_words += 1\n",
        "            self.word_2_count[word] = 1\n",
        "        else:\n",
        "            self.word_2_count[word] += 1\n",
        "\n",
        "    def add_sentence(self, sentence):\n",
        "        words = sentence.split()\n",
        "\n",
        "        for word in words:\n",
        "            self.add_word(word)\n",
        "\n",
        "    def get_len(self):\n",
        "        return self.n_words"
      ]
    },
    {
      "cell_type": "code",
      "execution_count": 5,
      "metadata": {
        "id": "hgVVRskaDPQX"
      },
      "outputs": [],
      "source": [
        "class Corpus():\n",
        "    def __init__(self, src_dict, target_dict):\n",
        "        self.src_dict = Dictionary(src_dict)\n",
        "        self.target_dict = Dictionary(target_dict)\n",
        "\n",
        "    def get_data(self, path):\n",
        "        pairs = []\n",
        "    \n",
        "        with open(path, \"r\") as file:\n",
        "            lines = file.read().strip().split(\"\\n\")\n",
        "\n",
        "            for line in lines:\n",
        "                src, target = line.split(\"; \")\n",
        "\n",
        "                src_len = len(src.split())\n",
        "                target_len = len(target.split())\n",
        "\n",
        "                if src_len <= MAX_SENTENCE_LENGTH and target_len <= MAX_SENTENCE_LENGTH:\n",
        "                    self.src_dict.add_sentence(src)\n",
        "                    self.target_dict.add_sentence(target)\n",
        "\n",
        "                    src = \" \".join([\n",
        "                        word\n",
        "                        if self.src_dict.word_2_count[word] > 1 else \"<unk>\"\n",
        "                        for word in src.split()\n",
        "                    ])\n",
        "                    \n",
        "                    target = \" \".join([\n",
        "                        word\n",
        "                        if self.target_dict.word_2_count[word] > 1 else \"<unk>\"\n",
        "                        for word in target.split()\n",
        "                    ])\n",
        "\n",
        "                    pairs.append([src, target])\n",
        "\n",
        "        return pairs, self.src_dict, self.target_dict"
      ]
    },
    {
      "cell_type": "code",
      "execution_count": 6,
      "metadata": {
        "id": "Dc10VfBKA8GU"
      },
      "outputs": [],
      "source": [
        "class Encoder(nn.Module):\n",
        "    def __init__(self, input_size, hidden_size, emb_size, dropout_p):\n",
        "        super(Encoder, self).__init__()\n",
        "\n",
        "        self.input_size = input_size\n",
        "        self.hidden_size = hidden_size\n",
        "        self.emb_size = emb_size\n",
        "\n",
        "        self.embedding = nn.Embedding(self.input_size, self.emb_size)\n",
        "        self.dropout = nn.Dropout(dropout_p)\n",
        "        self.GRU = nn.GRU(self.emb_size, self.hidden_size)\n",
        "\n",
        "    def forward(self, input, hidden):\n",
        "        # emb_input size = [1, 1, self.emb_size]\n",
        "        emb_input = self.dropout(self.embedding(input)).view(1, 1, -1)\n",
        "\n",
        "        # out size = [1, 1, self.hidden_size], hidden size = [1, 1, self.hidden_size]\n",
        "        out, hidden = self.GRU(emb_input, hidden)\n",
        "        \n",
        "        return out, hidden\n",
        "    \n",
        "    def init_hidden(self):\n",
        "        return torch.zeros(1, 1, self.hidden_size).to(device)"
      ]
    },
    {
      "cell_type": "code",
      "execution_count": 7,
      "metadata": {
        "id": "qRAa8XwzDnF2"
      },
      "outputs": [],
      "source": [
        "class Attn_Decoder(nn.Module):\n",
        "    def __init__(self, out_size, hidden_size, emb_size, dropout_p):\n",
        "        super(Attn_Decoder, self).__init__()\n",
        "\n",
        "        self.out_size = out_size\n",
        "        self.hidden_size = hidden_size\n",
        "        self.emb_size = emb_size\n",
        "\n",
        "        self.embedding = nn.Embedding(self.out_size, self.emb_size)\n",
        "        self.dropout = nn.Dropout(dropout_p)\n",
        "        self.GRU = nn.GRU(self.emb_size, self.hidden_size)\n",
        "        self.fc_1 = nn.Linear(self.hidden_size * 2, self.out_size)\n",
        "        self.attn = nn.Linear(self.hidden_size, self.hidden_size)\n",
        "\n",
        "    def forward(self, input, hidden, encoder_outputs):\n",
        "        # emb_input size = [1, 1, self.emb_size]\n",
        "        emb_input = self.dropout(self.embedding(input)).view(1, 1, -1)\n",
        "\n",
        "        # out size = [1, 1, self.hidden_size], hidden size = [1, 1, self.hidden_size]\n",
        "        out, hidden = self.GRU(emb_input, hidden)\n",
        "\n",
        "        # self.attn(out) size = [1, 1, self.hidden_size],\n",
        "        # encoder_outputs size = [1, MAX_SENTENCE_LENGTH, self.hidden_size]\n",
        "        # alignment_scores size = [1, MAX_SENTENCE_LENGTH, 1]\n",
        "        alignment_scores = torch.bmm(encoder_outputs, self.attn(out).view(1, -1, 1))\n",
        "\n",
        "        # attn_weights size = [1, MAX_SENTENCE_LENGTH]\n",
        "        attn_weights = F.softmax(alignment_scores.view(1, -1), dim=1)\n",
        "\n",
        "        # context size = [1, 1, self.hidden_size]\n",
        "        context = torch.bmm(attn_weights.view(1, 1, -1), encoder_outputs)\n",
        "\n",
        "        # out size = [1, 1, 2*self.hidden_size]\n",
        "        out = torch.cat((context, out), dim=2)\n",
        "\n",
        "        # prediction size = [1, 1, self.out_size]\n",
        "        prediction = torch.log_softmax(self.fc_1(out), dim=2)\n",
        "\n",
        "        return prediction, hidden, attn_weights\n",
        "        \n",
        "    def init_hidden(self):\n",
        "        return torch.zeros(1, 1, self.hidden_size).to(device)"
      ]
    },
    {
      "cell_type": "code",
      "execution_count": 8,
      "metadata": {
        "id": "AJvbGhVK9jHL"
      },
      "outputs": [],
      "source": [
        "class Seq_2_Seq(nn.Module):\n",
        "    def __init__(self, encoder, decoder):\n",
        "        super(Seq_2_Seq, self).__init__()\n",
        "\n",
        "        self.encoder = encoder\n",
        "        self.decoder = decoder\n",
        "\n",
        "    def forward(self, src, target, teacher_forcing_ratio=0.5):\n",
        "        src_length = src.size(0)\n",
        "        target_length = target.size(0)\n",
        "\n",
        "        encoder_hidden = encoder.init_hidden()\n",
        "\n",
        "        encoder_outputs = torch.zeros(MAX_SENTENCE_LENGTH, encoder.hidden_size).to(device)\n",
        "\n",
        "        for ei in range(src_length):\n",
        "            encoder_output, encoder_hidden = encoder(src[ei], encoder_hidden)\n",
        "            encoder_outputs[ei] = encoder_output[0, 0]\n",
        "\n",
        "        encoder_outputs = encoder_outputs.view(1, MAX_SENTENCE_LENGTH, encoder.hidden_size)\n",
        "\n",
        "        decoder_input = target[0]\n",
        "        decoder_hidden = encoder_hidden\n",
        "\n",
        "        decoder_outputs = torch.zeros(target_length - 1, 1, self.decoder.out_size).to(device)\n",
        "        decoder_attentions = torch.zeros(MAX_SENTENCE_LENGTH, MAX_SENTENCE_LENGTH).to(device)\n",
        "\n",
        "        for di in range(target_length - 1):\n",
        "            decoder_out, decoder_hidden, decoder_attn = self.decoder.forward(decoder_input, decoder_hidden, encoder_outputs)\n",
        "            \n",
        "            decoder_attentions[di] = decoder_attn\n",
        "            \n",
        "            decoder_outputs[di] = decoder_out\n",
        "\n",
        "            use_teacher_forcing = random.random() < teacher_forcing_ratio\n",
        "\n",
        "            if use_teacher_forcing:\n",
        "                decoder_input = target[di + 1]\n",
        "            else:\n",
        "                prediction = torch.tensor([decoder_out.argmax()]).to(device)\n",
        "                decoder_input = prediction\n",
        "\n",
        "        return decoder_outputs.view(target_length - 1, -1), decoder_attentions"
      ]
    },
    {
      "cell_type": "code",
      "execution_count": 9,
      "metadata": {
        "id": "ltCZ7b7eT4Rr"
      },
      "outputs": [],
      "source": [
        "def init_weights(m):\n",
        "    for name, param in m.named_parameters():\n",
        "        nn.init.xavier_uniform_(param.data.unsqueeze_(0))"
      ]
    },
    {
      "cell_type": "code",
      "execution_count": 10,
      "metadata": {
        "id": "3W84s3vpHKlW"
      },
      "outputs": [],
      "source": [
        "def pair_2_tensor(pair, src_dict, target_dict):\n",
        "    src = pair[0]\n",
        "    src_indexes = [src_dict.word_2_idx[word] for word in src.split()]\n",
        "    src_tensor = torch.tensor(src_indexes, dtype=torch.long, device=device).view(-1, 1)\n",
        "\n",
        "    target = pair[1]\n",
        "    target_indexes = [target_dict.word_2_idx[word] for word in target.split()]\n",
        "    target_tensor = torch.tensor(target_indexes, dtype=torch.long, device=device).view(-1, 1)\n",
        "\n",
        "    return src_tensor, target_tensor"
      ]
    },
    {
      "cell_type": "code",
      "execution_count": 11,
      "metadata": {
        "id": "37e2f8kcWZu8"
      },
      "outputs": [],
      "source": [
        "epochs = 13\n",
        "emb_size = 256\n",
        "hidden_size = 512\n",
        "dropout_p = 0.5\n",
        "learning_rate = 7e-4"
      ]
    },
    {
      "cell_type": "code",
      "execution_count": 12,
      "metadata": {
        "id": "Ed93I84uL1ot"
      },
      "outputs": [],
      "source": [
        "corpus = Corpus(\"en\", \"de\")\n",
        "pairs, src_dict, target_dict = corpus.get_data(\n",
        "    \"/content/sample_data/text_dataset_for_seq_2_seq.txt\"\n",
        ")"
      ]
    },
    {
      "cell_type": "code",
      "execution_count": 13,
      "metadata": {
        "id": "kwUDXrqGNY8u"
      },
      "outputs": [],
      "source": [
        "pairs_count = len(pairs)\n",
        "src_dict_size = src_dict.n_words\n",
        "target_dict_size = target_dict.n_words"
      ]
    },
    {
      "cell_type": "code",
      "execution_count": 14,
      "metadata": {
        "id": "N2HFvd1G9PrA"
      },
      "outputs": [],
      "source": [
        "encoder = Encoder(src_dict_size, hidden_size, emb_size, dropout_p).to(device)"
      ]
    },
    {
      "cell_type": "code",
      "execution_count": 15,
      "metadata": {
        "id": "X6PrPF-xN6sB"
      },
      "outputs": [],
      "source": [
        "decoder = Attn_Decoder(target_dict_size, hidden_size, emb_size, dropout_p).to(device)"
      ]
    },
    {
      "cell_type": "code",
      "execution_count": 16,
      "metadata": {
        "colab": {
          "base_uri": "https://localhost:8080/"
        },
        "id": "4kYXbrVxXvWb",
        "outputId": "dd45defd-0be4-45f3-f878-45f6b18cbcb2"
      },
      "outputs": [
        {
          "output_type": "execute_result",
          "data": {
            "text/plain": [
              "Seq_2_Seq(\n",
              "  (encoder): Encoder(\n",
              "    (embedding): Embedding(2886, 256)\n",
              "    (dropout): Dropout(p=0.5, inplace=False)\n",
              "    (GRU): GRU(256, 512)\n",
              "  )\n",
              "  (decoder): Attn_Decoder(\n",
              "    (embedding): Embedding(3675, 256)\n",
              "    (dropout): Dropout(p=0.5, inplace=False)\n",
              "    (GRU): GRU(256, 512)\n",
              "    (fc_1): Linear(in_features=1024, out_features=3675, bias=True)\n",
              "    (attn): Linear(in_features=512, out_features=512, bias=True)\n",
              "  )\n",
              ")"
            ]
          },
          "metadata": {},
          "execution_count": 16
        }
      ],
      "source": [
        "seq_2_seq = Seq_2_Seq(encoder, decoder).to(device)\n",
        "seq_2_seq.apply(init_weights)"
      ]
    },
    {
      "cell_type": "code",
      "execution_count": 17,
      "metadata": {
        "id": "Gihkk1vhX7uU"
      },
      "outputs": [],
      "source": [
        "optimizer = optim.Adam(seq_2_seq.parameters(), lr=learning_rate)\n",
        "criterion = nn.CrossEntropyLoss()"
      ]
    },
    {
      "cell_type": "code",
      "execution_count": 18,
      "metadata": {
        "colab": {
          "base_uri": "https://localhost:8080/"
        },
        "id": "iyFys-dyWZJp",
        "outputId": "267f897b-ff8e-4cd9-ca7a-2ba4facba3b5"
      },
      "outputs": [
        {
          "output_type": "stream",
          "name": "stdout",
          "text": [
            "100%|██████████| 3825/3825 [01:29<00:00, 42.68it/s]\n",
            "Epoch 0; loss: 3.945384973466786\n",
            "\n",
            "100%|██████████| 3825/3825 [01:27<00:00, 43.50it/s]\n",
            "Epoch 1; loss: 2.822893937475541\n",
            "\n",
            "100%|██████████| 3825/3825 [01:28<00:00, 43.22it/s]\n",
            "Epoch 2; loss: 2.238667354461025\n",
            "\n",
            "100%|██████████| 3825/3825 [01:28<00:00, 43.16it/s]\n",
            "Epoch 3; loss: 1.8254420866359489\n",
            "\n",
            "100%|██████████| 3825/3825 [01:28<00:00, 43.46it/s]\n",
            "Epoch 4; loss: 1.474687261234701\n",
            "\n",
            "100%|██████████| 3825/3825 [01:28<00:00, 43.24it/s]\n",
            "Epoch 5; loss: 1.1899641853668332\n",
            "\n",
            "100%|██████████| 3825/3825 [01:28<00:00, 43.41it/s]\n",
            "Epoch 6; loss: 0.9753690202837944\n",
            "\n",
            "100%|██████████| 3825/3825 [01:28<00:00, 43.25it/s]\n",
            "Epoch 7; loss: 0.8474762293729121\n",
            "\n",
            "100%|██████████| 3825/3825 [01:27<00:00, 43.49it/s]\n",
            "Epoch 8; loss: 0.7394624662429613\n",
            "\n",
            "100%|██████████| 3825/3825 [01:27<00:00, 43.79it/s]\n",
            "Epoch 9; loss: 0.660985658337985\n",
            "\n",
            "100%|██████████| 3825/3825 [01:26<00:00, 44.01it/s]\n",
            "Epoch 10; loss: 0.5691512878929162\n",
            "\n",
            "100%|██████████| 3825/3825 [01:26<00:00, 44.08it/s]\n",
            "Epoch 11; loss: 0.5234158843413762\n",
            "\n",
            "100%|██████████| 3825/3825 [01:28<00:00, 43.38it/s]\n",
            "Epoch 12; loss: 0.47673326193146637\n",
            "\n"
          ]
        }
      ],
      "source": [
        "for epoch in range(epochs):\n",
        "    epoch_loss = 0\n",
        "\n",
        "    seq_2_seq.train()\n",
        "\n",
        "    for pair in tqdm.tqdm(pairs, file=sys.stdout):\n",
        "        # src_size = [src_len, 1], target_size = [target_len, 1]\n",
        "        src, target = pair_2_tensor(pair, src_dict, target_dict)\n",
        "        \n",
        "        optimizer.zero_grad()\n",
        "\n",
        "        out, _ = seq_2_seq(src, target)\n",
        "        loss = criterion(out, target[1:].view(-1))\n",
        "\n",
        "        loss.backward()\n",
        "        torch.nn.utils.clip_grad_norm_(seq_2_seq.parameters(), 1)\n",
        "        optimizer.step()\n",
        "\n",
        "        epoch_loss += loss.item()\n",
        "\n",
        "    print(f\"Epoch {epoch}; loss: {epoch_loss / pairs_count}\\n\")"
      ]
    },
    {
      "cell_type": "code",
      "execution_count": 19,
      "metadata": {
        "id": "__YImO2wsP5M"
      },
      "outputs": [],
      "source": [
        "def show_attention(input_sentence, output_words, attentions):\n",
        "    fig = plt.figure()\n",
        "    ax = fig.add_subplot()\n",
        "    cax = ax.matshow(attentions.numpy(), cmap='bone')\n",
        "    fig.colorbar(cax)\n",
        "\n",
        "    ax.xaxis.set_ticks(range(len(input_sentence.split())))\n",
        "    ax.yaxis.set_ticks(range(len(output_words.split())))\n",
        "\n",
        "    ax.set_xticklabels(input_sentence.split(' '), rotation=90)\n",
        "    ax.set_yticklabels(output_words.split(' '))\n",
        "\n",
        "    plt.show()"
      ]
    },
    {
      "cell_type": "code",
      "execution_count": 20,
      "metadata": {
        "colab": {
          "base_uri": "https://localhost:8080/",
          "height": 541
        },
        "id": "vcyjbEtRz-kc",
        "outputId": "242c796f-5914-4f06-a35c-11116f415a08"
      },
      "outputs": [
        {
          "output_type": "display_data",
          "data": {
            "text/plain": [
              "<Figure size 640x480 with 2 Axes>"
            ],
            "image/png": "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\n"
          },
          "metadata": {}
        },
        {
          "output_type": "stream",
          "name": "stdout",
          "text": [
            "source:   <sos> a man on a bike in midair <eos>\n",
            "target:   <sos> ein mann auf einem fahrrad in der luft <eos>\n",
            "predict:  <sos> ein mann auf einem fahrrad in der luft <eos> \n",
            "\n"
          ]
        }
      ],
      "source": [
        "with torch.no_grad():\n",
        "    seq_2_seq.eval()\n",
        "\n",
        "    random_pair = random.choice(pairs)\n",
        "\n",
        "    src, target = pair_2_tensor(random_pair, src_dict, target_dict)\n",
        "\n",
        "    # teacher_forcing_ratio = 0 when \"eval\" is on!\n",
        "    out, decoder_attns = seq_2_seq.forward(src, target, teacher_forcing_ratio=0)\n",
        "    \n",
        "    predict = \" \".join([\n",
        "        target_dict.idx_2_word[idx.item()]\n",
        "        for idx in out.argmax(dim=1)\n",
        "    ])\n",
        "\n",
        "    show_attention(random_pair[0], predict, decoder_attns.cpu())\n",
        "\n",
        "    print(f\"source:  \", random_pair[0])\n",
        "    print(f\"target:  \", random_pair[1])\n",
        "    print(f\"predict: \", \"<sos> \" + predict, \"\\n\")"
      ]
    }
  ]
}
