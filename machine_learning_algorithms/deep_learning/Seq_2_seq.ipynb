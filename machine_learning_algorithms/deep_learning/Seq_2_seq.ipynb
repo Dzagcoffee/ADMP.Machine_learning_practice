{
  "cells": [
    {
      "cell_type": "markdown",
      "metadata": {
        "id": "yzpzIMb_Ycp2"
      },
      "source": [
        "# **Sequence to sequence**"
      ]
    },
    {
      "cell_type": "code",
      "execution_count": 1,
      "metadata": {
        "id": "sC8Snp846Jf_"
      },
      "outputs": [],
      "source": [
        "import random\n",
        "import sys\n",
        "\n",
        "import numpy as np\n",
        "import tqdm\n",
        "\n",
        "import torch\n",
        "import torch.nn as nn\n",
        "from torch import optim"
      ]
    },
    {
      "cell_type": "code",
      "execution_count": 2,
      "metadata": {
        "colab": {
          "base_uri": "https://localhost:8080/"
        },
        "id": "EzABZSVnTUDb",
        "outputId": "757120c3-0f64-49d4-d064-cfdfdc05e472"
      },
      "outputs": [
        {
          "output_type": "execute_result",
          "data": {
            "text/plain": [
              "device(type='cuda')"
            ]
          },
          "metadata": {},
          "execution_count": 2
        }
      ],
      "source": [
        "device = torch.device(\"cuda\" if torch.cuda.is_available() else \"cpu\")\n",
        "device"
      ]
    },
    {
      "cell_type": "code",
      "execution_count": 3,
      "metadata": {
        "id": "YDlqNFgTdo_N"
      },
      "outputs": [],
      "source": [
        "class Dictionary:\n",
        "    def __init__(self, dict_name):\n",
        "        self.dict_name = dict_name\n",
        "        self.word_2_idx = {\n",
        "            \"<sos>\": 0,\n",
        "            \"<eos>\": 1\n",
        "        }\n",
        "        self.idx_2_word = {\n",
        "            0: \"<sos>\",\n",
        "            1: \"<eos>\"\n",
        "        }\n",
        "        self.n_words = 2\n",
        "\n",
        "    def add_word(self, word):\n",
        "        if word not in self.word_2_idx:\n",
        "            self.word_2_idx[word] = self.n_words\n",
        "            self.idx_2_word[self.n_words] = word\n",
        "            self.n_words += 1\n",
        "\n",
        "    def add_sentence(self, sentence):\n",
        "        words = sentence.split()\n",
        "\n",
        "        for word in words:\n",
        "            self.add_word(word)\n",
        "\n",
        "    def get_len(self):\n",
        "        return self.n_words"
      ]
    },
    {
      "cell_type": "code",
      "execution_count": 4,
      "metadata": {
        "id": "hgVVRskaDPQX"
      },
      "outputs": [],
      "source": [
        "class Corpus():\n",
        "    def __init__(self, src_dict, target_dict, max_sentece_length):\n",
        "        self.src_dict = Dictionary(src_dict)\n",
        "        self.target_dict = Dictionary(target_dict)\n",
        "        self.max_sentece_length = max_sentece_length\n",
        "\n",
        "    def get_data(self, path):\n",
        "        pairs = []\n",
        "    \n",
        "        with open(path, \"r\") as file:\n",
        "            lines = file.read().strip().split(\"\\n\")\n",
        "\n",
        "            for line in lines:\n",
        "                src, target = line.split(\"; \")\n",
        "\n",
        "                src_len = len(src.split())\n",
        "                target_len = len(target.split())\n",
        "\n",
        "                if src_len <= self.max_sentece_length and target_len <= self.max_sentece_length:\n",
        "                    self.src_dict.add_sentence(src)\n",
        "                    self.target_dict.add_sentence(target)\n",
        "                    \n",
        "                    pairs.append([src, target])\n",
        "\n",
        "        return pairs, self.src_dict, self.target_dict"
      ]
    },
    {
      "cell_type": "code",
      "execution_count": 5,
      "metadata": {
        "id": "Dc10VfBKA8GU"
      },
      "outputs": [],
      "source": [
        "class Encoder(nn.Module):\n",
        "    def __init__(self, input_size, hidden_size, emb_size, dropout_p):\n",
        "        super(Encoder, self).__init__()\n",
        "\n",
        "        self.input_size = input_size\n",
        "        self.hidden_size = hidden_size\n",
        "        self.emb_size = emb_size\n",
        "\n",
        "        self.embedding = nn.Embedding(self.input_size, self.emb_size)\n",
        "        self.dropout = nn.Dropout(dropout_p)\n",
        "        self.GRU = nn.GRU(self.emb_size, self.hidden_size)\n",
        "\n",
        "    def forward(self, src, hidden):\n",
        "        emb_src = self.dropout(self.embedding(src))\n",
        "        out, hidden = self.GRU(emb_src, hidden)\n",
        "        \n",
        "        return out, hidden\n",
        "\n",
        "    def init_hidden(self):\n",
        "        return torch.zeros(1, self.hidden_size, device=device)"
      ]
    },
    {
      "cell_type": "code",
      "execution_count": 6,
      "metadata": {
        "id": "qRAa8XwzDnF2"
      },
      "outputs": [],
      "source": [
        "class Decoder(nn.Module):\n",
        "    def __init__(self, out_size, hidden_size, emb_size, dropout_p):\n",
        "        super(Decoder, self).__init__()\n",
        "\n",
        "        self.out_size = out_size\n",
        "        self.hidden_size = hidden_size\n",
        "        self.emb_size = emb_size\n",
        "\n",
        "        self.embedding = nn.Embedding(self.out_size, self.emb_size)\n",
        "        self.GRU = nn.GRU(self.emb_size, self.hidden_size)\n",
        "        self.dropout = nn.Dropout(dropout_p)\n",
        "        self.fc_layer = nn.Linear(self.hidden_size, self.out_size)\n",
        "    \n",
        "    def forward(self, target, hidden):\n",
        "        emb_target = self.dropout(self.embedding(target))\n",
        "\n",
        "        out, hidden = self.GRU(emb_target, hidden)\n",
        "\n",
        "        prediction = self.fc_layer(out)\n",
        "\n",
        "        return prediction, hidden\n",
        "    \n",
        "    def init_hidden(self):\n",
        "        return torch.zeros(1, self.hidden_size, device=device)"
      ]
    },
    {
      "cell_type": "code",
      "execution_count": 7,
      "metadata": {
        "id": "AJvbGhVK9jHL"
      },
      "outputs": [],
      "source": [
        "class Seq_2_Seq(nn.Module):\n",
        "    def __init__(self, encoder, decoder):\n",
        "        super(Seq_2_Seq, self).__init__()\n",
        "\n",
        "        self.encoder = encoder\n",
        "        self.decoder = decoder\n",
        "\n",
        "    def forward(self, src, target, teacher_forcing_ratio=0.5):\n",
        "        encoder_hidden = self.encoder.init_hidden()\n",
        "        \n",
        "        src_length = src.size(0)\n",
        "        target_length = len(target)\n",
        "\n",
        "        _, encoder_hidden = self.encoder.forward(src.squeeze(), encoder_hidden)\n",
        "        \n",
        "        decoder_input = target[0]\n",
        "        decoder_hidden = encoder_hidden\n",
        "        decoder_outputs = torch.zeros(target_length - 1, 1, self.decoder.out_size).to(device)\n",
        "\n",
        "        for di in range(target_length - 1):\n",
        "            decoder_out, decoder_hidden = self.decoder.forward(decoder_input, decoder_hidden)\n",
        "\n",
        "            prediction = torch.tensor([decoder_out.argmax()]).to(device)\n",
        "            \n",
        "            decoder_outputs[di] = decoder_out\n",
        "\n",
        "            use_teacher_forcing = random.random() < teacher_forcing_ratio\n",
        "\n",
        "            if use_teacher_forcing:\n",
        "                decoder_input = target[di + 1]\n",
        "            else:\n",
        "                decoder_input = prediction\n",
        "\n",
        "        return decoder_outputs.view(target_length - 1, -1)"
      ]
    },
    {
      "cell_type": "code",
      "execution_count": 8,
      "metadata": {
        "id": "ltCZ7b7eT4Rr"
      },
      "outputs": [],
      "source": [
        "def init_weights(m):\n",
        "    for name, param in m.named_parameters():\n",
        "        nn.init.xavier_uniform_(param.data.unsqueeze_(0))"
      ]
    },
    {
      "cell_type": "code",
      "execution_count": 9,
      "metadata": {
        "id": "3W84s3vpHKlW"
      },
      "outputs": [],
      "source": [
        "def pair_2_tensor(pair, src_dict, target_dict):\n",
        "    src = pair[0]\n",
        "    src_indexes = [src_dict.word_2_idx[word] for word in src.split()]\n",
        "    src_tensor = torch.tensor(src_indexes, dtype=torch.long, device=device).unsqueeze(1)\n",
        "\n",
        "    target = pair[1]\n",
        "    target_indexes = [target_dict.word_2_idx[word] for word in target.split()]\n",
        "    target_tensor = torch.tensor(target_indexes, dtype=torch.long, device=device).unsqueeze(1)\n",
        "\n",
        "    return src_tensor, target_tensor"
      ]
    },
    {
      "cell_type": "code",
      "execution_count": 10,
      "metadata": {
        "id": "37e2f8kcWZu8"
      },
      "outputs": [],
      "source": [
        "epochs = 6\n",
        "emb_size = 256\n",
        "hidden_size = 512\n",
        "dropout_p = 0.5\n",
        "learning_rate = 1e-4\n",
        "max_sentence_length = 10"
      ]
    },
    {
      "cell_type": "code",
      "execution_count": 11,
      "metadata": {
        "id": "Ed93I84uL1ot"
      },
      "outputs": [],
      "source": [
        "corpus = Corpus(\"en\", \"de\", max_sentence_length)\n",
        "pairs, src_dict, target_dict = corpus.get_data(\n",
        "    \"/content/sample_data/text_dataset_for_seq_2_seq.txt\"\n",
        ")"
      ]
    },
    {
      "cell_type": "code",
      "execution_count": 12,
      "metadata": {
        "id": "kwUDXrqGNY8u"
      },
      "outputs": [],
      "source": [
        "pairs_count = len(pairs)\n",
        "src_dict_size = src_dict.n_words\n",
        "target_dict_size = target_dict.n_words"
      ]
    },
    {
      "cell_type": "code",
      "execution_count": 13,
      "metadata": {
        "id": "N2HFvd1G9PrA"
      },
      "outputs": [],
      "source": [
        "encoder = Encoder(src_dict_size, hidden_size, emb_size, dropout_p).to(device)"
      ]
    },
    {
      "cell_type": "code",
      "execution_count": 14,
      "metadata": {
        "id": "X6PrPF-xN6sB"
      },
      "outputs": [],
      "source": [
        "decoder = Decoder(target_dict_size, hidden_size, emb_size, dropout_p).to(device)"
      ]
    },
    {
      "cell_type": "code",
      "execution_count": 15,
      "metadata": {
        "colab": {
          "base_uri": "https://localhost:8080/"
        },
        "id": "4kYXbrVxXvWb",
        "outputId": "5615e0c1-0ae7-422f-88b9-faa16290c6f1"
      },
      "outputs": [
        {
          "output_type": "execute_result",
          "data": {
            "text/plain": [
              "Seq_2_Seq(\n",
              "  (encoder): Encoder(\n",
              "    (embedding): Embedding(2971, 256)\n",
              "    (dropout): Dropout(p=0.5, inplace=False)\n",
              "    (GRU): GRU(256, 512)\n",
              "  )\n",
              "  (decoder): Decoder(\n",
              "    (embedding): Embedding(3798, 256)\n",
              "    (GRU): GRU(256, 512)\n",
              "    (dropout): Dropout(p=0.5, inplace=False)\n",
              "    (fc_layer): Linear(in_features=512, out_features=3798, bias=True)\n",
              "  )\n",
              ")"
            ]
          },
          "metadata": {},
          "execution_count": 15
        }
      ],
      "source": [
        "seq_2_seq = Seq_2_Seq(encoder, decoder).to(device)\n",
        "seq_2_seq.apply(init_weights)"
      ]
    },
    {
      "cell_type": "code",
      "execution_count": 16,
      "metadata": {
        "id": "Gihkk1vhX7uU"
      },
      "outputs": [],
      "source": [
        "optimizer = optim.Adam(seq_2_seq.parameters(), lr=learning_rate)\n",
        "criterion = nn.CrossEntropyLoss()"
      ]
    },
    {
      "cell_type": "code",
      "execution_count": 17,
      "metadata": {
        "colab": {
          "base_uri": "https://localhost:8080/"
        },
        "id": "iyFys-dyWZJp",
        "outputId": "328382f3-9854-4f4a-e771-721b530085ed"
      },
      "outputs": [
        {
          "output_type": "stream",
          "name": "stdout",
          "text": [
            "100%|██████████| 4003/4003 [00:46<00:00, 86.06it/s]\n",
            "Epoch 0; loss: 0.44773859338800537\n",
            "\n",
            "100%|██████████| 4003/4003 [00:46<00:00, 86.30it/s]\n",
            "Epoch 1; loss: 0.25189884543505503\n",
            "\n",
            "100%|██████████| 4003/4003 [00:47<00:00, 84.19it/s]\n",
            "Epoch 2; loss: 0.18596271722079127\n",
            "\n",
            "100%|██████████| 4003/4003 [00:46<00:00, 86.30it/s]\n",
            "Epoch 3; loss: 0.1545952951024756\n",
            "\n",
            "100%|██████████| 4003/4003 [00:46<00:00, 86.70it/s]\n",
            "Epoch 4; loss: 0.11241339597522809\n",
            "\n",
            "100%|██████████| 4003/4003 [00:46<00:00, 86.36it/s]\n",
            "Epoch 5; loss: 0.09023218773020242\n",
            "\n"
          ]
        }
      ],
      "source": [
        "for epoch in range(epochs):\n",
        "    epoch_loss = 0\n",
        "\n",
        "    seq_2_seq.train()\n",
        "\n",
        "    for pair in tqdm.tqdm(pairs, file=sys.stdout):\n",
        "        src, target = pair_2_tensor(pair, src_dict, target_dict)\n",
        "        optimizer.zero_grad()\n",
        "\n",
        "        out = seq_2_seq(src, target)\n",
        "        loss = criterion(out, target[1:].squeeze())\n",
        "\n",
        "        loss.backward()\n",
        "        torch.nn.utils.clip_grad_norm_(seq_2_seq.parameters(), 1)\n",
        "        optimizer.step()\n",
        "\n",
        "        epoch_loss += loss.item()\n",
        "\n",
        "    print(f\"Epoch {epoch}; loss: {epoch_loss / pairs_count}\\n\")"
      ]
    },
    {
      "cell_type": "code",
      "execution_count": 18,
      "metadata": {
        "colab": {
          "base_uri": "https://localhost:8080/"
        },
        "id": "vcyjbEtRz-kc",
        "outputId": "61621e94-4f69-4b4e-9f52-17fce6a9876d"
      },
      "outputs": [
        {
          "output_type": "stream",
          "name": "stdout",
          "text": [
            "source 0:   <sos> two men battling each other in fencing <eos>\n",
            "target 0:   <sos> zwei manner treten gegeneinander zum fechtkampf an <eos>\n",
            "predict 0:  <sos> zwei manner treten gegeneinander zum fechtkampf an <eos> \n",
            "\n",
            "source 1:   <sos> four girls are sitting in a hot tub <eos>\n",
            "target 1:   <sos> vier madchen sitzen in einer warmen badewanne <eos>\n",
            "predict 1:  <sos> vier madchen sitzen in einer warmen badewanne <eos> \n",
            "\n",
            "source 2:   <sos> kids playing soccer on a sunny day <eos>\n",
            "target 2:   <sos> kinder spielen an einem sonnigen tag fu ball <eos>\n",
            "predict 2:  <sos> kinder spielen an einem sonnigen tag fu ball <eos> \n",
            "\n"
          ]
        }
      ],
      "source": [
        "with torch.no_grad():\n",
        "    for i in range(3):\n",
        "        random_pair = random.choice(pairs)\n",
        "\n",
        "        src, target = pair_2_tensor(random_pair, src_dict, target_dict)\n",
        "\n",
        "        decoded_sentence = []\n",
        "\n",
        "        out = seq_2_seq.forward(src, target, teacher_forcing_ratio=0) # teacher_forcing_ratio = 0 when \"eval\" is on!\n",
        "        \n",
        "        predict = \"<sos> \" + \" \".join([target_dict.idx_2_word[idx.item()] for idx in out.argmax(dim=1)])\n",
        "\n",
        "        print(f\"source {i}:  \", random_pair[0])\n",
        "        print(f\"target {i}:  \", random_pair[1])\n",
        "        print(f\"predict {i}: \", predict, \"\\n\")"
      ]
    },
  ],
  "metadata": {
    "accelerator": "GPU",
    "colab": {
      "provenance": []
    },
    "gpuClass": "standard",
    "kernelspec": {
      "display_name": "Python 3 (ipykernel)",
      "language": "python",
      "name": "python3"
    },
    "language_info": {
      "codemirror_mode": {
        "name": "ipython",
        "version": 3
      },
      "file_extension": ".py",
      "mimetype": "text/x-python",
      "name": "python",
      "nbconvert_exporter": "python",
      "pygments_lexer": "ipython3",
      "version": "3.9.13"
    }
  },
  "nbformat": 4,
  "nbformat_minor": 0
}